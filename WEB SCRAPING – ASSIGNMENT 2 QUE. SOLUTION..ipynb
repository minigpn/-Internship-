{
 "cells": [
  {
   "cell_type": "code",
   "execution_count": 1,
   "id": "b71b45f7",
   "metadata": {},
   "outputs": [
    {
     "name": "stdout",
     "output_type": "stream",
     "text": [
      "Requirement already satisfied: selenium in c:\\imdisk\\datatraned\\lib\\site-packages (4.1.3)\n",
      "Requirement already satisfied: trio-websocket~=0.9 in c:\\imdisk\\datatraned\\lib\\site-packages (from selenium) (0.9.2)\n",
      "Requirement already satisfied: urllib3[secure,socks]~=1.26 in c:\\imdisk\\datatraned\\lib\\site-packages (from selenium) (1.26.7)\n",
      "Requirement already satisfied: trio~=0.17 in c:\\imdisk\\datatraned\\lib\\site-packages (from selenium) (0.20.0)\n",
      "Requirement already satisfied: sniffio in c:\\imdisk\\datatraned\\lib\\site-packages (from trio~=0.17->selenium) (1.2.0)\n",
      "Requirement already satisfied: async-generator>=1.9 in c:\\imdisk\\datatraned\\lib\\site-packages (from trio~=0.17->selenium) (1.10)\n",
      "Requirement already satisfied: cffi>=1.14 in c:\\imdisk\\datatraned\\lib\\site-packages (from trio~=0.17->selenium) (1.14.6)\n",
      "Requirement already satisfied: attrs>=19.2.0 in c:\\imdisk\\datatraned\\lib\\site-packages (from trio~=0.17->selenium) (21.2.0)\n",
      "Requirement already satisfied: sortedcontainers in c:\\imdisk\\datatraned\\lib\\site-packages (from trio~=0.17->selenium) (2.4.0)\n",
      "Requirement already satisfied: idna in c:\\imdisk\\datatraned\\lib\\site-packages (from trio~=0.17->selenium) (3.2)\n",
      "Requirement already satisfied: outcome in c:\\imdisk\\datatraned\\lib\\site-packages (from trio~=0.17->selenium) (1.1.0)\n",
      "Requirement already satisfied: pycparser in c:\\imdisk\\datatraned\\lib\\site-packages (from cffi>=1.14->trio~=0.17->selenium) (2.20)\n",
      "Requirement already satisfied: wsproto>=0.14 in c:\\imdisk\\datatraned\\lib\\site-packages (from trio-websocket~=0.9->selenium) (1.1.0)\n",
      "Requirement already satisfied: pyOpenSSL>=0.14 in c:\\imdisk\\datatraned\\lib\\site-packages (from urllib3[secure,socks]~=1.26->selenium) (21.0.0)\n",
      "Requirement already satisfied: cryptography>=1.3.4 in c:\\imdisk\\datatraned\\lib\\site-packages (from urllib3[secure,socks]~=1.26->selenium) (3.4.8)\n",
      "Requirement already satisfied: certifi in c:\\imdisk\\datatraned\\lib\\site-packages (from urllib3[secure,socks]~=1.26->selenium) (2021.10.8)\n",
      "Requirement already satisfied: PySocks!=1.5.7,<2.0,>=1.5.6 in c:\\imdisk\\datatraned\\lib\\site-packages (from urllib3[secure,socks]~=1.26->selenium) (1.7.1)\n",
      "Requirement already satisfied: six>=1.5.2 in c:\\imdisk\\datatraned\\lib\\site-packages (from pyOpenSSL>=0.14->urllib3[secure,socks]~=1.26->selenium) (1.16.0)\n",
      "Requirement already satisfied: h11<1,>=0.9.0 in c:\\imdisk\\datatraned\\lib\\site-packages (from wsproto>=0.14->trio-websocket~=0.9->selenium) (0.13.0)\n"
     ]
    }
   ],
   "source": [
    "!pip install selenium"
   ]
  },
  {
   "cell_type": "code",
   "execution_count": 2,
   "id": "9d18adf5",
   "metadata": {},
   "outputs": [],
   "source": [
    "from selenium.webdriver.common.by import By\n",
    "import selenium\n",
    "import pandas as pd\n",
    "from selenium import webdriver\n",
    "import warnings\n",
    "warnings.filterwarnings(\"ignore\")\n",
    "import time"
   ]
  },
  {
   "cell_type": "code",
   "execution_count": 3,
   "id": "a7b473a9",
   "metadata": {},
   "outputs": [],
   "source": [
    "driver=webdriver.Chrome(r\"C:\\web driver\\chromedriver.exe\")"
   ]
  },
  {
   "cell_type": "code",
   "execution_count": 4,
   "id": "fbacc411",
   "metadata": {},
   "outputs": [],
   "source": [
    "driver.get('https://www.naukri.com/')"
   ]
  },
  {
   "cell_type": "code",
   "execution_count": 5,
   "id": "ded4b180",
   "metadata": {},
   "outputs": [],
   "source": [
    "search_field_designation=driver.find_element_by_class_name(\"suggestor-input\" )\n",
    "search_field_designation.send_keys(\"Data Analyst\")"
   ]
  },
  {
   "cell_type": "code",
   "execution_count": 6,
   "id": "e5a66147",
   "metadata": {},
   "outputs": [],
   "source": [
    "search_field_location=driver.find_element_by_xpath(\"/html/body/div/div[2]/div[3]/div/div/div[3]/div/div/div/input\" )\n",
    "search_field_location.send_keys(\"Bangalore\")"
   ]
  },
  {
   "cell_type": "code",
   "execution_count": 7,
   "id": "e0c05794",
   "metadata": {},
   "outputs": [],
   "source": [
    "search_button=driver.find_element_by_xpath(\"/html/body/div/div[2]/div[3]/div/div/div[6]\")\n",
    "search_button.click()"
   ]
  },
  {
   "cell_type": "code",
   "execution_count": 8,
   "id": "5f9a2293",
   "metadata": {},
   "outputs": [],
   "source": [
    "job_titles=[]\n",
    "company_names=[]\n",
    "location_list=[]\n",
    "experience_list=[]\n"
   ]
  },
  {
   "cell_type": "code",
   "execution_count": 9,
   "id": "6b35451a",
   "metadata": {},
   "outputs": [
    {
     "data": {
      "text/plain": [
       "[<selenium.webdriver.remote.webelement.WebElement (session=\"deccf6b4044ace42b5d79a0352bfcee2\", element=\"f7c52a32-6b60-4235-b06f-427fe0b68f0b\")>,\n",
       " <selenium.webdriver.remote.webelement.WebElement (session=\"deccf6b4044ace42b5d79a0352bfcee2\", element=\"6d60afbc-ba1a-42b9-835e-131f5f9d5fdd\")>,\n",
       " <selenium.webdriver.remote.webelement.WebElement (session=\"deccf6b4044ace42b5d79a0352bfcee2\", element=\"fbb9db3b-58d1-45bc-a852-507f0e343582\")>,\n",
       " <selenium.webdriver.remote.webelement.WebElement (session=\"deccf6b4044ace42b5d79a0352bfcee2\", element=\"c0ed6b3d-0592-4f21-b9c9-4f9314d11ddb\")>]"
      ]
     },
     "execution_count": 9,
     "metadata": {},
     "output_type": "execute_result"
    }
   ],
   "source": [
    "titles_tags=driver.find_elements_by_xpath(\"//a[@class='title fw500 ellipsis']\")\n",
    "titles_tags[0:4]"
   ]
  },
  {
   "cell_type": "code",
   "execution_count": 10,
   "id": "19d2c8b4",
   "metadata": {},
   "outputs": [
    {
     "data": {
      "text/plain": [
       "['Data Analyst / Business Analyst',\n",
       " 'Data Analyst / Business Analyst',\n",
       " 'data analyst/ data analytics / Business analyst- SQL/Python/SAS',\n",
       " 'Business analyst + data Analysis']"
      ]
     },
     "execution_count": 10,
     "metadata": {},
     "output_type": "execute_result"
    }
   ],
   "source": [
    "for i in titles_tags:\n",
    "    title=i.text\n",
    "    job_titles.append(title)\n",
    "job_titles[0:4]\n",
    "    "
   ]
  },
  {
   "cell_type": "code",
   "execution_count": 11,
   "id": "f3ab12b1",
   "metadata": {},
   "outputs": [
    {
     "data": {
      "text/plain": [
       "[<selenium.webdriver.remote.webelement.WebElement (session=\"deccf6b4044ace42b5d79a0352bfcee2\", element=\"f53f12ca-3685-4741-8ef3-e69a0602456f\")>,\n",
       " <selenium.webdriver.remote.webelement.WebElement (session=\"deccf6b4044ace42b5d79a0352bfcee2\", element=\"311a694e-7e5b-4690-8645-1dcc9c05a011\")>,\n",
       " <selenium.webdriver.remote.webelement.WebElement (session=\"deccf6b4044ace42b5d79a0352bfcee2\", element=\"9596adc5-c8f8-4b73-a612-c0abceb729d5\")>,\n",
       " <selenium.webdriver.remote.webelement.WebElement (session=\"deccf6b4044ace42b5d79a0352bfcee2\", element=\"15095170-6d78-40ab-8efb-758f9cbd3778\")>]"
      ]
     },
     "execution_count": 11,
     "metadata": {},
     "output_type": "execute_result"
    }
   ],
   "source": [
    "companies_tags=driver.find_elements_by_xpath(\"//a[@class='subTitle ellipsis fleft']\")\n",
    "companies_tags[0:4]"
   ]
  },
  {
   "cell_type": "code",
   "execution_count": 12,
   "id": "09a28a01",
   "metadata": {},
   "outputs": [
    {
     "data": {
      "text/plain": [
       "['METRO Cash & Carry',\n",
       " 'METRO Cash & Carry',\n",
       " 'Leading US MNC into Analytics',\n",
       " 'Anlage Infotech (I) Pvt. Ltd.']"
      ]
     },
     "execution_count": 12,
     "metadata": {},
     "output_type": "execute_result"
    }
   ],
   "source": [
    "for i in companies_tags:\n",
    "    company_name=i.text\n",
    "    company_names.append(company_name)\n",
    "company_names[0:4]"
   ]
  },
  {
   "cell_type": "code",
   "execution_count": 13,
   "id": "190193be",
   "metadata": {},
   "outputs": [
    {
     "data": {
      "text/plain": [
       "[<selenium.webdriver.remote.webelement.WebElement (session=\"deccf6b4044ace42b5d79a0352bfcee2\", element=\"8b5d7933-5df5-405d-86fa-446d052b4373\")>,\n",
       " <selenium.webdriver.remote.webelement.WebElement (session=\"deccf6b4044ace42b5d79a0352bfcee2\", element=\"9ac1a2bd-31d9-413e-b568-c073cbdc1dbb\")>,\n",
       " <selenium.webdriver.remote.webelement.WebElement (session=\"deccf6b4044ace42b5d79a0352bfcee2\", element=\"eb226fe2-ed3c-4f5c-9699-dac15acaa561\")>,\n",
       " <selenium.webdriver.remote.webelement.WebElement (session=\"deccf6b4044ace42b5d79a0352bfcee2\", element=\"ccde9e30-f17c-4917-9410-3255dbd79e13\")>]"
      ]
     },
     "execution_count": 13,
     "metadata": {},
     "output_type": "execute_result"
    }
   ],
   "source": [
    "experience_tags=driver.find_elements_by_xpath(\"//li[@class='fleft grey-text br2 placeHolderLi experience']\")\n",
    "experience_tags[0:4]"
   ]
  },
  {
   "cell_type": "code",
   "execution_count": 14,
   "id": "6b9e28d5",
   "metadata": {},
   "outputs": [
    {
     "data": {
      "text/plain": [
       "['3-8 Yrs', '3-8 Yrs', '2-7 Yrs', '5-10 Yrs']"
      ]
     },
     "execution_count": 14,
     "metadata": {},
     "output_type": "execute_result"
    }
   ],
   "source": [
    "for i in experience_tags:\n",
    "    experience=i.text\n",
    "    experience_list.append(experience)\n",
    "experience_list[0:4]"
   ]
  },
  {
   "cell_type": "code",
   "execution_count": 15,
   "id": "ceaa8604",
   "metadata": {},
   "outputs": [
    {
     "data": {
      "text/plain": [
       "[<selenium.webdriver.remote.webelement.WebElement (session=\"deccf6b4044ace42b5d79a0352bfcee2\", element=\"4dcb3dd5-1842-4352-86f3-429692915dbb\")>,\n",
       " <selenium.webdriver.remote.webelement.WebElement (session=\"deccf6b4044ace42b5d79a0352bfcee2\", element=\"266f58d6-f715-469a-9464-a06b1e2bba5f\")>,\n",
       " <selenium.webdriver.remote.webelement.WebElement (session=\"deccf6b4044ace42b5d79a0352bfcee2\", element=\"f49f7543-91c1-4404-b4f8-0545d80db09d\")>,\n",
       " <selenium.webdriver.remote.webelement.WebElement (session=\"deccf6b4044ace42b5d79a0352bfcee2\", element=\"ca33bf4d-9390-48fe-9cdc-b79b1ec6ba1b\")>]"
      ]
     },
     "execution_count": 15,
     "metadata": {},
     "output_type": "execute_result"
    }
   ],
   "source": [
    "locations_tags=driver.find_elements_by_xpath(\"//li[@class='fleft grey-text br2 placeHolderLi location']\")\n",
    "locations_tags[0:4]"
   ]
  },
  {
   "cell_type": "code",
   "execution_count": 16,
   "id": "dc2b5678",
   "metadata": {},
   "outputs": [
    {
     "data": {
      "text/plain": [
       "['Bangalore/Bengaluru',\n",
       " 'Bangalore/Bengaluru',\n",
       " 'Gurgaon/Gurugram, Bangalore/Bengaluru, Delhi / NCR\\n(WFH during Covid)',\n",
       " 'Hyderabad/Secunderabad, Bangalore/Bengaluru']"
      ]
     },
     "execution_count": 16,
     "metadata": {},
     "output_type": "execute_result"
    }
   ],
   "source": [
    "for i in locations_tags:\n",
    "    location=i.text\n",
    "    location_list.append(location)\n",
    "location_list[0:4]"
   ]
  },
  {
   "cell_type": "code",
   "execution_count": 17,
   "id": "b80b65a6",
   "metadata": {},
   "outputs": [
    {
     "name": "stdout",
     "output_type": "stream",
     "text": [
      "20 20 20 20\n"
     ]
    }
   ],
   "source": [
    "print(len(job_titles),len(company_names),len(location_list),len(experience_list))"
   ]
  },
  {
   "cell_type": "code",
   "execution_count": 18,
   "id": "f8ff6faf",
   "metadata": {},
   "outputs": [
    {
     "data": {
      "text/html": [
       "<div>\n",
       "<style scoped>\n",
       "    .dataframe tbody tr th:only-of-type {\n",
       "        vertical-align: middle;\n",
       "    }\n",
       "\n",
       "    .dataframe tbody tr th {\n",
       "        vertical-align: top;\n",
       "    }\n",
       "\n",
       "    .dataframe thead th {\n",
       "        text-align: right;\n",
       "    }\n",
       "</style>\n",
       "<table border=\"1\" class=\"dataframe\">\n",
       "  <thead>\n",
       "    <tr style=\"text-align: right;\">\n",
       "      <th></th>\n",
       "      <th>title</th>\n",
       "      <th>company</th>\n",
       "      <th>location</th>\n",
       "      <th>experience_required</th>\n",
       "    </tr>\n",
       "  </thead>\n",
       "  <tbody>\n",
       "    <tr>\n",
       "      <th>0</th>\n",
       "      <td>Data Analyst / Business Analyst</td>\n",
       "      <td>METRO Cash &amp; Carry</td>\n",
       "      <td>Bangalore/Bengaluru</td>\n",
       "      <td>3-8 Yrs</td>\n",
       "    </tr>\n",
       "    <tr>\n",
       "      <th>1</th>\n",
       "      <td>Data Analyst / Business Analyst</td>\n",
       "      <td>METRO Cash &amp; Carry</td>\n",
       "      <td>Bangalore/Bengaluru</td>\n",
       "      <td>3-8 Yrs</td>\n",
       "    </tr>\n",
       "    <tr>\n",
       "      <th>2</th>\n",
       "      <td>data analyst/ data analytics / Business analys...</td>\n",
       "      <td>Leading US MNC into Analytics</td>\n",
       "      <td>Gurgaon/Gurugram, Bangalore/Bengaluru, Delhi /...</td>\n",
       "      <td>2-7 Yrs</td>\n",
       "    </tr>\n",
       "    <tr>\n",
       "      <th>3</th>\n",
       "      <td>Business analyst + data Analysis</td>\n",
       "      <td>Anlage Infotech (I) Pvt. Ltd.</td>\n",
       "      <td>Hyderabad/Secunderabad, Bangalore/Bengaluru</td>\n",
       "      <td>5-10 Yrs</td>\n",
       "    </tr>\n",
       "    <tr>\n",
       "      <th>4</th>\n",
       "      <td>Data Analyst</td>\n",
       "      <td>upGrad</td>\n",
       "      <td>Bangalore/Bengaluru</td>\n",
       "      <td>1-3 Yrs</td>\n",
       "    </tr>\n",
       "    <tr>\n",
       "      <th>5</th>\n",
       "      <td>Associate Professional Data Analyst</td>\n",
       "      <td>DXC Technology</td>\n",
       "      <td>Bangalore/Bengaluru</td>\n",
       "      <td>3-6 Yrs</td>\n",
       "    </tr>\n",
       "    <tr>\n",
       "      <th>6</th>\n",
       "      <td>Business and Data Analyst</td>\n",
       "      <td>CAREERDOST ENTERPRISE</td>\n",
       "      <td>Bangalore/Bengaluru\\n(WFH during Covid)</td>\n",
       "      <td>0-5 Yrs</td>\n",
       "    </tr>\n",
       "    <tr>\n",
       "      <th>7</th>\n",
       "      <td>Senior Data Analyst</td>\n",
       "      <td>Flipkart</td>\n",
       "      <td>Bangalore/Bengaluru</td>\n",
       "      <td>3-7 Yrs</td>\n",
       "    </tr>\n",
       "    <tr>\n",
       "      <th>8</th>\n",
       "      <td>Senior Data Analyst</td>\n",
       "      <td>Thomson Reuters</td>\n",
       "      <td>Bangalore/Bengaluru</td>\n",
       "      <td>2-4 Yrs</td>\n",
       "    </tr>\n",
       "    <tr>\n",
       "      <th>9</th>\n",
       "      <td>Data Analyst</td>\n",
       "      <td>referral</td>\n",
       "      <td>Bangalore/Bengaluru</td>\n",
       "      <td>2-5 Yrs</td>\n",
       "    </tr>\n",
       "  </tbody>\n",
       "</table>\n",
       "</div>"
      ],
      "text/plain": [
       "                                               title  \\\n",
       "0                    Data Analyst / Business Analyst   \n",
       "1                    Data Analyst / Business Analyst   \n",
       "2  data analyst/ data analytics / Business analys...   \n",
       "3                   Business analyst + data Analysis   \n",
       "4                                       Data Analyst   \n",
       "5                Associate Professional Data Analyst   \n",
       "6                          Business and Data Analyst   \n",
       "7                                Senior Data Analyst   \n",
       "8                                Senior Data Analyst   \n",
       "9                                       Data Analyst   \n",
       "\n",
       "                         company  \\\n",
       "0             METRO Cash & Carry   \n",
       "1             METRO Cash & Carry   \n",
       "2  Leading US MNC into Analytics   \n",
       "3  Anlage Infotech (I) Pvt. Ltd.   \n",
       "4                         upGrad   \n",
       "5                 DXC Technology   \n",
       "6          CAREERDOST ENTERPRISE   \n",
       "7                       Flipkart   \n",
       "8                Thomson Reuters   \n",
       "9                       referral   \n",
       "\n",
       "                                            location experience_required  \n",
       "0                                Bangalore/Bengaluru             3-8 Yrs  \n",
       "1                                Bangalore/Bengaluru             3-8 Yrs  \n",
       "2  Gurgaon/Gurugram, Bangalore/Bengaluru, Delhi /...             2-7 Yrs  \n",
       "3        Hyderabad/Secunderabad, Bangalore/Bengaluru            5-10 Yrs  \n",
       "4                                Bangalore/Bengaluru             1-3 Yrs  \n",
       "5                                Bangalore/Bengaluru             3-6 Yrs  \n",
       "6            Bangalore/Bengaluru\\n(WFH during Covid)             0-5 Yrs  \n",
       "7                                Bangalore/Bengaluru             3-7 Yrs  \n",
       "8                                Bangalore/Bengaluru             2-4 Yrs  \n",
       "9                                Bangalore/Bengaluru             2-5 Yrs  "
      ]
     },
     "execution_count": 18,
     "metadata": {},
     "output_type": "execute_result"
    }
   ],
   "source": [
    "import pandas as pd\n",
    "jobs=pd.DataFrame({})\n",
    "jobs['title']=job_titles\n",
    "jobs['company']=company_names\n",
    "jobs['location']=location_list\n",
    "jobs['experience_required']=experience_list\n",
    "jobs[0:10]\n"
   ]
  },
  {
   "cell_type": "code",
   "execution_count": 19,
   "id": "7bd2899d",
   "metadata": {},
   "outputs": [],
   "source": [
    "#que 2\n",
    "driver.get('https://www.naukri.com/')"
   ]
  },
  {
   "cell_type": "code",
   "execution_count": 20,
   "id": "b6b8f6d8",
   "metadata": {},
   "outputs": [],
   "source": [
    "search_field_designation=driver.find_element_by_class_name(\"suggestor-input\" )\n",
    "search_field_designation.send_keys(\"Data Scientist\")"
   ]
  },
  {
   "cell_type": "code",
   "execution_count": 21,
   "id": "6362e1f2",
   "metadata": {},
   "outputs": [],
   "source": [
    "search_field_location=driver.find_element_by_xpath(\"/html/body/div/div[2]/div[3]/div/div/div[3]/div/div/div/input\" )\n",
    "search_field_location.send_keys(\"Bangalore\")"
   ]
  },
  {
   "cell_type": "code",
   "execution_count": 22,
   "id": "838c9a46",
   "metadata": {},
   "outputs": [],
   "source": [
    "search_button=driver.find_element_by_xpath(\"/html/body/div/div[2]/div[3]/div/div[1]/div[6]\")\n",
    "search_button.click()"
   ]
  },
  {
   "cell_type": "code",
   "execution_count": 23,
   "id": "1c0171c5",
   "metadata": {},
   "outputs": [],
   "source": [
    "job_titles=[]\n",
    "company_names=[]\n",
    "location_list=[]\n",
    "\n"
   ]
  },
  {
   "cell_type": "code",
   "execution_count": 24,
   "id": "05029aa4",
   "metadata": {},
   "outputs": [
    {
     "data": {
      "text/plain": [
       "[<selenium.webdriver.remote.webelement.WebElement (session=\"deccf6b4044ace42b5d79a0352bfcee2\", element=\"26f4f23c-4268-4017-80c3-83aa67ef5fe7\")>,\n",
       " <selenium.webdriver.remote.webelement.WebElement (session=\"deccf6b4044ace42b5d79a0352bfcee2\", element=\"25eebd31-a609-4e99-aba9-854313491ff8\")>,\n",
       " <selenium.webdriver.remote.webelement.WebElement (session=\"deccf6b4044ace42b5d79a0352bfcee2\", element=\"29eab786-bd14-4331-8bf0-8510fdbdfab9\")>,\n",
       " <selenium.webdriver.remote.webelement.WebElement (session=\"deccf6b4044ace42b5d79a0352bfcee2\", element=\"eca7b32a-b22c-4ba5-a507-4bd9fdf462e9\")>]"
      ]
     },
     "execution_count": 24,
     "metadata": {},
     "output_type": "execute_result"
    }
   ],
   "source": [
    "titles_tags=driver.find_elements_by_xpath(\"//a[@class='title fw500 ellipsis']\")\n",
    "titles_tags[0:4]"
   ]
  },
  {
   "cell_type": "code",
   "execution_count": 25,
   "id": "957b5d84",
   "metadata": {},
   "outputs": [
    {
     "data": {
      "text/plain": [
       "['Senior Data Scientist',\n",
       " 'Sr. Analyst - Applied Data Scientist',\n",
       " 'Applied Data Scientist / ML Senior Engineer (Python / SQL)',\n",
       " 'Data Scientist']"
      ]
     },
     "execution_count": 25,
     "metadata": {},
     "output_type": "execute_result"
    }
   ],
   "source": [
    "for i in titles_tags:\n",
    "    title=i.text\n",
    "    job_titles.append(title)\n",
    "job_titles[0:4]\n",
    "    "
   ]
  },
  {
   "cell_type": "code",
   "execution_count": 26,
   "id": "27c903fd",
   "metadata": {},
   "outputs": [
    {
     "data": {
      "text/plain": [
       "[<selenium.webdriver.remote.webelement.WebElement (session=\"deccf6b4044ace42b5d79a0352bfcee2\", element=\"79af7844-ebd3-46bc-a675-7745dc90d2df\")>,\n",
       " <selenium.webdriver.remote.webelement.WebElement (session=\"deccf6b4044ace42b5d79a0352bfcee2\", element=\"1ed556db-aa0d-421a-ac6b-0166903532ef\")>,\n",
       " <selenium.webdriver.remote.webelement.WebElement (session=\"deccf6b4044ace42b5d79a0352bfcee2\", element=\"1ca5761a-65f8-4a78-bbc3-cd3a6c79ec97\")>,\n",
       " <selenium.webdriver.remote.webelement.WebElement (session=\"deccf6b4044ace42b5d79a0352bfcee2\", element=\"570617d0-ad0d-423e-b923-fe606bbb14f9\")>]"
      ]
     },
     "execution_count": 26,
     "metadata": {},
     "output_type": "execute_result"
    }
   ],
   "source": [
    "companies_tags=driver.find_elements_by_xpath(\"//a[@class='subTitle ellipsis fleft']\")\n",
    "companies_tags[0:4]"
   ]
  },
  {
   "cell_type": "code",
   "execution_count": 27,
   "id": "559bd950",
   "metadata": {},
   "outputs": [
    {
     "data": {
      "text/plain": [
       "['UPL', 'Tesco', 'SAP India Pvt.Ltd', 'UPL']"
      ]
     },
     "execution_count": 27,
     "metadata": {},
     "output_type": "execute_result"
    }
   ],
   "source": [
    "for i in companies_tags:\n",
    "    company_name=i.text\n",
    "    company_names.append(company_name)\n",
    "company_names[0:4]"
   ]
  },
  {
   "cell_type": "code",
   "execution_count": 28,
   "id": "0dfca222",
   "metadata": {},
   "outputs": [
    {
     "data": {
      "text/plain": [
       "[<selenium.webdriver.remote.webelement.WebElement (session=\"deccf6b4044ace42b5d79a0352bfcee2\", element=\"64b6ffb1-0f6b-4f02-8fb6-b4d16c81bb00\")>,\n",
       " <selenium.webdriver.remote.webelement.WebElement (session=\"deccf6b4044ace42b5d79a0352bfcee2\", element=\"761276a0-5d0a-4753-9668-4a0fc6a64ebd\")>,\n",
       " <selenium.webdriver.remote.webelement.WebElement (session=\"deccf6b4044ace42b5d79a0352bfcee2\", element=\"9d320f6e-940f-4e64-a996-e347fe37ddf8\")>,\n",
       " <selenium.webdriver.remote.webelement.WebElement (session=\"deccf6b4044ace42b5d79a0352bfcee2\", element=\"8695c37b-37f9-421c-a426-d05f4f90a0dc\")>]"
      ]
     },
     "execution_count": 28,
     "metadata": {},
     "output_type": "execute_result"
    }
   ],
   "source": [
    "locations_tags=driver.find_elements_by_xpath(\"//li[@class='fleft grey-text br2 placeHolderLi location']\")\n",
    "locations_tags[0:4]"
   ]
  },
  {
   "cell_type": "code",
   "execution_count": 29,
   "id": "96fb2c95",
   "metadata": {},
   "outputs": [
    {
     "data": {
      "text/plain": [
       "['Bangalore/Bengaluru, Mumbai (All Areas)',\n",
       " 'Bangalore/Bengaluru',\n",
       " 'Bangalore/Bengaluru',\n",
       " 'Bangalore/Bengaluru, Mumbai (All Areas)']"
      ]
     },
     "execution_count": 29,
     "metadata": {},
     "output_type": "execute_result"
    }
   ],
   "source": [
    "for i in locations_tags:\n",
    "    location=i.text\n",
    "    location_list.append(location)\n",
    "location_list[0:4]"
   ]
  },
  {
   "cell_type": "code",
   "execution_count": 30,
   "id": "9cdbec6e",
   "metadata": {},
   "outputs": [
    {
     "name": "stdout",
     "output_type": "stream",
     "text": [
      "20 20 20\n"
     ]
    }
   ],
   "source": [
    "print(len(job_titles),len(company_names),len(location_list))"
   ]
  },
  {
   "cell_type": "code",
   "execution_count": 31,
   "id": "135432c4",
   "metadata": {},
   "outputs": [
    {
     "data": {
      "text/html": [
       "<div>\n",
       "<style scoped>\n",
       "    .dataframe tbody tr th:only-of-type {\n",
       "        vertical-align: middle;\n",
       "    }\n",
       "\n",
       "    .dataframe tbody tr th {\n",
       "        vertical-align: top;\n",
       "    }\n",
       "\n",
       "    .dataframe thead th {\n",
       "        text-align: right;\n",
       "    }\n",
       "</style>\n",
       "<table border=\"1\" class=\"dataframe\">\n",
       "  <thead>\n",
       "    <tr style=\"text-align: right;\">\n",
       "      <th></th>\n",
       "      <th>title</th>\n",
       "      <th>company</th>\n",
       "      <th>location</th>\n",
       "    </tr>\n",
       "  </thead>\n",
       "  <tbody>\n",
       "    <tr>\n",
       "      <th>0</th>\n",
       "      <td>Senior Data Scientist</td>\n",
       "      <td>UPL</td>\n",
       "      <td>Bangalore/Bengaluru, Mumbai (All Areas)</td>\n",
       "    </tr>\n",
       "    <tr>\n",
       "      <th>1</th>\n",
       "      <td>Sr. Analyst - Applied Data Scientist</td>\n",
       "      <td>Tesco</td>\n",
       "      <td>Bangalore/Bengaluru</td>\n",
       "    </tr>\n",
       "    <tr>\n",
       "      <th>2</th>\n",
       "      <td>Applied Data Scientist / ML Senior Engineer (P...</td>\n",
       "      <td>SAP India Pvt.Ltd</td>\n",
       "      <td>Bangalore/Bengaluru</td>\n",
       "    </tr>\n",
       "    <tr>\n",
       "      <th>3</th>\n",
       "      <td>Data Scientist</td>\n",
       "      <td>UPL</td>\n",
       "      <td>Bangalore/Bengaluru, Mumbai (All Areas)</td>\n",
       "    </tr>\n",
       "    <tr>\n",
       "      <th>4</th>\n",
       "      <td>Expert Data Scientist</td>\n",
       "      <td>UPL</td>\n",
       "      <td>Bangalore/Bengaluru, Mumbai (All Areas)</td>\n",
       "    </tr>\n",
       "    <tr>\n",
       "      <th>5</th>\n",
       "      <td>Principal Data Scientist</td>\n",
       "      <td>UPL</td>\n",
       "      <td>Bangalore/Bengaluru, Mumbai (All Areas)</td>\n",
       "    </tr>\n",
       "    <tr>\n",
       "      <th>6</th>\n",
       "      <td>Analyst - Applied Data Scientist</td>\n",
       "      <td>Tesco</td>\n",
       "      <td>Bangalore/Bengaluru</td>\n",
       "    </tr>\n",
       "    <tr>\n",
       "      <th>7</th>\n",
       "      <td>Research Data Scientist</td>\n",
       "      <td>Mavenir</td>\n",
       "      <td>Bangalore/Bengaluru</td>\n",
       "    </tr>\n",
       "    <tr>\n",
       "      <th>8</th>\n",
       "      <td>Senior Data Scientist Grade12</td>\n",
       "      <td>Flipkart</td>\n",
       "      <td>Bangalore/Bengaluru</td>\n",
       "    </tr>\n",
       "    <tr>\n",
       "      <th>9</th>\n",
       "      <td>Senior Data Scientist Grade12</td>\n",
       "      <td>Flipkart</td>\n",
       "      <td>Bangalore/Bengaluru</td>\n",
       "    </tr>\n",
       "  </tbody>\n",
       "</table>\n",
       "</div>"
      ],
      "text/plain": [
       "                                               title            company  \\\n",
       "0                              Senior Data Scientist                UPL   \n",
       "1               Sr. Analyst - Applied Data Scientist              Tesco   \n",
       "2  Applied Data Scientist / ML Senior Engineer (P...  SAP India Pvt.Ltd   \n",
       "3                                     Data Scientist                UPL   \n",
       "4                              Expert Data Scientist                UPL   \n",
       "5                           Principal Data Scientist                UPL   \n",
       "6                   Analyst - Applied Data Scientist              Tesco   \n",
       "7                            Research Data Scientist            Mavenir   \n",
       "8                      Senior Data Scientist Grade12           Flipkart   \n",
       "9                      Senior Data Scientist Grade12           Flipkart   \n",
       "\n",
       "                                  location  \n",
       "0  Bangalore/Bengaluru, Mumbai (All Areas)  \n",
       "1                      Bangalore/Bengaluru  \n",
       "2                      Bangalore/Bengaluru  \n",
       "3  Bangalore/Bengaluru, Mumbai (All Areas)  \n",
       "4  Bangalore/Bengaluru, Mumbai (All Areas)  \n",
       "5  Bangalore/Bengaluru, Mumbai (All Areas)  \n",
       "6                      Bangalore/Bengaluru  \n",
       "7                      Bangalore/Bengaluru  \n",
       "8                      Bangalore/Bengaluru  \n",
       "9                      Bangalore/Bengaluru  "
      ]
     },
     "execution_count": 31,
     "metadata": {},
     "output_type": "execute_result"
    }
   ],
   "source": [
    "import pandas as pd\n",
    "jobs=pd.DataFrame({})\n",
    "jobs['title']=job_titles\n",
    "jobs['company']=company_names\n",
    "jobs['location']=location_list\n",
    "jobs[0:10]\n"
   ]
  },
  {
   "cell_type": "code",
   "execution_count": 33,
   "id": "42f6ded0",
   "metadata": {},
   "outputs": [],
   "source": [
    "#que.3\n",
    "driver.get('https://www.naukri.com/')"
   ]
  },
  {
   "cell_type": "code",
   "execution_count": 34,
   "id": "48b706f2",
   "metadata": {},
   "outputs": [],
   "source": [
    "search_field_designation=driver.find_element_by_class_name(\"suggestor-input\" )\n",
    "search_field_designation.send_keys(\"Data Scientist”\")"
   ]
  },
  {
   "cell_type": "code",
   "execution_count": 35,
   "id": "3d5ff92d",
   "metadata": {},
   "outputs": [],
   "source": [
    "search_button=driver.find_element_by_xpath(\"/html/body/div/div[2]/div[3]/div/div[1]/div[6]\")\n",
    "search_button.click()"
   ]
  },
  {
   "cell_type": "code",
   "execution_count": 36,
   "id": "33e80b54",
   "metadata": {},
   "outputs": [],
   "source": [
    "search_button=driver.find_element_by_xpath(\"/html/body/div[1]/div[3]/div[2]/section[1]/div[2]/div[5]/div[2]/div[2]/label/p/span[1]\")\n",
    "search_button.click()"
   ]
  },
  {
   "cell_type": "code",
   "execution_count": 37,
   "id": "04bb16e3",
   "metadata": {},
   "outputs": [],
   "source": [
    "search_button=driver.find_element_by_xpath(\"/html/body/div[1]/div[3]/div[2]/section[1]/div[2]/div[5]/div[2]/div[3]/label/p/span[1]\")\n",
    "search_button.click()"
   ]
  },
  {
   "cell_type": "code",
   "execution_count": 38,
   "id": "2b0bb685",
   "metadata": {},
   "outputs": [],
   "source": [
    "job_titles=[]\n",
    "company_names=[]\n",
    "location_list=[]\n",
    "experience_list=[]\n"
   ]
  },
  {
   "cell_type": "code",
   "execution_count": 39,
   "id": "ee1b476e",
   "metadata": {},
   "outputs": [
    {
     "data": {
      "text/plain": [
       "[<selenium.webdriver.remote.webelement.WebElement (session=\"deccf6b4044ace42b5d79a0352bfcee2\", element=\"b44ca9e1-3442-4ef7-b19a-1bd6d2904fc7\")>,\n",
       " <selenium.webdriver.remote.webelement.WebElement (session=\"deccf6b4044ace42b5d79a0352bfcee2\", element=\"06a51920-af4d-48b5-a5cc-93e8d28032fe\")>,\n",
       " <selenium.webdriver.remote.webelement.WebElement (session=\"deccf6b4044ace42b5d79a0352bfcee2\", element=\"f4af443c-0213-48c9-b2ec-ffdb95b2c821\")>,\n",
       " <selenium.webdriver.remote.webelement.WebElement (session=\"deccf6b4044ace42b5d79a0352bfcee2\", element=\"c362c391-339a-46b9-9bda-5236658cc1e3\")>]"
      ]
     },
     "execution_count": 39,
     "metadata": {},
     "output_type": "execute_result"
    }
   ],
   "source": [
    "titles_tags=driver.find_elements_by_xpath(\"//a[@class='title fw500 ellipsis']\")\n",
    "titles_tags[0:4]"
   ]
  },
  {
   "cell_type": "code",
   "execution_count": 40,
   "id": "190ea676",
   "metadata": {},
   "outputs": [
    {
     "data": {
      "text/plain": [
       "['Data Scientist - Internet Jobs - II',\n",
       " 'Data Scientist',\n",
       " 'Junior Data Scientist',\n",
       " 'Associate Scientist - Data Engineering']"
      ]
     },
     "execution_count": 40,
     "metadata": {},
     "output_type": "execute_result"
    }
   ],
   "source": [
    "for i in titles_tags:\n",
    "    title=i.text\n",
    "    job_titles.append(title)\n",
    "job_titles[0:4]\n",
    "    "
   ]
  },
  {
   "cell_type": "code",
   "execution_count": 41,
   "id": "bedeb4d9",
   "metadata": {},
   "outputs": [
    {
     "data": {
      "text/plain": [
       "[<selenium.webdriver.remote.webelement.WebElement (session=\"deccf6b4044ace42b5d79a0352bfcee2\", element=\"3ff0e657-2fd4-4353-a72b-6e8060506cfd\")>,\n",
       " <selenium.webdriver.remote.webelement.WebElement (session=\"deccf6b4044ace42b5d79a0352bfcee2\", element=\"3006b265-3b9d-4552-ae8e-cad3741306a5\")>,\n",
       " <selenium.webdriver.remote.webelement.WebElement (session=\"deccf6b4044ace42b5d79a0352bfcee2\", element=\"d8b5f860-e007-4146-8648-996b4d0bc269\")>,\n",
       " <selenium.webdriver.remote.webelement.WebElement (session=\"deccf6b4044ace42b5d79a0352bfcee2\", element=\"d7cefdf6-713d-41df-9dbb-48e6bc175522\")>]"
      ]
     },
     "execution_count": 41,
     "metadata": {},
     "output_type": "execute_result"
    }
   ],
   "source": [
    "companies_tags=driver.find_elements_by_xpath(\"//a[@class='subTitle ellipsis fleft']\")\n",
    "companies_tags[0:4]"
   ]
  },
  {
   "cell_type": "code",
   "execution_count": 42,
   "id": "ecf3fb32",
   "metadata": {},
   "outputs": [
    {
     "data": {
      "text/plain": [
       "['Jobs Territory',\n",
       " 'Ashkom Media India Private Limited',\n",
       " 'EASY DATA ANALYTICS TECHNOLOGY PRIVATE LIMITED',\n",
       " 'AXA Technology Services India Pvt. Ltd']"
      ]
     },
     "execution_count": 42,
     "metadata": {},
     "output_type": "execute_result"
    }
   ],
   "source": [
    "for i in companies_tags:\n",
    "    company_name=i.text\n",
    "    company_names.append(company_name)\n",
    "company_names[0:4]"
   ]
  },
  {
   "cell_type": "code",
   "execution_count": 43,
   "id": "e17213aa",
   "metadata": {},
   "outputs": [
    {
     "data": {
      "text/plain": [
       "[<selenium.webdriver.remote.webelement.WebElement (session=\"deccf6b4044ace42b5d79a0352bfcee2\", element=\"567347b9-5885-443f-9620-fa51e7c0c05d\")>,\n",
       " <selenium.webdriver.remote.webelement.WebElement (session=\"deccf6b4044ace42b5d79a0352bfcee2\", element=\"79785688-8eaa-4008-8282-ad9c6855e984\")>,\n",
       " <selenium.webdriver.remote.webelement.WebElement (session=\"deccf6b4044ace42b5d79a0352bfcee2\", element=\"f0e2e2f3-02dd-4571-8fd2-64c57980e598\")>,\n",
       " <selenium.webdriver.remote.webelement.WebElement (session=\"deccf6b4044ace42b5d79a0352bfcee2\", element=\"5a693eb1-34e0-4c9f-b95d-cc73a72391bd\")>]"
      ]
     },
     "execution_count": 43,
     "metadata": {},
     "output_type": "execute_result"
    }
   ],
   "source": [
    "experience_tags=driver.find_elements_by_xpath(\"//li[@class='fleft grey-text br2 placeHolderLi experience']\")\n",
    "experience_tags[0:4]"
   ]
  },
  {
   "cell_type": "code",
   "execution_count": 44,
   "id": "136631c2",
   "metadata": {},
   "outputs": [
    {
     "data": {
      "text/plain": [
       "['3-6 Yrs', '3-6 Yrs', '1-2 Yrs', '2-5 Yrs']"
      ]
     },
     "execution_count": 44,
     "metadata": {},
     "output_type": "execute_result"
    }
   ],
   "source": [
    "for i in experience_tags:\n",
    "    experience=i.text\n",
    "    experience_list.append(experience)\n",
    "experience_list[0:4]"
   ]
  },
  {
   "cell_type": "code",
   "execution_count": 45,
   "id": "54b86b7f",
   "metadata": {},
   "outputs": [
    {
     "data": {
      "text/plain": [
       "[<selenium.webdriver.remote.webelement.WebElement (session=\"deccf6b4044ace42b5d79a0352bfcee2\", element=\"ab61e95c-c5c6-4954-b96d-34fc4937d493\")>,\n",
       " <selenium.webdriver.remote.webelement.WebElement (session=\"deccf6b4044ace42b5d79a0352bfcee2\", element=\"f9d36548-3270-40e6-8cc9-51d112ea4da9\")>,\n",
       " <selenium.webdriver.remote.webelement.WebElement (session=\"deccf6b4044ace42b5d79a0352bfcee2\", element=\"96b7f17b-bffa-4b3a-8194-1a5a47ad13de\")>,\n",
       " <selenium.webdriver.remote.webelement.WebElement (session=\"deccf6b4044ace42b5d79a0352bfcee2\", element=\"214913f6-6be3-483a-aa3a-71940239b68a\")>]"
      ]
     },
     "execution_count": 45,
     "metadata": {},
     "output_type": "execute_result"
    }
   ],
   "source": [
    "locations_tags=driver.find_elements_by_xpath(\"//li[@class='fleft grey-text br2 placeHolderLi location']\")\n",
    "locations_tags[0:4]"
   ]
  },
  {
   "cell_type": "code",
   "execution_count": 46,
   "id": "3b1dd77a",
   "metadata": {},
   "outputs": [
    {
     "data": {
      "text/plain": [
       "['Bangalore/Bengaluru, Delhi / NCR, Mumbai (All Areas)',\n",
       " 'Noida, Bangalore/Bengaluru',\n",
       " 'Noida',\n",
       " 'Gurgaon/Gurugram']"
      ]
     },
     "execution_count": 46,
     "metadata": {},
     "output_type": "execute_result"
    }
   ],
   "source": [
    "for i in locations_tags:\n",
    "    location=i.text\n",
    "    location_list.append(location)\n",
    "location_list[0:4]"
   ]
  },
  {
   "cell_type": "code",
   "execution_count": 47,
   "id": "364e2327",
   "metadata": {},
   "outputs": [
    {
     "name": "stdout",
     "output_type": "stream",
     "text": [
      "20 20 20 20\n"
     ]
    }
   ],
   "source": [
    "print(len(job_titles),len(company_names),len(location_list),len(experience_list))"
   ]
  },
  {
   "cell_type": "code",
   "execution_count": 48,
   "id": "b3cbf207",
   "metadata": {},
   "outputs": [
    {
     "data": {
      "text/html": [
       "<div>\n",
       "<style scoped>\n",
       "    .dataframe tbody tr th:only-of-type {\n",
       "        vertical-align: middle;\n",
       "    }\n",
       "\n",
       "    .dataframe tbody tr th {\n",
       "        vertical-align: top;\n",
       "    }\n",
       "\n",
       "    .dataframe thead th {\n",
       "        text-align: right;\n",
       "    }\n",
       "</style>\n",
       "<table border=\"1\" class=\"dataframe\">\n",
       "  <thead>\n",
       "    <tr style=\"text-align: right;\">\n",
       "      <th></th>\n",
       "      <th>title</th>\n",
       "      <th>company</th>\n",
       "      <th>location</th>\n",
       "      <th>experience_required</th>\n",
       "    </tr>\n",
       "  </thead>\n",
       "  <tbody>\n",
       "    <tr>\n",
       "      <th>0</th>\n",
       "      <td>Data Scientist - Internet Jobs - II</td>\n",
       "      <td>Jobs Territory</td>\n",
       "      <td>Bangalore/Bengaluru, Delhi / NCR, Mumbai (All ...</td>\n",
       "      <td>3-6 Yrs</td>\n",
       "    </tr>\n",
       "    <tr>\n",
       "      <th>1</th>\n",
       "      <td>Data Scientist</td>\n",
       "      <td>Ashkom Media India Private Limited</td>\n",
       "      <td>Noida, Bangalore/Bengaluru</td>\n",
       "      <td>3-6 Yrs</td>\n",
       "    </tr>\n",
       "    <tr>\n",
       "      <th>2</th>\n",
       "      <td>Junior Data Scientist</td>\n",
       "      <td>EASY DATA ANALYTICS TECHNOLOGY PRIVATE LIMITED</td>\n",
       "      <td>Noida</td>\n",
       "      <td>1-2 Yrs</td>\n",
       "    </tr>\n",
       "    <tr>\n",
       "      <th>3</th>\n",
       "      <td>Associate Scientist - Data Engineering</td>\n",
       "      <td>AXA Technology Services India Pvt. Ltd</td>\n",
       "      <td>Gurgaon/Gurugram</td>\n",
       "      <td>2-5 Yrs</td>\n",
       "    </tr>\n",
       "    <tr>\n",
       "      <th>4</th>\n",
       "      <td>Data Scientist || Software Company || Immediat...</td>\n",
       "      <td>Skyleaf Consultants</td>\n",
       "      <td>Gurgaon/Gurugram, Bangalore/Bengaluru</td>\n",
       "      <td>3-8 Yrs</td>\n",
       "    </tr>\n",
       "    <tr>\n",
       "      <th>5</th>\n",
       "      <td>Data Scientist (freelance)</td>\n",
       "      <td>2Coms</td>\n",
       "      <td>New Delhi, Delhi</td>\n",
       "      <td>2-7 Yrs</td>\n",
       "    </tr>\n",
       "    <tr>\n",
       "      <th>6</th>\n",
       "      <td>Data Scientist</td>\n",
       "      <td>Country Veggie</td>\n",
       "      <td>Bharuch, Jaipur, Bhopal, Mumbai, Jhansi, Nagpu...</td>\n",
       "      <td>1-3 Yrs</td>\n",
       "    </tr>\n",
       "    <tr>\n",
       "      <th>7</th>\n",
       "      <td>Data Scientist/ Machine Learning, 2022 Passout...</td>\n",
       "      <td>Creative Hands HR Consultancy</td>\n",
       "      <td>Hyderabad/Secunderabad, Pune, Chennai, Delhi /...</td>\n",
       "      <td>0-4 Yrs</td>\n",
       "    </tr>\n",
       "    <tr>\n",
       "      <th>8</th>\n",
       "      <td>Data Scientist</td>\n",
       "      <td>BlackBuck</td>\n",
       "      <td>Gurgaon, Bengaluru</td>\n",
       "      <td>3-7 Yrs</td>\n",
       "    </tr>\n",
       "    <tr>\n",
       "      <th>9</th>\n",
       "      <td>Associate Data Scientist</td>\n",
       "      <td>Optum</td>\n",
       "      <td>Gurgaon/Gurugram</td>\n",
       "      <td>1-5 Yrs</td>\n",
       "    </tr>\n",
       "  </tbody>\n",
       "</table>\n",
       "</div>"
      ],
      "text/plain": [
       "                                               title  \\\n",
       "0                Data Scientist - Internet Jobs - II   \n",
       "1                                     Data Scientist   \n",
       "2                              Junior Data Scientist   \n",
       "3             Associate Scientist - Data Engineering   \n",
       "4  Data Scientist || Software Company || Immediat...   \n",
       "5                         Data Scientist (freelance)   \n",
       "6                                     Data Scientist   \n",
       "7  Data Scientist/ Machine Learning, 2022 Passout...   \n",
       "8                                     Data Scientist   \n",
       "9                           Associate Data Scientist   \n",
       "\n",
       "                                          company  \\\n",
       "0                                  Jobs Territory   \n",
       "1              Ashkom Media India Private Limited   \n",
       "2  EASY DATA ANALYTICS TECHNOLOGY PRIVATE LIMITED   \n",
       "3          AXA Technology Services India Pvt. Ltd   \n",
       "4                             Skyleaf Consultants   \n",
       "5                                           2Coms   \n",
       "6                                  Country Veggie   \n",
       "7                   Creative Hands HR Consultancy   \n",
       "8                                       BlackBuck   \n",
       "9                                           Optum   \n",
       "\n",
       "                                            location experience_required  \n",
       "0  Bangalore/Bengaluru, Delhi / NCR, Mumbai (All ...             3-6 Yrs  \n",
       "1                         Noida, Bangalore/Bengaluru             3-6 Yrs  \n",
       "2                                              Noida             1-2 Yrs  \n",
       "3                                   Gurgaon/Gurugram             2-5 Yrs  \n",
       "4              Gurgaon/Gurugram, Bangalore/Bengaluru             3-8 Yrs  \n",
       "5                                   New Delhi, Delhi             2-7 Yrs  \n",
       "6  Bharuch, Jaipur, Bhopal, Mumbai, Jhansi, Nagpu...             1-3 Yrs  \n",
       "7  Hyderabad/Secunderabad, Pune, Chennai, Delhi /...             0-4 Yrs  \n",
       "8                                 Gurgaon, Bengaluru             3-7 Yrs  \n",
       "9                                   Gurgaon/Gurugram             1-5 Yrs  "
      ]
     },
     "execution_count": 48,
     "metadata": {},
     "output_type": "execute_result"
    }
   ],
   "source": [
    "import pandas as pd\n",
    "jobs=pd.DataFrame({})\n",
    "jobs['title']=job_titles\n",
    "jobs['company']=company_names\n",
    "jobs['location']=location_list\n",
    "jobs['experience_required']=experience_list\n",
    "jobs[0:10]"
   ]
  },
  {
   "cell_type": "code",
   "execution_count": 49,
   "id": "e354281f",
   "metadata": {},
   "outputs": [],
   "source": [
    "#que.4\n",
    "driver.get('https://www.flipkart.com/')"
   ]
  },
  {
   "cell_type": "code",
   "execution_count": 50,
   "id": "c3e61353",
   "metadata": {},
   "outputs": [],
   "source": [
    "search_field_designation=driver.find_element_by_class_name(\"_3704LK\" )\n",
    "search_field_designation.send_keys(\"sunglasses\")"
   ]
  },
  {
   "cell_type": "code",
   "execution_count": 52,
   "id": "e3ce064c",
   "metadata": {},
   "outputs": [],
   "source": [
    "cancel_button_ads=driver.find_element_by_xpath(\"//button[@class='_2KpZ6l _2doB4z']\")\n",
    "cancel_button_ads.click()"
   ]
  },
  {
   "cell_type": "code",
   "execution_count": 53,
   "id": "04b613fd",
   "metadata": {},
   "outputs": [],
   "source": [
    "search_button=driver.find_element_by_xpath(\"/html/body/div/div/div[1]/div[1]/div[2]/div[2]/form/div/button\")\n",
    "search_button.click()"
   ]
  },
  {
   "cell_type": "code",
   "execution_count": 54,
   "id": "2d1f0a9b",
   "metadata": {},
   "outputs": [],
   "source": [
    "Brands=[]\n",
    "Product_Description=[]\n",
    "Price=[]\n",
    "Discount=[]"
   ]
  },
  {
   "cell_type": "code",
   "execution_count": 55,
   "id": "fbf79d38",
   "metadata": {},
   "outputs": [
    {
     "data": {
      "text/plain": [
       "[<selenium.webdriver.remote.webelement.WebElement (session=\"deccf6b4044ace42b5d79a0352bfcee2\", element=\"5e7372d2-7dbf-4022-83ce-0c492c7f729e\")>,\n",
       " <selenium.webdriver.remote.webelement.WebElement (session=\"deccf6b4044ace42b5d79a0352bfcee2\", element=\"99481fd9-66ab-4199-a73d-4be1970b49f5\")>,\n",
       " <selenium.webdriver.remote.webelement.WebElement (session=\"deccf6b4044ace42b5d79a0352bfcee2\", element=\"90bc1bf1-37f6-4f3e-a261-14c000097cb2\")>,\n",
       " <selenium.webdriver.remote.webelement.WebElement (session=\"deccf6b4044ace42b5d79a0352bfcee2\", element=\"8eee7d28-baeb-4010-9264-42da84b032d8\")>]"
      ]
     },
     "execution_count": 55,
     "metadata": {},
     "output_type": "execute_result"
    }
   ],
   "source": [
    "Brand_tags=driver.find_elements_by_xpath(\"//div[starts-with (@class,'_2WkVRV')]\")\n",
    "Brand_tags[0:4]"
   ]
  },
  {
   "cell_type": "code",
   "execution_count": 56,
   "id": "dae20c4c",
   "metadata": {},
   "outputs": [
    {
     "data": {
      "text/plain": [
       "['Elligator', 'PIRASO', 'Elligator', 'SUNBEE']"
      ]
     },
     "execution_count": 56,
     "metadata": {},
     "output_type": "execute_result"
    }
   ],
   "source": [
    "for i in Brand_tags:\n",
    "    Brand=i.text\n",
    "    Brands.append(Brand)\n",
    "Brands[0:4]"
   ]
  },
  {
   "cell_type": "code",
   "execution_count": 57,
   "id": "6c1679a0",
   "metadata": {},
   "outputs": [
    {
     "data": {
      "text/plain": [
       "[<selenium.webdriver.remote.webelement.WebElement (session=\"deccf6b4044ace42b5d79a0352bfcee2\", element=\"b440916e-61a3-42b6-9d53-0cdf8973afac\")>,\n",
       " <selenium.webdriver.remote.webelement.WebElement (session=\"deccf6b4044ace42b5d79a0352bfcee2\", element=\"747ac856-cad6-4673-aa56-fa6dc1e3a4be\")>,\n",
       " <selenium.webdriver.remote.webelement.WebElement (session=\"deccf6b4044ace42b5d79a0352bfcee2\", element=\"d29c1e84-b6e0-42eb-934e-186c1c9443c0\")>,\n",
       " <selenium.webdriver.remote.webelement.WebElement (session=\"deccf6b4044ace42b5d79a0352bfcee2\", element=\"a4a02efb-515a-4b4c-a785-8f436213deba\")>]"
      ]
     },
     "execution_count": 57,
     "metadata": {},
     "output_type": "execute_result"
    }
   ],
   "source": [
    "Price_tags=driver.find_elements_by_xpath(\"//div[@class='_30jeq3']\")\n",
    "Price_tags[0:4]"
   ]
  },
  {
   "cell_type": "code",
   "execution_count": 58,
   "id": "baba04b6",
   "metadata": {},
   "outputs": [
    {
     "data": {
      "text/plain": [
       "['₹295', '₹249', '₹224', '₹283']"
      ]
     },
     "execution_count": 58,
     "metadata": {},
     "output_type": "execute_result"
    }
   ],
   "source": [
    "for i in Price_tags:\n",
    "    Prices=i.text\n",
    "    Price.append(Prices)\n",
    "Price[0:4]"
   ]
  },
  {
   "cell_type": "code",
   "execution_count": 59,
   "id": "7b122b0f",
   "metadata": {},
   "outputs": [
    {
     "data": {
      "text/plain": [
       "[<selenium.webdriver.remote.webelement.WebElement (session=\"deccf6b4044ace42b5d79a0352bfcee2\", element=\"5709aab7-fd0e-4902-a283-61fb383e285c\")>,\n",
       " <selenium.webdriver.remote.webelement.WebElement (session=\"deccf6b4044ace42b5d79a0352bfcee2\", element=\"29c62f82-2a89-4a3e-b6dc-31ba7821d689\")>,\n",
       " <selenium.webdriver.remote.webelement.WebElement (session=\"deccf6b4044ace42b5d79a0352bfcee2\", element=\"65cb5c00-06a5-415a-9a0f-6cc7f36637d3\")>,\n",
       " <selenium.webdriver.remote.webelement.WebElement (session=\"deccf6b4044ace42b5d79a0352bfcee2\", element=\"94dc9f52-987a-4ca3-8523-84cc78045c16\")>]"
      ]
     },
     "execution_count": 59,
     "metadata": {},
     "output_type": "execute_result"
    }
   ],
   "source": [
    "Product_tags=driver.find_elements_by_xpath(\"//a[@class='IRpwTa']\")\n",
    "Product_tags[0:4]"
   ]
  },
  {
   "cell_type": "code",
   "execution_count": 60,
   "id": "ad1d810e",
   "metadata": {},
   "outputs": [
    {
     "data": {
      "text/plain": [
       "['UV Protection Round Sunglasses (54)',\n",
       " 'UV Protection Aviator Sunglasses (54)',\n",
       " 'UV Protection Wayfarer Sunglasses (53)',\n",
       " 'UV Protection, Polarized Wayfarer Sunglasses (Free Size...']"
      ]
     },
     "execution_count": 60,
     "metadata": {},
     "output_type": "execute_result"
    }
   ],
   "source": [
    "for i in Product_tags:\n",
    "    Description=i.text\n",
    "    Product_Description.append(Description)\n",
    "Product_Description[0:4]"
   ]
  },
  {
   "cell_type": "code",
   "execution_count": 61,
   "id": "8f1b545e",
   "metadata": {},
   "outputs": [
    {
     "data": {
      "text/plain": [
       "[<selenium.webdriver.remote.webelement.WebElement (session=\"deccf6b4044ace42b5d79a0352bfcee2\", element=\"c570edb6-cff2-48f8-8f63-7dd8c83443f4\")>,\n",
       " <selenium.webdriver.remote.webelement.WebElement (session=\"deccf6b4044ace42b5d79a0352bfcee2\", element=\"ca5d2fdf-185b-42a1-af06-78ff5c2377ae\")>,\n",
       " <selenium.webdriver.remote.webelement.WebElement (session=\"deccf6b4044ace42b5d79a0352bfcee2\", element=\"4bd20d1f-3a29-4c5d-8234-879bc544f6b6\")>,\n",
       " <selenium.webdriver.remote.webelement.WebElement (session=\"deccf6b4044ace42b5d79a0352bfcee2\", element=\"62272843-ca06-499c-8bd1-3fa05879a6d4\")>]"
      ]
     },
     "execution_count": 61,
     "metadata": {},
     "output_type": "execute_result"
    }
   ],
   "source": [
    "Discount_tags=driver.find_elements_by_xpath(\"//div[@class='_3Ay6Sb']\")\n",
    "Discount_tags[0:4]"
   ]
  },
  {
   "cell_type": "code",
   "execution_count": 62,
   "id": "e3fa09b5",
   "metadata": {},
   "outputs": [
    {
     "data": {
      "text/plain": [
       "['88% off', '84% off', '82% off', '78% off']"
      ]
     },
     "execution_count": 62,
     "metadata": {},
     "output_type": "execute_result"
    }
   ],
   "source": [
    "for i in Discount_tags:\n",
    "    Discounts=i.text\n",
    "    Discount.append(Discounts)\n",
    "Discount[0:4]"
   ]
  },
  {
   "cell_type": "code",
   "execution_count": 63,
   "id": "287b6205",
   "metadata": {},
   "outputs": [
    {
     "name": "stdout",
     "output_type": "stream",
     "text": [
      "40 40 40 40\n"
     ]
    }
   ],
   "source": [
    "print(len(Brands),len(Price),len(Product_Description),len(Discount))"
   ]
  },
  {
   "cell_type": "code",
   "execution_count": 64,
   "id": "d6ce4211",
   "metadata": {},
   "outputs": [
    {
     "data": {
      "text/html": [
       "<div>\n",
       "<style scoped>\n",
       "    .dataframe tbody tr th:only-of-type {\n",
       "        vertical-align: middle;\n",
       "    }\n",
       "\n",
       "    .dataframe tbody tr th {\n",
       "        vertical-align: top;\n",
       "    }\n",
       "\n",
       "    .dataframe thead th {\n",
       "        text-align: right;\n",
       "    }\n",
       "</style>\n",
       "<table border=\"1\" class=\"dataframe\">\n",
       "  <thead>\n",
       "    <tr style=\"text-align: right;\">\n",
       "      <th></th>\n",
       "      <th>Brands</th>\n",
       "      <th>Price</th>\n",
       "      <th>Product_Description</th>\n",
       "      <th>Discounts</th>\n",
       "    </tr>\n",
       "  </thead>\n",
       "  <tbody>\n",
       "    <tr>\n",
       "      <th>0</th>\n",
       "      <td>Elligator</td>\n",
       "      <td>₹295</td>\n",
       "      <td>UV Protection Round Sunglasses (54)</td>\n",
       "      <td>88% off</td>\n",
       "    </tr>\n",
       "    <tr>\n",
       "      <th>1</th>\n",
       "      <td>PIRASO</td>\n",
       "      <td>₹249</td>\n",
       "      <td>UV Protection Aviator Sunglasses (54)</td>\n",
       "      <td>84% off</td>\n",
       "    </tr>\n",
       "    <tr>\n",
       "      <th>2</th>\n",
       "      <td>Elligator</td>\n",
       "      <td>₹224</td>\n",
       "      <td>UV Protection Wayfarer Sunglasses (53)</td>\n",
       "      <td>82% off</td>\n",
       "    </tr>\n",
       "    <tr>\n",
       "      <th>3</th>\n",
       "      <td>SUNBEE</td>\n",
       "      <td>₹283</td>\n",
       "      <td>UV Protection, Polarized Wayfarer Sunglasses (...</td>\n",
       "      <td>78% off</td>\n",
       "    </tr>\n",
       "    <tr>\n",
       "      <th>4</th>\n",
       "      <td>DAHAAZIL</td>\n",
       "      <td>₹219</td>\n",
       "      <td>UV Protection, Night Vision, Riding Glasses Wa...</td>\n",
       "      <td>78% off</td>\n",
       "    </tr>\n",
       "    <tr>\n",
       "      <th>5</th>\n",
       "      <td>SHAAH COLLECTIONS</td>\n",
       "      <td>₹195</td>\n",
       "      <td>UV Protection, Polarized, Mirrored Rectangular...</td>\n",
       "      <td>88% off</td>\n",
       "    </tr>\n",
       "    <tr>\n",
       "      <th>6</th>\n",
       "      <td>Fastrack</td>\n",
       "      <td>₹647</td>\n",
       "      <td>UV Protection Wayfarer Sunglasses (Free Size)</td>\n",
       "      <td>28% off</td>\n",
       "    </tr>\n",
       "    <tr>\n",
       "      <th>7</th>\n",
       "      <td>New Specs</td>\n",
       "      <td>₹265</td>\n",
       "      <td>UV Protection Rectangular Sunglasses (Free Size)</td>\n",
       "      <td>86% off</td>\n",
       "    </tr>\n",
       "    <tr>\n",
       "      <th>8</th>\n",
       "      <td>PIRASO</td>\n",
       "      <td>₹225</td>\n",
       "      <td>UV Protection Wayfarer Sunglasses (32)</td>\n",
       "      <td>85% off</td>\n",
       "    </tr>\n",
       "    <tr>\n",
       "      <th>9</th>\n",
       "      <td>Fastrack</td>\n",
       "      <td>₹719</td>\n",
       "      <td>UV Protection Wayfarer Sunglasses (Free Size)</td>\n",
       "      <td>20% off</td>\n",
       "    </tr>\n",
       "    <tr>\n",
       "      <th>10</th>\n",
       "      <td>Fastrack</td>\n",
       "      <td>₹639</td>\n",
       "      <td>UV Protection Rectangular Sunglasses (Free Size)</td>\n",
       "      <td>20% off</td>\n",
       "    </tr>\n",
       "    <tr>\n",
       "      <th>11</th>\n",
       "      <td>Lee Topper</td>\n",
       "      <td>₹299</td>\n",
       "      <td>Riding Glasses Wrap-around Sunglasses (Free Size)</td>\n",
       "      <td>88% off</td>\n",
       "    </tr>\n",
       "    <tr>\n",
       "      <th>12</th>\n",
       "      <td>hipe</td>\n",
       "      <td>₹177</td>\n",
       "      <td>Gradient, UV Protection Round Sunglasses (Free...</td>\n",
       "      <td>86% off</td>\n",
       "    </tr>\n",
       "    <tr>\n",
       "      <th>13</th>\n",
       "      <td>PIRASO</td>\n",
       "      <td>₹224</td>\n",
       "      <td>UV Protection Aviator Sunglasses (54)</td>\n",
       "      <td>85% off</td>\n",
       "    </tr>\n",
       "    <tr>\n",
       "      <th>14</th>\n",
       "      <td>PIRASO</td>\n",
       "      <td>₹224</td>\n",
       "      <td>UV Protection Aviator Sunglasses (54)</td>\n",
       "      <td>85% off</td>\n",
       "    </tr>\n",
       "    <tr>\n",
       "      <th>15</th>\n",
       "      <td>PIRASO</td>\n",
       "      <td>₹280</td>\n",
       "      <td>UV Protection Rectangular Sunglasses (52)</td>\n",
       "      <td>89% off</td>\n",
       "    </tr>\n",
       "    <tr>\n",
       "      <th>16</th>\n",
       "      <td>New Specs</td>\n",
       "      <td>₹299</td>\n",
       "      <td>Mirrored, UV Protection, Riding Glasses, Other...</td>\n",
       "      <td>78% off</td>\n",
       "    </tr>\n",
       "    <tr>\n",
       "      <th>17</th>\n",
       "      <td>ROZZETTA CRAFT</td>\n",
       "      <td>₹474</td>\n",
       "      <td>Polarized, Riding Glasses Sports, Wrap-around ...</td>\n",
       "      <td>76% off</td>\n",
       "    </tr>\n",
       "    <tr>\n",
       "      <th>18</th>\n",
       "      <td>kingsunglasses</td>\n",
       "      <td>₹209</td>\n",
       "      <td>UV Protection, Riding Glasses, Mirrored Wayfar...</td>\n",
       "      <td>82% off</td>\n",
       "    </tr>\n",
       "    <tr>\n",
       "      <th>19</th>\n",
       "      <td>Singco India</td>\n",
       "      <td>₹329</td>\n",
       "      <td>Riding Glasses, UV Protection Clubmaster, Wayf...</td>\n",
       "      <td>83% off</td>\n",
       "    </tr>\n",
       "    <tr>\n",
       "      <th>20</th>\n",
       "      <td>Lee Topper</td>\n",
       "      <td>₹219</td>\n",
       "      <td>UV Protection Rectangular Sunglasses (Free Size)</td>\n",
       "      <td>78% off</td>\n",
       "    </tr>\n",
       "    <tr>\n",
       "      <th>21</th>\n",
       "      <td>Fastrack</td>\n",
       "      <td>₹809</td>\n",
       "      <td>UV Protection Shield Sunglasses (Free Size)</td>\n",
       "      <td>10% off</td>\n",
       "    </tr>\n",
       "    <tr>\n",
       "      <th>22</th>\n",
       "      <td>PIRASO</td>\n",
       "      <td>₹349</td>\n",
       "      <td>UV Protection Aviator Sunglasses (58)</td>\n",
       "      <td>86% off</td>\n",
       "    </tr>\n",
       "    <tr>\n",
       "      <th>23</th>\n",
       "      <td>maxa</td>\n",
       "      <td>₹189</td>\n",
       "      <td>UV Protection, Riding Glasses Rectangular, Way...</td>\n",
       "      <td>72% off</td>\n",
       "    </tr>\n",
       "    <tr>\n",
       "      <th>24</th>\n",
       "      <td>New Specs</td>\n",
       "      <td>₹329</td>\n",
       "      <td>UV Protection, Mirrored Round Sunglasses (Free...</td>\n",
       "      <td>83% off</td>\n",
       "    </tr>\n",
       "    <tr>\n",
       "      <th>25</th>\n",
       "      <td>SUNBEE</td>\n",
       "      <td>₹259</td>\n",
       "      <td>UV Protection, Polarized, Mirrored Retro Squar...</td>\n",
       "      <td>80% off</td>\n",
       "    </tr>\n",
       "    <tr>\n",
       "      <th>26</th>\n",
       "      <td>Fastrack</td>\n",
       "      <td>₹639</td>\n",
       "      <td>UV Protection Wayfarer Sunglasses (Free Size)</td>\n",
       "      <td>20% off</td>\n",
       "    </tr>\n",
       "    <tr>\n",
       "      <th>27</th>\n",
       "      <td>DEIXELS</td>\n",
       "      <td>₹217</td>\n",
       "      <td>UV Protection Aviator, Wayfarer Sunglasses (Fr...</td>\n",
       "      <td>81% off</td>\n",
       "    </tr>\n",
       "    <tr>\n",
       "      <th>28</th>\n",
       "      <td>Elligator</td>\n",
       "      <td>₹333</td>\n",
       "      <td>UV Protection Aviator Sunglasses (55)</td>\n",
       "      <td>83% off</td>\n",
       "    </tr>\n",
       "    <tr>\n",
       "      <th>29</th>\n",
       "      <td>ROZZETTA CRAFT</td>\n",
       "      <td>₹349</td>\n",
       "      <td>UV Protection, Gradient Retro Square Sunglasse...</td>\n",
       "      <td>82% off</td>\n",
       "    </tr>\n",
       "    <tr>\n",
       "      <th>30</th>\n",
       "      <td>Fastrack</td>\n",
       "      <td>₹575</td>\n",
       "      <td>Gradient, UV Protection Wayfarer Sunglasses (F...</td>\n",
       "      <td>28% off</td>\n",
       "    </tr>\n",
       "    <tr>\n",
       "      <th>31</th>\n",
       "      <td>kingscape</td>\n",
       "      <td>₹137</td>\n",
       "      <td>UV Protection Rectangular Sunglasses (Free Size)</td>\n",
       "      <td>86% off</td>\n",
       "    </tr>\n",
       "    <tr>\n",
       "      <th>32</th>\n",
       "      <td>SRPM</td>\n",
       "      <td>₹249</td>\n",
       "      <td>UV Protection Wayfarer Sunglasses (50)</td>\n",
       "      <td>80% off</td>\n",
       "    </tr>\n",
       "    <tr>\n",
       "      <th>33</th>\n",
       "      <td>New Specs</td>\n",
       "      <td>₹264</td>\n",
       "      <td>UV Protection Round Sunglasses (Free Size)</td>\n",
       "      <td>79% off</td>\n",
       "    </tr>\n",
       "    <tr>\n",
       "      <th>34</th>\n",
       "      <td>ROYAL SON</td>\n",
       "      <td>₹399</td>\n",
       "      <td>Mirrored Aviator Sunglasses (Free Size)</td>\n",
       "      <td>73% off</td>\n",
       "    </tr>\n",
       "    <tr>\n",
       "      <th>35</th>\n",
       "      <td>Fastrack</td>\n",
       "      <td>₹639</td>\n",
       "      <td>UV Protection Aviator Sunglasses (Free Size)</td>\n",
       "      <td>20% off</td>\n",
       "    </tr>\n",
       "    <tr>\n",
       "      <th>36</th>\n",
       "      <td>kingsunglasses</td>\n",
       "      <td>₹216</td>\n",
       "      <td>UV Protection Round Sunglasses (54)</td>\n",
       "      <td>80% off</td>\n",
       "    </tr>\n",
       "    <tr>\n",
       "      <th>37</th>\n",
       "      <td>GANSTA</td>\n",
       "      <td>₹284</td>\n",
       "      <td>UV Protection Aviator Sunglasses (57)</td>\n",
       "      <td>85% off</td>\n",
       "    </tr>\n",
       "    <tr>\n",
       "      <th>38</th>\n",
       "      <td>AISLIN</td>\n",
       "      <td>₹498</td>\n",
       "      <td>UV Protection, Gradient Round, Cat-eye Sunglas...</td>\n",
       "      <td>70% off</td>\n",
       "    </tr>\n",
       "    <tr>\n",
       "      <th>39</th>\n",
       "      <td>ROZZETTA CRAFT</td>\n",
       "      <td>₹379</td>\n",
       "      <td>UV Protection, Gradient Rectangular Sunglasses...</td>\n",
       "      <td>81% off</td>\n",
       "    </tr>\n",
       "  </tbody>\n",
       "</table>\n",
       "</div>"
      ],
      "text/plain": [
       "               Brands Price  \\\n",
       "0           Elligator  ₹295   \n",
       "1              PIRASO  ₹249   \n",
       "2           Elligator  ₹224   \n",
       "3              SUNBEE  ₹283   \n",
       "4            DAHAAZIL  ₹219   \n",
       "5   SHAAH COLLECTIONS  ₹195   \n",
       "6            Fastrack  ₹647   \n",
       "7           New Specs  ₹265   \n",
       "8              PIRASO  ₹225   \n",
       "9            Fastrack  ₹719   \n",
       "10           Fastrack  ₹639   \n",
       "11         Lee Topper  ₹299   \n",
       "12               hipe  ₹177   \n",
       "13             PIRASO  ₹224   \n",
       "14             PIRASO  ₹224   \n",
       "15             PIRASO  ₹280   \n",
       "16          New Specs  ₹299   \n",
       "17     ROZZETTA CRAFT  ₹474   \n",
       "18     kingsunglasses  ₹209   \n",
       "19       Singco India  ₹329   \n",
       "20         Lee Topper  ₹219   \n",
       "21           Fastrack  ₹809   \n",
       "22             PIRASO  ₹349   \n",
       "23               maxa  ₹189   \n",
       "24          New Specs  ₹329   \n",
       "25             SUNBEE  ₹259   \n",
       "26           Fastrack  ₹639   \n",
       "27            DEIXELS  ₹217   \n",
       "28          Elligator  ₹333   \n",
       "29     ROZZETTA CRAFT  ₹349   \n",
       "30           Fastrack  ₹575   \n",
       "31          kingscape  ₹137   \n",
       "32               SRPM  ₹249   \n",
       "33          New Specs  ₹264   \n",
       "34          ROYAL SON  ₹399   \n",
       "35           Fastrack  ₹639   \n",
       "36     kingsunglasses  ₹216   \n",
       "37             GANSTA  ₹284   \n",
       "38             AISLIN  ₹498   \n",
       "39     ROZZETTA CRAFT  ₹379   \n",
       "\n",
       "                                  Product_Description Discounts  \n",
       "0                 UV Protection Round Sunglasses (54)   88% off  \n",
       "1               UV Protection Aviator Sunglasses (54)   84% off  \n",
       "2              UV Protection Wayfarer Sunglasses (53)   82% off  \n",
       "3   UV Protection, Polarized Wayfarer Sunglasses (...   78% off  \n",
       "4   UV Protection, Night Vision, Riding Glasses Wa...   78% off  \n",
       "5   UV Protection, Polarized, Mirrored Rectangular...   88% off  \n",
       "6       UV Protection Wayfarer Sunglasses (Free Size)   28% off  \n",
       "7    UV Protection Rectangular Sunglasses (Free Size)   86% off  \n",
       "8              UV Protection Wayfarer Sunglasses (32)   85% off  \n",
       "9       UV Protection Wayfarer Sunglasses (Free Size)   20% off  \n",
       "10   UV Protection Rectangular Sunglasses (Free Size)   20% off  \n",
       "11  Riding Glasses Wrap-around Sunglasses (Free Size)   88% off  \n",
       "12  Gradient, UV Protection Round Sunglasses (Free...   86% off  \n",
       "13              UV Protection Aviator Sunglasses (54)   85% off  \n",
       "14              UV Protection Aviator Sunglasses (54)   85% off  \n",
       "15          UV Protection Rectangular Sunglasses (52)   89% off  \n",
       "16  Mirrored, UV Protection, Riding Glasses, Other...   78% off  \n",
       "17  Polarized, Riding Glasses Sports, Wrap-around ...   76% off  \n",
       "18  UV Protection, Riding Glasses, Mirrored Wayfar...   82% off  \n",
       "19  Riding Glasses, UV Protection Clubmaster, Wayf...   83% off  \n",
       "20   UV Protection Rectangular Sunglasses (Free Size)   78% off  \n",
       "21        UV Protection Shield Sunglasses (Free Size)   10% off  \n",
       "22              UV Protection Aviator Sunglasses (58)   86% off  \n",
       "23  UV Protection, Riding Glasses Rectangular, Way...   72% off  \n",
       "24  UV Protection, Mirrored Round Sunglasses (Free...   83% off  \n",
       "25  UV Protection, Polarized, Mirrored Retro Squar...   80% off  \n",
       "26      UV Protection Wayfarer Sunglasses (Free Size)   20% off  \n",
       "27  UV Protection Aviator, Wayfarer Sunglasses (Fr...   81% off  \n",
       "28              UV Protection Aviator Sunglasses (55)   83% off  \n",
       "29  UV Protection, Gradient Retro Square Sunglasse...   82% off  \n",
       "30  Gradient, UV Protection Wayfarer Sunglasses (F...   28% off  \n",
       "31   UV Protection Rectangular Sunglasses (Free Size)   86% off  \n",
       "32             UV Protection Wayfarer Sunglasses (50)   80% off  \n",
       "33         UV Protection Round Sunglasses (Free Size)   79% off  \n",
       "34            Mirrored Aviator Sunglasses (Free Size)   73% off  \n",
       "35       UV Protection Aviator Sunglasses (Free Size)   20% off  \n",
       "36                UV Protection Round Sunglasses (54)   80% off  \n",
       "37              UV Protection Aviator Sunglasses (57)   85% off  \n",
       "38  UV Protection, Gradient Round, Cat-eye Sunglas...   70% off  \n",
       "39  UV Protection, Gradient Rectangular Sunglasses...   81% off  "
      ]
     },
     "execution_count": 64,
     "metadata": {},
     "output_type": "execute_result"
    }
   ],
   "source": [
    "import pandas as pd\n",
    "jobs=pd.DataFrame({})\n",
    "jobs['Brands']=Brands\n",
    "jobs['Price']=Price\n",
    "jobs['Product_Description']=Product_Description\n",
    "jobs['Discounts']=Discount\n",
    "jobs[0:40]"
   ]
  },
  {
   "cell_type": "code",
   "execution_count": 66,
   "id": "0b32196f",
   "metadata": {},
   "outputs": [],
   "source": [
    "search_button=driver.find_element_by_xpath(\"/html/body/div/div/div[3]/div[1]/div[2]/div[12]/div/div/nav/a[11]/span\")\n",
    "search_button.click()"
   ]
  },
  {
   "cell_type": "code",
   "execution_count": 67,
   "id": "f227d95a",
   "metadata": {},
   "outputs": [],
   "source": [
    "Brands=[]\n",
    "Product_Description=[]\n",
    "Price=[]\n",
    "Discount=[]"
   ]
  },
  {
   "cell_type": "code",
   "execution_count": 68,
   "id": "9e4f1551",
   "metadata": {},
   "outputs": [
    {
     "data": {
      "text/plain": [
       "[<selenium.webdriver.remote.webelement.WebElement (session=\"deccf6b4044ace42b5d79a0352bfcee2\", element=\"b44868a4-0004-40ca-bab6-080aa398cfe5\")>,\n",
       " <selenium.webdriver.remote.webelement.WebElement (session=\"deccf6b4044ace42b5d79a0352bfcee2\", element=\"b8536713-7f49-48a2-80e2-9e863312cb1a\")>,\n",
       " <selenium.webdriver.remote.webelement.WebElement (session=\"deccf6b4044ace42b5d79a0352bfcee2\", element=\"8550639b-d8f3-4c72-b741-8717e698a06a\")>,\n",
       " <selenium.webdriver.remote.webelement.WebElement (session=\"deccf6b4044ace42b5d79a0352bfcee2\", element=\"5bed4471-d7b4-4e1f-a22e-3aa70ed741b2\")>]"
      ]
     },
     "execution_count": 68,
     "metadata": {},
     "output_type": "execute_result"
    }
   ],
   "source": [
    "Brand_tags=driver.find_elements_by_xpath(\"//div[starts-with (@class,'_2WkVRV')]\")\n",
    "Brand_tags[0:4]"
   ]
  },
  {
   "cell_type": "code",
   "execution_count": 69,
   "id": "3708e266",
   "metadata": {},
   "outputs": [
    {
     "data": {
      "text/plain": [
       "['kingsunglasses', 'HIPPON', 'kingsunglasses', 'ROZZETTA CRAFT']"
      ]
     },
     "execution_count": 69,
     "metadata": {},
     "output_type": "execute_result"
    }
   ],
   "source": [
    "for i in Brand_tags:\n",
    "    Brand=i.text\n",
    "    Brands.append(Brand)\n",
    "Brands[0:4]"
   ]
  },
  {
   "cell_type": "code",
   "execution_count": 70,
   "id": "2e1f9344",
   "metadata": {},
   "outputs": [
    {
     "data": {
      "text/plain": [
       "[<selenium.webdriver.remote.webelement.WebElement (session=\"deccf6b4044ace42b5d79a0352bfcee2\", element=\"fd907a94-a545-489c-84af-a3920d913c30\")>,\n",
       " <selenium.webdriver.remote.webelement.WebElement (session=\"deccf6b4044ace42b5d79a0352bfcee2\", element=\"46f0dd43-3756-47c3-afa0-4b7d4addf9b0\")>,\n",
       " <selenium.webdriver.remote.webelement.WebElement (session=\"deccf6b4044ace42b5d79a0352bfcee2\", element=\"94b7d9f7-409d-4e8c-ae67-a396ee2522ba\")>,\n",
       " <selenium.webdriver.remote.webelement.WebElement (session=\"deccf6b4044ace42b5d79a0352bfcee2\", element=\"98f1ab6a-b684-4909-940c-119304736e5c\")>]"
      ]
     },
     "execution_count": 70,
     "metadata": {},
     "output_type": "execute_result"
    }
   ],
   "source": [
    "Price_tags=driver.find_elements_by_xpath(\"//div[@class='_30jeq3']\")\n",
    "Price_tags[0:4]"
   ]
  },
  {
   "cell_type": "code",
   "execution_count": 71,
   "id": "1c459c23",
   "metadata": {},
   "outputs": [
    {
     "data": {
      "text/plain": [
       "['₹269', '₹171', '₹329', '₹499']"
      ]
     },
     "execution_count": 71,
     "metadata": {},
     "output_type": "execute_result"
    }
   ],
   "source": [
    "for i in Price_tags:\n",
    "    Prices=i.text\n",
    "    Price.append(Prices)\n",
    "Price[0:4]"
   ]
  },
  {
   "cell_type": "code",
   "execution_count": 72,
   "id": "44a3c06a",
   "metadata": {},
   "outputs": [
    {
     "data": {
      "text/plain": [
       "[<selenium.webdriver.remote.webelement.WebElement (session=\"deccf6b4044ace42b5d79a0352bfcee2\", element=\"3ce3336e-9dda-4a5e-a117-2fc50ac3086c\")>,\n",
       " <selenium.webdriver.remote.webelement.WebElement (session=\"deccf6b4044ace42b5d79a0352bfcee2\", element=\"7d8bbd82-da2e-41bd-b666-e476af710a86\")>,\n",
       " <selenium.webdriver.remote.webelement.WebElement (session=\"deccf6b4044ace42b5d79a0352bfcee2\", element=\"f9bef702-0533-491d-b89a-27e13f5490b6\")>,\n",
       " <selenium.webdriver.remote.webelement.WebElement (session=\"deccf6b4044ace42b5d79a0352bfcee2\", element=\"7c98f364-89d3-4309-8c1f-4962657041fa\")>]"
      ]
     },
     "execution_count": 72,
     "metadata": {},
     "output_type": "execute_result"
    }
   ],
   "source": [
    "Product_tags=driver.find_elements_by_xpath(\"//a[@class='IRpwTa']\")\n",
    "Product_tags[0:4]"
   ]
  },
  {
   "cell_type": "code",
   "execution_count": 73,
   "id": "8e873ed2",
   "metadata": {},
   "outputs": [
    {
     "data": {
      "text/plain": [
       "['Mirrored, UV Protection Wayfarer Sunglasses (Free Size)',\n",
       " 'UV Protection Wayfarer Sunglasses (55)',\n",
       " 'UV Protection Round Sunglasses (Free Size)',\n",
       " 'UV Protection Retro Square Sunglasses (Free Size)']"
      ]
     },
     "execution_count": 73,
     "metadata": {},
     "output_type": "execute_result"
    }
   ],
   "source": [
    "for i in Product_tags:\n",
    "    Description=i.text\n",
    "    Product_Description.append(Description)\n",
    "Product_Description[0:4]"
   ]
  },
  {
   "cell_type": "code",
   "execution_count": 74,
   "id": "5a12abb0",
   "metadata": {},
   "outputs": [
    {
     "data": {
      "text/plain": [
       "[<selenium.webdriver.remote.webelement.WebElement (session=\"deccf6b4044ace42b5d79a0352bfcee2\", element=\"2a202063-1c97-414e-ac4c-804e1bc9713b\")>,\n",
       " <selenium.webdriver.remote.webelement.WebElement (session=\"deccf6b4044ace42b5d79a0352bfcee2\", element=\"f451d71e-aff8-4f93-9bc4-c945b6837960\")>,\n",
       " <selenium.webdriver.remote.webelement.WebElement (session=\"deccf6b4044ace42b5d79a0352bfcee2\", element=\"4dc8281d-110c-4e18-9bd7-8581cc4cbe35\")>,\n",
       " <selenium.webdriver.remote.webelement.WebElement (session=\"deccf6b4044ace42b5d79a0352bfcee2\", element=\"d308922c-e1e8-42cb-9c79-797273325aeb\")>]"
      ]
     },
     "execution_count": 74,
     "metadata": {},
     "output_type": "execute_result"
    }
   ],
   "source": [
    "Discount_tags=driver.find_elements_by_xpath(\"//div[@class='_3Ay6Sb']\")\n",
    "Discount_tags[0:4]"
   ]
  },
  {
   "cell_type": "code",
   "execution_count": 75,
   "id": "2fb8d2a7",
   "metadata": {},
   "outputs": [
    {
     "data": {
      "text/plain": [
       "['82% off', '82% off', '79% off', '77% off']"
      ]
     },
     "execution_count": 75,
     "metadata": {},
     "output_type": "execute_result"
    }
   ],
   "source": [
    "for i in Discount_tags:\n",
    "    Discounts=i.text\n",
    "    Discount.append(Discounts)\n",
    "Discount[0:4]"
   ]
  },
  {
   "cell_type": "code",
   "execution_count": 76,
   "id": "fca7786a",
   "metadata": {},
   "outputs": [
    {
     "name": "stdout",
     "output_type": "stream",
     "text": [
      "40 40 40 40\n"
     ]
    }
   ],
   "source": [
    "print(len(Brands),len(Price),len(Product_Description),len(Discount))"
   ]
  },
  {
   "cell_type": "code",
   "execution_count": 77,
   "id": "d1d52fb3",
   "metadata": {},
   "outputs": [
    {
     "data": {
      "text/html": [
       "<div>\n",
       "<style scoped>\n",
       "    .dataframe tbody tr th:only-of-type {\n",
       "        vertical-align: middle;\n",
       "    }\n",
       "\n",
       "    .dataframe tbody tr th {\n",
       "        vertical-align: top;\n",
       "    }\n",
       "\n",
       "    .dataframe thead th {\n",
       "        text-align: right;\n",
       "    }\n",
       "</style>\n",
       "<table border=\"1\" class=\"dataframe\">\n",
       "  <thead>\n",
       "    <tr style=\"text-align: right;\">\n",
       "      <th></th>\n",
       "      <th>Brands</th>\n",
       "      <th>Price</th>\n",
       "      <th>Product_Description</th>\n",
       "      <th>Discounts</th>\n",
       "    </tr>\n",
       "  </thead>\n",
       "  <tbody>\n",
       "    <tr>\n",
       "      <th>0</th>\n",
       "      <td>kingsunglasses</td>\n",
       "      <td>₹269</td>\n",
       "      <td>Mirrored, UV Protection Wayfarer Sunglasses (F...</td>\n",
       "      <td>82% off</td>\n",
       "    </tr>\n",
       "    <tr>\n",
       "      <th>1</th>\n",
       "      <td>HIPPON</td>\n",
       "      <td>₹171</td>\n",
       "      <td>UV Protection Wayfarer Sunglasses (55)</td>\n",
       "      <td>82% off</td>\n",
       "    </tr>\n",
       "    <tr>\n",
       "      <th>2</th>\n",
       "      <td>kingsunglasses</td>\n",
       "      <td>₹329</td>\n",
       "      <td>UV Protection Round Sunglasses (Free Size)</td>\n",
       "      <td>79% off</td>\n",
       "    </tr>\n",
       "    <tr>\n",
       "      <th>3</th>\n",
       "      <td>ROZZETTA CRAFT</td>\n",
       "      <td>₹499</td>\n",
       "      <td>UV Protection Retro Square Sunglasses (Free Size)</td>\n",
       "      <td>77% off</td>\n",
       "    </tr>\n",
       "    <tr>\n",
       "      <th>4</th>\n",
       "      <td>New Specs</td>\n",
       "      <td>₹189</td>\n",
       "      <td>UV Protection Rectangular Sunglasses (Free Size)</td>\n",
       "      <td>88% off</td>\n",
       "    </tr>\n",
       "    <tr>\n",
       "      <th>5</th>\n",
       "      <td>Rich Club</td>\n",
       "      <td>₹260</td>\n",
       "      <td>UV Protection Round Sunglasses (48)</td>\n",
       "      <td>67% off</td>\n",
       "    </tr>\n",
       "    <tr>\n",
       "      <th>6</th>\n",
       "      <td>Silver Kartz</td>\n",
       "      <td>₹288</td>\n",
       "      <td>UV Protection Wayfarer Sunglasses (Free Size)</td>\n",
       "      <td>80% off</td>\n",
       "    </tr>\n",
       "    <tr>\n",
       "      <th>7</th>\n",
       "      <td>Fastrack</td>\n",
       "      <td>₹647</td>\n",
       "      <td>Gradient, UV Protection Wayfarer Sunglasses (F...</td>\n",
       "      <td>28% off</td>\n",
       "    </tr>\n",
       "    <tr>\n",
       "      <th>8</th>\n",
       "      <td>Lee Topper</td>\n",
       "      <td>₹276</td>\n",
       "      <td>Riding Glasses, Night Vision Wrap-around Sungl...</td>\n",
       "      <td>88% off</td>\n",
       "    </tr>\n",
       "    <tr>\n",
       "      <th>9</th>\n",
       "      <td>kingsunglasses</td>\n",
       "      <td>₹189</td>\n",
       "      <td>UV Protection Rectangular Sunglasses (55)</td>\n",
       "      <td>85% off</td>\n",
       "    </tr>\n",
       "    <tr>\n",
       "      <th>10</th>\n",
       "      <td>PIRASO</td>\n",
       "      <td>₹410</td>\n",
       "      <td>UV Protection Over-sized Sunglasses (65)</td>\n",
       "      <td>84% off</td>\n",
       "    </tr>\n",
       "    <tr>\n",
       "      <th>11</th>\n",
       "      <td>SRPM</td>\n",
       "      <td>₹221</td>\n",
       "      <td>UV Protection Wayfarer Sunglasses (53)</td>\n",
       "      <td>77% off</td>\n",
       "    </tr>\n",
       "    <tr>\n",
       "      <th>12</th>\n",
       "      <td>VINCENT CHASE</td>\n",
       "      <td>₹659</td>\n",
       "      <td>UV Protection Wayfarer Sunglasses (62)</td>\n",
       "      <td>67% off</td>\n",
       "    </tr>\n",
       "    <tr>\n",
       "      <th>13</th>\n",
       "      <td>VINCENT CHASE</td>\n",
       "      <td>₹729</td>\n",
       "      <td>by Lenskart Polarized, UV Protection Wayfarer ...</td>\n",
       "      <td>70% off</td>\n",
       "    </tr>\n",
       "    <tr>\n",
       "      <th>14</th>\n",
       "      <td>Rich Club</td>\n",
       "      <td>₹223</td>\n",
       "      <td>UV Protection, Mirrored, Gradient Round Sungla...</td>\n",
       "      <td>72% off</td>\n",
       "    </tr>\n",
       "    <tr>\n",
       "      <th>15</th>\n",
       "      <td>PIRASO</td>\n",
       "      <td>₹349</td>\n",
       "      <td>UV Protection Aviator Sunglasses (Free Size)</td>\n",
       "      <td>78% off</td>\n",
       "    </tr>\n",
       "    <tr>\n",
       "      <th>16</th>\n",
       "      <td>PHENOMENAL</td>\n",
       "      <td>₹353</td>\n",
       "      <td>UV Protection, Mirrored Retro Square Sunglasse...</td>\n",
       "      <td>82% off</td>\n",
       "    </tr>\n",
       "    <tr>\n",
       "      <th>17</th>\n",
       "      <td>AISLIN</td>\n",
       "      <td>₹498</td>\n",
       "      <td>UV Protection, Gradient Butterfly, Retro Squar...</td>\n",
       "      <td>67% off</td>\n",
       "    </tr>\n",
       "    <tr>\n",
       "      <th>18</th>\n",
       "      <td>Fastrack</td>\n",
       "      <td>₹699</td>\n",
       "      <td>UV Protection Aviator Sunglasses (Free Size)</td>\n",
       "      <td>22% off</td>\n",
       "    </tr>\n",
       "    <tr>\n",
       "      <th>19</th>\n",
       "      <td>ROYAL SON</td>\n",
       "      <td>₹399</td>\n",
       "      <td>Mirrored Aviator Sunglasses (55)</td>\n",
       "      <td>73% off</td>\n",
       "    </tr>\n",
       "    <tr>\n",
       "      <th>20</th>\n",
       "      <td>PHENOMENAL</td>\n",
       "      <td>₹361</td>\n",
       "      <td>UV Protection Retro Square Sunglasses (Free Size)</td>\n",
       "      <td>81% off</td>\n",
       "    </tr>\n",
       "    <tr>\n",
       "      <th>21</th>\n",
       "      <td>Fastrack</td>\n",
       "      <td>₹639</td>\n",
       "      <td>UV Protection Wayfarer Sunglasses (Free Size)</td>\n",
       "      <td>20% off</td>\n",
       "    </tr>\n",
       "    <tr>\n",
       "      <th>22</th>\n",
       "      <td>AISLIN</td>\n",
       "      <td>₹775</td>\n",
       "      <td>Toughened Glass Lens, UV Protection Wayfarer, ...</td>\n",
       "      <td>79% off</td>\n",
       "    </tr>\n",
       "    <tr>\n",
       "      <th>23</th>\n",
       "      <td>hipe</td>\n",
       "      <td>₹233</td>\n",
       "      <td>Mirrored Wayfarer Sunglasses (55)</td>\n",
       "      <td>76% off</td>\n",
       "    </tr>\n",
       "    <tr>\n",
       "      <th>24</th>\n",
       "      <td>Elligator</td>\n",
       "      <td>₹244</td>\n",
       "      <td>UV Protection Round Sunglasses (53)</td>\n",
       "      <td>75% off</td>\n",
       "    </tr>\n",
       "    <tr>\n",
       "      <th>25</th>\n",
       "      <td>ROZZETTA CRAFT</td>\n",
       "      <td>₹404</td>\n",
       "      <td>UV Protection, Riding Glasses Rectangular Sung...</td>\n",
       "      <td>81% off</td>\n",
       "    </tr>\n",
       "    <tr>\n",
       "      <th>26</th>\n",
       "      <td>NuVew</td>\n",
       "      <td>₹345</td>\n",
       "      <td>UV Protection Sports Sunglasses (62)</td>\n",
       "      <td>72% off</td>\n",
       "    </tr>\n",
       "    <tr>\n",
       "      <th>27</th>\n",
       "      <td>hipe</td>\n",
       "      <td>₹170</td>\n",
       "      <td>UV Protection, Night Vision, Riding Glasses, G...</td>\n",
       "      <td>86% off</td>\n",
       "    </tr>\n",
       "    <tr>\n",
       "      <th>28</th>\n",
       "      <td>Fastrack</td>\n",
       "      <td>₹1,099</td>\n",
       "      <td>UV Protection Aviator Sunglasses (58)</td>\n",
       "      <td>15% off</td>\n",
       "    </tr>\n",
       "    <tr>\n",
       "      <th>29</th>\n",
       "      <td>Mi</td>\n",
       "      <td>₹908</td>\n",
       "      <td>Polarized Aviator Sunglasses (Free Size)</td>\n",
       "      <td>24% off</td>\n",
       "    </tr>\n",
       "    <tr>\n",
       "      <th>30</th>\n",
       "      <td>Lee Topper</td>\n",
       "      <td>₹281</td>\n",
       "      <td>UV Protection Cat-eye Sunglasses (Free Size)</td>\n",
       "      <td>78% off</td>\n",
       "    </tr>\n",
       "    <tr>\n",
       "      <th>31</th>\n",
       "      <td>ROYAL SON</td>\n",
       "      <td>₹499</td>\n",
       "      <td>UV Protection Rectangular, Retro Square Sungla...</td>\n",
       "      <td>66% off</td>\n",
       "    </tr>\n",
       "    <tr>\n",
       "      <th>32</th>\n",
       "      <td>elegante</td>\n",
       "      <td>₹499</td>\n",
       "      <td>Polarized, Riding Glasses, Night Vision Sports...</td>\n",
       "      <td>78% off</td>\n",
       "    </tr>\n",
       "    <tr>\n",
       "      <th>33</th>\n",
       "      <td>Singco India</td>\n",
       "      <td>₹630</td>\n",
       "      <td>Gradient, Toughened Glass Lens, UV Protection ...</td>\n",
       "      <td>78% off</td>\n",
       "    </tr>\n",
       "    <tr>\n",
       "      <th>34</th>\n",
       "      <td>Fastrack</td>\n",
       "      <td>₹575</td>\n",
       "      <td>Gradient, UV Protection Wayfarer Sunglasses (F...</td>\n",
       "      <td>28% off</td>\n",
       "    </tr>\n",
       "    <tr>\n",
       "      <th>35</th>\n",
       "      <td>Ray-Ban</td>\n",
       "      <td>₹3,014</td>\n",
       "      <td>Mirrored, UV Protection Aviator Sunglasses (58)</td>\n",
       "      <td>46% off</td>\n",
       "    </tr>\n",
       "    <tr>\n",
       "      <th>36</th>\n",
       "      <td>PIRASO</td>\n",
       "      <td>₹225</td>\n",
       "      <td>UV Protection Aviator Sunglasses (54)</td>\n",
       "      <td>85% off</td>\n",
       "    </tr>\n",
       "    <tr>\n",
       "      <th>37</th>\n",
       "      <td>Fastrack</td>\n",
       "      <td>₹575</td>\n",
       "      <td>UV Protection Aviator Sunglasses (57)</td>\n",
       "      <td>28% off</td>\n",
       "    </tr>\n",
       "    <tr>\n",
       "      <th>38</th>\n",
       "      <td>CRYSTAL CART</td>\n",
       "      <td>₹419</td>\n",
       "      <td>UV Protection, Gradient Round Sunglasses (Free...</td>\n",
       "      <td>79% off</td>\n",
       "    </tr>\n",
       "    <tr>\n",
       "      <th>39</th>\n",
       "      <td>Elligator</td>\n",
       "      <td>₹366</td>\n",
       "      <td>UV Protection Retro Square, Round Sunglasses (54)</td>\n",
       "      <td>81% off</td>\n",
       "    </tr>\n",
       "  </tbody>\n",
       "</table>\n",
       "</div>"
      ],
      "text/plain": [
       "            Brands   Price                                Product_Description  \\\n",
       "0   kingsunglasses    ₹269  Mirrored, UV Protection Wayfarer Sunglasses (F...   \n",
       "1           HIPPON    ₹171             UV Protection Wayfarer Sunglasses (55)   \n",
       "2   kingsunglasses    ₹329         UV Protection Round Sunglasses (Free Size)   \n",
       "3   ROZZETTA CRAFT    ₹499  UV Protection Retro Square Sunglasses (Free Size)   \n",
       "4        New Specs    ₹189   UV Protection Rectangular Sunglasses (Free Size)   \n",
       "5        Rich Club    ₹260                UV Protection Round Sunglasses (48)   \n",
       "6     Silver Kartz    ₹288      UV Protection Wayfarer Sunglasses (Free Size)   \n",
       "7         Fastrack    ₹647  Gradient, UV Protection Wayfarer Sunglasses (F...   \n",
       "8       Lee Topper    ₹276  Riding Glasses, Night Vision Wrap-around Sungl...   \n",
       "9   kingsunglasses    ₹189          UV Protection Rectangular Sunglasses (55)   \n",
       "10          PIRASO    ₹410           UV Protection Over-sized Sunglasses (65)   \n",
       "11            SRPM    ₹221             UV Protection Wayfarer Sunglasses (53)   \n",
       "12   VINCENT CHASE    ₹659             UV Protection Wayfarer Sunglasses (62)   \n",
       "13   VINCENT CHASE    ₹729  by Lenskart Polarized, UV Protection Wayfarer ...   \n",
       "14       Rich Club    ₹223  UV Protection, Mirrored, Gradient Round Sungla...   \n",
       "15          PIRASO    ₹349       UV Protection Aviator Sunglasses (Free Size)   \n",
       "16      PHENOMENAL    ₹353  UV Protection, Mirrored Retro Square Sunglasse...   \n",
       "17          AISLIN    ₹498  UV Protection, Gradient Butterfly, Retro Squar...   \n",
       "18        Fastrack    ₹699       UV Protection Aviator Sunglasses (Free Size)   \n",
       "19       ROYAL SON    ₹399                   Mirrored Aviator Sunglasses (55)   \n",
       "20      PHENOMENAL    ₹361  UV Protection Retro Square Sunglasses (Free Size)   \n",
       "21        Fastrack    ₹639      UV Protection Wayfarer Sunglasses (Free Size)   \n",
       "22          AISLIN    ₹775  Toughened Glass Lens, UV Protection Wayfarer, ...   \n",
       "23            hipe    ₹233                  Mirrored Wayfarer Sunglasses (55)   \n",
       "24       Elligator    ₹244                UV Protection Round Sunglasses (53)   \n",
       "25  ROZZETTA CRAFT    ₹404  UV Protection, Riding Glasses Rectangular Sung...   \n",
       "26           NuVew    ₹345               UV Protection Sports Sunglasses (62)   \n",
       "27            hipe    ₹170  UV Protection, Night Vision, Riding Glasses, G...   \n",
       "28        Fastrack  ₹1,099              UV Protection Aviator Sunglasses (58)   \n",
       "29              Mi    ₹908           Polarized Aviator Sunglasses (Free Size)   \n",
       "30      Lee Topper    ₹281       UV Protection Cat-eye Sunglasses (Free Size)   \n",
       "31       ROYAL SON    ₹499  UV Protection Rectangular, Retro Square Sungla...   \n",
       "32        elegante    ₹499  Polarized, Riding Glasses, Night Vision Sports...   \n",
       "33    Singco India    ₹630  Gradient, Toughened Glass Lens, UV Protection ...   \n",
       "34        Fastrack    ₹575  Gradient, UV Protection Wayfarer Sunglasses (F...   \n",
       "35         Ray-Ban  ₹3,014    Mirrored, UV Protection Aviator Sunglasses (58)   \n",
       "36          PIRASO    ₹225              UV Protection Aviator Sunglasses (54)   \n",
       "37        Fastrack    ₹575              UV Protection Aviator Sunglasses (57)   \n",
       "38    CRYSTAL CART    ₹419  UV Protection, Gradient Round Sunglasses (Free...   \n",
       "39       Elligator    ₹366  UV Protection Retro Square, Round Sunglasses (54)   \n",
       "\n",
       "   Discounts  \n",
       "0    82% off  \n",
       "1    82% off  \n",
       "2    79% off  \n",
       "3    77% off  \n",
       "4    88% off  \n",
       "5    67% off  \n",
       "6    80% off  \n",
       "7    28% off  \n",
       "8    88% off  \n",
       "9    85% off  \n",
       "10   84% off  \n",
       "11   77% off  \n",
       "12   67% off  \n",
       "13   70% off  \n",
       "14   72% off  \n",
       "15   78% off  \n",
       "16   82% off  \n",
       "17   67% off  \n",
       "18   22% off  \n",
       "19   73% off  \n",
       "20   81% off  \n",
       "21   20% off  \n",
       "22   79% off  \n",
       "23   76% off  \n",
       "24   75% off  \n",
       "25   81% off  \n",
       "26   72% off  \n",
       "27   86% off  \n",
       "28   15% off  \n",
       "29   24% off  \n",
       "30   78% off  \n",
       "31   66% off  \n",
       "32   78% off  \n",
       "33   78% off  \n",
       "34   28% off  \n",
       "35   46% off  \n",
       "36   85% off  \n",
       "37   28% off  \n",
       "38   79% off  \n",
       "39   81% off  "
      ]
     },
     "execution_count": 77,
     "metadata": {},
     "output_type": "execute_result"
    }
   ],
   "source": [
    "import pandas as pd\n",
    "jobs=pd.DataFrame({})\n",
    "jobs['Brands']=Brands\n",
    "jobs['Price']=Price\n",
    "jobs['Product_Description']=Product_Description\n",
    "jobs['Discounts']=Discount\n",
    "jobs[0:40]"
   ]
  },
  {
   "cell_type": "code",
   "execution_count": 78,
   "id": "213ead03",
   "metadata": {},
   "outputs": [],
   "source": [
    "search_button=driver.find_element_by_xpath(\"/html/body/div[1]/div/div[3]/div[1]/div[2]/div[12]/div/div/nav/a[12]/span\")\n",
    "search_button.click()"
   ]
  },
  {
   "cell_type": "code",
   "execution_count": 79,
   "id": "bae19b2a",
   "metadata": {},
   "outputs": [],
   "source": [
    "Brands=[]\n",
    "Product_Description=[]\n",
    "Price=[]\n",
    "Discount=[]"
   ]
  },
  {
   "cell_type": "code",
   "execution_count": 80,
   "id": "cd34af07",
   "metadata": {},
   "outputs": [
    {
     "data": {
      "text/plain": [
       "[<selenium.webdriver.remote.webelement.WebElement (session=\"deccf6b4044ace42b5d79a0352bfcee2\", element=\"d71f38d5-6f4b-4471-89cb-17ad1d2159e2\")>,\n",
       " <selenium.webdriver.remote.webelement.WebElement (session=\"deccf6b4044ace42b5d79a0352bfcee2\", element=\"988361c9-9361-4141-99ad-a3fca86579bc\")>,\n",
       " <selenium.webdriver.remote.webelement.WebElement (session=\"deccf6b4044ace42b5d79a0352bfcee2\", element=\"37032bed-548c-409a-8a9e-21753a44cd16\")>,\n",
       " <selenium.webdriver.remote.webelement.WebElement (session=\"deccf6b4044ace42b5d79a0352bfcee2\", element=\"4e416344-0062-42c1-9a5d-8db7bf206bd1\")>]"
      ]
     },
     "execution_count": 80,
     "metadata": {},
     "output_type": "execute_result"
    }
   ],
   "source": [
    "Brand_tags=driver.find_elements_by_xpath(\"//div[starts-with (@class,'_2WkVRV')]\")\n",
    "Brand_tags[0:4]"
   ]
  },
  {
   "cell_type": "code",
   "execution_count": 81,
   "id": "c81437af",
   "metadata": {},
   "outputs": [
    {
     "data": {
      "text/plain": [
       "['PHENOMENAL', 'Singco India', 'Fastrack', 'Rich Club']"
      ]
     },
     "execution_count": 81,
     "metadata": {},
     "output_type": "execute_result"
    }
   ],
   "source": [
    "for i in Brand_tags:\n",
    "    Brand=i.text\n",
    "    Brands.append(Brand)\n",
    "Brands[0:4]"
   ]
  },
  {
   "cell_type": "code",
   "execution_count": 82,
   "id": "808aeb77",
   "metadata": {},
   "outputs": [
    {
     "data": {
      "text/plain": [
       "[<selenium.webdriver.remote.webelement.WebElement (session=\"deccf6b4044ace42b5d79a0352bfcee2\", element=\"ab507953-d138-429e-958a-c25aea8ddf50\")>,\n",
       " <selenium.webdriver.remote.webelement.WebElement (session=\"deccf6b4044ace42b5d79a0352bfcee2\", element=\"921fc0a3-ad31-48c7-ad78-fe8ca1eba9c8\")>,\n",
       " <selenium.webdriver.remote.webelement.WebElement (session=\"deccf6b4044ace42b5d79a0352bfcee2\", element=\"a624f55a-f506-4be3-9804-059df479181a\")>,\n",
       " <selenium.webdriver.remote.webelement.WebElement (session=\"deccf6b4044ace42b5d79a0352bfcee2\", element=\"06e1d7f6-7239-4b97-9d04-846d82665064\")>]"
      ]
     },
     "execution_count": 82,
     "metadata": {},
     "output_type": "execute_result"
    }
   ],
   "source": [
    "Price_tags=driver.find_elements_by_xpath(\"//div[@class='_30jeq3']\")\n",
    "Price_tags[0:4]"
   ]
  },
  {
   "cell_type": "code",
   "execution_count": 83,
   "id": "52dff79c",
   "metadata": {},
   "outputs": [
    {
     "data": {
      "text/plain": [
       "['₹353', '₹245', '₹719', '₹199']"
      ]
     },
     "execution_count": 83,
     "metadata": {},
     "output_type": "execute_result"
    }
   ],
   "source": [
    "for i in Price_tags:\n",
    "    Prices=i.text\n",
    "    Price.append(Prices)\n",
    "Price[0:4]"
   ]
  },
  {
   "cell_type": "code",
   "execution_count": 84,
   "id": "9d0eda38",
   "metadata": {},
   "outputs": [
    {
     "data": {
      "text/plain": [
       "[<selenium.webdriver.remote.webelement.WebElement (session=\"deccf6b4044ace42b5d79a0352bfcee2\", element=\"0b07586b-0007-4f52-8f20-5bcf1c30e908\")>,\n",
       " <selenium.webdriver.remote.webelement.WebElement (session=\"deccf6b4044ace42b5d79a0352bfcee2\", element=\"ffdcac60-ecad-4049-b9a4-63d578221dc2\")>,\n",
       " <selenium.webdriver.remote.webelement.WebElement (session=\"deccf6b4044ace42b5d79a0352bfcee2\", element=\"9c21cbc3-3840-4934-b5c4-1fa12cb1194b\")>,\n",
       " <selenium.webdriver.remote.webelement.WebElement (session=\"deccf6b4044ace42b5d79a0352bfcee2\", element=\"65066f66-bbe2-4e65-8e93-556825c83d6d\")>]"
      ]
     },
     "execution_count": 84,
     "metadata": {},
     "output_type": "execute_result"
    }
   ],
   "source": [
    "Product_tags=driver.find_elements_by_xpath(\"//a[@class='IRpwTa']\")\n",
    "Product_tags[0:4]"
   ]
  },
  {
   "cell_type": "code",
   "execution_count": 85,
   "id": "10034ed4",
   "metadata": {},
   "outputs": [
    {
     "data": {
      "text/plain": [
       "['UV Protection, Mirrored Clubmaster Sunglasses (Free Siz...',\n",
       " 'Riding Glasses, UV Protection, Others Aviator Sunglasse...',\n",
       " 'UV Protection Shield Sunglasses (Free Size)',\n",
       " 'Polarized Round Sunglasses (48)']"
      ]
     },
     "execution_count": 85,
     "metadata": {},
     "output_type": "execute_result"
    }
   ],
   "source": [
    "for i in Product_tags:\n",
    "    Description=i.text\n",
    "    Product_Description.append(Description)\n",
    "Product_Description[0:4]"
   ]
  },
  {
   "cell_type": "code",
   "execution_count": 86,
   "id": "d3e58ac9",
   "metadata": {},
   "outputs": [
    {
     "data": {
      "text/plain": [
       "[<selenium.webdriver.remote.webelement.WebElement (session=\"deccf6b4044ace42b5d79a0352bfcee2\", element=\"a0161ea1-ad60-4f67-b017-2fa232a5e5f7\")>,\n",
       " <selenium.webdriver.remote.webelement.WebElement (session=\"deccf6b4044ace42b5d79a0352bfcee2\", element=\"17ddd959-f1df-4ca9-97cc-b574881d060f\")>,\n",
       " <selenium.webdriver.remote.webelement.WebElement (session=\"deccf6b4044ace42b5d79a0352bfcee2\", element=\"677aa697-dacd-4cdd-8d01-61271a8233f0\")>,\n",
       " <selenium.webdriver.remote.webelement.WebElement (session=\"deccf6b4044ace42b5d79a0352bfcee2\", element=\"1fdf6412-4e9b-4f69-a63b-56becc23e6ad\")>]"
      ]
     },
     "execution_count": 86,
     "metadata": {},
     "output_type": "execute_result"
    }
   ],
   "source": [
    "Discount_tags=driver.find_elements_by_xpath(\"//div[@class='_3Ay6Sb']\")\n",
    "Discount_tags[0:4]"
   ]
  },
  {
   "cell_type": "code",
   "execution_count": 87,
   "id": "bcd81b9c",
   "metadata": {},
   "outputs": [
    {
     "data": {
      "text/plain": [
       "['82% off', '83% off', '20% off', '60% off']"
      ]
     },
     "execution_count": 87,
     "metadata": {},
     "output_type": "execute_result"
    }
   ],
   "source": [
    "for i in Discount_tags:\n",
    "    Discounts=i.text\n",
    "    Discount.append(Discounts)\n",
    "Discount[0:4]"
   ]
  },
  {
   "cell_type": "code",
   "execution_count": 88,
   "id": "1324ba0f",
   "metadata": {},
   "outputs": [
    {
     "name": "stdout",
     "output_type": "stream",
     "text": [
      "40 40 40 40\n"
     ]
    }
   ],
   "source": [
    "print(len(Brands),len(Price),len(Product_Description),len(Discount))"
   ]
  },
  {
   "cell_type": "code",
   "execution_count": 89,
   "id": "2655d90b",
   "metadata": {},
   "outputs": [
    {
     "data": {
      "text/html": [
       "<div>\n",
       "<style scoped>\n",
       "    .dataframe tbody tr th:only-of-type {\n",
       "        vertical-align: middle;\n",
       "    }\n",
       "\n",
       "    .dataframe tbody tr th {\n",
       "        vertical-align: top;\n",
       "    }\n",
       "\n",
       "    .dataframe thead th {\n",
       "        text-align: right;\n",
       "    }\n",
       "</style>\n",
       "<table border=\"1\" class=\"dataframe\">\n",
       "  <thead>\n",
       "    <tr style=\"text-align: right;\">\n",
       "      <th></th>\n",
       "      <th>Brands</th>\n",
       "      <th>Price</th>\n",
       "      <th>Product_Description</th>\n",
       "      <th>Discounts</th>\n",
       "    </tr>\n",
       "  </thead>\n",
       "  <tbody>\n",
       "    <tr>\n",
       "      <th>0</th>\n",
       "      <td>PHENOMENAL</td>\n",
       "      <td>₹353</td>\n",
       "      <td>UV Protection, Mirrored Clubmaster Sunglasses ...</td>\n",
       "      <td>82% off</td>\n",
       "    </tr>\n",
       "    <tr>\n",
       "      <th>1</th>\n",
       "      <td>Singco India</td>\n",
       "      <td>₹245</td>\n",
       "      <td>Riding Glasses, UV Protection, Others Aviator ...</td>\n",
       "      <td>83% off</td>\n",
       "    </tr>\n",
       "    <tr>\n",
       "      <th>2</th>\n",
       "      <td>Fastrack</td>\n",
       "      <td>₹719</td>\n",
       "      <td>UV Protection Shield Sunglasses (Free Size)</td>\n",
       "      <td>20% off</td>\n",
       "    </tr>\n",
       "    <tr>\n",
       "      <th>3</th>\n",
       "      <td>Rich Club</td>\n",
       "      <td>₹199</td>\n",
       "      <td>Polarized Round Sunglasses (48)</td>\n",
       "      <td>60% off</td>\n",
       "    </tr>\n",
       "    <tr>\n",
       "      <th>4</th>\n",
       "      <td>ROZZETTA CRAFT</td>\n",
       "      <td>₹379</td>\n",
       "      <td>UV Protection Round Sunglasses (Free Size)</td>\n",
       "      <td>85% off</td>\n",
       "    </tr>\n",
       "    <tr>\n",
       "      <th>5</th>\n",
       "      <td>Roadster</td>\n",
       "      <td>₹649</td>\n",
       "      <td>UV Protection Oval Sunglasses (57)</td>\n",
       "      <td>35% off</td>\n",
       "    </tr>\n",
       "    <tr>\n",
       "      <th>6</th>\n",
       "      <td>ROYAL SON</td>\n",
       "      <td>₹229</td>\n",
       "      <td>UV Protection, Gradient Wayfarer Sunglasses (55)</td>\n",
       "      <td>77% off</td>\n",
       "    </tr>\n",
       "    <tr>\n",
       "      <th>7</th>\n",
       "      <td>ROYAL SON</td>\n",
       "      <td>₹399</td>\n",
       "      <td>Mirrored Aviator Sunglasses (55)</td>\n",
       "      <td>73% off</td>\n",
       "    </tr>\n",
       "    <tr>\n",
       "      <th>8</th>\n",
       "      <td>GANSTA</td>\n",
       "      <td>₹221</td>\n",
       "      <td>UV Protection, Riding Glasses Wayfarer Sunglas...</td>\n",
       "      <td>87% off</td>\n",
       "    </tr>\n",
       "    <tr>\n",
       "      <th>9</th>\n",
       "      <td>Fastrack</td>\n",
       "      <td>₹759</td>\n",
       "      <td>UV Protection Sports Sunglasses (Free Size)</td>\n",
       "      <td>15% off</td>\n",
       "    </tr>\n",
       "    <tr>\n",
       "      <th>10</th>\n",
       "      <td>kingsunglasses</td>\n",
       "      <td>₹214</td>\n",
       "      <td>UV Protection, Others Round, Aviator Sunglasse...</td>\n",
       "      <td>78% off</td>\n",
       "    </tr>\n",
       "    <tr>\n",
       "      <th>11</th>\n",
       "      <td>ROYAL SON</td>\n",
       "      <td>₹699</td>\n",
       "      <td>Polarized Retro Square Sunglasses (61)</td>\n",
       "      <td>53% off</td>\n",
       "    </tr>\n",
       "    <tr>\n",
       "      <th>12</th>\n",
       "      <td>Poloport</td>\n",
       "      <td>₹236</td>\n",
       "      <td>UV Protection Wayfarer Sunglasses (Free Size)</td>\n",
       "      <td>87% off</td>\n",
       "    </tr>\n",
       "    <tr>\n",
       "      <th>13</th>\n",
       "      <td>Fastrack</td>\n",
       "      <td>₹639</td>\n",
       "      <td>Polarized Retro Square Sunglasses (Free Size)</td>\n",
       "      <td>20% off</td>\n",
       "    </tr>\n",
       "    <tr>\n",
       "      <th>14</th>\n",
       "      <td>PIRASO</td>\n",
       "      <td>₹250</td>\n",
       "      <td>UV Protection Aviator Sunglasses (55)</td>\n",
       "      <td>84% off</td>\n",
       "    </tr>\n",
       "    <tr>\n",
       "      <th>15</th>\n",
       "      <td>Elligator</td>\n",
       "      <td>₹359</td>\n",
       "      <td>UV Protection Wayfarer Sunglasses (53)</td>\n",
       "      <td>89% off</td>\n",
       "    </tr>\n",
       "    <tr>\n",
       "      <th>16</th>\n",
       "      <td>New Specs</td>\n",
       "      <td>₹185</td>\n",
       "      <td>UV Protection, Mirrored Sports Sunglasses (Fre...</td>\n",
       "      <td>85% off</td>\n",
       "    </tr>\n",
       "    <tr>\n",
       "      <th>17</th>\n",
       "      <td>Mi</td>\n",
       "      <td>₹764</td>\n",
       "      <td>Polarized Wayfarer Sunglasses (Free Size)</td>\n",
       "      <td>23% off</td>\n",
       "    </tr>\n",
       "    <tr>\n",
       "      <th>18</th>\n",
       "      <td>kingsunglasses</td>\n",
       "      <td>₹299</td>\n",
       "      <td>UV Protection, Night Vision Wayfarer Sunglasse...</td>\n",
       "      <td>82% off</td>\n",
       "    </tr>\n",
       "    <tr>\n",
       "      <th>19</th>\n",
       "      <td>Elligator</td>\n",
       "      <td>₹297</td>\n",
       "      <td>UV Protection, Riding Glasses Rectangular, Ret...</td>\n",
       "      <td>80% off</td>\n",
       "    </tr>\n",
       "  </tbody>\n",
       "</table>\n",
       "</div>"
      ],
      "text/plain": [
       "            Brands Price                                Product_Description  \\\n",
       "0       PHENOMENAL  ₹353  UV Protection, Mirrored Clubmaster Sunglasses ...   \n",
       "1     Singco India  ₹245  Riding Glasses, UV Protection, Others Aviator ...   \n",
       "2         Fastrack  ₹719        UV Protection Shield Sunglasses (Free Size)   \n",
       "3        Rich Club  ₹199                    Polarized Round Sunglasses (48)   \n",
       "4   ROZZETTA CRAFT  ₹379         UV Protection Round Sunglasses (Free Size)   \n",
       "5         Roadster  ₹649                 UV Protection Oval Sunglasses (57)   \n",
       "6        ROYAL SON  ₹229   UV Protection, Gradient Wayfarer Sunglasses (55)   \n",
       "7        ROYAL SON  ₹399                   Mirrored Aviator Sunglasses (55)   \n",
       "8           GANSTA  ₹221  UV Protection, Riding Glasses Wayfarer Sunglas...   \n",
       "9         Fastrack  ₹759        UV Protection Sports Sunglasses (Free Size)   \n",
       "10  kingsunglasses  ₹214  UV Protection, Others Round, Aviator Sunglasse...   \n",
       "11       ROYAL SON  ₹699             Polarized Retro Square Sunglasses (61)   \n",
       "12        Poloport  ₹236      UV Protection Wayfarer Sunglasses (Free Size)   \n",
       "13        Fastrack  ₹639      Polarized Retro Square Sunglasses (Free Size)   \n",
       "14          PIRASO  ₹250              UV Protection Aviator Sunglasses (55)   \n",
       "15       Elligator  ₹359             UV Protection Wayfarer Sunglasses (53)   \n",
       "16       New Specs  ₹185  UV Protection, Mirrored Sports Sunglasses (Fre...   \n",
       "17              Mi  ₹764          Polarized Wayfarer Sunglasses (Free Size)   \n",
       "18  kingsunglasses  ₹299  UV Protection, Night Vision Wayfarer Sunglasse...   \n",
       "19       Elligator  ₹297  UV Protection, Riding Glasses Rectangular, Ret...   \n",
       "\n",
       "   Discounts  \n",
       "0    82% off  \n",
       "1    83% off  \n",
       "2    20% off  \n",
       "3    60% off  \n",
       "4    85% off  \n",
       "5    35% off  \n",
       "6    77% off  \n",
       "7    73% off  \n",
       "8    87% off  \n",
       "9    15% off  \n",
       "10   78% off  \n",
       "11   53% off  \n",
       "12   87% off  \n",
       "13   20% off  \n",
       "14   84% off  \n",
       "15   89% off  \n",
       "16   85% off  \n",
       "17   23% off  \n",
       "18   82% off  \n",
       "19   80% off  "
      ]
     },
     "execution_count": 89,
     "metadata": {},
     "output_type": "execute_result"
    }
   ],
   "source": [
    "import pandas as pd\n",
    "jobs=pd.DataFrame({})\n",
    "jobs['Brands']=Brands\n",
    "jobs['Price']=Price\n",
    "jobs['Product_Description']=Product_Description\n",
    "jobs['Discounts']=Discount\n",
    "jobs[0:20]"
   ]
  },
  {
   "cell_type": "code",
   "execution_count": null,
   "id": "80b3f961",
   "metadata": {},
   "outputs": [],
   "source": [
    "#que.5"
   ]
  },
  {
   "cell_type": "code",
   "execution_count": 90,
   "id": "e5fbdf84",
   "metadata": {},
   "outputs": [],
   "source": [
    "driver.get('https://www.flipkart.com/apple-iphone-11-black-64-gb-includes-earpods-power-adapter/product-reviews/itm0f37c2240b217?pid=MOBFKCTSVZAXUHGR&lid=LSTMOBFKCTSVZAXUHGR3IXQLM&marketplace=FLIPKART')"
   ]
  },
  {
   "cell_type": "code",
   "execution_count": 93,
   "id": "df7bfac6",
   "metadata": {},
   "outputs": [],
   "source": [
    "Rating=[]\n",
    "Review_summary=[]\n",
    "Full_review=[]"
   ]
  },
  {
   "cell_type": "code",
   "execution_count": 94,
   "id": "ed47ee8c",
   "metadata": {},
   "outputs": [
    {
     "data": {
      "text/plain": [
       "[<selenium.webdriver.remote.webelement.WebElement (session=\"deccf6b4044ace42b5d79a0352bfcee2\", element=\"c9f55936-2d13-4f3d-a6cf-6297ecf25c69\")>,\n",
       " <selenium.webdriver.remote.webelement.WebElement (session=\"deccf6b4044ace42b5d79a0352bfcee2\", element=\"fdd6bc3e-3c71-410e-a43e-185e45074cdf\")>,\n",
       " <selenium.webdriver.remote.webelement.WebElement (session=\"deccf6b4044ace42b5d79a0352bfcee2\", element=\"fc272ae0-80d7-4b9e-9812-33eb6832b79e\")>,\n",
       " <selenium.webdriver.remote.webelement.WebElement (session=\"deccf6b4044ace42b5d79a0352bfcee2\", element=\"fe6dc2ed-db14-4346-b0e4-b90e6dd4c61b\")>]"
      ]
     },
     "execution_count": 94,
     "metadata": {},
     "output_type": "execute_result"
    }
   ],
   "source": [
    "Rating_tags=driver.find_elements_by_xpath(\"//div[@class='_3LWZlK _1BLPMq']\")\n",
    "Rating_tags[0:4]"
   ]
  },
  {
   "cell_type": "code",
   "execution_count": 95,
   "id": "ce1ed8fc",
   "metadata": {},
   "outputs": [
    {
     "data": {
      "text/plain": [
       "['5', '5', '5', '5']"
      ]
     },
     "execution_count": 95,
     "metadata": {},
     "output_type": "execute_result"
    }
   ],
   "source": [
    "for i in Rating_tags:\n",
    "    Ratings=i.text\n",
    "    Rating.append(Ratings)\n",
    "Rating[0:4]"
   ]
  },
  {
   "cell_type": "code",
   "execution_count": 96,
   "id": "c035c265",
   "metadata": {},
   "outputs": [
    {
     "data": {
      "text/plain": [
       "[<selenium.webdriver.remote.webelement.WebElement (session=\"deccf6b4044ace42b5d79a0352bfcee2\", element=\"10b8e396-a28f-4783-81ee-d0d04a12b96c\")>,\n",
       " <selenium.webdriver.remote.webelement.WebElement (session=\"deccf6b4044ace42b5d79a0352bfcee2\", element=\"4e702513-cd8a-46dd-8142-0900d487ef07\")>,\n",
       " <selenium.webdriver.remote.webelement.WebElement (session=\"deccf6b4044ace42b5d79a0352bfcee2\", element=\"ab24f82d-7c33-4bba-820a-f7542629b92e\")>,\n",
       " <selenium.webdriver.remote.webelement.WebElement (session=\"deccf6b4044ace42b5d79a0352bfcee2\", element=\"1e44989e-a1e6-4f08-a9b3-e337ab82a511\")>,\n",
       " <selenium.webdriver.remote.webelement.WebElement (session=\"deccf6b4044ace42b5d79a0352bfcee2\", element=\"e18353b4-15fd-4b1a-a98f-71a043ce527b\")>]"
      ]
     },
     "execution_count": 96,
     "metadata": {},
     "output_type": "execute_result"
    }
   ],
   "source": [
    "Review_tags=driver.find_elements_by_xpath(\"//p[@class='_2-N8zT']\")\n",
    "Review_tags[0:5]"
   ]
  },
  {
   "cell_type": "code",
   "execution_count": 97,
   "id": "849b4ed7",
   "metadata": {},
   "outputs": [
    {
     "data": {
      "text/plain": [
       "['Brilliant',\n",
       " 'Simply awesome',\n",
       " 'Best in the market!',\n",
       " 'Perfect product!',\n",
       " 'Fabulous!']"
      ]
     },
     "execution_count": 97,
     "metadata": {},
     "output_type": "execute_result"
    }
   ],
   "source": [
    "for i in Review_tags:\n",
    "    Reviews=i.text\n",
    "    Review_summary.append(Reviews)\n",
    "Review_summary[0:5]"
   ]
  },
  {
   "cell_type": "code",
   "execution_count": 98,
   "id": "3f1ee70d",
   "metadata": {},
   "outputs": [
    {
     "data": {
      "text/plain": [
       "[<selenium.webdriver.remote.webelement.WebElement (session=\"deccf6b4044ace42b5d79a0352bfcee2\", element=\"d33b2c18-62b8-472e-bc11-9052fe03e6e1\")>,\n",
       " <selenium.webdriver.remote.webelement.WebElement (session=\"deccf6b4044ace42b5d79a0352bfcee2\", element=\"1c541827-28ee-4e76-8277-96086b62b436\")>,\n",
       " <selenium.webdriver.remote.webelement.WebElement (session=\"deccf6b4044ace42b5d79a0352bfcee2\", element=\"2dd91132-de5c-4206-80ea-ef80785cef89\")>,\n",
       " <selenium.webdriver.remote.webelement.WebElement (session=\"deccf6b4044ace42b5d79a0352bfcee2\", element=\"e5213fab-c521-4943-8e4e-5d047b36603f\")>,\n",
       " <selenium.webdriver.remote.webelement.WebElement (session=\"deccf6b4044ace42b5d79a0352bfcee2\", element=\"18ad6b2b-1dc6-402e-a2c2-93ddf6cdb106\")>]"
      ]
     },
     "execution_count": 98,
     "metadata": {},
     "output_type": "execute_result"
    }
   ],
   "source": [
    "fullReview_tags=driver.find_elements_by_xpath(\"//div[@class='t-ZTKy']\")\n",
    "fullReview_tags[0:5]"
   ]
  },
  {
   "cell_type": "code",
   "execution_count": 99,
   "id": "a9e96c2f",
   "metadata": {},
   "outputs": [
    {
     "data": {
      "text/plain": [
       "['The Best Phone for the Money\\n\\nThe iPhone 11 offers superb cameras, a more durable design and excellent battery life for an affordable price.\\n\\nCompelling ultra-wide camera\\nNew Night mode is excellent\\nLong battery life',\n",
       " 'Really satisfied with the Product I received... It’s totally genuine and the packaging was also really good so if ur planning to buy just go for it.',\n",
       " 'Great iPhone very snappy experience as apple kind. Upgraded from iPhone 7.\\nPros\\n-Camera top class\\n- Battery top performed\\n-Chipset no need to say as apple kind\\n-Security as you expect from apple\\n- Display super bright industry leading colour\\naccuracy and super responsive\\n-Build quality as expect from apple sturdy\\npremium durable beautiful stylish.\\n-Os most stable os in smartphone industry\\n\\nCons\\n-No 5G\\n-Display is not based on OLED technology\\n-Charger headphones and 1 apple stic...\\nREAD MORE',\n",
       " 'Amazing phone with great cameras and better battery which gives you the best performance. I just love the camera .',\n",
       " 'This is my first iOS phone. I am very happy with this product. Very much satisfied with this. I love this phone.']"
      ]
     },
     "execution_count": 99,
     "metadata": {},
     "output_type": "execute_result"
    }
   ],
   "source": [
    "for i in fullReview_tags:\n",
    "    Reviews=i.text\n",
    "    Full_review.append(Reviews)\n",
    "Full_review[0:5]"
   ]
  },
  {
   "cell_type": "code",
   "execution_count": 100,
   "id": "b31170b7",
   "metadata": {},
   "outputs": [
    {
     "name": "stdout",
     "output_type": "stream",
     "text": [
      "10 10 10\n"
     ]
    }
   ],
   "source": [
    "print(len(Rating),len(Review_summary),len(Full_review))"
   ]
  },
  {
   "cell_type": "code",
   "execution_count": 101,
   "id": "462f4a92",
   "metadata": {},
   "outputs": [
    {
     "data": {
      "text/html": [
       "<div>\n",
       "<style scoped>\n",
       "    .dataframe tbody tr th:only-of-type {\n",
       "        vertical-align: middle;\n",
       "    }\n",
       "\n",
       "    .dataframe tbody tr th {\n",
       "        vertical-align: top;\n",
       "    }\n",
       "\n",
       "    .dataframe thead th {\n",
       "        text-align: right;\n",
       "    }\n",
       "</style>\n",
       "<table border=\"1\" class=\"dataframe\">\n",
       "  <thead>\n",
       "    <tr style=\"text-align: right;\">\n",
       "      <th></th>\n",
       "      <th>Rating</th>\n",
       "      <th>Review_summary</th>\n",
       "      <th>Full_review</th>\n",
       "    </tr>\n",
       "  </thead>\n",
       "  <tbody>\n",
       "    <tr>\n",
       "      <th>0</th>\n",
       "      <td>5</td>\n",
       "      <td>Brilliant</td>\n",
       "      <td>The Best Phone for the Money\\n\\nThe iPhone 11 ...</td>\n",
       "    </tr>\n",
       "    <tr>\n",
       "      <th>1</th>\n",
       "      <td>5</td>\n",
       "      <td>Simply awesome</td>\n",
       "      <td>Really satisfied with the Product I received.....</td>\n",
       "    </tr>\n",
       "    <tr>\n",
       "      <th>2</th>\n",
       "      <td>5</td>\n",
       "      <td>Best in the market!</td>\n",
       "      <td>Great iPhone very snappy experience as apple k...</td>\n",
       "    </tr>\n",
       "    <tr>\n",
       "      <th>3</th>\n",
       "      <td>5</td>\n",
       "      <td>Perfect product!</td>\n",
       "      <td>Amazing phone with great cameras and better ba...</td>\n",
       "    </tr>\n",
       "    <tr>\n",
       "      <th>4</th>\n",
       "      <td>5</td>\n",
       "      <td>Fabulous!</td>\n",
       "      <td>This is my first iOS phone. I am very happy wi...</td>\n",
       "    </tr>\n",
       "    <tr>\n",
       "      <th>5</th>\n",
       "      <td>5</td>\n",
       "      <td>Worth every penny</td>\n",
       "      <td>Previously I was using one plus 3t it was a gr...</td>\n",
       "    </tr>\n",
       "    <tr>\n",
       "      <th>6</th>\n",
       "      <td>5</td>\n",
       "      <td>Great product</td>\n",
       "      <td>Amazing Powerful and Durable Gadget.\\n\\nI’m am...</td>\n",
       "    </tr>\n",
       "    <tr>\n",
       "      <th>7</th>\n",
       "      <td>4</td>\n",
       "      <td>Good choice</td>\n",
       "      <td>So far it’s been an AMAZING experience coming ...</td>\n",
       "    </tr>\n",
       "    <tr>\n",
       "      <th>8</th>\n",
       "      <td>5</td>\n",
       "      <td>Highly recommended</td>\n",
       "      <td>What a camera .....just awesome ..you can feel...</td>\n",
       "    </tr>\n",
       "    <tr>\n",
       "      <th>9</th>\n",
       "      <td>5</td>\n",
       "      <td>Worth every penny</td>\n",
       "      <td>i11 is worthy to buy, too much happy with the ...</td>\n",
       "    </tr>\n",
       "  </tbody>\n",
       "</table>\n",
       "</div>"
      ],
      "text/plain": [
       "  Rating       Review_summary  \\\n",
       "0      5            Brilliant   \n",
       "1      5       Simply awesome   \n",
       "2      5  Best in the market!   \n",
       "3      5     Perfect product!   \n",
       "4      5            Fabulous!   \n",
       "5      5    Worth every penny   \n",
       "6      5        Great product   \n",
       "7      4          Good choice   \n",
       "8      5   Highly recommended   \n",
       "9      5    Worth every penny   \n",
       "\n",
       "                                         Full_review  \n",
       "0  The Best Phone for the Money\\n\\nThe iPhone 11 ...  \n",
       "1  Really satisfied with the Product I received.....  \n",
       "2  Great iPhone very snappy experience as apple k...  \n",
       "3  Amazing phone with great cameras and better ba...  \n",
       "4  This is my first iOS phone. I am very happy wi...  \n",
       "5  Previously I was using one plus 3t it was a gr...  \n",
       "6  Amazing Powerful and Durable Gadget.\\n\\nI’m am...  \n",
       "7  So far it’s been an AMAZING experience coming ...  \n",
       "8  What a camera .....just awesome ..you can feel...  \n",
       "9  i11 is worthy to buy, too much happy with the ...  "
      ]
     },
     "execution_count": 101,
     "metadata": {},
     "output_type": "execute_result"
    }
   ],
   "source": [
    "import pandas as pd\n",
    "jobs=pd.DataFrame({})\n",
    "jobs['Rating']=Rating\n",
    "jobs['Review_summary']=Review_summary\n",
    "jobs['Full_review']=Full_review\n",
    "jobs "
   ]
  },
  {
   "cell_type": "code",
   "execution_count": 102,
   "id": "c0b0fd18",
   "metadata": {},
   "outputs": [],
   "source": [
    "\n",
    "next_button=driver.find_element_by_xpath(\"/html/body/div/div/div[3]/div/div/div[2]/div[13]/div/div/nav/a[11]/span\")\n",
    "next_button.click()"
   ]
  },
  {
   "cell_type": "code",
   "execution_count": 103,
   "id": "9b16e472",
   "metadata": {},
   "outputs": [],
   "source": [
    "Rating =[]\n",
    "Review_summary=[]\n",
    "Full_review =[]"
   ]
  },
  {
   "cell_type": "code",
   "execution_count": 104,
   "id": "e4aaaf92",
   "metadata": {},
   "outputs": [
    {
     "data": {
      "text/plain": [
       "[<selenium.webdriver.remote.webelement.WebElement (session=\"deccf6b4044ace42b5d79a0352bfcee2\", element=\"fc9c26d1-0b7a-48bf-9445-3ffc049e88d3\")>,\n",
       " <selenium.webdriver.remote.webelement.WebElement (session=\"deccf6b4044ace42b5d79a0352bfcee2\", element=\"95473f7b-8d04-40d1-9d52-cbe1ac1cbc4c\")>,\n",
       " <selenium.webdriver.remote.webelement.WebElement (session=\"deccf6b4044ace42b5d79a0352bfcee2\", element=\"4ee36dad-6f4e-48d1-9718-e6cf0cbb117f\")>,\n",
       " <selenium.webdriver.remote.webelement.WebElement (session=\"deccf6b4044ace42b5d79a0352bfcee2\", element=\"7b4e3b61-c405-4fde-8973-b5250e43d410\")>]"
      ]
     },
     "execution_count": 104,
     "metadata": {},
     "output_type": "execute_result"
    }
   ],
   "source": [
    "Rating_tags=driver.find_elements_by_xpath(\"//div[@class='_3LWZlK _1BLPMq']\")\n",
    "Rating_tags[0:4]"
   ]
  },
  {
   "cell_type": "code",
   "execution_count": 105,
   "id": "1d2a77d1",
   "metadata": {},
   "outputs": [
    {
     "data": {
      "text/plain": [
       "['5', '5', '5', '5']"
      ]
     },
     "execution_count": 105,
     "metadata": {},
     "output_type": "execute_result"
    }
   ],
   "source": [
    "for i in Rating_tags:\n",
    "    Ratings=i.text\n",
    "    Rating.append(Ratings)\n",
    "Rating[0:4]"
   ]
  },
  {
   "cell_type": "code",
   "execution_count": 106,
   "id": "28478865",
   "metadata": {},
   "outputs": [
    {
     "data": {
      "text/plain": [
       "[<selenium.webdriver.remote.webelement.WebElement (session=\"deccf6b4044ace42b5d79a0352bfcee2\", element=\"6d696b20-db1d-456d-986e-6d3b2eb6d83e\")>,\n",
       " <selenium.webdriver.remote.webelement.WebElement (session=\"deccf6b4044ace42b5d79a0352bfcee2\", element=\"ac50edad-9953-4c4f-805b-cf0c340e559d\")>,\n",
       " <selenium.webdriver.remote.webelement.WebElement (session=\"deccf6b4044ace42b5d79a0352bfcee2\", element=\"01a19d88-66d1-4183-a8a5-6433f05210ce\")>,\n",
       " <selenium.webdriver.remote.webelement.WebElement (session=\"deccf6b4044ace42b5d79a0352bfcee2\", element=\"b89400be-9479-4edd-bfcc-afb541aa4c36\")>,\n",
       " <selenium.webdriver.remote.webelement.WebElement (session=\"deccf6b4044ace42b5d79a0352bfcee2\", element=\"9efc9904-ef29-48cd-8448-effd6b5566b3\")>]"
      ]
     },
     "execution_count": 106,
     "metadata": {},
     "output_type": "execute_result"
    }
   ],
   "source": [
    "fullReview_tags=driver.find_elements_by_xpath(\"//div[@class='t-ZTKy']\")\n",
    "fullReview_tags[0:5]"
   ]
  },
  {
   "cell_type": "code",
   "execution_count": 107,
   "id": "f6292774",
   "metadata": {},
   "outputs": [
    {
     "data": {
      "text/plain": [
       "['iphone 11 is a very good phone to buy only if you can compromise for the display. The display on this is device is pretty good but you can get other options with better displays in this price segment.\\nIf you can survive with an HD+ LCD panel with thicker bezels and a notch up top then this is a very good phone for you.\\nCameras are awesome, battery backup excellent, great performance and a decent premium look. Good job Apple !',\n",
       " 'It’s a must buy who is looking for an upgrade from previous generation of iPhones. If you are using XR then still you can hold on for sometime and upgrade to 2020 model else this phone is a must buy . Camera quality is amazing and wide angle is something to count upon. Performance wise it’s amazing and feels premium while holding in hand. So a big YES for this device. Go for 128 GB variant as the 4K videos will occupy lots of space and the storage can get over very quickly. Try to buy it with...\\nREAD MORE',\n",
       " 'Value for money❤️❤️\\nIts awesome mobile phone in the world ...\\nDisplay was very good and bright ..\\nTrust me freinds you r never regret after Buying..\\nJust go for it....\\nI love this phone and i switch to iphone x to 11',\n",
       " 'Smooth like butter, camera like fantabulous, sound is crystal clear & its red color is damn attractive, i am just loving it. Must buy if you love photography.\\n\\nLucky to get it in sale, thank you Flipkart.',\n",
       " \"It's my first time to use iOS phone and I am loving my upgradation 😍😍 I love the color, I love the assebility of the phone....I need to learn more about its functionality, but as far as I have seen, it's quite easy and it has a lot of functions to work on, specially if you are a content writer or a blogger you get a lot of content creation platforms and they are really amazing.\\n\\nThis phone not only for good quality photography but a lot of other task too.😍💯\"]"
      ]
     },
     "execution_count": 107,
     "metadata": {},
     "output_type": "execute_result"
    }
   ],
   "source": [
    "for i in fullReview_tags:\n",
    "    Reviews=i.text\n",
    "    Full_review.append(Reviews)\n",
    "Full_review[0:5]"
   ]
  },
  {
   "cell_type": "code",
   "execution_count": 108,
   "id": "41a2e068",
   "metadata": {},
   "outputs": [
    {
     "data": {
      "text/plain": [
       "[<selenium.webdriver.remote.webelement.WebElement (session=\"deccf6b4044ace42b5d79a0352bfcee2\", element=\"205f25be-a5b5-4098-8e43-23d090c2a4dd\")>,\n",
       " <selenium.webdriver.remote.webelement.WebElement (session=\"deccf6b4044ace42b5d79a0352bfcee2\", element=\"e8613a67-e0d4-45d0-a759-1399651b6204\")>,\n",
       " <selenium.webdriver.remote.webelement.WebElement (session=\"deccf6b4044ace42b5d79a0352bfcee2\", element=\"ba459842-f9c1-43f5-98dd-1df1c3b1c5f5\")>,\n",
       " <selenium.webdriver.remote.webelement.WebElement (session=\"deccf6b4044ace42b5d79a0352bfcee2\", element=\"c6bd04e7-64b7-4fa9-888c-1b4ced88ef8e\")>,\n",
       " <selenium.webdriver.remote.webelement.WebElement (session=\"deccf6b4044ace42b5d79a0352bfcee2\", element=\"d606f146-f95c-4029-9777-d03b86b24a2d\")>]"
      ]
     },
     "execution_count": 108,
     "metadata": {},
     "output_type": "execute_result"
    }
   ],
   "source": [
    "Review_tags=driver.find_elements_by_xpath(\"//p[@class='_2-N8zT']\")\n",
    "Review_tags[0:5]"
   ]
  },
  {
   "cell_type": "code",
   "execution_count": 109,
   "id": "73c61796",
   "metadata": {},
   "outputs": [
    {
     "data": {
      "text/plain": [
       "['Highly recommended',\n",
       " 'Perfect product!',\n",
       " 'Perfect product!',\n",
       " 'Worth every penny',\n",
       " 'Highly recommended']"
      ]
     },
     "execution_count": 109,
     "metadata": {},
     "output_type": "execute_result"
    }
   ],
   "source": [
    "for i in Review_tags:\n",
    "    Reviews=i.text\n",
    "    Review_summary.append(Reviews)\n",
    "Review_summary[0:5]"
   ]
  },
  {
   "cell_type": "code",
   "execution_count": 110,
   "id": "246f3f78",
   "metadata": {},
   "outputs": [
    {
     "name": "stdout",
     "output_type": "stream",
     "text": [
      "10 10 10\n"
     ]
    }
   ],
   "source": [
    "print(len(Rating),len(Review_summary),len(Full_review))"
   ]
  },
  {
   "cell_type": "code",
   "execution_count": 111,
   "id": "14cfb319",
   "metadata": {},
   "outputs": [
    {
     "data": {
      "text/html": [
       "<div>\n",
       "<style scoped>\n",
       "    .dataframe tbody tr th:only-of-type {\n",
       "        vertical-align: middle;\n",
       "    }\n",
       "\n",
       "    .dataframe tbody tr th {\n",
       "        vertical-align: top;\n",
       "    }\n",
       "\n",
       "    .dataframe thead th {\n",
       "        text-align: right;\n",
       "    }\n",
       "</style>\n",
       "<table border=\"1\" class=\"dataframe\">\n",
       "  <thead>\n",
       "    <tr style=\"text-align: right;\">\n",
       "      <th></th>\n",
       "      <th>Rating</th>\n",
       "      <th>Review_summary</th>\n",
       "      <th>Full_review</th>\n",
       "    </tr>\n",
       "  </thead>\n",
       "  <tbody>\n",
       "    <tr>\n",
       "      <th>0</th>\n",
       "      <td>5</td>\n",
       "      <td>Highly recommended</td>\n",
       "      <td>iphone 11 is a very good phone to buy only if ...</td>\n",
       "    </tr>\n",
       "    <tr>\n",
       "      <th>1</th>\n",
       "      <td>5</td>\n",
       "      <td>Perfect product!</td>\n",
       "      <td>It’s a must buy who is looking for an upgrade ...</td>\n",
       "    </tr>\n",
       "    <tr>\n",
       "      <th>2</th>\n",
       "      <td>5</td>\n",
       "      <td>Perfect product!</td>\n",
       "      <td>Value for money❤️❤️\\nIts awesome mobile phone ...</td>\n",
       "    </tr>\n",
       "    <tr>\n",
       "      <th>3</th>\n",
       "      <td>5</td>\n",
       "      <td>Worth every penny</td>\n",
       "      <td>Smooth like butter, camera like fantabulous, s...</td>\n",
       "    </tr>\n",
       "    <tr>\n",
       "      <th>4</th>\n",
       "      <td>5</td>\n",
       "      <td>Highly recommended</td>\n",
       "      <td>It's my first time to use iOS phone and I am l...</td>\n",
       "    </tr>\n",
       "    <tr>\n",
       "      <th>5</th>\n",
       "      <td>5</td>\n",
       "      <td>Perfect product!</td>\n",
       "      <td>Iphone is just awesome.. battery backup is ver...</td>\n",
       "    </tr>\n",
       "    <tr>\n",
       "      <th>6</th>\n",
       "      <td>5</td>\n",
       "      <td>Worth every penny</td>\n",
       "      <td>Best budget Iphone till date ❤️ go for it guys...</td>\n",
       "    </tr>\n",
       "    <tr>\n",
       "      <th>7</th>\n",
       "      <td>5</td>\n",
       "      <td>Simply awesome</td>\n",
       "      <td>Excellent camera, good performance, no lag. Th...</td>\n",
       "    </tr>\n",
       "    <tr>\n",
       "      <th>8</th>\n",
       "      <td>5</td>\n",
       "      <td>Classy product</td>\n",
       "      <td>Totally in love with this ❤ the camera quality...</td>\n",
       "    </tr>\n",
       "    <tr>\n",
       "      <th>9</th>\n",
       "      <td>5</td>\n",
       "      <td>Terrific</td>\n",
       "      <td>Really worth of money. i just love it. It is t...</td>\n",
       "    </tr>\n",
       "  </tbody>\n",
       "</table>\n",
       "</div>"
      ],
      "text/plain": [
       "  Rating      Review_summary  \\\n",
       "0      5  Highly recommended   \n",
       "1      5    Perfect product!   \n",
       "2      5    Perfect product!   \n",
       "3      5   Worth every penny   \n",
       "4      5  Highly recommended   \n",
       "5      5    Perfect product!   \n",
       "6      5   Worth every penny   \n",
       "7      5      Simply awesome   \n",
       "8      5      Classy product   \n",
       "9      5            Terrific   \n",
       "\n",
       "                                         Full_review  \n",
       "0  iphone 11 is a very good phone to buy only if ...  \n",
       "1  It’s a must buy who is looking for an upgrade ...  \n",
       "2  Value for money❤️❤️\\nIts awesome mobile phone ...  \n",
       "3  Smooth like butter, camera like fantabulous, s...  \n",
       "4  It's my first time to use iOS phone and I am l...  \n",
       "5  Iphone is just awesome.. battery backup is ver...  \n",
       "6  Best budget Iphone till date ❤️ go for it guys...  \n",
       "7  Excellent camera, good performance, no lag. Th...  \n",
       "8  Totally in love with this ❤ the camera quality...  \n",
       "9  Really worth of money. i just love it. It is t...  "
      ]
     },
     "execution_count": 111,
     "metadata": {},
     "output_type": "execute_result"
    }
   ],
   "source": [
    "import pandas as pd\n",
    "jobs=pd.DataFrame({})\n",
    "jobs['Rating']=Rating\n",
    "jobs['Review_summary']=Review_summary\n",
    "jobs['Full_review']=Full_review\n",
    "jobs "
   ]
  },
  {
   "cell_type": "code",
   "execution_count": 123,
   "id": "c0d0601e",
   "metadata": {},
   "outputs": [],
   "source": [
    "next3page_button=driver.find_element_by_xpath(\"/html/body/div/div/div[3]/div/div/div[2]/div[13]/div/div/nav/a[12]/span\")\n",
    "next3page_button.click()"
   ]
  },
  {
   "cell_type": "code",
   "execution_count": 124,
   "id": "4719f5d9",
   "metadata": {},
   "outputs": [],
   "source": [
    "Rating =[]\n",
    "Review_summary=[]\n",
    "Full_review =[]"
   ]
  },
  {
   "cell_type": "code",
   "execution_count": 125,
   "id": "c20ced38",
   "metadata": {},
   "outputs": [
    {
     "data": {
      "text/plain": [
       "[<selenium.webdriver.remote.webelement.WebElement (session=\"deccf6b4044ace42b5d79a0352bfcee2\", element=\"6d23ea39-71c1-4d03-aeb2-42e1c75eba1b\")>,\n",
       " <selenium.webdriver.remote.webelement.WebElement (session=\"deccf6b4044ace42b5d79a0352bfcee2\", element=\"16b22535-20cf-41dc-9cae-077ec6bb8efb\")>,\n",
       " <selenium.webdriver.remote.webelement.WebElement (session=\"deccf6b4044ace42b5d79a0352bfcee2\", element=\"a45972d1-efad-4282-8d7e-8d359734afcb\")>,\n",
       " <selenium.webdriver.remote.webelement.WebElement (session=\"deccf6b4044ace42b5d79a0352bfcee2\", element=\"df0e0afe-69f6-407a-8b5b-230ddc515df3\")>]"
      ]
     },
     "execution_count": 125,
     "metadata": {},
     "output_type": "execute_result"
    }
   ],
   "source": [
    "Rating_tags=driver.find_elements_by_xpath(\"//div[@class='_3LWZlK _1BLPMq']\")\n",
    "Rating_tags[0:4]"
   ]
  },
  {
   "cell_type": "code",
   "execution_count": 126,
   "id": "4dda91ef",
   "metadata": {},
   "outputs": [
    {
     "data": {
      "text/plain": [
       "['5', '5', '5', '4']"
      ]
     },
     "execution_count": 126,
     "metadata": {},
     "output_type": "execute_result"
    }
   ],
   "source": [
    "for i in Rating_tags:\n",
    "    Ratings=i.text\n",
    "    Rating.append(Ratings)\n",
    "Rating[0:4]"
   ]
  },
  {
   "cell_type": "code",
   "execution_count": 127,
   "id": "1e080800",
   "metadata": {},
   "outputs": [
    {
     "data": {
      "text/plain": [
       "[<selenium.webdriver.remote.webelement.WebElement (session=\"deccf6b4044ace42b5d79a0352bfcee2\", element=\"6e3121d7-2030-4353-bbfe-f366353871dd\")>,\n",
       " <selenium.webdriver.remote.webelement.WebElement (session=\"deccf6b4044ace42b5d79a0352bfcee2\", element=\"81669278-93d7-499b-bfd0-6c12f0945193\")>,\n",
       " <selenium.webdriver.remote.webelement.WebElement (session=\"deccf6b4044ace42b5d79a0352bfcee2\", element=\"b34f79b3-2134-4653-aa08-495dcc950ec1\")>,\n",
       " <selenium.webdriver.remote.webelement.WebElement (session=\"deccf6b4044ace42b5d79a0352bfcee2\", element=\"8600dcf5-9c44-470d-99f3-27c061fc5218\")>,\n",
       " <selenium.webdriver.remote.webelement.WebElement (session=\"deccf6b4044ace42b5d79a0352bfcee2\", element=\"337bb953-39af-42e6-8ad9-ed6e53ba4950\")>]"
      ]
     },
     "execution_count": 127,
     "metadata": {},
     "output_type": "execute_result"
    }
   ],
   "source": [
    "fullReview_tags=driver.find_elements_by_xpath(\"//div[@class='t-ZTKy']\")\n",
    "fullReview_tags[0:5]"
   ]
  },
  {
   "cell_type": "code",
   "execution_count": 128,
   "id": "a0f28e4a",
   "metadata": {},
   "outputs": [
    {
     "data": {
      "text/plain": [
       "['It’s been almost a month since I have been using this phone. I upgraded from an iPhone 8. The main issue with my 8 was battery and this phone is just awesome when it comes to battery. It lasts a day and a half for me with my regular use , internet connected always with 4g\\nCan’t move forward without saying this. Battery of this phone is a life saver when I am traveling or at work when I don’t get the option to charge\\nCamera is superb. Front cam selfies and back cam photos are just awesome.\\n...\\nREAD MORE',\n",
       " 'This is my first ever I phone. Before this I was using my google nexus 5. But moving from android to iOS is a great experience. It’s worth at this price. I will highly recommend it if you want to move to iOS. The best part of this phone is it’s camera and it’s battery life. This two things have won my heart. I loved it. Happy to have it in my hand. Still exploring its features. And can’t forget to mention Flipkart service. Very prompt service and fast delivery.',\n",
       " 'It is just awesome mobile for this price from Apple,\\n\\nAfter 10 days review\\n\\nBattery enough for 1 day even 24*7 Internet will be on and mostly internet usage\\n\\nCamera is just awesome cool , android 64 MP is equal to this just 12 MP\\n\\nA13 Bionic chip will give more high performance without hanging\\n\\nAudio stereo speakers will give Dolby atoms sound with crystal clear\\n\\nVideo recording is like cinematic shots of every sec can be a 4K 60fps. Just awesome this phone\\niPhone 11 loved one',\n",
       " 'Awesome Phone. Slightly high price but worth. Better than iPhone XR.\\nCamera is superb and wide angle camera is very clear.\\n12MP selfie camera is also very good.\\nA13 Chip gives a very good and smooth performance.',\n",
       " 'Looking so good 👍 😍 super 👌 stylish 😎 phone\\nClean box 📦 good 👍 delivery 👌 fast delivery\\nOriginal box Original iphone 📱 👌 😍😍😍']"
      ]
     },
     "execution_count": 128,
     "metadata": {},
     "output_type": "execute_result"
    }
   ],
   "source": [
    "for i in fullReview_tags:\n",
    "    Reviews=i.text\n",
    "    Full_review.append(Reviews)\n",
    "Full_review[0:5]"
   ]
  },
  {
   "cell_type": "code",
   "execution_count": 129,
   "id": "28315938",
   "metadata": {},
   "outputs": [
    {
     "data": {
      "text/plain": [
       "[<selenium.webdriver.remote.webelement.WebElement (session=\"deccf6b4044ace42b5d79a0352bfcee2\", element=\"2df645bc-2ac6-46cf-92d1-46ba6b95af14\")>,\n",
       " <selenium.webdriver.remote.webelement.WebElement (session=\"deccf6b4044ace42b5d79a0352bfcee2\", element=\"f1c984b1-4ce0-49a6-9d54-4980868e5c6b\")>,\n",
       " <selenium.webdriver.remote.webelement.WebElement (session=\"deccf6b4044ace42b5d79a0352bfcee2\", element=\"93149567-6261-4c6c-b6ff-6c718120cba9\")>,\n",
       " <selenium.webdriver.remote.webelement.WebElement (session=\"deccf6b4044ace42b5d79a0352bfcee2\", element=\"1c8eff23-84f5-4ce7-9565-d42baa218c4a\")>,\n",
       " <selenium.webdriver.remote.webelement.WebElement (session=\"deccf6b4044ace42b5d79a0352bfcee2\", element=\"68b92485-4d54-448f-8440-ab8eda088ab9\")>]"
      ]
     },
     "execution_count": 129,
     "metadata": {},
     "output_type": "execute_result"
    }
   ],
   "source": [
    "Review_tags=driver.find_elements_by_xpath(\"//p[@class='_2-N8zT']\")\n",
    "Review_tags[0:5]"
   ]
  },
  {
   "cell_type": "code",
   "execution_count": 130,
   "id": "a4e0c867",
   "metadata": {},
   "outputs": [
    {
     "data": {
      "text/plain": [
       "['Worth every penny',\n",
       " 'Wonderful',\n",
       " 'Perfect product!',\n",
       " 'Nice product',\n",
       " 'Good choice']"
      ]
     },
     "execution_count": 130,
     "metadata": {},
     "output_type": "execute_result"
    }
   ],
   "source": [
    "for i in Review_tags:\n",
    "    Reviews=i.text\n",
    "    Review_summary.append(Reviews)\n",
    "Review_summary[0:5]"
   ]
  },
  {
   "cell_type": "code",
   "execution_count": 131,
   "id": "a8feb6ae",
   "metadata": {},
   "outputs": [
    {
     "name": "stdout",
     "output_type": "stream",
     "text": [
      "10 10 10\n"
     ]
    }
   ],
   "source": [
    "print(len(Rating),len(Review_summary),len(Full_review))"
   ]
  },
  {
   "cell_type": "code",
   "execution_count": 132,
   "id": "fb04e2ea",
   "metadata": {},
   "outputs": [
    {
     "data": {
      "text/html": [
       "<div>\n",
       "<style scoped>\n",
       "    .dataframe tbody tr th:only-of-type {\n",
       "        vertical-align: middle;\n",
       "    }\n",
       "\n",
       "    .dataframe tbody tr th {\n",
       "        vertical-align: top;\n",
       "    }\n",
       "\n",
       "    .dataframe thead th {\n",
       "        text-align: right;\n",
       "    }\n",
       "</style>\n",
       "<table border=\"1\" class=\"dataframe\">\n",
       "  <thead>\n",
       "    <tr style=\"text-align: right;\">\n",
       "      <th></th>\n",
       "      <th>Rating</th>\n",
       "      <th>Review_summary</th>\n",
       "      <th>Full_review</th>\n",
       "    </tr>\n",
       "  </thead>\n",
       "  <tbody>\n",
       "    <tr>\n",
       "      <th>0</th>\n",
       "      <td>5</td>\n",
       "      <td>Worth every penny</td>\n",
       "      <td>It’s been almost a month since I have been usi...</td>\n",
       "    </tr>\n",
       "    <tr>\n",
       "      <th>1</th>\n",
       "      <td>5</td>\n",
       "      <td>Wonderful</td>\n",
       "      <td>This is my first ever I phone. Before this I w...</td>\n",
       "    </tr>\n",
       "    <tr>\n",
       "      <th>2</th>\n",
       "      <td>5</td>\n",
       "      <td>Perfect product!</td>\n",
       "      <td>It is just awesome mobile for this price from ...</td>\n",
       "    </tr>\n",
       "    <tr>\n",
       "      <th>3</th>\n",
       "      <td>4</td>\n",
       "      <td>Nice product</td>\n",
       "      <td>Awesome Phone. Slightly high price but worth. ...</td>\n",
       "    </tr>\n",
       "    <tr>\n",
       "      <th>4</th>\n",
       "      <td>4</td>\n",
       "      <td>Good choice</td>\n",
       "      <td>Looking so good 👍 😍 super 👌 stylish 😎 phone\\nC...</td>\n",
       "    </tr>\n",
       "    <tr>\n",
       "      <th>5</th>\n",
       "      <td>5</td>\n",
       "      <td>Brilliant</td>\n",
       "      <td>I have migrated from OP 7pro... and trust me, ...</td>\n",
       "    </tr>\n",
       "    <tr>\n",
       "      <th>6</th>\n",
       "      <td>5</td>\n",
       "      <td>Classy product</td>\n",
       "      <td>Superb Product !!!\\nA big and worthy upgrade f...</td>\n",
       "    </tr>\n",
       "    <tr>\n",
       "      <th>7</th>\n",
       "      <td>5</td>\n",
       "      <td>Perfect product!</td>\n",
       "      <td>Battery backup is extraordinary, camera is dec...</td>\n",
       "    </tr>\n",
       "    <tr>\n",
       "      <th>8</th>\n",
       "      <td>5</td>\n",
       "      <td>Must buy!</td>\n",
       "      <td>It’s an amazing product from apple and the cam...</td>\n",
       "    </tr>\n",
       "    <tr>\n",
       "      <th>9</th>\n",
       "      <td>5</td>\n",
       "      <td>Great product</td>\n",
       "      <td>Again back to apple iphone after a gap of 2-3 ...</td>\n",
       "    </tr>\n",
       "  </tbody>\n",
       "</table>\n",
       "</div>"
      ],
      "text/plain": [
       "  Rating     Review_summary                                        Full_review\n",
       "0      5  Worth every penny  It’s been almost a month since I have been usi...\n",
       "1      5          Wonderful  This is my first ever I phone. Before this I w...\n",
       "2      5   Perfect product!  It is just awesome mobile for this price from ...\n",
       "3      4       Nice product  Awesome Phone. Slightly high price but worth. ...\n",
       "4      4        Good choice  Looking so good 👍 😍 super 👌 stylish 😎 phone\\nC...\n",
       "5      5          Brilliant  I have migrated from OP 7pro... and trust me, ...\n",
       "6      5     Classy product  Superb Product !!!\\nA big and worthy upgrade f...\n",
       "7      5   Perfect product!  Battery backup is extraordinary, camera is dec...\n",
       "8      5          Must buy!  It’s an amazing product from apple and the cam...\n",
       "9      5      Great product  Again back to apple iphone after a gap of 2-3 ..."
      ]
     },
     "execution_count": 132,
     "metadata": {},
     "output_type": "execute_result"
    }
   ],
   "source": [
    "import pandas as pd\n",
    "jobs=pd.DataFrame({})\n",
    "jobs['Rating']=Rating\n",
    "jobs['Review_summary']=Review_summary\n",
    "jobs['Full_review']=Full_review\n",
    "jobs"
   ]
  },
  {
   "cell_type": "code",
   "execution_count": 134,
   "id": "125bbe17",
   "metadata": {},
   "outputs": [],
   "source": [
    "forthpage_button=driver.find_element_by_xpath(\"/html/body/div/div/div[3]/div/div/div[2]/div[13]/div/div/nav/a[12]/span\")\n",
    "forthpage_button.click()"
   ]
  },
  {
   "cell_type": "code",
   "execution_count": 135,
   "id": "ba2b88f0",
   "metadata": {},
   "outputs": [],
   "source": [
    "Rating =[]\n",
    "Review_summary=[]\n",
    "Full_review =[]"
   ]
  },
  {
   "cell_type": "code",
   "execution_count": 136,
   "id": "2515c5b2",
   "metadata": {},
   "outputs": [
    {
     "data": {
      "text/plain": [
       "[<selenium.webdriver.remote.webelement.WebElement (session=\"deccf6b4044ace42b5d79a0352bfcee2\", element=\"44a1fdb2-607f-464a-a8de-eeb76b3966f4\")>,\n",
       " <selenium.webdriver.remote.webelement.WebElement (session=\"deccf6b4044ace42b5d79a0352bfcee2\", element=\"06bed05a-ed4e-4132-a53c-5b9b20e6ce51\")>,\n",
       " <selenium.webdriver.remote.webelement.WebElement (session=\"deccf6b4044ace42b5d79a0352bfcee2\", element=\"3f197b35-1cbd-4cc8-af57-639c623196c2\")>,\n",
       " <selenium.webdriver.remote.webelement.WebElement (session=\"deccf6b4044ace42b5d79a0352bfcee2\", element=\"78b757f9-68f3-4f3d-b682-31c6e46ddb92\")>]"
      ]
     },
     "execution_count": 136,
     "metadata": {},
     "output_type": "execute_result"
    }
   ],
   "source": [
    "Rating_tags=driver.find_elements_by_xpath(\"//div[@class='_3LWZlK _1BLPMq']\")\n",
    "Rating_tags[0:4]"
   ]
  },
  {
   "cell_type": "code",
   "execution_count": 137,
   "id": "1d002ae5",
   "metadata": {},
   "outputs": [
    {
     "data": {
      "text/plain": [
       "['5', '5', '5', '5']"
      ]
     },
     "execution_count": 137,
     "metadata": {},
     "output_type": "execute_result"
    }
   ],
   "source": [
    "for i in Rating_tags:\n",
    "    Ratings=i.text\n",
    "    Rating.append(Ratings)\n",
    "Rating[0:4]"
   ]
  },
  {
   "cell_type": "code",
   "execution_count": 138,
   "id": "647bfd82",
   "metadata": {},
   "outputs": [
    {
     "data": {
      "text/plain": [
       "[<selenium.webdriver.remote.webelement.WebElement (session=\"deccf6b4044ace42b5d79a0352bfcee2\", element=\"2f08e3d2-7d67-47ac-8e1b-fe15fbae4331\")>,\n",
       " <selenium.webdriver.remote.webelement.WebElement (session=\"deccf6b4044ace42b5d79a0352bfcee2\", element=\"b88fe9bb-f159-4872-835e-f4e0496bb47e\")>,\n",
       " <selenium.webdriver.remote.webelement.WebElement (session=\"deccf6b4044ace42b5d79a0352bfcee2\", element=\"41e20e94-01a7-425d-84e4-aa46903e61d3\")>,\n",
       " <selenium.webdriver.remote.webelement.WebElement (session=\"deccf6b4044ace42b5d79a0352bfcee2\", element=\"2aa1c6a6-8c67-453b-91e3-6051127717c5\")>,\n",
       " <selenium.webdriver.remote.webelement.WebElement (session=\"deccf6b4044ace42b5d79a0352bfcee2\", element=\"93c23e4f-67b2-4181-9e6c-3e642c990bd3\")>]"
      ]
     },
     "execution_count": 138,
     "metadata": {},
     "output_type": "execute_result"
    }
   ],
   "source": [
    "Review_tags=driver.find_elements_by_xpath(\"//p[@class='_2-N8zT']\")\n",
    "Review_tags[0:5]"
   ]
  },
  {
   "cell_type": "code",
   "execution_count": 139,
   "id": "f4d86b91",
   "metadata": {},
   "outputs": [
    {
     "data": {
      "text/plain": [
       "['Fabulous!', 'Must buy!', 'Perfect product!', 'Simply awesome', 'Wonderful']"
      ]
     },
     "execution_count": 139,
     "metadata": {},
     "output_type": "execute_result"
    }
   ],
   "source": [
    "for i in Review_tags:\n",
    "    Reviews=i.text\n",
    "    Review_summary.append(Reviews)\n",
    "Review_summary[0:5]"
   ]
  },
  {
   "cell_type": "code",
   "execution_count": 140,
   "id": "462eba02",
   "metadata": {},
   "outputs": [
    {
     "data": {
      "text/plain": [
       "[<selenium.webdriver.remote.webelement.WebElement (session=\"deccf6b4044ace42b5d79a0352bfcee2\", element=\"a70bcd45-54eb-4431-8d77-2765c7c0b9c7\")>,\n",
       " <selenium.webdriver.remote.webelement.WebElement (session=\"deccf6b4044ace42b5d79a0352bfcee2\", element=\"a4975245-9740-41f7-960b-98c7704f4d9d\")>,\n",
       " <selenium.webdriver.remote.webelement.WebElement (session=\"deccf6b4044ace42b5d79a0352bfcee2\", element=\"ab5286d0-beff-4c1a-aa05-8685ccf7a62c\")>,\n",
       " <selenium.webdriver.remote.webelement.WebElement (session=\"deccf6b4044ace42b5d79a0352bfcee2\", element=\"b2d8389c-066f-4ec4-b103-3accee550a41\")>,\n",
       " <selenium.webdriver.remote.webelement.WebElement (session=\"deccf6b4044ace42b5d79a0352bfcee2\", element=\"d2ae3943-c6e7-4362-84d1-a6c543339d46\")>]"
      ]
     },
     "execution_count": 140,
     "metadata": {},
     "output_type": "execute_result"
    }
   ],
   "source": [
    "fullReview_tags=driver.find_elements_by_xpath(\"//div[@class='t-ZTKy']\")\n",
    "fullReview_tags[0:5]"
   ]
  },
  {
   "cell_type": "code",
   "execution_count": 141,
   "id": "0124430d",
   "metadata": {},
   "outputs": [
    {
     "data": {
      "text/plain": [
       "['awesome phone to have. it has got many smart features apart from mind blowing looks, camera, display, battery and sound. have fallen in love with this phone. must buy phone if you have got enough money. thanks to flipkart and apple of course..',\n",
       " 'Best Apple iPhone that i have bought at a very reasonable price, camera quality is next level just awesome n of superior quality android phones not even close(RIP) to that and also battery is really good but packaging by Flipkart of iPhone was very poor of such a expensive product, firstly im bit worried about the quality of product if i purchased it through online how was the product but i think now this was mine best decision to bought it through Flipkart online because i got genuine Apple...\\nREAD MORE',\n",
       " 'After 1 month use I found camera quality best compared to my previous Samsung note 10+.Display not good as note 10 also charging too slow.Apple should add fast charger like 11 plus and pro.Best phone for daily use',\n",
       " \"It's very high performances devise i am like the service of flipkart delevary very fast and packing very nice perfect phone\",\n",
       " 'I just directly switch from iphone 6s to iphone 11 .The best premium smartphone I recommend to everyone. Excellent quality and colors the iphone have in 11 series.\\nCamera quality is just awesome and the major feel when we hold in our hands. The sound quality and volume is also higher then the previous models.\\nI will recommend to buy iphone 11 instead of pro models , there is nothing much difference as this model contains everything which fulfill our needs.\\n\\nOnly one thing that I dislike abo...\\nREAD MORE']"
      ]
     },
     "execution_count": 141,
     "metadata": {},
     "output_type": "execute_result"
    }
   ],
   "source": [
    "for i in fullReview_tags:\n",
    "    Reviews=i.text\n",
    "    Full_review.append(Reviews)\n",
    "Full_review[0:5]"
   ]
  },
  {
   "cell_type": "code",
   "execution_count": 142,
   "id": "466342f0",
   "metadata": {},
   "outputs": [
    {
     "name": "stdout",
     "output_type": "stream",
     "text": [
      "10 10 10\n"
     ]
    }
   ],
   "source": [
    "print(len(Rating),len(Review_summary),len(Full_review))"
   ]
  },
  {
   "cell_type": "code",
   "execution_count": 143,
   "id": "b63b867c",
   "metadata": {},
   "outputs": [
    {
     "data": {
      "text/html": [
       "<div>\n",
       "<style scoped>\n",
       "    .dataframe tbody tr th:only-of-type {\n",
       "        vertical-align: middle;\n",
       "    }\n",
       "\n",
       "    .dataframe tbody tr th {\n",
       "        vertical-align: top;\n",
       "    }\n",
       "\n",
       "    .dataframe thead th {\n",
       "        text-align: right;\n",
       "    }\n",
       "</style>\n",
       "<table border=\"1\" class=\"dataframe\">\n",
       "  <thead>\n",
       "    <tr style=\"text-align: right;\">\n",
       "      <th></th>\n",
       "      <th>Rating</th>\n",
       "      <th>Review_summary</th>\n",
       "      <th>Full_review</th>\n",
       "    </tr>\n",
       "  </thead>\n",
       "  <tbody>\n",
       "    <tr>\n",
       "      <th>0</th>\n",
       "      <td>5</td>\n",
       "      <td>Fabulous!</td>\n",
       "      <td>awesome phone to have. it has got many smart f...</td>\n",
       "    </tr>\n",
       "    <tr>\n",
       "      <th>1</th>\n",
       "      <td>5</td>\n",
       "      <td>Must buy!</td>\n",
       "      <td>Best Apple iPhone that i have bought at a very...</td>\n",
       "    </tr>\n",
       "    <tr>\n",
       "      <th>2</th>\n",
       "      <td>5</td>\n",
       "      <td>Perfect product!</td>\n",
       "      <td>After 1 month use I found camera quality best ...</td>\n",
       "    </tr>\n",
       "    <tr>\n",
       "      <th>3</th>\n",
       "      <td>5</td>\n",
       "      <td>Simply awesome</td>\n",
       "      <td>It's very high performances devise i am like t...</td>\n",
       "    </tr>\n",
       "    <tr>\n",
       "      <th>4</th>\n",
       "      <td>5</td>\n",
       "      <td>Wonderful</td>\n",
       "      <td>I just directly switch from iphone 6s to iphon...</td>\n",
       "    </tr>\n",
       "    <tr>\n",
       "      <th>5</th>\n",
       "      <td>5</td>\n",
       "      <td>Terrific purchase</td>\n",
       "      <td>Upgraded from iphone 6 to 11 best phone for ip...</td>\n",
       "    </tr>\n",
       "    <tr>\n",
       "      <th>6</th>\n",
       "      <td>5</td>\n",
       "      <td>Terrific purchase</td>\n",
       "      <td>The built quality is not very premium.\\nThe ba...</td>\n",
       "    </tr>\n",
       "    <tr>\n",
       "      <th>7</th>\n",
       "      <td>5</td>\n",
       "      <td>Great product</td>\n",
       "      <td>Well you all know the specifications . One of ...</td>\n",
       "    </tr>\n",
       "    <tr>\n",
       "      <th>8</th>\n",
       "      <td>5</td>\n",
       "      <td>Excellent</td>\n",
       "      <td>Amazing camera and feel super machine I am not...</td>\n",
       "    </tr>\n",
       "    <tr>\n",
       "      <th>9</th>\n",
       "      <td>5</td>\n",
       "      <td>Mind-blowing purchase</td>\n",
       "      <td>This will help you more. See if you are planni...</td>\n",
       "    </tr>\n",
       "  </tbody>\n",
       "</table>\n",
       "</div>"
      ],
      "text/plain": [
       "  Rating         Review_summary  \\\n",
       "0      5              Fabulous!   \n",
       "1      5              Must buy!   \n",
       "2      5       Perfect product!   \n",
       "3      5         Simply awesome   \n",
       "4      5              Wonderful   \n",
       "5      5      Terrific purchase   \n",
       "6      5      Terrific purchase   \n",
       "7      5          Great product   \n",
       "8      5              Excellent   \n",
       "9      5  Mind-blowing purchase   \n",
       "\n",
       "                                         Full_review  \n",
       "0  awesome phone to have. it has got many smart f...  \n",
       "1  Best Apple iPhone that i have bought at a very...  \n",
       "2  After 1 month use I found camera quality best ...  \n",
       "3  It's very high performances devise i am like t...  \n",
       "4  I just directly switch from iphone 6s to iphon...  \n",
       "5  Upgraded from iphone 6 to 11 best phone for ip...  \n",
       "6  The built quality is not very premium.\\nThe ba...  \n",
       "7  Well you all know the specifications . One of ...  \n",
       "8  Amazing camera and feel super machine I am not...  \n",
       "9  This will help you more. See if you are planni...  "
      ]
     },
     "execution_count": 143,
     "metadata": {},
     "output_type": "execute_result"
    }
   ],
   "source": [
    "import pandas as pd\n",
    "jobs=pd.DataFrame({})\n",
    "jobs['Rating']=Rating\n",
    "jobs['Review_summary']=Review_summary\n",
    "jobs['Full_review']=Full_review\n",
    "jobs"
   ]
  },
  {
   "cell_type": "markdown",
   "id": "9577edbd",
   "metadata": {},
   "source": [
    "que.5 only 40 data fetch more data left and geting in together"
   ]
  },
  {
   "cell_type": "code",
   "execution_count": 146,
   "id": "c3ba9cc9",
   "metadata": {},
   "outputs": [],
   "source": [
    "fifthpage_button=driver.find_element_by_xpath(\"/html/body/div/div/div[3]/div/div/div[2]/div[13]/div/div/nav/a[12]/span\")\n",
    "fifthpage_button.click()"
   ]
  },
  {
   "cell_type": "code",
   "execution_count": 147,
   "id": "9ae17981",
   "metadata": {},
   "outputs": [],
   "source": [
    "Rating =[]\n",
    "Review_summary=[]\n",
    "Full_review =[]"
   ]
  },
  {
   "cell_type": "code",
   "execution_count": 148,
   "id": "b27fe1c9",
   "metadata": {},
   "outputs": [
    {
     "data": {
      "text/plain": [
       "[<selenium.webdriver.remote.webelement.WebElement (session=\"deccf6b4044ace42b5d79a0352bfcee2\", element=\"6e560bc8-314d-4631-aa83-070044f67a79\")>,\n",
       " <selenium.webdriver.remote.webelement.WebElement (session=\"deccf6b4044ace42b5d79a0352bfcee2\", element=\"57f8f6ab-5644-4a27-95d3-ea1c5cf8808f\")>,\n",
       " <selenium.webdriver.remote.webelement.WebElement (session=\"deccf6b4044ace42b5d79a0352bfcee2\", element=\"a24b40db-b5ca-4b84-a496-06bc5e07ebdf\")>,\n",
       " <selenium.webdriver.remote.webelement.WebElement (session=\"deccf6b4044ace42b5d79a0352bfcee2\", element=\"5350fbe0-43a3-40e8-aa56-4095679e2217\")>]"
      ]
     },
     "execution_count": 148,
     "metadata": {},
     "output_type": "execute_result"
    }
   ],
   "source": [
    "Rating_tags=driver.find_elements_by_xpath(\"//div[@class='_3LWZlK _1BLPMq']\")\n",
    "Rating_tags[0:4]"
   ]
  },
  {
   "cell_type": "code",
   "execution_count": 149,
   "id": "f2c086b9",
   "metadata": {},
   "outputs": [
    {
     "data": {
      "text/plain": [
       "['5', '5', '5', '4']"
      ]
     },
     "execution_count": 149,
     "metadata": {},
     "output_type": "execute_result"
    }
   ],
   "source": [
    "for i in Rating_tags:\n",
    "    Ratings=i.text\n",
    "    Rating.append(Ratings)\n",
    "Rating[0:4]"
   ]
  },
  {
   "cell_type": "code",
   "execution_count": 150,
   "id": "4dac5f1a",
   "metadata": {},
   "outputs": [
    {
     "data": {
      "text/plain": [
       "[<selenium.webdriver.remote.webelement.WebElement (session=\"deccf6b4044ace42b5d79a0352bfcee2\", element=\"a1265008-1e64-463b-8c88-e1bf7f89091f\")>,\n",
       " <selenium.webdriver.remote.webelement.WebElement (session=\"deccf6b4044ace42b5d79a0352bfcee2\", element=\"d409b9ef-a39d-478e-96a5-2b5e4d2a6fa2\")>,\n",
       " <selenium.webdriver.remote.webelement.WebElement (session=\"deccf6b4044ace42b5d79a0352bfcee2\", element=\"4fa450e4-386c-474b-bf72-85e5dea895a6\")>,\n",
       " <selenium.webdriver.remote.webelement.WebElement (session=\"deccf6b4044ace42b5d79a0352bfcee2\", element=\"4027c77c-bbd4-4aff-86f0-f7c3528aa2ad\")>,\n",
       " <selenium.webdriver.remote.webelement.WebElement (session=\"deccf6b4044ace42b5d79a0352bfcee2\", element=\"62ad5474-1941-4f46-95bb-2e0f8dc2a003\")>]"
      ]
     },
     "execution_count": 150,
     "metadata": {},
     "output_type": "execute_result"
    }
   ],
   "source": [
    "Review_tags=driver.find_elements_by_xpath(\"//p[@class='_2-N8zT']\")\n",
    "Review_tags[0:5]"
   ]
  },
  {
   "cell_type": "code",
   "execution_count": 151,
   "id": "29c2b39d",
   "metadata": {},
   "outputs": [
    {
     "data": {
      "text/plain": [
       "['Wonderful', 'Must buy!', 'Just wow!', 'Very Good', 'Wonderful']"
      ]
     },
     "execution_count": 151,
     "metadata": {},
     "output_type": "execute_result"
    }
   ],
   "source": [
    "for i in Review_tags:\n",
    "    Reviews=i.text\n",
    "    Review_summary.append(Reviews)\n",
    "Review_summary[0:5]"
   ]
  },
  {
   "cell_type": "code",
   "execution_count": 152,
   "id": "fea97346",
   "metadata": {},
   "outputs": [
    {
     "data": {
      "text/plain": [
       "[<selenium.webdriver.remote.webelement.WebElement (session=\"deccf6b4044ace42b5d79a0352bfcee2\", element=\"fefd352e-ade4-4e91-ad24-99ef5cdb3900\")>,\n",
       " <selenium.webdriver.remote.webelement.WebElement (session=\"deccf6b4044ace42b5d79a0352bfcee2\", element=\"26597404-8666-4bd4-8a88-693552d2eda1\")>,\n",
       " <selenium.webdriver.remote.webelement.WebElement (session=\"deccf6b4044ace42b5d79a0352bfcee2\", element=\"75b15517-941e-43cf-a8d8-c662dee4c61f\")>,\n",
       " <selenium.webdriver.remote.webelement.WebElement (session=\"deccf6b4044ace42b5d79a0352bfcee2\", element=\"efe7d6f9-9f09-411c-bdf4-6fcb28ea461f\")>,\n",
       " <selenium.webdriver.remote.webelement.WebElement (session=\"deccf6b4044ace42b5d79a0352bfcee2\", element=\"dd5736a1-adb5-4684-8db1-9cbfb6b485d7\")>]"
      ]
     },
     "execution_count": 152,
     "metadata": {},
     "output_type": "execute_result"
    }
   ],
   "source": [
    "fullReview_tags=driver.find_elements_by_xpath(\"//div[@class='t-ZTKy']\")\n",
    "fullReview_tags[0:5]"
   ]
  },
  {
   "cell_type": "code",
   "execution_count": 153,
   "id": "6fd6409f",
   "metadata": {},
   "outputs": [
    {
     "data": {
      "text/plain": [
       "['Superfast delivery by Flipkart. Thanks.\\n\\n1. iPhone 11 is a pretty solid phone for the money you are paying.\\n2. All the bad reviews about the display is confusing. It’s not that bad.\\n3. I switched from a Oneplus 7t. I have no complaints about the display quality of iPhone. Yes, it’s not OLED, so, we are missing on the deep blacks. But that’s it. It is a very colour accurate display. Gets adequately bright and I could not find any pixelation.\\n4. Performance is one of the best, if not best, in ...\\nREAD MORE',\n",
       " 'I rate this product 5* as it has got amazing user experience with the best performing A13 bionic processor. The screen responds and graphics rendering is top notch. With casual gaming and internet browsing, the battery lasts for approx. 1 day. Camera is very good. You will fall in love with the portrait mode. You can call me a loyal Apple customer or whatever but I won’t stop praising the products and overall experience. That user experience matters and is worth every penny you pay.\\n\\nBelow ar...\\nREAD MORE',\n",
       " 'The ultimate performance\\nCamera is superb\\nThe battery backup also very good i never saw iphone gives this much of battery backup\\nIf any one wana buy iphone 11 definitely i will recommend this mobile\\nIt has the better battery and powerfull processer peak performance glorious camera and the display also 100% high quality lcd display if u had money for for 12 if u dont wana invest much money on that then go for iphone 11 it has maximum same specs only main difference between the 12 and 11 is...\\nREAD MORE',\n",
       " 'impressive super phone and best in class camera ,sound and face unlock is super fast just see and phone is unlock and fast in daily apps use',\n",
       " 'Super and marvellous phone look very cute and nice sound. I love this phone i think white is good colur.Excellent camer 5*😍😘♥️♥️']"
      ]
     },
     "execution_count": 153,
     "metadata": {},
     "output_type": "execute_result"
    }
   ],
   "source": [
    "for i in fullReview_tags:\n",
    "    Reviews=i.text\n",
    "    Full_review.append(Reviews)\n",
    "Full_review[0:5]"
   ]
  },
  {
   "cell_type": "code",
   "execution_count": 154,
   "id": "4011520a",
   "metadata": {},
   "outputs": [
    {
     "name": "stdout",
     "output_type": "stream",
     "text": [
      "10 10 10\n"
     ]
    }
   ],
   "source": [
    "print(len(Rating),len(Review_summary),len(Full_review))"
   ]
  },
  {
   "cell_type": "code",
   "execution_count": 155,
   "id": "dd1654e3",
   "metadata": {},
   "outputs": [
    {
     "data": {
      "text/html": [
       "<div>\n",
       "<style scoped>\n",
       "    .dataframe tbody tr th:only-of-type {\n",
       "        vertical-align: middle;\n",
       "    }\n",
       "\n",
       "    .dataframe tbody tr th {\n",
       "        vertical-align: top;\n",
       "    }\n",
       "\n",
       "    .dataframe thead th {\n",
       "        text-align: right;\n",
       "    }\n",
       "</style>\n",
       "<table border=\"1\" class=\"dataframe\">\n",
       "  <thead>\n",
       "    <tr style=\"text-align: right;\">\n",
       "      <th></th>\n",
       "      <th>Rating</th>\n",
       "      <th>Review_summary</th>\n",
       "      <th>Full_review</th>\n",
       "    </tr>\n",
       "  </thead>\n",
       "  <tbody>\n",
       "    <tr>\n",
       "      <th>0</th>\n",
       "      <td>5</td>\n",
       "      <td>Wonderful</td>\n",
       "      <td>Superfast delivery by Flipkart. Thanks.\\n\\n1. ...</td>\n",
       "    </tr>\n",
       "    <tr>\n",
       "      <th>1</th>\n",
       "      <td>5</td>\n",
       "      <td>Must buy!</td>\n",
       "      <td>I rate this product 5* as it has got amazing u...</td>\n",
       "    </tr>\n",
       "    <tr>\n",
       "      <th>2</th>\n",
       "      <td>5</td>\n",
       "      <td>Just wow!</td>\n",
       "      <td>The ultimate performance\\nCamera is superb\\nTh...</td>\n",
       "    </tr>\n",
       "    <tr>\n",
       "      <th>3</th>\n",
       "      <td>4</td>\n",
       "      <td>Very Good</td>\n",
       "      <td>impressive super phone and best in class camer...</td>\n",
       "    </tr>\n",
       "    <tr>\n",
       "      <th>4</th>\n",
       "      <td>5</td>\n",
       "      <td>Wonderful</td>\n",
       "      <td>Super and marvellous phone look very cute and ...</td>\n",
       "    </tr>\n",
       "    <tr>\n",
       "      <th>5</th>\n",
       "      <td>5</td>\n",
       "      <td>Classy product</td>\n",
       "      <td>Well while switching from android to iOS the f...</td>\n",
       "    </tr>\n",
       "    <tr>\n",
       "      <th>6</th>\n",
       "      <td>5</td>\n",
       "      <td>Just wow!</td>\n",
       "      <td>Best in class. Battery backup is good especial...</td>\n",
       "    </tr>\n",
       "    <tr>\n",
       "      <th>7</th>\n",
       "      <td>5</td>\n",
       "      <td>Awesome</td>\n",
       "      <td>Very excited to have this phone. This phone ha...</td>\n",
       "    </tr>\n",
       "    <tr>\n",
       "      <th>8</th>\n",
       "      <td>5</td>\n",
       "      <td>Mind-blowing purchase</td>\n",
       "      <td>Excellent camera 📸 And Display touching very N...</td>\n",
       "    </tr>\n",
       "    <tr>\n",
       "      <th>9</th>\n",
       "      <td>4</td>\n",
       "      <td>Pretty good</td>\n",
       "      <td>I was using Iphone 6s and also Oneplus 6t. Bot...</td>\n",
       "    </tr>\n",
       "  </tbody>\n",
       "</table>\n",
       "</div>"
      ],
      "text/plain": [
       "  Rating         Review_summary  \\\n",
       "0      5              Wonderful   \n",
       "1      5              Must buy!   \n",
       "2      5              Just wow!   \n",
       "3      4              Very Good   \n",
       "4      5              Wonderful   \n",
       "5      5         Classy product   \n",
       "6      5              Just wow!   \n",
       "7      5                Awesome   \n",
       "8      5  Mind-blowing purchase   \n",
       "9      4            Pretty good   \n",
       "\n",
       "                                         Full_review  \n",
       "0  Superfast delivery by Flipkart. Thanks.\\n\\n1. ...  \n",
       "1  I rate this product 5* as it has got amazing u...  \n",
       "2  The ultimate performance\\nCamera is superb\\nTh...  \n",
       "3  impressive super phone and best in class camer...  \n",
       "4  Super and marvellous phone look very cute and ...  \n",
       "5  Well while switching from android to iOS the f...  \n",
       "6  Best in class. Battery backup is good especial...  \n",
       "7  Very excited to have this phone. This phone ha...  \n",
       "8  Excellent camera 📸 And Display touching very N...  \n",
       "9  I was using Iphone 6s and also Oneplus 6t. Bot...  "
      ]
     },
     "execution_count": 155,
     "metadata": {},
     "output_type": "execute_result"
    }
   ],
   "source": [
    "import pandas as pd\n",
    "jobs=pd.DataFrame({})\n",
    "jobs['Rating']=Rating\n",
    "jobs['Review_summary']=Review_summary\n",
    "jobs['Full_review']=Full_review\n",
    "jobs"
   ]
  },
  {
   "cell_type": "code",
   "execution_count": 156,
   "id": "571820a5",
   "metadata": {},
   "outputs": [],
   "source": [
    "sixthpage_button=driver.find_element_by_xpath(\"/html/body/div/div/div[3]/div/div/div[2]/div[13]/div/div/nav/a[12]/span\")\n",
    "sixthpage_button.click()"
   ]
  },
  {
   "cell_type": "code",
   "execution_count": 157,
   "id": "7d977ba9",
   "metadata": {},
   "outputs": [],
   "source": [
    "Rating =[]\n",
    "Review_summary=[]\n",
    "Full_review =[]"
   ]
  },
  {
   "cell_type": "code",
   "execution_count": 158,
   "id": "2fdfc36f",
   "metadata": {},
   "outputs": [
    {
     "data": {
      "text/plain": [
       "[<selenium.webdriver.remote.webelement.WebElement (session=\"deccf6b4044ace42b5d79a0352bfcee2\", element=\"be4fd584-317d-42da-96d8-f2038e19b3ba\")>,\n",
       " <selenium.webdriver.remote.webelement.WebElement (session=\"deccf6b4044ace42b5d79a0352bfcee2\", element=\"65b7d20e-8274-43b3-84b9-ee800edca46c\")>,\n",
       " <selenium.webdriver.remote.webelement.WebElement (session=\"deccf6b4044ace42b5d79a0352bfcee2\", element=\"d4705a25-91af-4541-8b7e-c72a2b522108\")>,\n",
       " <selenium.webdriver.remote.webelement.WebElement (session=\"deccf6b4044ace42b5d79a0352bfcee2\", element=\"c78fbd0c-36cb-44c6-84a8-58a5b48d503c\")>]"
      ]
     },
     "execution_count": 158,
     "metadata": {},
     "output_type": "execute_result"
    }
   ],
   "source": [
    "Rating_tags=driver.find_elements_by_xpath(\"//div[@class='_3LWZlK _1BLPMq']\")\n",
    "Rating_tags[0:4]"
   ]
  },
  {
   "cell_type": "code",
   "execution_count": 159,
   "id": "ebf7009f",
   "metadata": {},
   "outputs": [
    {
     "data": {
      "text/plain": [
       "['5', '5', '5', '5']"
      ]
     },
     "execution_count": 159,
     "metadata": {},
     "output_type": "execute_result"
    }
   ],
   "source": [
    "for i in Rating_tags:\n",
    "    Ratings=i.text\n",
    "    Rating.append(Ratings)\n",
    "Rating[0:4]"
   ]
  },
  {
   "cell_type": "code",
   "execution_count": 160,
   "id": "6a5a0bde",
   "metadata": {},
   "outputs": [
    {
     "data": {
      "text/plain": [
       "[<selenium.webdriver.remote.webelement.WebElement (session=\"deccf6b4044ace42b5d79a0352bfcee2\", element=\"6016f3a7-85d6-4099-a8d8-f5d9e7364c65\")>,\n",
       " <selenium.webdriver.remote.webelement.WebElement (session=\"deccf6b4044ace42b5d79a0352bfcee2\", element=\"c4c70f62-f6b4-4ccf-883e-708e78aa9049\")>,\n",
       " <selenium.webdriver.remote.webelement.WebElement (session=\"deccf6b4044ace42b5d79a0352bfcee2\", element=\"b99babf3-60e4-491d-b1ef-73c063a91a0f\")>,\n",
       " <selenium.webdriver.remote.webelement.WebElement (session=\"deccf6b4044ace42b5d79a0352bfcee2\", element=\"ae0aaa58-b0bd-4be5-b210-87e85eb0fb63\")>,\n",
       " <selenium.webdriver.remote.webelement.WebElement (session=\"deccf6b4044ace42b5d79a0352bfcee2\", element=\"7ac3f544-48db-4780-96a7-add890946b07\")>]"
      ]
     },
     "execution_count": 160,
     "metadata": {},
     "output_type": "execute_result"
    }
   ],
   "source": [
    "Review_tags=driver.find_elements_by_xpath(\"//p[@class='_2-N8zT']\")\n",
    "Review_tags[0:5]"
   ]
  },
  {
   "cell_type": "code",
   "execution_count": 161,
   "id": "d09ad857",
   "metadata": {},
   "outputs": [
    {
     "data": {
      "text/plain": [
       "['Terrific purchase', 'Awesome', 'Classy product', 'Brilliant', 'Terrific']"
      ]
     },
     "execution_count": 161,
     "metadata": {},
     "output_type": "execute_result"
    }
   ],
   "source": [
    "for i in Review_tags:\n",
    "    Reviews=i.text\n",
    "    Review_summary.append(Reviews)\n",
    "Review_summary[0:5]"
   ]
  },
  {
   "cell_type": "code",
   "execution_count": 162,
   "id": "38bf6465",
   "metadata": {},
   "outputs": [
    {
     "data": {
      "text/plain": [
       "[<selenium.webdriver.remote.webelement.WebElement (session=\"deccf6b4044ace42b5d79a0352bfcee2\", element=\"aa248863-e092-4bb9-ab19-bcc1ecee1b94\")>,\n",
       " <selenium.webdriver.remote.webelement.WebElement (session=\"deccf6b4044ace42b5d79a0352bfcee2\", element=\"11d3efee-494e-475c-975e-5270948a5e96\")>,\n",
       " <selenium.webdriver.remote.webelement.WebElement (session=\"deccf6b4044ace42b5d79a0352bfcee2\", element=\"a1f0d871-d721-4796-ac12-29329b781857\")>,\n",
       " <selenium.webdriver.remote.webelement.WebElement (session=\"deccf6b4044ace42b5d79a0352bfcee2\", element=\"ee29773b-aad9-4805-96dd-bc189376008b\")>,\n",
       " <selenium.webdriver.remote.webelement.WebElement (session=\"deccf6b4044ace42b5d79a0352bfcee2\", element=\"c58f99d7-ca9f-453d-a776-dc2f4ed4b890\")>]"
      ]
     },
     "execution_count": 162,
     "metadata": {},
     "output_type": "execute_result"
    }
   ],
   "source": [
    "fullReview_tags=driver.find_elements_by_xpath(\"//div[@class='t-ZTKy']\")\n",
    "fullReview_tags[0:5]"
   ]
  },
  {
   "cell_type": "code",
   "execution_count": 163,
   "id": "70c3d91b",
   "metadata": {},
   "outputs": [
    {
     "data": {
      "text/plain": [
       "['Its Very awesome product working and good camera quality and all about best product and also flipkart is very great deal and offer nice price',\n",
       " 'I am using this phone for 5 days and its one of the best camera out there ❤️ the screen is not oled and i am coming from iphone xs so its little bit not up to the mark i would say\\nBut overall value for money💕😍the battery back up is far better than my iphone xs and its worth in my apple ecosystem💫❤️if u are an apple User and have the eco system then go for it❤️though i will be getting the new iphone but its pretty good💫',\n",
       " 'Best and amazing product.....phone looks so premium.... battary is also good as expected .... Wide angle camera is so addictive ...if you are a IOS lover....then this phone will be the best choice for you all!!💯🔥',\n",
       " 'Excellent camera and display touching very nice and smooth very improvement against iPhone XR and new processor is very fast',\n",
       " \"I got this beast today. And I must say the picture quality of its camera is awesome. Both the cameras works fine.\\n\\nAs for as the processing is concerned, it runs without any lag. You can play and do whatever you want without a glitch.\\n\\nThe battery runs for a day with medium and high workload.\\n\\nThe display is good and the speakers are working fine.\\n\\nThe earphones doesn't have any base and you can use it for calling mostly.\\n\\nThe charging time is approximately for 90 minutes for full charging...\\nREAD MORE\"]"
      ]
     },
     "execution_count": 163,
     "metadata": {},
     "output_type": "execute_result"
    }
   ],
   "source": [
    "for i in fullReview_tags:\n",
    "    Reviews=i.text\n",
    "    Full_review.append(Reviews)\n",
    "Full_review[0:5]"
   ]
  },
  {
   "cell_type": "code",
   "execution_count": 164,
   "id": "85f5a9d6",
   "metadata": {},
   "outputs": [
    {
     "name": "stdout",
     "output_type": "stream",
     "text": [
      "10 10 10\n"
     ]
    }
   ],
   "source": [
    "print(len(Rating),len(Review_summary),len(Full_review))"
   ]
  },
  {
   "cell_type": "code",
   "execution_count": 165,
   "id": "cfde1707",
   "metadata": {},
   "outputs": [
    {
     "data": {
      "text/html": [
       "<div>\n",
       "<style scoped>\n",
       "    .dataframe tbody tr th:only-of-type {\n",
       "        vertical-align: middle;\n",
       "    }\n",
       "\n",
       "    .dataframe tbody tr th {\n",
       "        vertical-align: top;\n",
       "    }\n",
       "\n",
       "    .dataframe thead th {\n",
       "        text-align: right;\n",
       "    }\n",
       "</style>\n",
       "<table border=\"1\" class=\"dataframe\">\n",
       "  <thead>\n",
       "    <tr style=\"text-align: right;\">\n",
       "      <th></th>\n",
       "      <th>Rating</th>\n",
       "      <th>Review_summary</th>\n",
       "      <th>Full_review</th>\n",
       "    </tr>\n",
       "  </thead>\n",
       "  <tbody>\n",
       "    <tr>\n",
       "      <th>0</th>\n",
       "      <td>5</td>\n",
       "      <td>Terrific purchase</td>\n",
       "      <td>Its Very awesome product working and good came...</td>\n",
       "    </tr>\n",
       "    <tr>\n",
       "      <th>1</th>\n",
       "      <td>5</td>\n",
       "      <td>Awesome</td>\n",
       "      <td>I am using this phone for 5 days and its one o...</td>\n",
       "    </tr>\n",
       "    <tr>\n",
       "      <th>2</th>\n",
       "      <td>5</td>\n",
       "      <td>Classy product</td>\n",
       "      <td>Best and amazing product.....phone looks so pr...</td>\n",
       "    </tr>\n",
       "    <tr>\n",
       "      <th>3</th>\n",
       "      <td>5</td>\n",
       "      <td>Brilliant</td>\n",
       "      <td>Excellent camera and display touching very nic...</td>\n",
       "    </tr>\n",
       "    <tr>\n",
       "      <th>4</th>\n",
       "      <td>5</td>\n",
       "      <td>Terrific</td>\n",
       "      <td>I got this beast today. And I must say the pic...</td>\n",
       "    </tr>\n",
       "    <tr>\n",
       "      <th>5</th>\n",
       "      <td>5</td>\n",
       "      <td>Perfect product!</td>\n",
       "      <td>Awesome purchase. Amazing phone with good batt...</td>\n",
       "    </tr>\n",
       "    <tr>\n",
       "      <th>6</th>\n",
       "      <td>5</td>\n",
       "      <td>Awesome</td>\n",
       "      <td>Always love the apple products, upgraded from ...</td>\n",
       "    </tr>\n",
       "    <tr>\n",
       "      <th>7</th>\n",
       "      <td>3</td>\n",
       "      <td>Does the job</td>\n",
       "      <td>phone is good but in display is 720p lcd in th...</td>\n",
       "    </tr>\n",
       "    <tr>\n",
       "      <th>8</th>\n",
       "      <td>5</td>\n",
       "      <td>Perfect product!</td>\n",
       "      <td>Value for money\\n5 star rating\\nExcellent came...</td>\n",
       "    </tr>\n",
       "    <tr>\n",
       "      <th>9</th>\n",
       "      <td>5</td>\n",
       "      <td>Highly recommended</td>\n",
       "      <td>Thanks Flipkart For this amazing deal! I had a...</td>\n",
       "    </tr>\n",
       "  </tbody>\n",
       "</table>\n",
       "</div>"
      ],
      "text/plain": [
       "  Rating      Review_summary  \\\n",
       "0      5   Terrific purchase   \n",
       "1      5             Awesome   \n",
       "2      5      Classy product   \n",
       "3      5           Brilliant   \n",
       "4      5            Terrific   \n",
       "5      5    Perfect product!   \n",
       "6      5             Awesome   \n",
       "7      3        Does the job   \n",
       "8      5    Perfect product!   \n",
       "9      5  Highly recommended   \n",
       "\n",
       "                                         Full_review  \n",
       "0  Its Very awesome product working and good came...  \n",
       "1  I am using this phone for 5 days and its one o...  \n",
       "2  Best and amazing product.....phone looks so pr...  \n",
       "3  Excellent camera and display touching very nic...  \n",
       "4  I got this beast today. And I must say the pic...  \n",
       "5  Awesome purchase. Amazing phone with good batt...  \n",
       "6  Always love the apple products, upgraded from ...  \n",
       "7  phone is good but in display is 720p lcd in th...  \n",
       "8  Value for money\\n5 star rating\\nExcellent came...  \n",
       "9  Thanks Flipkart For this amazing deal! I had a...  "
      ]
     },
     "execution_count": 165,
     "metadata": {},
     "output_type": "execute_result"
    }
   ],
   "source": [
    "import pandas as pd\n",
    "jobs=pd.DataFrame({})\n",
    "jobs['Rating']=Rating\n",
    "jobs['Review_summary']=Review_summary\n",
    "jobs['Full_review']=Full_review\n",
    "jobs"
   ]
  },
  {
   "cell_type": "code",
   "execution_count": 213,
   "id": "94fcd5b2",
   "metadata": {},
   "outputs": [],
   "source": [
    "sevenpage_button=driver.find_element_by_xpath(\"/html/body/div/div/div[3]/div/div/div[2]/div[13]/div/div/nav/a[12]/span\")\n",
    "sevenpage_button.click()"
   ]
  },
  {
   "cell_type": "code",
   "execution_count": 214,
   "id": "11527283",
   "metadata": {},
   "outputs": [],
   "source": [
    "Rating =[]\n",
    "Review_summary=[]\n",
    "Full_review =[]"
   ]
  },
  {
   "cell_type": "code",
   "execution_count": 215,
   "id": "2201eaa3",
   "metadata": {},
   "outputs": [
    {
     "data": {
      "text/plain": [
       "[<selenium.webdriver.remote.webelement.WebElement (session=\"deccf6b4044ace42b5d79a0352bfcee2\", element=\"ced5aa92-c09f-4a81-aff5-4193c1b63043\")>,\n",
       " <selenium.webdriver.remote.webelement.WebElement (session=\"deccf6b4044ace42b5d79a0352bfcee2\", element=\"21ff9434-1421-47f1-b5f0-3d5264b87ae5\")>,\n",
       " <selenium.webdriver.remote.webelement.WebElement (session=\"deccf6b4044ace42b5d79a0352bfcee2\", element=\"f1b95978-3e69-4ba1-a143-f02b047c12a4\")>,\n",
       " <selenium.webdriver.remote.webelement.WebElement (session=\"deccf6b4044ace42b5d79a0352bfcee2\", element=\"78c39275-7a04-4ebc-a87e-bece951761e3\")>]"
      ]
     },
     "execution_count": 215,
     "metadata": {},
     "output_type": "execute_result"
    }
   ],
   "source": [
    "Rating_tags=driver.find_elements_by_xpath(\"//div[@class='_3LWZlK _1BLPMq']\")\n",
    "Rating_tags[0:4]"
   ]
  },
  {
   "cell_type": "code",
   "execution_count": 216,
   "id": "c170db72",
   "metadata": {},
   "outputs": [
    {
     "data": {
      "text/plain": [
       "['5', '5', '5', '5']"
      ]
     },
     "execution_count": 216,
     "metadata": {},
     "output_type": "execute_result"
    }
   ],
   "source": [
    "for i in Rating_tags:\n",
    "    Ratings=i.text\n",
    "    Rating.append(Ratings)\n",
    "Rating[0:4]"
   ]
  },
  {
   "cell_type": "code",
   "execution_count": 217,
   "id": "cf6243d6",
   "metadata": {},
   "outputs": [
    {
     "data": {
      "text/plain": [
       "[<selenium.webdriver.remote.webelement.WebElement (session=\"deccf6b4044ace42b5d79a0352bfcee2\", element=\"11dad8b0-1640-4afb-9b8b-a36074aa1670\")>,\n",
       " <selenium.webdriver.remote.webelement.WebElement (session=\"deccf6b4044ace42b5d79a0352bfcee2\", element=\"b95487db-0b35-41bd-aa47-41fe562b1a40\")>,\n",
       " <selenium.webdriver.remote.webelement.WebElement (session=\"deccf6b4044ace42b5d79a0352bfcee2\", element=\"b6ce91d9-a4a2-467a-b969-fac9c895d4cb\")>,\n",
       " <selenium.webdriver.remote.webelement.WebElement (session=\"deccf6b4044ace42b5d79a0352bfcee2\", element=\"2e2d766d-63ca-4742-9ebc-fb8fbdbf3dbf\")>,\n",
       " <selenium.webdriver.remote.webelement.WebElement (session=\"deccf6b4044ace42b5d79a0352bfcee2\", element=\"5cced3eb-4423-4027-a896-354ad6f52f82\")>]"
      ]
     },
     "execution_count": 217,
     "metadata": {},
     "output_type": "execute_result"
    }
   ],
   "source": [
    "Review_tags=driver.find_elements_by_xpath(\"//p[@class='_2-N8zT']\")\n",
    "Review_tags[0:5]"
   ]
  },
  {
   "cell_type": "code",
   "execution_count": 218,
   "id": "6108255e",
   "metadata": {},
   "outputs": [
    {
     "data": {
      "text/plain": [
       "['Mind-blowing purchase', 'Brilliant', 'Fabulous!', 'Terrific', 'Excellent']"
      ]
     },
     "execution_count": 218,
     "metadata": {},
     "output_type": "execute_result"
    }
   ],
   "source": [
    "for i in Review_tags:\n",
    "    Reviews=i.text\n",
    "    Review_summary.append(Reviews)\n",
    "Review_summary[0:5]"
   ]
  },
  {
   "cell_type": "code",
   "execution_count": 219,
   "id": "981f9d46",
   "metadata": {},
   "outputs": [
    {
     "data": {
      "text/plain": [
       "[<selenium.webdriver.remote.webelement.WebElement (session=\"deccf6b4044ace42b5d79a0352bfcee2\", element=\"840bb955-fd2f-42dc-abf5-4e691235ac88\")>,\n",
       " <selenium.webdriver.remote.webelement.WebElement (session=\"deccf6b4044ace42b5d79a0352bfcee2\", element=\"e4ea7579-747a-4cec-8bfd-4a196abb3b60\")>,\n",
       " <selenium.webdriver.remote.webelement.WebElement (session=\"deccf6b4044ace42b5d79a0352bfcee2\", element=\"f57e647c-44c3-4120-baaf-ecd6898ef1e3\")>,\n",
       " <selenium.webdriver.remote.webelement.WebElement (session=\"deccf6b4044ace42b5d79a0352bfcee2\", element=\"68547e1c-187d-4b65-b66f-83407273425a\")>,\n",
       " <selenium.webdriver.remote.webelement.WebElement (session=\"deccf6b4044ace42b5d79a0352bfcee2\", element=\"26c535e1-09c4-4e34-84db-0bfc5b28e910\")>]"
      ]
     },
     "execution_count": 219,
     "metadata": {},
     "output_type": "execute_result"
    }
   ],
   "source": [
    "fullReview_tags=driver.find_elements_by_xpath(\"//div[@class='t-ZTKy']\")\n",
    "fullReview_tags[0:5]"
   ]
  },
  {
   "cell_type": "code",
   "execution_count": 220,
   "id": "981cd63d",
   "metadata": {},
   "outputs": [
    {
     "data": {
      "text/plain": [
       "['awesome Phone Smooth Touch Too good Sexyy looks one word Awesome',\n",
       " 'A wort full value for money decision it’s . Simply go for it in 2021 its still a good decision . Awesome camera , Super smothered performance, Heck of build quality. And Most important it protects your privacy.',\n",
       " 'Gift this to your loved ones fabulous product and amazing super fast delivery by flipkart',\n",
       " 'I bought iPhone 11 On March 2021, And I am Writing this review after using the phone for 4 Months. I would Say Everything is fine, Top Performance, Nice Camera as Anyone would Expect from any series of iPhone but when the Question comes to Battery it is complicated. The Battery is fully optimised and it comes 3110 mAh capacity but the problem is with the charger. Honestly Apple Removed charger from in Box items in the name of Environment and they are also forcing us to buy any 20W PD 3rd part...\\nREAD MORE',\n",
       " \"Just go for it.\\nThis phone is really amazing. I ordered it for my wife and we click photos on this thing which are better than dslr. I own OnePlus 6t but it's camera sucks. iPhone is really amazing when it comes to camera. It's worth spending 50k on this. Cons- only display is lcd. While using u don't feel it but if u compare with other phone then u can see difference quite easily.\\nChanging from Android to iphone is bit difficult coz most of things u don't know but I liked it. Some of the a...\\nREAD MORE\"]"
      ]
     },
     "execution_count": 220,
     "metadata": {},
     "output_type": "execute_result"
    }
   ],
   "source": [
    "for i in fullReview_tags:\n",
    "    Reviews=i.text\n",
    "    Full_review.append(Reviews)\n",
    "Full_review[0:5]"
   ]
  },
  {
   "cell_type": "code",
   "execution_count": 221,
   "id": "817bbbb6",
   "metadata": {},
   "outputs": [
    {
     "name": "stdout",
     "output_type": "stream",
     "text": [
      "10 10 10\n"
     ]
    }
   ],
   "source": [
    "print(len(Rating),len(Review_summary),len(Full_review))"
   ]
  },
  {
   "cell_type": "code",
   "execution_count": 222,
   "id": "4d1b7440",
   "metadata": {},
   "outputs": [
    {
     "data": {
      "text/html": [
       "<div>\n",
       "<style scoped>\n",
       "    .dataframe tbody tr th:only-of-type {\n",
       "        vertical-align: middle;\n",
       "    }\n",
       "\n",
       "    .dataframe tbody tr th {\n",
       "        vertical-align: top;\n",
       "    }\n",
       "\n",
       "    .dataframe thead th {\n",
       "        text-align: right;\n",
       "    }\n",
       "</style>\n",
       "<table border=\"1\" class=\"dataframe\">\n",
       "  <thead>\n",
       "    <tr style=\"text-align: right;\">\n",
       "      <th></th>\n",
       "      <th>Rating</th>\n",
       "      <th>Review_summary</th>\n",
       "      <th>Full_review</th>\n",
       "    </tr>\n",
       "  </thead>\n",
       "  <tbody>\n",
       "    <tr>\n",
       "      <th>0</th>\n",
       "      <td>5</td>\n",
       "      <td>Mind-blowing purchase</td>\n",
       "      <td>awesome Phone Smooth Touch Too good Sexyy look...</td>\n",
       "    </tr>\n",
       "    <tr>\n",
       "      <th>1</th>\n",
       "      <td>5</td>\n",
       "      <td>Brilliant</td>\n",
       "      <td>A wort full value for money decision it’s . Si...</td>\n",
       "    </tr>\n",
       "    <tr>\n",
       "      <th>2</th>\n",
       "      <td>5</td>\n",
       "      <td>Fabulous!</td>\n",
       "      <td>Gift this to your loved ones fabulous product ...</td>\n",
       "    </tr>\n",
       "    <tr>\n",
       "      <th>3</th>\n",
       "      <td>5</td>\n",
       "      <td>Terrific</td>\n",
       "      <td>I bought iPhone 11 On March 2021, And I am Wri...</td>\n",
       "    </tr>\n",
       "    <tr>\n",
       "      <th>4</th>\n",
       "      <td>5</td>\n",
       "      <td>Excellent</td>\n",
       "      <td>Just go for it.\\nThis phone is really amazing....</td>\n",
       "    </tr>\n",
       "    <tr>\n",
       "      <th>5</th>\n",
       "      <td>5</td>\n",
       "      <td>Excellent</td>\n",
       "      <td>A perfect phone and a good battery super camer...</td>\n",
       "    </tr>\n",
       "    <tr>\n",
       "      <th>6</th>\n",
       "      <td>5</td>\n",
       "      <td>Super!</td>\n",
       "      <td>This is my first ever iPhone.\\nAnd I truly don...</td>\n",
       "    </tr>\n",
       "    <tr>\n",
       "      <th>7</th>\n",
       "      <td>5</td>\n",
       "      <td>Worth every penny</td>\n",
       "      <td>Undoubtedly Iphone 11 is the most successful m...</td>\n",
       "    </tr>\n",
       "    <tr>\n",
       "      <th>8</th>\n",
       "      <td>5</td>\n",
       "      <td>Fabulous!</td>\n",
       "      <td>I purchased the iPhone 11 a month back. I must...</td>\n",
       "    </tr>\n",
       "    <tr>\n",
       "      <th>9</th>\n",
       "      <td>5</td>\n",
       "      <td>Best in the market!</td>\n",
       "      <td>Don’t expect much from front camera… especiall...</td>\n",
       "    </tr>\n",
       "  </tbody>\n",
       "</table>\n",
       "</div>"
      ],
      "text/plain": [
       "  Rating         Review_summary  \\\n",
       "0      5  Mind-blowing purchase   \n",
       "1      5              Brilliant   \n",
       "2      5              Fabulous!   \n",
       "3      5               Terrific   \n",
       "4      5              Excellent   \n",
       "5      5              Excellent   \n",
       "6      5                 Super!   \n",
       "7      5      Worth every penny   \n",
       "8      5              Fabulous!   \n",
       "9      5    Best in the market!   \n",
       "\n",
       "                                         Full_review  \n",
       "0  awesome Phone Smooth Touch Too good Sexyy look...  \n",
       "1  A wort full value for money decision it’s . Si...  \n",
       "2  Gift this to your loved ones fabulous product ...  \n",
       "3  I bought iPhone 11 On March 2021, And I am Wri...  \n",
       "4  Just go for it.\\nThis phone is really amazing....  \n",
       "5  A perfect phone and a good battery super camer...  \n",
       "6  This is my first ever iPhone.\\nAnd I truly don...  \n",
       "7  Undoubtedly Iphone 11 is the most successful m...  \n",
       "8  I purchased the iPhone 11 a month back. I must...  \n",
       "9  Don’t expect much from front camera… especiall...  "
      ]
     },
     "execution_count": 222,
     "metadata": {},
     "output_type": "execute_result"
    }
   ],
   "source": [
    "import pandas as pd\n",
    "jobs=pd.DataFrame({})\n",
    "jobs['Rating']=Rating\n",
    "jobs['Review_summary']=Review_summary\n",
    "jobs['Full_review']=Full_review\n",
    "jobs"
   ]
  },
  {
   "cell_type": "code",
   "execution_count": 223,
   "id": "44f1b2c3",
   "metadata": {},
   "outputs": [],
   "source": [
    "Eighthpage_button=driver.find_element_by_xpath(\"/html/body/div/div/div[3]/div/div/div[2]/div[13]/div/div/nav/a[12]/span\")\n",
    "Eighthpage_button.click()"
   ]
  },
  {
   "cell_type": "code",
   "execution_count": 224,
   "id": "e0ae895d",
   "metadata": {},
   "outputs": [],
   "source": [
    "Rating =[]\n",
    "Review_summary=[]\n",
    "Full_review =[]"
   ]
  },
  {
   "cell_type": "code",
   "execution_count": 225,
   "id": "cb74b516",
   "metadata": {},
   "outputs": [
    {
     "data": {
      "text/plain": [
       "[<selenium.webdriver.remote.webelement.WebElement (session=\"deccf6b4044ace42b5d79a0352bfcee2\", element=\"be94199e-230e-4a48-859e-d0f5fccce80f\")>,\n",
       " <selenium.webdriver.remote.webelement.WebElement (session=\"deccf6b4044ace42b5d79a0352bfcee2\", element=\"21de6694-fa21-4489-92d1-dba52a489641\")>,\n",
       " <selenium.webdriver.remote.webelement.WebElement (session=\"deccf6b4044ace42b5d79a0352bfcee2\", element=\"8c147b0f-f0c8-492b-9e02-3db7addbec65\")>,\n",
       " <selenium.webdriver.remote.webelement.WebElement (session=\"deccf6b4044ace42b5d79a0352bfcee2\", element=\"4a9e58af-2fb6-470c-9d76-513aa333086d\")>]"
      ]
     },
     "execution_count": 225,
     "metadata": {},
     "output_type": "execute_result"
    }
   ],
   "source": [
    "Rating_tags=driver.find_elements_by_xpath(\"//div[@class='_3LWZlK _1BLPMq']\")\n",
    "Rating_tags[0:4]"
   ]
  },
  {
   "cell_type": "code",
   "execution_count": 226,
   "id": "e6c7d177",
   "metadata": {},
   "outputs": [
    {
     "data": {
      "text/plain": [
       "['4', '5', '5', '5']"
      ]
     },
     "execution_count": 226,
     "metadata": {},
     "output_type": "execute_result"
    }
   ],
   "source": [
    "for i in Rating_tags:\n",
    "    Ratings=i.text\n",
    "    Rating.append(Ratings)\n",
    "Rating[0:4]"
   ]
  },
  {
   "cell_type": "code",
   "execution_count": 227,
   "id": "c6be8668",
   "metadata": {},
   "outputs": [
    {
     "data": {
      "text/plain": [
       "[<selenium.webdriver.remote.webelement.WebElement (session=\"deccf6b4044ace42b5d79a0352bfcee2\", element=\"e2b90697-a229-4286-9507-6efeb911b7f5\")>,\n",
       " <selenium.webdriver.remote.webelement.WebElement (session=\"deccf6b4044ace42b5d79a0352bfcee2\", element=\"ededf217-01e1-4971-93d9-18504b252a41\")>,\n",
       " <selenium.webdriver.remote.webelement.WebElement (session=\"deccf6b4044ace42b5d79a0352bfcee2\", element=\"e34997a4-c5b3-471f-b97a-8f42acc22bdb\")>,\n",
       " <selenium.webdriver.remote.webelement.WebElement (session=\"deccf6b4044ace42b5d79a0352bfcee2\", element=\"2642cb03-57cb-4cb3-86c0-4cac57d34e87\")>,\n",
       " <selenium.webdriver.remote.webelement.WebElement (session=\"deccf6b4044ace42b5d79a0352bfcee2\", element=\"8b5af3a5-6db4-49df-892e-e6c825cb04a9\")>]"
      ]
     },
     "execution_count": 227,
     "metadata": {},
     "output_type": "execute_result"
    }
   ],
   "source": [
    "Review_tags=driver.find_elements_by_xpath(\"//p[@class='_2-N8zT']\")\n",
    "Review_tags[0:5]"
   ]
  },
  {
   "cell_type": "code",
   "execution_count": 228,
   "id": "c121f619",
   "metadata": {},
   "outputs": [
    {
     "data": {
      "text/plain": [
       "['Pretty good',\n",
       " 'Excellent',\n",
       " 'Worth every penny',\n",
       " 'Mind-blowing purchase',\n",
       " 'Fabulous!']"
      ]
     },
     "execution_count": 228,
     "metadata": {},
     "output_type": "execute_result"
    }
   ],
   "source": [
    "for i in Review_tags:\n",
    "    Reviews=i.text\n",
    "    Review_summary.append(Reviews)\n",
    "Review_summary[0:5]"
   ]
  },
  {
   "cell_type": "code",
   "execution_count": 229,
   "id": "2b3da42b",
   "metadata": {},
   "outputs": [
    {
     "data": {
      "text/plain": [
       "[<selenium.webdriver.remote.webelement.WebElement (session=\"deccf6b4044ace42b5d79a0352bfcee2\", element=\"d1909dc0-12c8-4464-b019-9a3f9e0d87e5\")>,\n",
       " <selenium.webdriver.remote.webelement.WebElement (session=\"deccf6b4044ace42b5d79a0352bfcee2\", element=\"7f6eaad2-c84c-4f15-9b3d-6b7cc18e9306\")>,\n",
       " <selenium.webdriver.remote.webelement.WebElement (session=\"deccf6b4044ace42b5d79a0352bfcee2\", element=\"2ecaf6b8-b30b-417e-9fdd-42f4b5d61920\")>,\n",
       " <selenium.webdriver.remote.webelement.WebElement (session=\"deccf6b4044ace42b5d79a0352bfcee2\", element=\"06389758-2dc8-48c2-b296-922cad1ea9b4\")>,\n",
       " <selenium.webdriver.remote.webelement.WebElement (session=\"deccf6b4044ace42b5d79a0352bfcee2\", element=\"af8dfe21-fa04-4897-b178-b80b71772fc9\")>]"
      ]
     },
     "execution_count": 229,
     "metadata": {},
     "output_type": "execute_result"
    }
   ],
   "source": [
    "fullReview_tags=driver.find_elements_by_xpath(\"//div[@class='t-ZTKy']\")\n",
    "fullReview_tags[0:5]"
   ]
  },
  {
   "cell_type": "code",
   "execution_count": 230,
   "id": "1f9069a2",
   "metadata": {},
   "outputs": [
    {
     "data": {
      "text/plain": [
       "[\"I've used this phone for over a month now and here are my takeaways.\\nI would like to first talk about the best things about this phone and then the cons of it.\\n\\nPros:\\nThis phone is a performance beast. It handles large games and applications effortlessly and you won't find any stutters or lags while playing graphic intensive games like pubg, cod , mortal kombat and asphalt.\\n\\nThis phone has only 4gb ram and yet the ram management is amazing, it can keep 3 heavy games in memory without reload...\\nREAD MORE\",\n",
       " 'A perfect phone and a good battery super camera and the sound is dynamic overall the phone is perfect for upgrading from lower iPhone model to iPhone 11',\n",
       " 'Undoubtedly Iphone 11 is the most successful model till now and its performance is extraordinary and the security features are very impressive, display is more vibrant sound quality Camera Quality 5*****, but Iphone should add accessories too and act like scrooge.',\n",
       " 'Excellent camera 📸 And Display touching very Nice And Smooth and very improvement against\\nI phone 11 and new processor is very fast',\n",
       " 'I purchased the iPhone 11 a month back. I must say Apple has impressed me yet again . I have been an Apple user for past 5 years . The phone is power packed with amazing features . What impressed me the most was the battery backup the phone offers . Battery can easily run upto 1.5 days in single charge with moderate to\\nHeavy usage . If you’re looking for a value for money device , I don’t see any other phone in the price range which can match the iPhone 11 .\\nOne thing I didn’t like was that ...\\nREAD MORE']"
      ]
     },
     "execution_count": 230,
     "metadata": {},
     "output_type": "execute_result"
    }
   ],
   "source": [
    "for i in fullReview_tags:\n",
    "    Reviews=i.text\n",
    "    Full_review.append(Reviews)\n",
    "Full_review[0:5]"
   ]
  },
  {
   "cell_type": "code",
   "execution_count": 231,
   "id": "c366294e",
   "metadata": {},
   "outputs": [
    {
     "name": "stdout",
     "output_type": "stream",
     "text": [
      "10 10 10\n"
     ]
    }
   ],
   "source": [
    "print(len(Rating),len(Review_summary),len(Full_review))"
   ]
  },
  {
   "cell_type": "code",
   "execution_count": 232,
   "id": "94f20446",
   "metadata": {},
   "outputs": [
    {
     "data": {
      "text/html": [
       "<div>\n",
       "<style scoped>\n",
       "    .dataframe tbody tr th:only-of-type {\n",
       "        vertical-align: middle;\n",
       "    }\n",
       "\n",
       "    .dataframe tbody tr th {\n",
       "        vertical-align: top;\n",
       "    }\n",
       "\n",
       "    .dataframe thead th {\n",
       "        text-align: right;\n",
       "    }\n",
       "</style>\n",
       "<table border=\"1\" class=\"dataframe\">\n",
       "  <thead>\n",
       "    <tr style=\"text-align: right;\">\n",
       "      <th></th>\n",
       "      <th>Rating</th>\n",
       "      <th>Review_summary</th>\n",
       "      <th>Full_review</th>\n",
       "    </tr>\n",
       "  </thead>\n",
       "  <tbody>\n",
       "    <tr>\n",
       "      <th>0</th>\n",
       "      <td>4</td>\n",
       "      <td>Pretty good</td>\n",
       "      <td>I've used this phone for over a month now and ...</td>\n",
       "    </tr>\n",
       "    <tr>\n",
       "      <th>1</th>\n",
       "      <td>5</td>\n",
       "      <td>Excellent</td>\n",
       "      <td>A perfect phone and a good battery super camer...</td>\n",
       "    </tr>\n",
       "    <tr>\n",
       "      <th>2</th>\n",
       "      <td>5</td>\n",
       "      <td>Worth every penny</td>\n",
       "      <td>Undoubtedly Iphone 11 is the most successful m...</td>\n",
       "    </tr>\n",
       "    <tr>\n",
       "      <th>3</th>\n",
       "      <td>5</td>\n",
       "      <td>Mind-blowing purchase</td>\n",
       "      <td>Excellent camera 📸 And Display touching very N...</td>\n",
       "    </tr>\n",
       "    <tr>\n",
       "      <th>4</th>\n",
       "      <td>5</td>\n",
       "      <td>Fabulous!</td>\n",
       "      <td>I purchased the iPhone 11 a month back. I must...</td>\n",
       "    </tr>\n",
       "    <tr>\n",
       "      <th>5</th>\n",
       "      <td>5</td>\n",
       "      <td>Just wow!</td>\n",
       "      <td>The ultimate performance\\nCamera is superb\\nTh...</td>\n",
       "    </tr>\n",
       "    <tr>\n",
       "      <th>6</th>\n",
       "      <td>5</td>\n",
       "      <td>Best in the market!</td>\n",
       "      <td>Don’t expect much from front camera… especiall...</td>\n",
       "    </tr>\n",
       "    <tr>\n",
       "      <th>7</th>\n",
       "      <td>5</td>\n",
       "      <td>Terrific purchase</td>\n",
       "      <td>I use a Note10+ and have been using both iOS a...</td>\n",
       "    </tr>\n",
       "    <tr>\n",
       "      <th>8</th>\n",
       "      <td>5</td>\n",
       "      <td>Awesome</td>\n",
       "      <td>The phone is completely good\\nAs far as camera...</td>\n",
       "    </tr>\n",
       "    <tr>\n",
       "      <th>9</th>\n",
       "      <td>3</td>\n",
       "      <td>Decent product</td>\n",
       "      <td>Everything u ll like it when u use this iPhone...</td>\n",
       "    </tr>\n",
       "  </tbody>\n",
       "</table>\n",
       "</div>"
      ],
      "text/plain": [
       "  Rating         Review_summary  \\\n",
       "0      4            Pretty good   \n",
       "1      5              Excellent   \n",
       "2      5      Worth every penny   \n",
       "3      5  Mind-blowing purchase   \n",
       "4      5              Fabulous!   \n",
       "5      5              Just wow!   \n",
       "6      5    Best in the market!   \n",
       "7      5      Terrific purchase   \n",
       "8      5                Awesome   \n",
       "9      3         Decent product   \n",
       "\n",
       "                                         Full_review  \n",
       "0  I've used this phone for over a month now and ...  \n",
       "1  A perfect phone and a good battery super camer...  \n",
       "2  Undoubtedly Iphone 11 is the most successful m...  \n",
       "3  Excellent camera 📸 And Display touching very N...  \n",
       "4  I purchased the iPhone 11 a month back. I must...  \n",
       "5  The ultimate performance\\nCamera is superb\\nTh...  \n",
       "6  Don’t expect much from front camera… especiall...  \n",
       "7  I use a Note10+ and have been using both iOS a...  \n",
       "8  The phone is completely good\\nAs far as camera...  \n",
       "9  Everything u ll like it when u use this iPhone...  "
      ]
     },
     "execution_count": 232,
     "metadata": {},
     "output_type": "execute_result"
    }
   ],
   "source": [
    "import pandas as pd\n",
    "jobs=pd.DataFrame({})\n",
    "jobs['Rating']=Rating\n",
    "jobs['Review_summary']=Review_summary\n",
    "jobs['Full_review']=Full_review\n",
    "jobs"
   ]
  },
  {
   "cell_type": "code",
   "execution_count": 234,
   "id": "967039f1",
   "metadata": {},
   "outputs": [],
   "source": [
    "ninepage_button=driver.find_element_by_xpath(\"/html/body/div/div/div[3]/div/div/div[2]/div[13]/div/div/nav/a[12]/span\")\n",
    "ninepage_button.click()"
   ]
  },
  {
   "cell_type": "code",
   "execution_count": 235,
   "id": "c21db9fa",
   "metadata": {},
   "outputs": [],
   "source": [
    "Rating =[]\n",
    "Review_summary=[]\n",
    "Full_review =[]"
   ]
  },
  {
   "cell_type": "code",
   "execution_count": 236,
   "id": "b1e46613",
   "metadata": {},
   "outputs": [
    {
     "data": {
      "text/plain": [
       "[<selenium.webdriver.remote.webelement.WebElement (session=\"deccf6b4044ace42b5d79a0352bfcee2\", element=\"c8ee69d2-f40a-4459-9679-1dc9798f03c3\")>,\n",
       " <selenium.webdriver.remote.webelement.WebElement (session=\"deccf6b4044ace42b5d79a0352bfcee2\", element=\"dd59dcad-ee3e-44ea-a0a5-4cf4360136f8\")>,\n",
       " <selenium.webdriver.remote.webelement.WebElement (session=\"deccf6b4044ace42b5d79a0352bfcee2\", element=\"16756c93-62df-4849-bb20-dc894dbf59a8\")>,\n",
       " <selenium.webdriver.remote.webelement.WebElement (session=\"deccf6b4044ace42b5d79a0352bfcee2\", element=\"7c626d3c-1ec5-443f-b02e-d05976412c59\")>]"
      ]
     },
     "execution_count": 236,
     "metadata": {},
     "output_type": "execute_result"
    }
   ],
   "source": [
    "Rating_tags=driver.find_elements_by_xpath(\"//div[@class='_3LWZlK _1BLPMq']\")\n",
    "Rating_tags[0:4]"
   ]
  },
  {
   "cell_type": "code",
   "execution_count": 237,
   "id": "bc0023e5",
   "metadata": {},
   "outputs": [
    {
     "data": {
      "text/plain": [
       "['5', '5', '3', '5']"
      ]
     },
     "execution_count": 237,
     "metadata": {},
     "output_type": "execute_result"
    }
   ],
   "source": [
    "for i in Rating_tags:\n",
    "    Ratings=i.text\n",
    "    Rating.append(Ratings)\n",
    "Rating[0:4]"
   ]
  },
  {
   "cell_type": "code",
   "execution_count": 238,
   "id": "c0e8b809",
   "metadata": {},
   "outputs": [
    {
     "data": {
      "text/plain": [
       "[<selenium.webdriver.remote.webelement.WebElement (session=\"deccf6b4044ace42b5d79a0352bfcee2\", element=\"332e94d8-8d59-4d5c-8a8a-b6c21ea7493d\")>,\n",
       " <selenium.webdriver.remote.webelement.WebElement (session=\"deccf6b4044ace42b5d79a0352bfcee2\", element=\"47a77b02-77aa-41d0-840d-856af090a95d\")>,\n",
       " <selenium.webdriver.remote.webelement.WebElement (session=\"deccf6b4044ace42b5d79a0352bfcee2\", element=\"da7ccae5-96f4-4428-ae13-a2d286bbe050\")>,\n",
       " <selenium.webdriver.remote.webelement.WebElement (session=\"deccf6b4044ace42b5d79a0352bfcee2\", element=\"422243db-5ca0-453e-86f4-8b8ef214bde5\")>,\n",
       " <selenium.webdriver.remote.webelement.WebElement (session=\"deccf6b4044ace42b5d79a0352bfcee2\", element=\"7caa45e3-0f94-4411-a9d3-be033dc5b7cf\")>]"
      ]
     },
     "execution_count": 238,
     "metadata": {},
     "output_type": "execute_result"
    }
   ],
   "source": [
    "Review_tags=driver.find_elements_by_xpath(\"//p[@class='_2-N8zT']\")\n",
    "Review_tags[0:5]"
   ]
  },
  {
   "cell_type": "code",
   "execution_count": 239,
   "id": "1b749c85",
   "metadata": {},
   "outputs": [
    {
     "data": {
      "text/plain": [
       "['Wonderful',\n",
       " 'Mind-blowing purchase',\n",
       " 'Does the job',\n",
       " 'Simply awesome',\n",
       " 'Best in the market!']"
      ]
     },
     "execution_count": 239,
     "metadata": {},
     "output_type": "execute_result"
    }
   ],
   "source": [
    "for i in Review_tags:\n",
    "    Reviews=i.text\n",
    "    Review_summary.append(Reviews)\n",
    "Review_summary[0:5]"
   ]
  },
  {
   "cell_type": "code",
   "execution_count": 240,
   "id": "0f070bb5",
   "metadata": {},
   "outputs": [
    {
     "data": {
      "text/plain": [
       "[<selenium.webdriver.remote.webelement.WebElement (session=\"deccf6b4044ace42b5d79a0352bfcee2\", element=\"2ce079be-9911-4646-aadf-b8bae856f35c\")>,\n",
       " <selenium.webdriver.remote.webelement.WebElement (session=\"deccf6b4044ace42b5d79a0352bfcee2\", element=\"e3a720d0-4467-43a9-8f93-6f78477eca6a\")>,\n",
       " <selenium.webdriver.remote.webelement.WebElement (session=\"deccf6b4044ace42b5d79a0352bfcee2\", element=\"c4725fe4-a11f-4b51-a37b-60fe927e4f1e\")>,\n",
       " <selenium.webdriver.remote.webelement.WebElement (session=\"deccf6b4044ace42b5d79a0352bfcee2\", element=\"9ac03cec-6bb2-4e3c-9b9d-7679ce2207d2\")>,\n",
       " <selenium.webdriver.remote.webelement.WebElement (session=\"deccf6b4044ace42b5d79a0352bfcee2\", element=\"682d210c-edc7-41a2-8754-09c5055527b0\")>]"
      ]
     },
     "execution_count": 240,
     "metadata": {},
     "output_type": "execute_result"
    }
   ],
   "source": [
    "fullReview_tags=driver.find_elements_by_xpath(\"//div[@class='t-ZTKy']\")\n",
    "fullReview_tags[0:5]"
   ]
  },
  {
   "cell_type": "code",
   "execution_count": 241,
   "id": "3aabe51b",
   "metadata": {},
   "outputs": [
    {
     "data": {
      "text/plain": [
       "['Nice value for money good and best price I phone mind blowing camera processor very fast other android mobile I am happy India top selling phone 2020',\n",
       " 'Absolutely powerful gadget. Loved it’s look! Soo glassy and classy. I would definitely recommend this model of Apple. Only disappointed with the 5W charger, one should purchase an 18W adapter for fast charging. Though battery backup is great. Bought it in September 2020, reviewing after so long so I’m gonna put the genuine review here.✅',\n",
       " \"phone is good but in display is 720p lcd in this price range we can get full hd OLED displays with higher refresh rate processor is very good camera is nice but looks kind of oldish in front of todays phone also there's no charging in box had to buy it seperately\",\n",
       " 'Awesome phone at this price.\\nNo lagging issues whatsoever\\nResolution is bit low but doesn’t feels like\\nCamera is fantastic 12 MP front and 12 MP back with additional wide angle camera. Smooth 4K recording at 60 FPS is quite amazing.\\nSpeaker is louder\\nLove this phone',\n",
       " 'Really very nice... my dad gifted me really I am soo happy with this phone love it 😇']"
      ]
     },
     "execution_count": 241,
     "metadata": {},
     "output_type": "execute_result"
    }
   ],
   "source": [
    "for i in fullReview_tags:\n",
    "    Reviews=i.text\n",
    "    Full_review.append(Reviews)\n",
    "Full_review[0:5]"
   ]
  },
  {
   "cell_type": "code",
   "execution_count": 242,
   "id": "f11e0078",
   "metadata": {},
   "outputs": [
    {
     "name": "stdout",
     "output_type": "stream",
     "text": [
      "10 10 10\n"
     ]
    }
   ],
   "source": [
    "print(len(Rating),len(Review_summary),len(Full_review))"
   ]
  },
  {
   "cell_type": "code",
   "execution_count": 243,
   "id": "ec47a3af",
   "metadata": {},
   "outputs": [
    {
     "data": {
      "text/html": [
       "<div>\n",
       "<style scoped>\n",
       "    .dataframe tbody tr th:only-of-type {\n",
       "        vertical-align: middle;\n",
       "    }\n",
       "\n",
       "    .dataframe tbody tr th {\n",
       "        vertical-align: top;\n",
       "    }\n",
       "\n",
       "    .dataframe thead th {\n",
       "        text-align: right;\n",
       "    }\n",
       "</style>\n",
       "<table border=\"1\" class=\"dataframe\">\n",
       "  <thead>\n",
       "    <tr style=\"text-align: right;\">\n",
       "      <th></th>\n",
       "      <th>Rating</th>\n",
       "      <th>Review_summary</th>\n",
       "      <th>Full_review</th>\n",
       "    </tr>\n",
       "  </thead>\n",
       "  <tbody>\n",
       "    <tr>\n",
       "      <th>0</th>\n",
       "      <td>5</td>\n",
       "      <td>Wonderful</td>\n",
       "      <td>Nice value for money good and best price I pho...</td>\n",
       "    </tr>\n",
       "    <tr>\n",
       "      <th>1</th>\n",
       "      <td>5</td>\n",
       "      <td>Mind-blowing purchase</td>\n",
       "      <td>Absolutely powerful gadget. Loved it’s look! S...</td>\n",
       "    </tr>\n",
       "    <tr>\n",
       "      <th>2</th>\n",
       "      <td>3</td>\n",
       "      <td>Does the job</td>\n",
       "      <td>phone is good but in display is 720p lcd in th...</td>\n",
       "    </tr>\n",
       "    <tr>\n",
       "      <th>3</th>\n",
       "      <td>5</td>\n",
       "      <td>Simply awesome</td>\n",
       "      <td>Awesome phone at this price.\\nNo lagging issue...</td>\n",
       "    </tr>\n",
       "    <tr>\n",
       "      <th>4</th>\n",
       "      <td>5</td>\n",
       "      <td>Best in the market!</td>\n",
       "      <td>Really very nice... my dad gifted me really I ...</td>\n",
       "    </tr>\n",
       "    <tr>\n",
       "      <th>5</th>\n",
       "      <td>5</td>\n",
       "      <td>Classy product</td>\n",
       "      <td>I got this phone for good price hence 5 star f...</td>\n",
       "    </tr>\n",
       "    <tr>\n",
       "      <th>6</th>\n",
       "      <td>4</td>\n",
       "      <td>Wonderful</td>\n",
       "      <td>I genuinely liked it. One of the best mobile p...</td>\n",
       "    </tr>\n",
       "    <tr>\n",
       "      <th>7</th>\n",
       "      <td>4</td>\n",
       "      <td>Good quality product</td>\n",
       "      <td>Awesome camera, smooth and fast UI, display is...</td>\n",
       "    </tr>\n",
       "    <tr>\n",
       "      <th>8</th>\n",
       "      <td>5</td>\n",
       "      <td>Fabulous!</td>\n",
       "      <td>Good product nice experience with Flipkart but...</td>\n",
       "    </tr>\n",
       "    <tr>\n",
       "      <th>9</th>\n",
       "      <td>5</td>\n",
       "      <td>Fabulous!</td>\n",
       "      <td>Gift this to your loved ones fabulous product ...</td>\n",
       "    </tr>\n",
       "  </tbody>\n",
       "</table>\n",
       "</div>"
      ],
      "text/plain": [
       "  Rating         Review_summary  \\\n",
       "0      5              Wonderful   \n",
       "1      5  Mind-blowing purchase   \n",
       "2      3           Does the job   \n",
       "3      5         Simply awesome   \n",
       "4      5    Best in the market!   \n",
       "5      5         Classy product   \n",
       "6      4              Wonderful   \n",
       "7      4   Good quality product   \n",
       "8      5              Fabulous!   \n",
       "9      5              Fabulous!   \n",
       "\n",
       "                                         Full_review  \n",
       "0  Nice value for money good and best price I pho...  \n",
       "1  Absolutely powerful gadget. Loved it’s look! S...  \n",
       "2  phone is good but in display is 720p lcd in th...  \n",
       "3  Awesome phone at this price.\\nNo lagging issue...  \n",
       "4  Really very nice... my dad gifted me really I ...  \n",
       "5  I got this phone for good price hence 5 star f...  \n",
       "6  I genuinely liked it. One of the best mobile p...  \n",
       "7  Awesome camera, smooth and fast UI, display is...  \n",
       "8  Good product nice experience with Flipkart but...  \n",
       "9  Gift this to your loved ones fabulous product ...  "
      ]
     },
     "execution_count": 243,
     "metadata": {},
     "output_type": "execute_result"
    }
   ],
   "source": [
    "import pandas as pd\n",
    "jobs=pd.DataFrame({})\n",
    "jobs['Rating']=Rating\n",
    "jobs['Review_summary']=Review_summary\n",
    "jobs['Full_review']=Full_review\n",
    "jobs"
   ]
  },
  {
   "cell_type": "code",
   "execution_count": 244,
   "id": "c1cf8215",
   "metadata": {},
   "outputs": [],
   "source": [
    "tenthpage_button=driver.find_element_by_xpath(\"/html/body/div/div/div[3]/div/div/div[2]/div[13]/div/div/nav/a[12]/span\")\n",
    "tenthpage_button.click()"
   ]
  },
  {
   "cell_type": "code",
   "execution_count": 245,
   "id": "8f1ed62b",
   "metadata": {},
   "outputs": [],
   "source": [
    "Rating =[]\n",
    "Review_summary=[]\n",
    "Full_review =[]"
   ]
  },
  {
   "cell_type": "code",
   "execution_count": 246,
   "id": "4c3fa32c",
   "metadata": {},
   "outputs": [
    {
     "data": {
      "text/plain": [
       "[<selenium.webdriver.remote.webelement.WebElement (session=\"deccf6b4044ace42b5d79a0352bfcee2\", element=\"7d34d8d8-d2fc-4439-b580-02a06b749dd0\")>,\n",
       " <selenium.webdriver.remote.webelement.WebElement (session=\"deccf6b4044ace42b5d79a0352bfcee2\", element=\"e4d4c33e-babb-4d13-a816-1cc81ee1ee0b\")>,\n",
       " <selenium.webdriver.remote.webelement.WebElement (session=\"deccf6b4044ace42b5d79a0352bfcee2\", element=\"e69ffbd3-80d0-4d1b-837d-babd7bcef064\")>,\n",
       " <selenium.webdriver.remote.webelement.WebElement (session=\"deccf6b4044ace42b5d79a0352bfcee2\", element=\"0e7bbc81-a280-443d-94b6-b0300ed0761a\")>]"
      ]
     },
     "execution_count": 246,
     "metadata": {},
     "output_type": "execute_result"
    }
   ],
   "source": [
    "Rating_tags=driver.find_elements_by_xpath(\"//div[@class='_3LWZlK _1BLPMq']\")\n",
    "Rating_tags[0:4]"
   ]
  },
  {
   "cell_type": "code",
   "execution_count": 247,
   "id": "19fcf1a3",
   "metadata": {},
   "outputs": [
    {
     "data": {
      "text/plain": [
       "['4', '5', '5', '5']"
      ]
     },
     "execution_count": 247,
     "metadata": {},
     "output_type": "execute_result"
    }
   ],
   "source": [
    "for i in Rating_tags:\n",
    "    Ratings=i.text\n",
    "    Rating.append(Ratings)\n",
    "Rating[0:4]"
   ]
  },
  {
   "cell_type": "code",
   "execution_count": 248,
   "id": "fc90d785",
   "metadata": {},
   "outputs": [
    {
     "data": {
      "text/plain": [
       "[<selenium.webdriver.remote.webelement.WebElement (session=\"deccf6b4044ace42b5d79a0352bfcee2\", element=\"e68c938d-2d9f-48c4-95c5-eb6341f99eb7\")>,\n",
       " <selenium.webdriver.remote.webelement.WebElement (session=\"deccf6b4044ace42b5d79a0352bfcee2\", element=\"338f7f09-c0a0-4975-a489-bd47d88b2f6e\")>,\n",
       " <selenium.webdriver.remote.webelement.WebElement (session=\"deccf6b4044ace42b5d79a0352bfcee2\", element=\"273c0e71-75a1-4e22-8315-d533bfbd9e45\")>,\n",
       " <selenium.webdriver.remote.webelement.WebElement (session=\"deccf6b4044ace42b5d79a0352bfcee2\", element=\"47ff3ce0-6f7e-498e-8d19-ec6b6d98ac78\")>,\n",
       " <selenium.webdriver.remote.webelement.WebElement (session=\"deccf6b4044ace42b5d79a0352bfcee2\", element=\"bec3d72a-84b3-41fe-9308-66b33fd3395c\")>]"
      ]
     },
     "execution_count": 248,
     "metadata": {},
     "output_type": "execute_result"
    }
   ],
   "source": [
    "Review_tags=driver.find_elements_by_xpath(\"//p[@class='_2-N8zT']\")\n",
    "Review_tags[0:5]"
   ]
  },
  {
   "cell_type": "code",
   "execution_count": 249,
   "id": "c08aef89",
   "metadata": {},
   "outputs": [
    {
     "data": {
      "text/plain": [
       "['Good quality product',\n",
       " 'Excellent',\n",
       " 'Mind-blowing purchase',\n",
       " 'Worth every penny',\n",
       " 'Super!']"
      ]
     },
     "execution_count": 249,
     "metadata": {},
     "output_type": "execute_result"
    }
   ],
   "source": [
    "for i in Review_tags:\n",
    "    Reviews=i.text\n",
    "    Review_summary.append(Reviews)\n",
    "Review_summary[0:5]"
   ]
  },
  {
   "cell_type": "code",
   "execution_count": 250,
   "id": "70cade98",
   "metadata": {},
   "outputs": [
    {
     "data": {
      "text/plain": [
       "[<selenium.webdriver.remote.webelement.WebElement (session=\"deccf6b4044ace42b5d79a0352bfcee2\", element=\"72c0f190-257a-43f4-a8e4-23f1d463e5fd\")>,\n",
       " <selenium.webdriver.remote.webelement.WebElement (session=\"deccf6b4044ace42b5d79a0352bfcee2\", element=\"56a7f0af-197b-4c8a-aedd-c840bbd9df75\")>,\n",
       " <selenium.webdriver.remote.webelement.WebElement (session=\"deccf6b4044ace42b5d79a0352bfcee2\", element=\"fb3035dc-02e6-4ace-b8b8-24a08702610d\")>,\n",
       " <selenium.webdriver.remote.webelement.WebElement (session=\"deccf6b4044ace42b5d79a0352bfcee2\", element=\"e9aa8308-1fe1-4cb1-9c11-727015b3aa38\")>,\n",
       " <selenium.webdriver.remote.webelement.WebElement (session=\"deccf6b4044ace42b5d79a0352bfcee2\", element=\"d36ff6cf-2c78-4e8a-b6c2-71911ad4d511\")>]"
      ]
     },
     "execution_count": 250,
     "metadata": {},
     "output_type": "execute_result"
    }
   ],
   "source": [
    "fullReview_tags=driver.find_elements_by_xpath(\"//div[@class='t-ZTKy']\")\n",
    "fullReview_tags[0:5]"
   ]
  },
  {
   "cell_type": "code",
   "execution_count": 251,
   "id": "b8ea43f5",
   "metadata": {},
   "outputs": [
    {
     "data": {
      "text/plain": [
       "['I was torn between the oneplus 8 pro and the iphone 11. I had to shell out extra money for this, but I say if you can afford it, this truely is the best package.\\nMind blowing camera, battery and overall performance. Face Id works like magic even in complete darkness without firing up the screen brightness. The phones with in display fingerprint scanners do this at night time and it really burns your eyes.\\nI wanted the oneplus for its display but tbh the OLEDs on oneplus is really bad. Flick...\\nREAD MORE',\n",
       " 'Seller - SuperComNet ( my trust in you has grown deeper. Thanks for the genuine product )\\nThe package came packed perfectly. The box was sealed which gave me a big relief.\\n\\nApple needs no introduction since its the dominant market player. I just love the way how IPhone 11 stands out so boldly. The moment I took it out from the box, I could feel the premium intensity. The body is remarkable and crafted for giving you a elite vibe.\\n\\nCamera is to die for. There is no other phone that can beat...\\nREAD MORE',\n",
       " \"i was confused between 11 and 11 pro. i was going towards 11 pro, but the screen size was not enough for me.\\nAnd i saw 11 in the showroom. i didn't find much difference in screen quality.And cameras seems to be ok with me. And i saw offer's in flipkart and made the purchase.\\nthe device is fabulous. The hardware and software quality is excellent. The new iOS is something you need to experience yourself. The drawback i found was absence of fast charger, but the pricing can compensate that. Am...\\nREAD MORE\",\n",
       " 'I upgraded from one plus 6 to iPhone 11 and it’s too good. Very smooth, battery also good. I love it. And thanks flipkart for fast delivery.',\n",
       " \"It's a great phone. From camera to display everything is best for the price.\\nBest camera , best performance. I think everyone should buy it . This phone has best battery life so far in iphone series which I had used earlier. Happy to have it. Thanks Flipkart\"]"
      ]
     },
     "execution_count": 251,
     "metadata": {},
     "output_type": "execute_result"
    }
   ],
   "source": [
    "for i in fullReview_tags:\n",
    "    Reviews=i.text\n",
    "    Full_review.append(Reviews)\n",
    "Full_review[0:5]"
   ]
  },
  {
   "cell_type": "code",
   "execution_count": 252,
   "id": "19550421",
   "metadata": {},
   "outputs": [
    {
     "name": "stdout",
     "output_type": "stream",
     "text": [
      "10 10 10\n"
     ]
    }
   ],
   "source": [
    "print(len(Rating),len(Review_summary),len(Full_review))"
   ]
  },
  {
   "cell_type": "code",
   "execution_count": 253,
   "id": "ef18fff9",
   "metadata": {},
   "outputs": [
    {
     "data": {
      "text/html": [
       "<div>\n",
       "<style scoped>\n",
       "    .dataframe tbody tr th:only-of-type {\n",
       "        vertical-align: middle;\n",
       "    }\n",
       "\n",
       "    .dataframe tbody tr th {\n",
       "        vertical-align: top;\n",
       "    }\n",
       "\n",
       "    .dataframe thead th {\n",
       "        text-align: right;\n",
       "    }\n",
       "</style>\n",
       "<table border=\"1\" class=\"dataframe\">\n",
       "  <thead>\n",
       "    <tr style=\"text-align: right;\">\n",
       "      <th></th>\n",
       "      <th>Rating</th>\n",
       "      <th>Review_summary</th>\n",
       "      <th>Full_review</th>\n",
       "    </tr>\n",
       "  </thead>\n",
       "  <tbody>\n",
       "    <tr>\n",
       "      <th>0</th>\n",
       "      <td>4</td>\n",
       "      <td>Good quality product</td>\n",
       "      <td>I was torn between the oneplus 8 pro and the i...</td>\n",
       "    </tr>\n",
       "    <tr>\n",
       "      <th>1</th>\n",
       "      <td>5</td>\n",
       "      <td>Excellent</td>\n",
       "      <td>Seller - SuperComNet ( my trust in you has gro...</td>\n",
       "    </tr>\n",
       "    <tr>\n",
       "      <th>2</th>\n",
       "      <td>5</td>\n",
       "      <td>Mind-blowing purchase</td>\n",
       "      <td>i was confused between 11 and 11 pro. i was go...</td>\n",
       "    </tr>\n",
       "    <tr>\n",
       "      <th>3</th>\n",
       "      <td>5</td>\n",
       "      <td>Worth every penny</td>\n",
       "      <td>I upgraded from one plus 6 to iPhone 11 and it...</td>\n",
       "    </tr>\n",
       "    <tr>\n",
       "      <th>4</th>\n",
       "      <td>5</td>\n",
       "      <td>Super!</td>\n",
       "      <td>It's a great phone. From camera to display eve...</td>\n",
       "    </tr>\n",
       "    <tr>\n",
       "      <th>5</th>\n",
       "      <td>5</td>\n",
       "      <td>Mind-blowing purchase</td>\n",
       "      <td>Released in 2019\\nIn 2021 still the best in se...</td>\n",
       "    </tr>\n",
       "    <tr>\n",
       "      <th>6</th>\n",
       "      <td>5</td>\n",
       "      <td>Classy product</td>\n",
       "      <td>Got my iPhone 11 today! It’s totally worth it ...</td>\n",
       "    </tr>\n",
       "    <tr>\n",
       "      <th>7</th>\n",
       "      <td>5</td>\n",
       "      <td>Great product</td>\n",
       "      <td>Great quality at not so great price, But worth...</td>\n",
       "    </tr>\n",
       "    <tr>\n",
       "      <th>8</th>\n",
       "      <td>5</td>\n",
       "      <td>Brilliant</td>\n",
       "      <td>Wow wow and wow, in 48k you will not get anyth...</td>\n",
       "    </tr>\n",
       "    <tr>\n",
       "      <th>9</th>\n",
       "      <td>5</td>\n",
       "      <td>Most Price worthy Iphone</td>\n",
       "      <td>Reviewing within 1st Month\\n\\n\\n1st Month Revi...</td>\n",
       "    </tr>\n",
       "  </tbody>\n",
       "</table>\n",
       "</div>"
      ],
      "text/plain": [
       "  Rating            Review_summary  \\\n",
       "0      4      Good quality product   \n",
       "1      5                 Excellent   \n",
       "2      5     Mind-blowing purchase   \n",
       "3      5         Worth every penny   \n",
       "4      5                    Super!   \n",
       "5      5     Mind-blowing purchase   \n",
       "6      5            Classy product   \n",
       "7      5             Great product   \n",
       "8      5                 Brilliant   \n",
       "9      5  Most Price worthy Iphone   \n",
       "\n",
       "                                         Full_review  \n",
       "0  I was torn between the oneplus 8 pro and the i...  \n",
       "1  Seller - SuperComNet ( my trust in you has gro...  \n",
       "2  i was confused between 11 and 11 pro. i was go...  \n",
       "3  I upgraded from one plus 6 to iPhone 11 and it...  \n",
       "4  It's a great phone. From camera to display eve...  \n",
       "5  Released in 2019\\nIn 2021 still the best in se...  \n",
       "6  Got my iPhone 11 today! It’s totally worth it ...  \n",
       "7  Great quality at not so great price, But worth...  \n",
       "8  Wow wow and wow, in 48k you will not get anyth...  \n",
       "9  Reviewing within 1st Month\\n\\n\\n1st Month Revi...  "
      ]
     },
     "execution_count": 253,
     "metadata": {},
     "output_type": "execute_result"
    }
   ],
   "source": [
    "import pandas as pd\n",
    "jobs=pd.DataFrame({})\n",
    "jobs['Rating']=Rating\n",
    "jobs['Review_summary']=Review_summary\n",
    "jobs['Full_review']=Full_review\n",
    "jobs"
   ]
  },
  {
   "cell_type": "code",
   "execution_count": 270,
   "id": "8725b415",
   "metadata": {},
   "outputs": [],
   "source": [
    "#que.6\n",
    "driver.get('https://www.flipkart.com/')"
   ]
  },
  {
   "cell_type": "code",
   "execution_count": 271,
   "id": "e53e72d6",
   "metadata": {},
   "outputs": [],
   "source": [
    "search_field_designation=driver.find_element_by_class_name(\"_3704LK\" )\n",
    "search_field_designation.send_keys(\"sneakers\")\n"
   ]
  },
  {
   "cell_type": "code",
   "execution_count": 272,
   "id": "6ccae636",
   "metadata": {},
   "outputs": [],
   "source": [
    "search_button=driver.find_element_by_xpath(\"/html/body/div/div/div[1]/div[1]/div[2]/div[2]/form/div/button\")\n",
    "search_button.click()\n"
   ]
  },
  {
   "cell_type": "code",
   "execution_count": 273,
   "id": "c184b08f",
   "metadata": {},
   "outputs": [],
   "source": [
    "shoes_Bands =[]\n",
    "product_description=[]\n",
    "price=[]"
   ]
  },
  {
   "cell_type": "code",
   "execution_count": 277,
   "id": "05656216",
   "metadata": {},
   "outputs": [
    {
     "data": {
      "text/plain": [
       "[<selenium.webdriver.remote.webelement.WebElement (session=\"deccf6b4044ace42b5d79a0352bfcee2\", element=\"7d34d8d8-d2fc-4439-b580-02a06b749dd0\")>,\n",
       " <selenium.webdriver.remote.webelement.WebElement (session=\"deccf6b4044ace42b5d79a0352bfcee2\", element=\"e4d4c33e-babb-4d13-a816-1cc81ee1ee0b\")>,\n",
       " <selenium.webdriver.remote.webelement.WebElement (session=\"deccf6b4044ace42b5d79a0352bfcee2\", element=\"e69ffbd3-80d0-4d1b-837d-babd7bcef064\")>,\n",
       " <selenium.webdriver.remote.webelement.WebElement (session=\"deccf6b4044ace42b5d79a0352bfcee2\", element=\"0e7bbc81-a280-443d-94b6-b0300ed0761a\")>]"
      ]
     },
     "execution_count": 277,
     "metadata": {},
     "output_type": "execute_result"
    }
   ],
   "source": [
    "shoes_tags=driver.find_elements_by_xpath(\"//div[@class='_2WkVRV']\")\n",
    "Rating_tags[0:4]\n"
   ]
  },
  {
   "cell_type": "code",
   "execution_count": 278,
   "id": "daec67ea",
   "metadata": {},
   "outputs": [
    {
     "data": {
      "text/plain": [
       "['URBANBOX', 'BRUTON', 'HRX by Hrithik Roshan', 'BIRDE']"
      ]
     },
     "execution_count": 278,
     "metadata": {},
     "output_type": "execute_result"
    }
   ],
   "source": [
    "for i in shoes_tags:\n",
    "    shoes=i.text\n",
    "    shoes_Bands.append(shoes)\n",
    "shoes_Bands[0:4]\n"
   ]
  },
  {
   "cell_type": "code",
   "execution_count": 279,
   "id": "2a20a107",
   "metadata": {},
   "outputs": [
    {
     "data": {
      "text/plain": [
       "[<selenium.webdriver.remote.webelement.WebElement (session=\"deccf6b4044ace42b5d79a0352bfcee2\", element=\"fc3c749d-d985-4ab6-8591-d14fd162293c\")>,\n",
       " <selenium.webdriver.remote.webelement.WebElement (session=\"deccf6b4044ace42b5d79a0352bfcee2\", element=\"06cfc5fd-29ce-48f3-862b-271b7a0e6bef\")>,\n",
       " <selenium.webdriver.remote.webelement.WebElement (session=\"deccf6b4044ace42b5d79a0352bfcee2\", element=\"08ee7cdc-7197-4871-a6dc-42766f4358c4\")>,\n",
       " <selenium.webdriver.remote.webelement.WebElement (session=\"deccf6b4044ace42b5d79a0352bfcee2\", element=\"74619d2e-ca3a-4485-9b04-4106dc61e507\")>]"
      ]
     },
     "execution_count": 279,
     "metadata": {},
     "output_type": "execute_result"
    }
   ],
   "source": [
    "product_tags=driver.find_elements_by_class_name(\"IRpwTa\")\n",
    "product_tags[0:4]"
   ]
  },
  {
   "cell_type": "code",
   "execution_count": 280,
   "id": "d046ee9b",
   "metadata": {},
   "outputs": [
    {
     "data": {
      "text/plain": [
       "['Sneakers Sneakers For Men',\n",
       " 'Modern Trendy Sneakers Shoes Sneakers For Men',\n",
       " 'Sneakers For Men',\n",
       " 'Stylish Comfortable Lightweight, Breathable Walking Sho...']"
      ]
     },
     "execution_count": 280,
     "metadata": {},
     "output_type": "execute_result"
    }
   ],
   "source": [
    "for i in product_tags:\n",
    "    description=i.text\n",
    "    product_description.append(description)\n",
    "product_description[0:4]"
   ]
  },
  {
   "cell_type": "code",
   "execution_count": 281,
   "id": "64cd51ef",
   "metadata": {},
   "outputs": [
    {
     "data": {
      "text/plain": [
       "[<selenium.webdriver.remote.webelement.WebElement (session=\"deccf6b4044ace42b5d79a0352bfcee2\", element=\"a190d987-1308-4a1e-8ba2-07641bdab0fc\")>,\n",
       " <selenium.webdriver.remote.webelement.WebElement (session=\"deccf6b4044ace42b5d79a0352bfcee2\", element=\"e5513363-55c1-4003-b1c3-3f3decccd1bd\")>,\n",
       " <selenium.webdriver.remote.webelement.WebElement (session=\"deccf6b4044ace42b5d79a0352bfcee2\", element=\"7458d19d-8ab0-41fa-85b3-25e27e44e3b1\")>,\n",
       " <selenium.webdriver.remote.webelement.WebElement (session=\"deccf6b4044ace42b5d79a0352bfcee2\", element=\"92d2c341-7243-4998-8eb3-216939804fe1\")>]"
      ]
     },
     "execution_count": 281,
     "metadata": {},
     "output_type": "execute_result"
    }
   ],
   "source": [
    "price_tags=driver.find_elements_by_xpath(\"//div[@class='_30jeq3']\")\n",
    "price_tags[0:4]"
   ]
  },
  {
   "cell_type": "code",
   "execution_count": 282,
   "id": "885aef8c",
   "metadata": {},
   "outputs": [
    {
     "data": {
      "text/plain": [
       "['₹158', '₹245', '₹692', '₹269']"
      ]
     },
     "execution_count": 282,
     "metadata": {},
     "output_type": "execute_result"
    }
   ],
   "source": [
    "for i in price_tags:\n",
    "    price.append(i.text)\n",
    "price[0:4]"
   ]
  },
  {
   "cell_type": "code",
   "execution_count": 283,
   "id": "94c30ebb",
   "metadata": {},
   "outputs": [
    {
     "name": "stdout",
     "output_type": "stream",
     "text": [
      "37 37 37\n"
     ]
    }
   ],
   "source": [
    "print(len(shoes_Bands),len(product_description),len(price))"
   ]
  },
  {
   "cell_type": "code",
   "execution_count": 284,
   "id": "52ddd146",
   "metadata": {},
   "outputs": [
    {
     "data": {
      "text/html": [
       "<div>\n",
       "<style scoped>\n",
       "    .dataframe tbody tr th:only-of-type {\n",
       "        vertical-align: middle;\n",
       "    }\n",
       "\n",
       "    .dataframe tbody tr th {\n",
       "        vertical-align: top;\n",
       "    }\n",
       "\n",
       "    .dataframe thead th {\n",
       "        text-align: right;\n",
       "    }\n",
       "</style>\n",
       "<table border=\"1\" class=\"dataframe\">\n",
       "  <thead>\n",
       "    <tr style=\"text-align: right;\">\n",
       "      <th></th>\n",
       "      <th>shoes_Bands</th>\n",
       "      <th>product_description</th>\n",
       "      <th>price</th>\n",
       "    </tr>\n",
       "  </thead>\n",
       "  <tbody>\n",
       "    <tr>\n",
       "      <th>0</th>\n",
       "      <td>URBANBOX</td>\n",
       "      <td>Sneakers Sneakers For Men</td>\n",
       "      <td>₹158</td>\n",
       "    </tr>\n",
       "    <tr>\n",
       "      <th>1</th>\n",
       "      <td>BRUTON</td>\n",
       "      <td>Modern Trendy Sneakers Shoes Sneakers For Men</td>\n",
       "      <td>₹245</td>\n",
       "    </tr>\n",
       "    <tr>\n",
       "      <th>2</th>\n",
       "      <td>HRX by Hrithik Roshan</td>\n",
       "      <td>Sneakers For Men</td>\n",
       "      <td>₹692</td>\n",
       "    </tr>\n",
       "    <tr>\n",
       "      <th>3</th>\n",
       "      <td>BIRDE</td>\n",
       "      <td>Stylish Comfortable Lightweight, Breathable Wa...</td>\n",
       "      <td>₹269</td>\n",
       "    </tr>\n",
       "    <tr>\n",
       "      <th>4</th>\n",
       "      <td>Magnolia</td>\n",
       "      <td>Sneakers For Men</td>\n",
       "      <td>₹351</td>\n",
       "    </tr>\n",
       "    <tr>\n",
       "      <th>5</th>\n",
       "      <td>corsac</td>\n",
       "      <td>STYLISH MENS BLACK AND WHITE SNEAKER Sneakers ...</td>\n",
       "      <td>₹449</td>\n",
       "    </tr>\n",
       "    <tr>\n",
       "      <th>6</th>\n",
       "      <td>KWIK FIT</td>\n",
       "      <td>Kwik FIT casual sneaker shoes and partywear sh...</td>\n",
       "      <td>₹349</td>\n",
       "    </tr>\n",
       "    <tr>\n",
       "      <th>7</th>\n",
       "      <td>BRUTON</td>\n",
       "      <td>Lattest Sneakers Shoe Sneakers For Men</td>\n",
       "      <td>₹249</td>\n",
       "    </tr>\n",
       "    <tr>\n",
       "      <th>8</th>\n",
       "      <td>BRUTON</td>\n",
       "      <td>Sneaker Sneakers For Men</td>\n",
       "      <td>₹249</td>\n",
       "    </tr>\n",
       "    <tr>\n",
       "      <th>9</th>\n",
       "      <td>aadi</td>\n",
       "      <td>Sneakers For Men</td>\n",
       "      <td>₹297</td>\n",
       "    </tr>\n",
       "    <tr>\n",
       "      <th>10</th>\n",
       "      <td>ASTEROID</td>\n",
       "      <td>Original Luxury Branded Black Fancy Casual Wal...</td>\n",
       "      <td>₹449</td>\n",
       "    </tr>\n",
       "    <tr>\n",
       "      <th>11</th>\n",
       "      <td>Labbin</td>\n",
       "      <td>Sneakers For Men</td>\n",
       "      <td>₹419</td>\n",
       "    </tr>\n",
       "    <tr>\n",
       "      <th>12</th>\n",
       "      <td>Kzaara</td>\n",
       "      <td>Sneakers For Men</td>\n",
       "      <td>₹249</td>\n",
       "    </tr>\n",
       "    <tr>\n",
       "      <th>13</th>\n",
       "      <td>Echor</td>\n",
       "      <td>Men's Sneakers Fashion Lightweight Running Sho...</td>\n",
       "      <td>₹489</td>\n",
       "    </tr>\n",
       "    <tr>\n",
       "      <th>14</th>\n",
       "      <td>SCATCHITE</td>\n",
       "      <td>Sneakers Sneakers For Men</td>\n",
       "      <td>₹348</td>\n",
       "    </tr>\n",
       "    <tr>\n",
       "      <th>15</th>\n",
       "      <td>ASTEROID</td>\n",
       "      <td>Original Luxury Branded Fashionable Men's Casu...</td>\n",
       "      <td>₹449</td>\n",
       "    </tr>\n",
       "    <tr>\n",
       "      <th>16</th>\n",
       "      <td>SPARX</td>\n",
       "      <td>Men White Sneakers Sneakers For Men</td>\n",
       "      <td>₹706</td>\n",
       "    </tr>\n",
       "    <tr>\n",
       "      <th>17</th>\n",
       "      <td>Layasa</td>\n",
       "      <td>Sneakers For Men</td>\n",
       "      <td>₹399</td>\n",
       "    </tr>\n",
       "    <tr>\n",
       "      <th>18</th>\n",
       "      <td>EMPTILE</td>\n",
       "      <td>all white heartbeat casual shoe Sneakers For Men</td>\n",
       "      <td>₹327</td>\n",
       "    </tr>\n",
       "    <tr>\n",
       "      <th>19</th>\n",
       "      <td>ONECENTRE</td>\n",
       "      <td>STR2 Sneakers For Men</td>\n",
       "      <td>₹250</td>\n",
       "    </tr>\n",
       "    <tr>\n",
       "      <th>20</th>\n",
       "      <td>CLYMB</td>\n",
       "      <td>Sneakers For Men</td>\n",
       "      <td>₹599</td>\n",
       "    </tr>\n",
       "    <tr>\n",
       "      <th>21</th>\n",
       "      <td>BRUTON</td>\n",
       "      <td>Lightweight Pack Of 1 Trendy Sneakers Sneakers...</td>\n",
       "      <td>₹158</td>\n",
       "    </tr>\n",
       "    <tr>\n",
       "      <th>22</th>\n",
       "      <td>corsac</td>\n",
       "      <td>STYLISH MENS BLACK TRENDY SNEAKER FOR MENS Sne...</td>\n",
       "      <td>₹449</td>\n",
       "    </tr>\n",
       "    <tr>\n",
       "      <th>23</th>\n",
       "      <td>MAFLO</td>\n",
       "      <td>Sneakers For Men</td>\n",
       "      <td>₹374</td>\n",
       "    </tr>\n",
       "    <tr>\n",
       "      <th>24</th>\n",
       "      <td>NIKE</td>\n",
       "      <td>Ebernon Low Sneakers For Men</td>\n",
       "      <td>₹4,291</td>\n",
       "    </tr>\n",
       "    <tr>\n",
       "      <th>25</th>\n",
       "      <td>Kraasa</td>\n",
       "      <td>Series 7 Sneakers For Men</td>\n",
       "      <td>₹405</td>\n",
       "    </tr>\n",
       "    <tr>\n",
       "      <th>26</th>\n",
       "      <td>Ktiz</td>\n",
       "      <td>Sneakers For Men</td>\n",
       "      <td>₹376</td>\n",
       "    </tr>\n",
       "    <tr>\n",
       "      <th>27</th>\n",
       "      <td>World Wear Footwear</td>\n",
       "      <td>5011-Latest Collection Stylish &amp; Trendy Casual...</td>\n",
       "      <td>₹199</td>\n",
       "    </tr>\n",
       "    <tr>\n",
       "      <th>28</th>\n",
       "      <td>Bavis</td>\n",
       "      <td>Combo Pack of 2 Casual Shoes For Men Sneakers ...</td>\n",
       "      <td>₹253</td>\n",
       "    </tr>\n",
       "    <tr>\n",
       "      <th>29</th>\n",
       "      <td>luxury fashion</td>\n",
       "      <td>Sneakers For Men</td>\n",
       "      <td>₹349</td>\n",
       "    </tr>\n",
       "    <tr>\n",
       "      <th>30</th>\n",
       "      <td>Chevit</td>\n",
       "      <td>516 Trendy Star Perfect Sneakers For Men</td>\n",
       "      <td>₹236</td>\n",
       "    </tr>\n",
       "    <tr>\n",
       "      <th>31</th>\n",
       "      <td>PEXLO</td>\n",
       "      <td>Combo Pack of 3 Casual Shoes Sneakers For Men</td>\n",
       "      <td>₹557</td>\n",
       "    </tr>\n",
       "    <tr>\n",
       "      <th>32</th>\n",
       "      <td>Numenzo</td>\n",
       "      <td>411 Casual Sneakers For Men</td>\n",
       "      <td>₹424</td>\n",
       "    </tr>\n",
       "    <tr>\n",
       "      <th>33</th>\n",
       "      <td>World Wear Footwear</td>\n",
       "      <td>5013-Latest Collection Stylish &amp; Trendy of cas...</td>\n",
       "      <td>₹199</td>\n",
       "    </tr>\n",
       "    <tr>\n",
       "      <th>34</th>\n",
       "      <td>Robbie jones</td>\n",
       "      <td>Sneakers For Men</td>\n",
       "      <td>₹424</td>\n",
       "    </tr>\n",
       "    <tr>\n",
       "      <th>35</th>\n",
       "      <td>HOTSTYLE</td>\n",
       "      <td>Sneakers For Men</td>\n",
       "      <td>₹184</td>\n",
       "    </tr>\n",
       "    <tr>\n",
       "      <th>36</th>\n",
       "      <td>World Wear Footwear</td>\n",
       "      <td>Latest Collection-1227 Stylish Casual Sports S...</td>\n",
       "      <td>₹199</td>\n",
       "    </tr>\n",
       "  </tbody>\n",
       "</table>\n",
       "</div>"
      ],
      "text/plain": [
       "              shoes_Bands                                product_description  \\\n",
       "0                URBANBOX                          Sneakers Sneakers For Men   \n",
       "1                  BRUTON      Modern Trendy Sneakers Shoes Sneakers For Men   \n",
       "2   HRX by Hrithik Roshan                                   Sneakers For Men   \n",
       "3                   BIRDE  Stylish Comfortable Lightweight, Breathable Wa...   \n",
       "4                Magnolia                                   Sneakers For Men   \n",
       "5                  corsac  STYLISH MENS BLACK AND WHITE SNEAKER Sneakers ...   \n",
       "6                KWIK FIT  Kwik FIT casual sneaker shoes and partywear sh...   \n",
       "7                  BRUTON             Lattest Sneakers Shoe Sneakers For Men   \n",
       "8                  BRUTON                           Sneaker Sneakers For Men   \n",
       "9                    aadi                                   Sneakers For Men   \n",
       "10               ASTEROID  Original Luxury Branded Black Fancy Casual Wal...   \n",
       "11                 Labbin                                   Sneakers For Men   \n",
       "12                 Kzaara                                   Sneakers For Men   \n",
       "13                  Echor  Men's Sneakers Fashion Lightweight Running Sho...   \n",
       "14              SCATCHITE                          Sneakers Sneakers For Men   \n",
       "15               ASTEROID  Original Luxury Branded Fashionable Men's Casu...   \n",
       "16                  SPARX                Men White Sneakers Sneakers For Men   \n",
       "17                 Layasa                                   Sneakers For Men   \n",
       "18                EMPTILE   all white heartbeat casual shoe Sneakers For Men   \n",
       "19              ONECENTRE                              STR2 Sneakers For Men   \n",
       "20                  CLYMB                                   Sneakers For Men   \n",
       "21                 BRUTON  Lightweight Pack Of 1 Trendy Sneakers Sneakers...   \n",
       "22                 corsac  STYLISH MENS BLACK TRENDY SNEAKER FOR MENS Sne...   \n",
       "23                  MAFLO                                   Sneakers For Men   \n",
       "24                   NIKE                       Ebernon Low Sneakers For Men   \n",
       "25                 Kraasa                          Series 7 Sneakers For Men   \n",
       "26                   Ktiz                                   Sneakers For Men   \n",
       "27    World Wear Footwear  5011-Latest Collection Stylish & Trendy Casual...   \n",
       "28                  Bavis  Combo Pack of 2 Casual Shoes For Men Sneakers ...   \n",
       "29         luxury fashion                                   Sneakers For Men   \n",
       "30                 Chevit           516 Trendy Star Perfect Sneakers For Men   \n",
       "31                  PEXLO      Combo Pack of 3 Casual Shoes Sneakers For Men   \n",
       "32                Numenzo                        411 Casual Sneakers For Men   \n",
       "33    World Wear Footwear  5013-Latest Collection Stylish & Trendy of cas...   \n",
       "34           Robbie jones                                   Sneakers For Men   \n",
       "35               HOTSTYLE                                   Sneakers For Men   \n",
       "36    World Wear Footwear  Latest Collection-1227 Stylish Casual Sports S...   \n",
       "\n",
       "     price  \n",
       "0     ₹158  \n",
       "1     ₹245  \n",
       "2     ₹692  \n",
       "3     ₹269  \n",
       "4     ₹351  \n",
       "5     ₹449  \n",
       "6     ₹349  \n",
       "7     ₹249  \n",
       "8     ₹249  \n",
       "9     ₹297  \n",
       "10    ₹449  \n",
       "11    ₹419  \n",
       "12    ₹249  \n",
       "13    ₹489  \n",
       "14    ₹348  \n",
       "15    ₹449  \n",
       "16    ₹706  \n",
       "17    ₹399  \n",
       "18    ₹327  \n",
       "19    ₹250  \n",
       "20    ₹599  \n",
       "21    ₹158  \n",
       "22    ₹449  \n",
       "23    ₹374  \n",
       "24  ₹4,291  \n",
       "25    ₹405  \n",
       "26    ₹376  \n",
       "27    ₹199  \n",
       "28    ₹253  \n",
       "29    ₹349  \n",
       "30    ₹236  \n",
       "31    ₹557  \n",
       "32    ₹424  \n",
       "33    ₹199  \n",
       "34    ₹424  \n",
       "35    ₹184  \n",
       "36    ₹199  "
      ]
     },
     "execution_count": 284,
     "metadata": {},
     "output_type": "execute_result"
    }
   ],
   "source": [
    "import pandas as pd\n",
    "jobs=pd.DataFrame({})\n",
    "jobs['shoes_Bands']=shoes_Bands\n",
    "jobs['product_description']=product_description\n",
    "jobs['price']=price\n",
    "jobs"
   ]
  },
  {
   "cell_type": "code",
   "execution_count": 285,
   "id": "7a03701f",
   "metadata": {},
   "outputs": [],
   "source": [
    "Next_button=driver.find_element_by_xpath(\"/html/body/div/div/div[3]/div[1]/div[2]/div[12]/div/div/nav/a[11]/span\")\n",
    "Next_button.click()"
   ]
  },
  {
   "cell_type": "code",
   "execution_count": 286,
   "id": "c527e5c0",
   "metadata": {},
   "outputs": [],
   "source": [
    "shoes_Bands =[]\n",
    "product_description=[]\n",
    "price=[]"
   ]
  },
  {
   "cell_type": "code",
   "execution_count": 287,
   "id": "2bd4422c",
   "metadata": {},
   "outputs": [
    {
     "data": {
      "text/plain": [
       "[<selenium.webdriver.remote.webelement.WebElement (session=\"deccf6b4044ace42b5d79a0352bfcee2\", element=\"7d34d8d8-d2fc-4439-b580-02a06b749dd0\")>,\n",
       " <selenium.webdriver.remote.webelement.WebElement (session=\"deccf6b4044ace42b5d79a0352bfcee2\", element=\"e4d4c33e-babb-4d13-a816-1cc81ee1ee0b\")>,\n",
       " <selenium.webdriver.remote.webelement.WebElement (session=\"deccf6b4044ace42b5d79a0352bfcee2\", element=\"e69ffbd3-80d0-4d1b-837d-babd7bcef064\")>,\n",
       " <selenium.webdriver.remote.webelement.WebElement (session=\"deccf6b4044ace42b5d79a0352bfcee2\", element=\"0e7bbc81-a280-443d-94b6-b0300ed0761a\")>]"
      ]
     },
     "execution_count": 287,
     "metadata": {},
     "output_type": "execute_result"
    }
   ],
   "source": [
    "shoes_tags=driver.find_elements_by_xpath(\"//div[@class='_2WkVRV']\")\n",
    "Rating_tags[0:4]"
   ]
  },
  {
   "cell_type": "code",
   "execution_count": 288,
   "id": "e06fa5db",
   "metadata": {},
   "outputs": [
    {
     "data": {
      "text/plain": [
       "['Robbie jones', 'AMICO', 'Kraasa', 'DUNKASTON']"
      ]
     },
     "execution_count": 288,
     "metadata": {},
     "output_type": "execute_result"
    }
   ],
   "source": [
    "for i in shoes_tags:\n",
    "    shoes=i.text\n",
    "    shoes_Bands.append(shoes)\n",
    "shoes_Bands[0:4]"
   ]
  },
  {
   "cell_type": "code",
   "execution_count": 289,
   "id": "e9aba86b",
   "metadata": {},
   "outputs": [
    {
     "data": {
      "text/plain": [
       "[<selenium.webdriver.remote.webelement.WebElement (session=\"deccf6b4044ace42b5d79a0352bfcee2\", element=\"0a21a2ab-f56e-4ad2-8b38-233fffe935f6\")>,\n",
       " <selenium.webdriver.remote.webelement.WebElement (session=\"deccf6b4044ace42b5d79a0352bfcee2\", element=\"33daf500-d9f1-476f-a109-17bc7fcfe62b\")>,\n",
       " <selenium.webdriver.remote.webelement.WebElement (session=\"deccf6b4044ace42b5d79a0352bfcee2\", element=\"9b4d2e55-1f7e-4dc3-985b-7eb664c9933b\")>,\n",
       " <selenium.webdriver.remote.webelement.WebElement (session=\"deccf6b4044ace42b5d79a0352bfcee2\", element=\"ea6fb9e6-6725-41cd-a103-405b3dbe9123\")>]"
      ]
     },
     "execution_count": 289,
     "metadata": {},
     "output_type": "execute_result"
    }
   ],
   "source": [
    "product_tags=driver.find_elements_by_class_name(\"IRpwTa\")\n",
    "product_tags[0:4]"
   ]
  },
  {
   "cell_type": "code",
   "execution_count": 290,
   "id": "9810edce",
   "metadata": {},
   "outputs": [
    {
     "data": {
      "text/plain": [
       "['Casual Sneakers Shoes For Men And Boys Sneakers For Men',\n",
       " 'Sneakers For Men',\n",
       " 'Shark-41 Sneakers For Men',\n",
       " 'Sneakers For Men']"
      ]
     },
     "execution_count": 290,
     "metadata": {},
     "output_type": "execute_result"
    }
   ],
   "source": [
    "for i in product_tags:\n",
    "    description=i.text\n",
    "    product_description.append(description)\n",
    "product_description[0:4]"
   ]
  },
  {
   "cell_type": "code",
   "execution_count": 291,
   "id": "1eb4abd0",
   "metadata": {},
   "outputs": [
    {
     "data": {
      "text/plain": [
       "[<selenium.webdriver.remote.webelement.WebElement (session=\"deccf6b4044ace42b5d79a0352bfcee2\", element=\"54625e47-cd6d-4deb-ac7a-79e2b465890b\")>,\n",
       " <selenium.webdriver.remote.webelement.WebElement (session=\"deccf6b4044ace42b5d79a0352bfcee2\", element=\"339e7feb-e005-4098-a56e-c310a03599fb\")>,\n",
       " <selenium.webdriver.remote.webelement.WebElement (session=\"deccf6b4044ace42b5d79a0352bfcee2\", element=\"545a811d-0815-44a0-b7a8-7d9449e62cf4\")>,\n",
       " <selenium.webdriver.remote.webelement.WebElement (session=\"deccf6b4044ace42b5d79a0352bfcee2\", element=\"1af3ebe3-35c9-448d-b41a-030db85d45f7\")>]"
      ]
     },
     "execution_count": 291,
     "metadata": {},
     "output_type": "execute_result"
    }
   ],
   "source": [
    "price_tags=driver.find_elements_by_xpath(\"//div[@class='_30jeq3']\")\n",
    "price_tags[0:4]"
   ]
  },
  {
   "cell_type": "code",
   "execution_count": 292,
   "id": "571f833d",
   "metadata": {},
   "outputs": [
    {
     "data": {
      "text/plain": [
       "['₹424', '₹499', '₹411', '₹329']"
      ]
     },
     "execution_count": 292,
     "metadata": {},
     "output_type": "execute_result"
    }
   ],
   "source": [
    "for i in price_tags:\n",
    "    price.append(i.text)\n",
    "price[0:4]"
   ]
  },
  {
   "cell_type": "code",
   "execution_count": 293,
   "id": "87cf16f9",
   "metadata": {},
   "outputs": [
    {
     "name": "stdout",
     "output_type": "stream",
     "text": [
      "40 40 40\n"
     ]
    }
   ],
   "source": [
    "print(len(shoes_Bands),len(product_description),len(price))"
   ]
  },
  {
   "cell_type": "code",
   "execution_count": 294,
   "id": "21ec67b2",
   "metadata": {},
   "outputs": [
    {
     "data": {
      "text/html": [
       "<div>\n",
       "<style scoped>\n",
       "    .dataframe tbody tr th:only-of-type {\n",
       "        vertical-align: middle;\n",
       "    }\n",
       "\n",
       "    .dataframe tbody tr th {\n",
       "        vertical-align: top;\n",
       "    }\n",
       "\n",
       "    .dataframe thead th {\n",
       "        text-align: right;\n",
       "    }\n",
       "</style>\n",
       "<table border=\"1\" class=\"dataframe\">\n",
       "  <thead>\n",
       "    <tr style=\"text-align: right;\">\n",
       "      <th></th>\n",
       "      <th>shoes_Bands</th>\n",
       "      <th>product_description</th>\n",
       "      <th>price</th>\n",
       "    </tr>\n",
       "  </thead>\n",
       "  <tbody>\n",
       "    <tr>\n",
       "      <th>0</th>\n",
       "      <td>Robbie jones</td>\n",
       "      <td>Casual Sneakers Shoes For Men And Boys Sneaker...</td>\n",
       "      <td>₹424</td>\n",
       "    </tr>\n",
       "    <tr>\n",
       "      <th>1</th>\n",
       "      <td>AMICO</td>\n",
       "      <td>Sneakers For Men</td>\n",
       "      <td>₹499</td>\n",
       "    </tr>\n",
       "    <tr>\n",
       "      <th>2</th>\n",
       "      <td>Kraasa</td>\n",
       "      <td>Shark-41 Sneakers For Men</td>\n",
       "      <td>₹411</td>\n",
       "    </tr>\n",
       "    <tr>\n",
       "      <th>3</th>\n",
       "      <td>DUNKASTON</td>\n",
       "      <td>Sneakers For Men</td>\n",
       "      <td>₹329</td>\n",
       "    </tr>\n",
       "    <tr>\n",
       "      <th>4</th>\n",
       "      <td>Robbie jones</td>\n",
       "      <td>Sneakers For Men</td>\n",
       "      <td>₹424</td>\n",
       "    </tr>\n",
       "    <tr>\n",
       "      <th>5</th>\n",
       "      <td>ASIAN</td>\n",
       "      <td>WATERPROOF-05cFULLBLACK Sneakers For Men</td>\n",
       "      <td>₹549</td>\n",
       "    </tr>\n",
       "    <tr>\n",
       "      <th>6</th>\n",
       "      <td>Robbie jones</td>\n",
       "      <td>Casual Sneakers White Shoes For Men Sneakers F...</td>\n",
       "      <td>₹424</td>\n",
       "    </tr>\n",
       "    <tr>\n",
       "      <th>7</th>\n",
       "      <td>World Wear Footwear</td>\n",
       "      <td>Men 5014 Latest Collection Stylish Casual Spor...</td>\n",
       "      <td>₹199</td>\n",
       "    </tr>\n",
       "    <tr>\n",
       "      <th>8</th>\n",
       "      <td>ZF Klub</td>\n",
       "      <td>Sneakers For Men</td>\n",
       "      <td>₹349</td>\n",
       "    </tr>\n",
       "    <tr>\n",
       "      <th>9</th>\n",
       "      <td>BIRDE</td>\n",
       "      <td>Stylish Comfortable Lightweight, Breathable Wa...</td>\n",
       "      <td>₹303</td>\n",
       "    </tr>\n",
       "    <tr>\n",
       "      <th>10</th>\n",
       "      <td>bluemaker</td>\n",
       "      <td>casual shoe for men Sneakers For Men</td>\n",
       "      <td>₹399</td>\n",
       "    </tr>\n",
       "    <tr>\n",
       "      <th>11</th>\n",
       "      <td>luxury fashion</td>\n",
       "      <td>New Collection Pair of Stylish Shoe Sneakers F...</td>\n",
       "      <td>₹449</td>\n",
       "    </tr>\n",
       "    <tr>\n",
       "      <th>12</th>\n",
       "      <td>Labbin</td>\n",
       "      <td>Casual Sneakers White Shoes For Boys And Men S...</td>\n",
       "      <td>₹449</td>\n",
       "    </tr>\n",
       "    <tr>\n",
       "      <th>13</th>\n",
       "      <td>PUMA</td>\n",
       "      <td>Puma Wired Cage Sneakers For Men</td>\n",
       "      <td>₹1,222</td>\n",
       "    </tr>\n",
       "    <tr>\n",
       "      <th>14</th>\n",
       "      <td>Robbie jones</td>\n",
       "      <td>Sneakers For Men</td>\n",
       "      <td>₹424</td>\n",
       "    </tr>\n",
       "    <tr>\n",
       "      <th>15</th>\n",
       "      <td>LE GREEM</td>\n",
       "      <td>Comfortable &amp; Ultra Light Weight Sneaker Sneak...</td>\n",
       "      <td>₹449</td>\n",
       "    </tr>\n",
       "    <tr>\n",
       "      <th>16</th>\n",
       "      <td>Arohi</td>\n",
       "      <td>Sneakers For Men</td>\n",
       "      <td>₹391</td>\n",
       "    </tr>\n",
       "    <tr>\n",
       "      <th>17</th>\n",
       "      <td>D-SNEAKERZ</td>\n",
       "      <td>Casual , Partywear Sneakers Shoes For Men's An...</td>\n",
       "      <td>₹384</td>\n",
       "    </tr>\n",
       "    <tr>\n",
       "      <th>18</th>\n",
       "      <td>RapidBox</td>\n",
       "      <td>Sneakers For Men</td>\n",
       "      <td>₹645</td>\n",
       "    </tr>\n",
       "    <tr>\n",
       "      <th>19</th>\n",
       "      <td>Dizzler</td>\n",
       "      <td>Sneakers For Men</td>\n",
       "      <td>₹445</td>\n",
       "    </tr>\n",
       "    <tr>\n",
       "      <th>20</th>\n",
       "      <td>LE GREEM</td>\n",
       "      <td>Comfortable &amp; Ultra Light Weight Sneaker Sneak...</td>\n",
       "      <td>₹449</td>\n",
       "    </tr>\n",
       "    <tr>\n",
       "      <th>21</th>\n",
       "      <td>ASIAN</td>\n",
       "      <td>Skypy-31 Walking Shoes,Training Shoes,Sneakers...</td>\n",
       "      <td>₹498</td>\n",
       "    </tr>\n",
       "    <tr>\n",
       "      <th>22</th>\n",
       "      <td>Airland</td>\n",
       "      <td>shoe Sneakers For Men</td>\n",
       "      <td>₹159</td>\n",
       "    </tr>\n",
       "    <tr>\n",
       "      <th>23</th>\n",
       "      <td>Rzisbo</td>\n",
       "      <td>Sneakers For Men</td>\n",
       "      <td>₹449</td>\n",
       "    </tr>\n",
       "    <tr>\n",
       "      <th>24</th>\n",
       "      <td>T-ROCK</td>\n",
       "      <td>Sneakers For Men</td>\n",
       "      <td>₹249</td>\n",
       "    </tr>\n",
       "    <tr>\n",
       "      <th>25</th>\n",
       "      <td>RODDICK SHOES</td>\n",
       "      <td>Fashion Outdoor Canvas Casual Light Weight Lac...</td>\n",
       "      <td>₹435</td>\n",
       "    </tr>\n",
       "    <tr>\n",
       "      <th>26</th>\n",
       "      <td>Hida</td>\n",
       "      <td>Sneakers For Men</td>\n",
       "      <td>₹599</td>\n",
       "    </tr>\n",
       "    <tr>\n",
       "      <th>27</th>\n",
       "      <td>Hida</td>\n",
       "      <td>Sneakers For Men</td>\n",
       "      <td>₹599</td>\n",
       "    </tr>\n",
       "    <tr>\n",
       "      <th>28</th>\n",
       "      <td>WHITE WALKERS</td>\n",
       "      <td>Stylish &amp; Trending Outdoor Walking Comfortable...</td>\n",
       "      <td>₹549</td>\n",
       "    </tr>\n",
       "    <tr>\n",
       "      <th>29</th>\n",
       "      <td>Chevit</td>\n",
       "      <td>Men's Combo Pack of 02 Shoes for Men Casual Sn...</td>\n",
       "      <td>₹398</td>\n",
       "    </tr>\n",
       "    <tr>\n",
       "      <th>30</th>\n",
       "      <td>Kraasa</td>\n",
       "      <td>Casuals, Canvas, Partywear Sneakers For Men</td>\n",
       "      <td>₹410</td>\n",
       "    </tr>\n",
       "    <tr>\n",
       "      <th>31</th>\n",
       "      <td>Airland</td>\n",
       "      <td>1259 smart black lace-ups sneakers for men Sne...</td>\n",
       "      <td>₹183</td>\n",
       "    </tr>\n",
       "    <tr>\n",
       "      <th>32</th>\n",
       "      <td>Chevit</td>\n",
       "      <td>Perfect Pairs Casual Sneakers Outdoor Loafers ...</td>\n",
       "      <td>₹544</td>\n",
       "    </tr>\n",
       "    <tr>\n",
       "      <th>33</th>\n",
       "      <td>Echor</td>\n",
       "      <td>Sneakers For Men</td>\n",
       "      <td>₹489</td>\n",
       "    </tr>\n",
       "    <tr>\n",
       "      <th>34</th>\n",
       "      <td>SPARX</td>\n",
       "      <td>SM-439 Sneakers For Men</td>\n",
       "      <td>₹799</td>\n",
       "    </tr>\n",
       "    <tr>\n",
       "      <th>35</th>\n",
       "      <td>Chevit</td>\n",
       "      <td>Super Stylish &amp; Trendy Combo Pack of 02 Pairs ...</td>\n",
       "      <td>₹559</td>\n",
       "    </tr>\n",
       "    <tr>\n",
       "      <th>36</th>\n",
       "      <td>ASIAN</td>\n",
       "      <td>WATERPROOF-05cFULLWHITE Sneakers For Men</td>\n",
       "      <td>₹549</td>\n",
       "    </tr>\n",
       "    <tr>\n",
       "      <th>37</th>\n",
       "      <td>Kraasa</td>\n",
       "      <td>Shark-41 Sneakers For Men</td>\n",
       "      <td>₹414</td>\n",
       "    </tr>\n",
       "    <tr>\n",
       "      <th>38</th>\n",
       "      <td>SPARX</td>\n",
       "      <td>SM-439 Sneakers For Men</td>\n",
       "      <td>₹799</td>\n",
       "    </tr>\n",
       "    <tr>\n",
       "      <th>39</th>\n",
       "      <td>ONECENTRE</td>\n",
       "      <td>STR2 Sneakers For Men</td>\n",
       "      <td>₹250</td>\n",
       "    </tr>\n",
       "  </tbody>\n",
       "</table>\n",
       "</div>"
      ],
      "text/plain": [
       "            shoes_Bands                                product_description  \\\n",
       "0          Robbie jones  Casual Sneakers Shoes For Men And Boys Sneaker...   \n",
       "1                 AMICO                                   Sneakers For Men   \n",
       "2                Kraasa                          Shark-41 Sneakers For Men   \n",
       "3             DUNKASTON                                   Sneakers For Men   \n",
       "4          Robbie jones                                   Sneakers For Men   \n",
       "5                 ASIAN           WATERPROOF-05cFULLBLACK Sneakers For Men   \n",
       "6          Robbie jones  Casual Sneakers White Shoes For Men Sneakers F...   \n",
       "7   World Wear Footwear  Men 5014 Latest Collection Stylish Casual Spor...   \n",
       "8               ZF Klub                                   Sneakers For Men   \n",
       "9                 BIRDE  Stylish Comfortable Lightweight, Breathable Wa...   \n",
       "10            bluemaker               casual shoe for men Sneakers For Men   \n",
       "11       luxury fashion  New Collection Pair of Stylish Shoe Sneakers F...   \n",
       "12               Labbin  Casual Sneakers White Shoes For Boys And Men S...   \n",
       "13                 PUMA                   Puma Wired Cage Sneakers For Men   \n",
       "14         Robbie jones                                   Sneakers For Men   \n",
       "15             LE GREEM  Comfortable & Ultra Light Weight Sneaker Sneak...   \n",
       "16                Arohi                                   Sneakers For Men   \n",
       "17           D-SNEAKERZ  Casual , Partywear Sneakers Shoes For Men's An...   \n",
       "18             RapidBox                                   Sneakers For Men   \n",
       "19              Dizzler                                   Sneakers For Men   \n",
       "20             LE GREEM  Comfortable & Ultra Light Weight Sneaker Sneak...   \n",
       "21                ASIAN  Skypy-31 Walking Shoes,Training Shoes,Sneakers...   \n",
       "22              Airland                              shoe Sneakers For Men   \n",
       "23               Rzisbo                                   Sneakers For Men   \n",
       "24               T-ROCK                                   Sneakers For Men   \n",
       "25        RODDICK SHOES  Fashion Outdoor Canvas Casual Light Weight Lac...   \n",
       "26                 Hida                                   Sneakers For Men   \n",
       "27                 Hida                                   Sneakers For Men   \n",
       "28        WHITE WALKERS  Stylish & Trending Outdoor Walking Comfortable...   \n",
       "29               Chevit  Men's Combo Pack of 02 Shoes for Men Casual Sn...   \n",
       "30               Kraasa        Casuals, Canvas, Partywear Sneakers For Men   \n",
       "31              Airland  1259 smart black lace-ups sneakers for men Sne...   \n",
       "32               Chevit  Perfect Pairs Casual Sneakers Outdoor Loafers ...   \n",
       "33                Echor                                   Sneakers For Men   \n",
       "34                SPARX                            SM-439 Sneakers For Men   \n",
       "35               Chevit  Super Stylish & Trendy Combo Pack of 02 Pairs ...   \n",
       "36                ASIAN           WATERPROOF-05cFULLWHITE Sneakers For Men   \n",
       "37               Kraasa                          Shark-41 Sneakers For Men   \n",
       "38                SPARX                            SM-439 Sneakers For Men   \n",
       "39            ONECENTRE                              STR2 Sneakers For Men   \n",
       "\n",
       "     price  \n",
       "0     ₹424  \n",
       "1     ₹499  \n",
       "2     ₹411  \n",
       "3     ₹329  \n",
       "4     ₹424  \n",
       "5     ₹549  \n",
       "6     ₹424  \n",
       "7     ₹199  \n",
       "8     ₹349  \n",
       "9     ₹303  \n",
       "10    ₹399  \n",
       "11    ₹449  \n",
       "12    ₹449  \n",
       "13  ₹1,222  \n",
       "14    ₹424  \n",
       "15    ₹449  \n",
       "16    ₹391  \n",
       "17    ₹384  \n",
       "18    ₹645  \n",
       "19    ₹445  \n",
       "20    ₹449  \n",
       "21    ₹498  \n",
       "22    ₹159  \n",
       "23    ₹449  \n",
       "24    ₹249  \n",
       "25    ₹435  \n",
       "26    ₹599  \n",
       "27    ₹599  \n",
       "28    ₹549  \n",
       "29    ₹398  \n",
       "30    ₹410  \n",
       "31    ₹183  \n",
       "32    ₹544  \n",
       "33    ₹489  \n",
       "34    ₹799  \n",
       "35    ₹559  \n",
       "36    ₹549  \n",
       "37    ₹414  \n",
       "38    ₹799  \n",
       "39    ₹250  "
      ]
     },
     "execution_count": 294,
     "metadata": {},
     "output_type": "execute_result"
    }
   ],
   "source": [
    "import pandas as pd\n",
    "jobs=pd.DataFrame({})\n",
    "jobs['shoes_Bands']=shoes_Bands\n",
    "jobs['product_description']=product_description\n",
    "jobs['price']=price\n",
    "jobs"
   ]
  },
  {
   "cell_type": "code",
   "execution_count": 295,
   "id": "7a474b33",
   "metadata": {},
   "outputs": [],
   "source": [
    "Next_button=driver.find_element_by_xpath(\"/html/body/div/div/div[3]/div[1]/div[2]/div[12]/div/div/nav/a[12]/span\")\n",
    "Next_button.click()"
   ]
  },
  {
   "cell_type": "code",
   "execution_count": 296,
   "id": "570f5f9d",
   "metadata": {},
   "outputs": [],
   "source": [
    "shoes_Bands =[]\n",
    "product_description=[]\n",
    "price=[]"
   ]
  },
  {
   "cell_type": "code",
   "execution_count": 297,
   "id": "a8a6c7d0",
   "metadata": {},
   "outputs": [
    {
     "data": {
      "text/plain": [
       "[<selenium.webdriver.remote.webelement.WebElement (session=\"deccf6b4044ace42b5d79a0352bfcee2\", element=\"7d34d8d8-d2fc-4439-b580-02a06b749dd0\")>,\n",
       " <selenium.webdriver.remote.webelement.WebElement (session=\"deccf6b4044ace42b5d79a0352bfcee2\", element=\"e4d4c33e-babb-4d13-a816-1cc81ee1ee0b\")>,\n",
       " <selenium.webdriver.remote.webelement.WebElement (session=\"deccf6b4044ace42b5d79a0352bfcee2\", element=\"e69ffbd3-80d0-4d1b-837d-babd7bcef064\")>,\n",
       " <selenium.webdriver.remote.webelement.WebElement (session=\"deccf6b4044ace42b5d79a0352bfcee2\", element=\"0e7bbc81-a280-443d-94b6-b0300ed0761a\")>]"
      ]
     },
     "execution_count": 297,
     "metadata": {},
     "output_type": "execute_result"
    }
   ],
   "source": [
    "shoes_tags=driver.find_elements_by_xpath(\"//div[@class='_2WkVRV']\")\n",
    "Rating_tags[0:4]"
   ]
  },
  {
   "cell_type": "code",
   "execution_count": 298,
   "id": "fe6e3f34",
   "metadata": {},
   "outputs": [
    {
     "data": {
      "text/plain": [
       "['SEGA', 'WHITE WALKERS', 'KNIGHT WALKERS', 'Labbin']"
      ]
     },
     "execution_count": 298,
     "metadata": {},
     "output_type": "execute_result"
    }
   ],
   "source": [
    "for i in shoes_tags:\n",
    "    shoes=i.text\n",
    "    shoes_Bands.append(shoes)\n",
    "shoes_Bands[0:4]"
   ]
  },
  {
   "cell_type": "code",
   "execution_count": 299,
   "id": "2bbfaca7",
   "metadata": {},
   "outputs": [
    {
     "data": {
      "text/plain": [
       "[<selenium.webdriver.remote.webelement.WebElement (session=\"deccf6b4044ace42b5d79a0352bfcee2\", element=\"b54673a1-77b2-4fc5-9da9-7258a870159e\")>,\n",
       " <selenium.webdriver.remote.webelement.WebElement (session=\"deccf6b4044ace42b5d79a0352bfcee2\", element=\"761878ad-8615-44c6-a800-a587571f6c33\")>,\n",
       " <selenium.webdriver.remote.webelement.WebElement (session=\"deccf6b4044ace42b5d79a0352bfcee2\", element=\"20af4c2e-a7cf-4c02-b9db-c35b8c3ddefc\")>,\n",
       " <selenium.webdriver.remote.webelement.WebElement (session=\"deccf6b4044ace42b5d79a0352bfcee2\", element=\"de596bfc-29e8-434c-bddb-e204daf3cf15\")>]"
      ]
     },
     "execution_count": 299,
     "metadata": {},
     "output_type": "execute_result"
    }
   ],
   "source": [
    "product_tags=driver.find_elements_by_class_name(\"IRpwTa\")\n",
    "product_tags[0:4]"
   ]
  },
  {
   "cell_type": "code",
   "execution_count": 300,
   "id": "8d39bc22",
   "metadata": {},
   "outputs": [
    {
     "data": {
      "text/plain": [
       "['Sneakers For Men',\n",
       " 'Stylish & Trending Outdoor Walking Comfortable Sneakers...',\n",
       " 'Sneakers For Men',\n",
       " 'Sneakers For Men']"
      ]
     },
     "execution_count": 300,
     "metadata": {},
     "output_type": "execute_result"
    }
   ],
   "source": [
    "for i in product_tags:\n",
    "    description=i.text\n",
    "    product_description.append(description)\n",
    "product_description[0:4]"
   ]
  },
  {
   "cell_type": "code",
   "execution_count": 301,
   "id": "297f4f52",
   "metadata": {},
   "outputs": [
    {
     "data": {
      "text/plain": [
       "[<selenium.webdriver.remote.webelement.WebElement (session=\"deccf6b4044ace42b5d79a0352bfcee2\", element=\"4a51fd10-a0a7-4dba-bb39-68c0e518c45e\")>,\n",
       " <selenium.webdriver.remote.webelement.WebElement (session=\"deccf6b4044ace42b5d79a0352bfcee2\", element=\"252fc631-0a7a-4566-95c9-7b332b247c6f\")>,\n",
       " <selenium.webdriver.remote.webelement.WebElement (session=\"deccf6b4044ace42b5d79a0352bfcee2\", element=\"95610733-6973-4cd7-a631-3a8e48597017\")>,\n",
       " <selenium.webdriver.remote.webelement.WebElement (session=\"deccf6b4044ace42b5d79a0352bfcee2\", element=\"d56dbe39-4ca1-48e8-81da-f5be015c4904\")>]"
      ]
     },
     "execution_count": 301,
     "metadata": {},
     "output_type": "execute_result"
    }
   ],
   "source": [
    "price_tags=driver.find_elements_by_xpath(\"//div[@class='_30jeq3']\")\n",
    "price_tags[0:4]"
   ]
  },
  {
   "cell_type": "code",
   "execution_count": 302,
   "id": "232f70d1",
   "metadata": {},
   "outputs": [
    {
     "data": {
      "text/plain": [
       "['₹525', '₹549', '₹598', '₹449']"
      ]
     },
     "execution_count": 302,
     "metadata": {},
     "output_type": "execute_result"
    }
   ],
   "source": [
    "for i in price_tags:\n",
    "    price.append(i.text)\n",
    "price[0:4]"
   ]
  },
  {
   "cell_type": "code",
   "execution_count": 303,
   "id": "831a3f27",
   "metadata": {},
   "outputs": [
    {
     "name": "stdout",
     "output_type": "stream",
     "text": [
      "40 40 40\n"
     ]
    }
   ],
   "source": [
    "print(len(shoes_Bands),len(product_description),len(price))"
   ]
  },
  {
   "cell_type": "code",
   "execution_count": 305,
   "id": "5ee0c6f9",
   "metadata": {},
   "outputs": [
    {
     "data": {
      "text/html": [
       "<div>\n",
       "<style scoped>\n",
       "    .dataframe tbody tr th:only-of-type {\n",
       "        vertical-align: middle;\n",
       "    }\n",
       "\n",
       "    .dataframe tbody tr th {\n",
       "        vertical-align: top;\n",
       "    }\n",
       "\n",
       "    .dataframe thead th {\n",
       "        text-align: right;\n",
       "    }\n",
       "</style>\n",
       "<table border=\"1\" class=\"dataframe\">\n",
       "  <thead>\n",
       "    <tr style=\"text-align: right;\">\n",
       "      <th></th>\n",
       "      <th>shoes_Bands</th>\n",
       "      <th>product_description</th>\n",
       "      <th>price</th>\n",
       "    </tr>\n",
       "  </thead>\n",
       "  <tbody>\n",
       "    <tr>\n",
       "      <th>0</th>\n",
       "      <td>SEGA</td>\n",
       "      <td>Sneakers For Men</td>\n",
       "      <td>₹525</td>\n",
       "    </tr>\n",
       "    <tr>\n",
       "      <th>1</th>\n",
       "      <td>WHITE WALKERS</td>\n",
       "      <td>Stylish &amp; Trending Outdoor Walking Comfortable...</td>\n",
       "      <td>₹549</td>\n",
       "    </tr>\n",
       "    <tr>\n",
       "      <th>2</th>\n",
       "      <td>KNIGHT WALKERS</td>\n",
       "      <td>Sneakers For Men</td>\n",
       "      <td>₹598</td>\n",
       "    </tr>\n",
       "    <tr>\n",
       "      <th>3</th>\n",
       "      <td>Labbin</td>\n",
       "      <td>Sneakers For Men</td>\n",
       "      <td>₹449</td>\n",
       "    </tr>\n",
       "    <tr>\n",
       "      <th>4</th>\n",
       "      <td>BIRDE</td>\n",
       "      <td>Stylish Comfortable Lightweight, Breathable Ca...</td>\n",
       "      <td>₹349</td>\n",
       "    </tr>\n",
       "    <tr>\n",
       "      <th>5</th>\n",
       "      <td>Elevarse</td>\n",
       "      <td>Sneakers For Men</td>\n",
       "      <td>₹340</td>\n",
       "    </tr>\n",
       "    <tr>\n",
       "      <th>6</th>\n",
       "      <td>PUMA</td>\n",
       "      <td>Brave Sneakers For Men</td>\n",
       "      <td>₹1,269</td>\n",
       "    </tr>\n",
       "    <tr>\n",
       "      <th>7</th>\n",
       "      <td>Shoes Icon</td>\n",
       "      <td>Stylish White Casual Sneakers | White Party We...</td>\n",
       "      <td>₹388</td>\n",
       "    </tr>\n",
       "    <tr>\n",
       "      <th>8</th>\n",
       "      <td>WHITE WALKERS</td>\n",
       "      <td>Stylish &amp; Trending Outdoor Walking Comfortable...</td>\n",
       "      <td>₹549</td>\n",
       "    </tr>\n",
       "    <tr>\n",
       "      <th>9</th>\n",
       "      <td>ZF Klub</td>\n",
       "      <td>Sneakers For Men</td>\n",
       "      <td>₹349</td>\n",
       "    </tr>\n",
       "    <tr>\n",
       "      <th>10</th>\n",
       "      <td>Jack Diamond</td>\n",
       "      <td>Canvas Sneaker Sneakers For Men</td>\n",
       "      <td>₹639</td>\n",
       "    </tr>\n",
       "    <tr>\n",
       "      <th>11</th>\n",
       "      <td>rushk</td>\n",
       "      <td>Sneakers For Men</td>\n",
       "      <td>₹249</td>\n",
       "    </tr>\n",
       "    <tr>\n",
       "      <th>12</th>\n",
       "      <td>STRANGER BROTHERS</td>\n",
       "      <td>Sneakers For Men</td>\n",
       "      <td>₹359</td>\n",
       "    </tr>\n",
       "    <tr>\n",
       "      <th>13</th>\n",
       "      <td>bluemaker</td>\n",
       "      <td>casual shoe for men Sneakers For Men</td>\n",
       "      <td>₹399</td>\n",
       "    </tr>\n",
       "    <tr>\n",
       "      <th>14</th>\n",
       "      <td>RODDICK SHOES</td>\n",
       "      <td>Fashion Outdoor Canvas Casual Light Weight Lac...</td>\n",
       "      <td>₹380</td>\n",
       "    </tr>\n",
       "    <tr>\n",
       "      <th>15</th>\n",
       "      <td>Echor</td>\n",
       "      <td>Men's casual shoes sports shoes black sneaker ...</td>\n",
       "      <td>₹489</td>\n",
       "    </tr>\n",
       "    <tr>\n",
       "      <th>16</th>\n",
       "      <td>AMICO</td>\n",
       "      <td>Sneakers For Men</td>\n",
       "      <td>₹499</td>\n",
       "    </tr>\n",
       "    <tr>\n",
       "      <th>17</th>\n",
       "      <td>DRESTA</td>\n",
       "      <td>Original Luxury Branded Fashionable Men's Casu...</td>\n",
       "      <td>₹449</td>\n",
       "    </tr>\n",
       "    <tr>\n",
       "      <th>18</th>\n",
       "      <td>Shoes Bank</td>\n",
       "      <td>White Sneaker For Men's/Boy's Sneakers For Men</td>\n",
       "      <td>₹348</td>\n",
       "    </tr>\n",
       "    <tr>\n",
       "      <th>19</th>\n",
       "      <td>RED TAPE</td>\n",
       "      <td>Sneakers For Men</td>\n",
       "      <td>₹1,124</td>\n",
       "    </tr>\n",
       "    <tr>\n",
       "      <th>20</th>\n",
       "      <td>Nilatin</td>\n",
       "      <td>Sneakers For Men</td>\n",
       "      <td>₹549</td>\n",
       "    </tr>\n",
       "    <tr>\n",
       "      <th>21</th>\n",
       "      <td>kardam&amp;sons</td>\n",
       "      <td>casual sneaker shoes for men luxury fashion ca...</td>\n",
       "      <td>₹349</td>\n",
       "    </tr>\n",
       "    <tr>\n",
       "      <th>22</th>\n",
       "      <td>BIRDE</td>\n",
       "      <td>Stylish Comfortable Lightweight, Breathable Wa...</td>\n",
       "      <td>₹369</td>\n",
       "    </tr>\n",
       "  </tbody>\n",
       "</table>\n",
       "</div>"
      ],
      "text/plain": [
       "          shoes_Bands                                product_description  \\\n",
       "0                SEGA                                   Sneakers For Men   \n",
       "1       WHITE WALKERS  Stylish & Trending Outdoor Walking Comfortable...   \n",
       "2      KNIGHT WALKERS                                   Sneakers For Men   \n",
       "3              Labbin                                   Sneakers For Men   \n",
       "4               BIRDE  Stylish Comfortable Lightweight, Breathable Ca...   \n",
       "5            Elevarse                                   Sneakers For Men   \n",
       "6                PUMA                             Brave Sneakers For Men   \n",
       "7          Shoes Icon  Stylish White Casual Sneakers | White Party We...   \n",
       "8       WHITE WALKERS  Stylish & Trending Outdoor Walking Comfortable...   \n",
       "9             ZF Klub                                   Sneakers For Men   \n",
       "10       Jack Diamond                    Canvas Sneaker Sneakers For Men   \n",
       "11              rushk                                   Sneakers For Men   \n",
       "12  STRANGER BROTHERS                                   Sneakers For Men   \n",
       "13          bluemaker               casual shoe for men Sneakers For Men   \n",
       "14      RODDICK SHOES  Fashion Outdoor Canvas Casual Light Weight Lac...   \n",
       "15              Echor  Men's casual shoes sports shoes black sneaker ...   \n",
       "16              AMICO                                   Sneakers For Men   \n",
       "17             DRESTA  Original Luxury Branded Fashionable Men's Casu...   \n",
       "18         Shoes Bank     White Sneaker For Men's/Boy's Sneakers For Men   \n",
       "19           RED TAPE                                   Sneakers For Men   \n",
       "20            Nilatin                                   Sneakers For Men   \n",
       "21        kardam&sons  casual sneaker shoes for men luxury fashion ca...   \n",
       "22              BIRDE  Stylish Comfortable Lightweight, Breathable Wa...   \n",
       "\n",
       "     price  \n",
       "0     ₹525  \n",
       "1     ₹549  \n",
       "2     ₹598  \n",
       "3     ₹449  \n",
       "4     ₹349  \n",
       "5     ₹340  \n",
       "6   ₹1,269  \n",
       "7     ₹388  \n",
       "8     ₹549  \n",
       "9     ₹349  \n",
       "10    ₹639  \n",
       "11    ₹249  \n",
       "12    ₹359  \n",
       "13    ₹399  \n",
       "14    ₹380  \n",
       "15    ₹489  \n",
       "16    ₹499  \n",
       "17    ₹449  \n",
       "18    ₹348  \n",
       "19  ₹1,124  \n",
       "20    ₹549  \n",
       "21    ₹349  \n",
       "22    ₹369  "
      ]
     },
     "execution_count": 305,
     "metadata": {},
     "output_type": "execute_result"
    }
   ],
   "source": [
    "import pandas as pd\n",
    "jobs=pd.DataFrame({})\n",
    "jobs['shoes_Bands']=shoes_Bands\n",
    "jobs['product_description']=product_description\n",
    "jobs['price']=price\n",
    "jobs[0:23]"
   ]
  },
  {
   "cell_type": "code",
   "execution_count": 306,
   "id": "aeda758a",
   "metadata": {},
   "outputs": [],
   "source": [
    "#que7\n",
    "driver.get('https://www.myntra.com/shoes')"
   ]
  },
  {
   "cell_type": "code",
   "execution_count": 307,
   "id": "fda31d7a",
   "metadata": {},
   "outputs": [],
   "source": [
    "pricefilter_button=driver.find_element_by_xpath(\"/html/body/div[2]/div/div[1]/main/div[3]/div[1]/section/div/div[5]/ul/li[2]/label\")\n",
    "pricefilter_button.click()"
   ]
  },
  {
   "cell_type": "code",
   "execution_count": 308,
   "id": "1b409520",
   "metadata": {},
   "outputs": [],
   "source": [
    "colorefilter_button=driver.find_element_by_xpath(\"/html/body/div[2]/div/div[1]/main/div[3]/div[1]/section/div/div[6]/ul/li[1]/label\")\n",
    "colorefilter_button.click()"
   ]
  },
  {
   "cell_type": "code",
   "execution_count": 309,
   "id": "2f10f6df",
   "metadata": {},
   "outputs": [],
   "source": [
    "shoes_Bands =[]\n",
    "product_description=[]\n",
    "price=[]"
   ]
  },
  {
   "cell_type": "code",
   "execution_count": 310,
   "id": "692a7e53",
   "metadata": {},
   "outputs": [
    {
     "data": {
      "text/plain": [
       "[<selenium.webdriver.remote.webelement.WebElement (session=\"deccf6b4044ace42b5d79a0352bfcee2\", element=\"971a4dda-bf01-4584-8add-22a7ca3f2ab6\")>,\n",
       " <selenium.webdriver.remote.webelement.WebElement (session=\"deccf6b4044ace42b5d79a0352bfcee2\", element=\"e4c1832e-1eb2-411d-ac5d-dd58f32deb2d\")>,\n",
       " <selenium.webdriver.remote.webelement.WebElement (session=\"deccf6b4044ace42b5d79a0352bfcee2\", element=\"3e73833a-c0d2-4557-be4d-0d692c2e9041\")>,\n",
       " <selenium.webdriver.remote.webelement.WebElement (session=\"deccf6b4044ace42b5d79a0352bfcee2\", element=\"618162f7-06ae-4476-a919-297492d75eb8\")>]"
      ]
     },
     "execution_count": 310,
     "metadata": {},
     "output_type": "execute_result"
    }
   ],
   "source": [
    "price_tags=driver.find_elements_by_xpath(\"(//div[@class='product-price'])\")\n",
    "price_tags[0:4]"
   ]
  },
  {
   "cell_type": "code",
   "execution_count": 311,
   "id": "fb879908",
   "metadata": {},
   "outputs": [
    {
     "data": {
      "text/plain": [
       "['Rs. 7199Rs. 8999(20% OFF)', 'Rs. 9999', 'Rs. 11495', 'Rs. 7999']"
      ]
     },
     "execution_count": 311,
     "metadata": {},
     "output_type": "execute_result"
    }
   ],
   "source": [
    "for i in price_tags:\n",
    "    \n",
    "    price.append(i.text)\n",
    "price[0:4]"
   ]
  },
  {
   "cell_type": "code",
   "execution_count": 312,
   "id": "a356fade",
   "metadata": {},
   "outputs": [
    {
     "data": {
      "text/plain": [
       "[<selenium.webdriver.remote.webelement.WebElement (session=\"deccf6b4044ace42b5d79a0352bfcee2\", element=\"cb7a0a58-8c43-4995-8259-3d3efa2817dc\")>,\n",
       " <selenium.webdriver.remote.webelement.WebElement (session=\"deccf6b4044ace42b5d79a0352bfcee2\", element=\"842cee38-092d-4ffc-a187-06324fc6db1f\")>,\n",
       " <selenium.webdriver.remote.webelement.WebElement (session=\"deccf6b4044ace42b5d79a0352bfcee2\", element=\"b8d138ff-bfab-493f-875d-dc10868cddac\")>,\n",
       " <selenium.webdriver.remote.webelement.WebElement (session=\"deccf6b4044ace42b5d79a0352bfcee2\", element=\"3e197aaf-a32e-4e11-8ced-e60b488ef6e7\")>]"
      ]
     },
     "execution_count": 312,
     "metadata": {},
     "output_type": "execute_result"
    }
   ],
   "source": [
    "shoes_tags=driver.find_elements_by_xpath(\"//h3[@class='product-brand']\")\n",
    "shoes_tags[0:4]"
   ]
  },
  {
   "cell_type": "code",
   "execution_count": 313,
   "id": "3c7af686",
   "metadata": {},
   "outputs": [
    {
     "data": {
      "text/plain": [
       "['Skechers', 'ALDO', 'Nike', 'UNDER ARMOUR']"
      ]
     },
     "execution_count": 313,
     "metadata": {},
     "output_type": "execute_result"
    }
   ],
   "source": [
    "for i in shoes_tags:\n",
    "    shoes=i.text\n",
    "    shoes_Bands.append(shoes)\n",
    "shoes_Bands[0:4]"
   ]
  },
  {
   "cell_type": "code",
   "execution_count": 314,
   "id": "bd43350d",
   "metadata": {},
   "outputs": [
    {
     "data": {
      "text/plain": [
       "[<selenium.webdriver.remote.webelement.WebElement (session=\"deccf6b4044ace42b5d79a0352bfcee2\", element=\"1a754a4c-93ff-403b-aac2-6a91f0b03a8b\")>,\n",
       " <selenium.webdriver.remote.webelement.WebElement (session=\"deccf6b4044ace42b5d79a0352bfcee2\", element=\"6991dfd8-d861-435b-89ce-593f36157054\")>,\n",
       " <selenium.webdriver.remote.webelement.WebElement (session=\"deccf6b4044ace42b5d79a0352bfcee2\", element=\"9fb49b03-d8cb-422b-93a8-92f1e7cf9fb0\")>,\n",
       " <selenium.webdriver.remote.webelement.WebElement (session=\"deccf6b4044ace42b5d79a0352bfcee2\", element=\"42d81a4b-6526-4045-9344-3666fc8b86c3\")>]"
      ]
     },
     "execution_count": 314,
     "metadata": {},
     "output_type": "execute_result"
    }
   ],
   "source": [
    "product_tags=driver.find_elements_by_xpath(\"//h4[@class='product-product']\")\n",
    "product_tags[0:4]"
   ]
  },
  {
   "cell_type": "code",
   "execution_count": 315,
   "id": "16f7596d",
   "metadata": {},
   "outputs": [
    {
     "data": {
      "text/plain": [
       "['Men Max Cushioning Running',\n",
       " 'Men Sneakers',\n",
       " 'Men React Miler2 Running Shoes',\n",
       " 'Men Charged Rouge 3 Run Shoes']"
      ]
     },
     "execution_count": 315,
     "metadata": {},
     "output_type": "execute_result"
    }
   ],
   "source": [
    "for i in product_tags:\n",
    "    description=i.text\n",
    "    product_description.append(description)\n",
    "product_description[0:4]"
   ]
  },
  {
   "cell_type": "code",
   "execution_count": 316,
   "id": "c4f67292",
   "metadata": {},
   "outputs": [
    {
     "name": "stdout",
     "output_type": "stream",
     "text": [
      "50 50 50\n"
     ]
    }
   ],
   "source": [
    "print(len(shoes_Bands),len(product_description),len(price))"
   ]
  },
  {
   "cell_type": "code",
   "execution_count": 317,
   "id": "de1572d2",
   "metadata": {},
   "outputs": [
    {
     "data": {
      "text/html": [
       "<div>\n",
       "<style scoped>\n",
       "    .dataframe tbody tr th:only-of-type {\n",
       "        vertical-align: middle;\n",
       "    }\n",
       "\n",
       "    .dataframe tbody tr th {\n",
       "        vertical-align: top;\n",
       "    }\n",
       "\n",
       "    .dataframe thead th {\n",
       "        text-align: right;\n",
       "    }\n",
       "</style>\n",
       "<table border=\"1\" class=\"dataframe\">\n",
       "  <thead>\n",
       "    <tr style=\"text-align: right;\">\n",
       "      <th></th>\n",
       "      <th>shoes_Bands</th>\n",
       "      <th>product_description</th>\n",
       "      <th>price</th>\n",
       "    </tr>\n",
       "  </thead>\n",
       "  <tbody>\n",
       "    <tr>\n",
       "      <th>0</th>\n",
       "      <td>Skechers</td>\n",
       "      <td>Men Max Cushioning Running</td>\n",
       "      <td>Rs. 7199Rs. 8999(20% OFF)</td>\n",
       "    </tr>\n",
       "    <tr>\n",
       "      <th>1</th>\n",
       "      <td>ALDO</td>\n",
       "      <td>Men Sneakers</td>\n",
       "      <td>Rs. 9999</td>\n",
       "    </tr>\n",
       "    <tr>\n",
       "      <th>2</th>\n",
       "      <td>Nike</td>\n",
       "      <td>Men React Miler2 Running Shoes</td>\n",
       "      <td>Rs. 11495</td>\n",
       "    </tr>\n",
       "    <tr>\n",
       "      <th>3</th>\n",
       "      <td>UNDER ARMOUR</td>\n",
       "      <td>Men Charged Rouge 3 Run Shoes</td>\n",
       "      <td>Rs. 7999</td>\n",
       "    </tr>\n",
       "    <tr>\n",
       "      <th>4</th>\n",
       "      <td>Nike</td>\n",
       "      <td>Women React MR 3 Running Shoes</td>\n",
       "      <td>Rs. 8920Rs. 10495(15% OFF)</td>\n",
       "    </tr>\n",
       "    <tr>\n",
       "      <th>5</th>\n",
       "      <td>ADIDAS Originals</td>\n",
       "      <td>Men Niteball II Sneakers</td>\n",
       "      <td>Rs. 9349Rs. 10999(15% OFF)</td>\n",
       "    </tr>\n",
       "    <tr>\n",
       "      <th>6</th>\n",
       "      <td>ALDO</td>\n",
       "      <td>Men Woven Design Sneakers</td>\n",
       "      <td>Rs. 13999</td>\n",
       "    </tr>\n",
       "    <tr>\n",
       "      <th>7</th>\n",
       "      <td>ALDO</td>\n",
       "      <td>Men Leather Driving Shoes</td>\n",
       "      <td>Rs. 12999</td>\n",
       "    </tr>\n",
       "    <tr>\n",
       "      <th>8</th>\n",
       "      <td>Nike</td>\n",
       "      <td>Men AIR MAX EXCEE Sneakers</td>\n",
       "      <td>Rs. 7995</td>\n",
       "    </tr>\n",
       "    <tr>\n",
       "      <th>9</th>\n",
       "      <td>Skechers</td>\n",
       "      <td>Men MAX CUSHIONING ELITE-LUCID</td>\n",
       "      <td>Rs. 7599Rs. 9499(20% OFF)</td>\n",
       "    </tr>\n",
       "    <tr>\n",
       "      <th>10</th>\n",
       "      <td>Puma</td>\n",
       "      <td>Electrify Nitro Running Shoes</td>\n",
       "      <td>Rs. 8499Rs. 9999(15% OFF)</td>\n",
       "    </tr>\n",
       "    <tr>\n",
       "      <th>11</th>\n",
       "      <td>DAVINCHI</td>\n",
       "      <td>Men Textured Formal Leather Loafers</td>\n",
       "      <td>Rs. 8990</td>\n",
       "    </tr>\n",
       "    <tr>\n",
       "      <th>12</th>\n",
       "      <td>PUMA Motorsport</td>\n",
       "      <td>Unisex Ferrari IONSpeed</td>\n",
       "      <td>Rs. 7199Rs. 8999(20% OFF)</td>\n",
       "    </tr>\n",
       "    <tr>\n",
       "      <th>13</th>\n",
       "      <td>ALDO</td>\n",
       "      <td>Men Leather Loafers</td>\n",
       "      <td>Rs. 12999</td>\n",
       "    </tr>\n",
       "    <tr>\n",
       "      <th>14</th>\n",
       "      <td>UNDER ARMOUR</td>\n",
       "      <td>Project Rock Training shoes</td>\n",
       "      <td>Rs. 9999</td>\n",
       "    </tr>\n",
       "    <tr>\n",
       "      <th>15</th>\n",
       "      <td>Skechers</td>\n",
       "      <td>Men Sky Vault Walking Shoes</td>\n",
       "      <td>Rs. 7199Rs. 8999(20% OFF)</td>\n",
       "    </tr>\n",
       "    <tr>\n",
       "      <th>16</th>\n",
       "      <td>ADIDAS Originals</td>\n",
       "      <td>Men Solid Ozweego Sneakers</td>\n",
       "      <td>Rs. 9349Rs. 10999(15% OFF)</td>\n",
       "    </tr>\n",
       "    <tr>\n",
       "      <th>17</th>\n",
       "      <td>Puma</td>\n",
       "      <td>Mirage Sport Hacked Sneakers</td>\n",
       "      <td>Rs. 7199Rs. 8999(20% OFF)</td>\n",
       "    </tr>\n",
       "    <tr>\n",
       "      <th>18</th>\n",
       "      <td>Nike</td>\n",
       "      <td>Men Air Max Dawn Sneakers</td>\n",
       "      <td>Rs. 9295</td>\n",
       "    </tr>\n",
       "    <tr>\n",
       "      <th>19</th>\n",
       "      <td>UNDER ARMOUR</td>\n",
       "      <td>Men UA Charged Vantage 2 Run</td>\n",
       "      <td>Rs. 7999</td>\n",
       "    </tr>\n",
       "    <tr>\n",
       "      <th>20</th>\n",
       "      <td>Puma</td>\n",
       "      <td>Men Jamming 2.0 Running Shoes</td>\n",
       "      <td>Rs. 9749Rs. 12999(25% OFF)</td>\n",
       "    </tr>\n",
       "    <tr>\n",
       "      <th>21</th>\n",
       "      <td>UNDER ARMOUR</td>\n",
       "      <td>Men Charged Breeze Running</td>\n",
       "      <td>Rs. 8999</td>\n",
       "    </tr>\n",
       "    <tr>\n",
       "      <th>22</th>\n",
       "      <td>UNDER ARMOUR</td>\n",
       "      <td>Women Breeze Running Shoes</td>\n",
       "      <td>Rs. 8999</td>\n",
       "    </tr>\n",
       "    <tr>\n",
       "      <th>23</th>\n",
       "      <td>Puma</td>\n",
       "      <td>Men Voyage Nitro Running Shoes</td>\n",
       "      <td>Rs. 8799Rs. 10999(20% OFF)</td>\n",
       "    </tr>\n",
       "    <tr>\n",
       "      <th>24</th>\n",
       "      <td>Nike</td>\n",
       "      <td>Men AIR MAX PRE-DAY Sneakers</td>\n",
       "      <td>Rs. 13995</td>\n",
       "    </tr>\n",
       "    <tr>\n",
       "      <th>25</th>\n",
       "      <td>Puma</td>\n",
       "      <td>Eternity Nitro Running Shoes</td>\n",
       "      <td>Rs. 10399Rs. 12999(20% OFF)</td>\n",
       "    </tr>\n",
       "    <tr>\n",
       "      <th>26</th>\n",
       "      <td>Puma</td>\n",
       "      <td>Unisex Leather Trainers</td>\n",
       "      <td>Rs. 7999Rs. 9999(20% OFF)</td>\n",
       "    </tr>\n",
       "    <tr>\n",
       "      <th>27</th>\n",
       "      <td>Puma</td>\n",
       "      <td>Men D Nitro WTR Running Shoes</td>\n",
       "      <td>Rs. 12799Rs. 15999(20% OFF)</td>\n",
       "    </tr>\n",
       "    <tr>\n",
       "      <th>28</th>\n",
       "      <td>Tommy Hilfiger</td>\n",
       "      <td>Men Leather Sneakers</td>\n",
       "      <td>Rs. 7309Rs. 8599(15% OFF)</td>\n",
       "    </tr>\n",
       "    <tr>\n",
       "      <th>29</th>\n",
       "      <td>Puma</td>\n",
       "      <td>Men M Nitro Running Shoess</td>\n",
       "      <td>Rs. 10399Rs. 12999(20% OFF)</td>\n",
       "    </tr>\n",
       "    <tr>\n",
       "      <th>30</th>\n",
       "      <td>Reebok</td>\n",
       "      <td>Men Zig Dynamica 2.0 Running</td>\n",
       "      <td>Rs. 7999</td>\n",
       "    </tr>\n",
       "    <tr>\n",
       "      <th>31</th>\n",
       "      <td>UNDER ARMOUR</td>\n",
       "      <td>Women Charged Vantage 2 Run</td>\n",
       "      <td>Rs. 7999</td>\n",
       "    </tr>\n",
       "    <tr>\n",
       "      <th>32</th>\n",
       "      <td>UNDER ARMOUR</td>\n",
       "      <td>Men UA TriBase Reign4 Training</td>\n",
       "      <td>Rs. 11999</td>\n",
       "    </tr>\n",
       "    <tr>\n",
       "      <th>33</th>\n",
       "      <td>PUMA Motorsport</td>\n",
       "      <td>Men ZenonSpeed Sneakers</td>\n",
       "      <td>Rs. 7649Rs. 8999(15% OFF)</td>\n",
       "    </tr>\n",
       "    <tr>\n",
       "      <th>34</th>\n",
       "      <td>Reebok</td>\n",
       "      <td>Men Zig Dynamica 3.0 Running</td>\n",
       "      <td>Rs. 7999</td>\n",
       "    </tr>\n",
       "    <tr>\n",
       "      <th>35</th>\n",
       "      <td>Puma</td>\n",
       "      <td>Men Velocity Nitro Running</td>\n",
       "      <td>Rs. 9599Rs. 11999(20% OFF)</td>\n",
       "    </tr>\n",
       "    <tr>\n",
       "      <th>36</th>\n",
       "      <td>Tommy Hilfiger</td>\n",
       "      <td>Men Textured Loafers</td>\n",
       "      <td>Rs. 8999</td>\n",
       "    </tr>\n",
       "    <tr>\n",
       "      <th>37</th>\n",
       "      <td>Puma</td>\n",
       "      <td>Men Golf Shoes</td>\n",
       "      <td>Rs. 7649Rs. 8999(15% OFF)</td>\n",
       "    </tr>\n",
       "    <tr>\n",
       "      <th>38</th>\n",
       "      <td>Puma</td>\n",
       "      <td>Men Voyage Nitro Running Shoes</td>\n",
       "      <td>Rs. 8799Rs. 10999(20% OFF)</td>\n",
       "    </tr>\n",
       "    <tr>\n",
       "      <th>39</th>\n",
       "      <td>ADIDAS</td>\n",
       "      <td>Men Dropset Training Shoes</td>\n",
       "      <td>Rs. 12999</td>\n",
       "    </tr>\n",
       "    <tr>\n",
       "      <th>40</th>\n",
       "      <td>Louis Philippe</td>\n",
       "      <td>Men Solid Leather Formal Loafers</td>\n",
       "      <td>Rs. 9999</td>\n",
       "    </tr>\n",
       "    <tr>\n",
       "      <th>41</th>\n",
       "      <td>Bugatti</td>\n",
       "      <td>Men Black Walking Shoes</td>\n",
       "      <td>Rs. 8999</td>\n",
       "    </tr>\n",
       "    <tr>\n",
       "      <th>42</th>\n",
       "      <td>Hush Puppies</td>\n",
       "      <td>Men Solid Leather Formal Slip-Ons</td>\n",
       "      <td>Rs. 7649Rs. 8999(15% OFF)</td>\n",
       "    </tr>\n",
       "    <tr>\n",
       "      <th>43</th>\n",
       "      <td>Hush Puppies</td>\n",
       "      <td>Men Solid Leather Formal Derbys</td>\n",
       "      <td>Rs. 9999</td>\n",
       "    </tr>\n",
       "    <tr>\n",
       "      <th>44</th>\n",
       "      <td>DAVINCHI</td>\n",
       "      <td>Men Solid Leather Formal Loafers</td>\n",
       "      <td>Rs. 8490</td>\n",
       "    </tr>\n",
       "    <tr>\n",
       "      <th>45</th>\n",
       "      <td>Puma</td>\n",
       "      <td>Men KING Top Football Shoes</td>\n",
       "      <td>Rs. 9599Rs. 11999(20% OFF)</td>\n",
       "    </tr>\n",
       "    <tr>\n",
       "      <th>46</th>\n",
       "      <td>Bugatti</td>\n",
       "      <td>Men Textured Leather High-Top Flat Boots</td>\n",
       "      <td>Rs. 8399Rs. 11999(30% OFF)</td>\n",
       "    </tr>\n",
       "    <tr>\n",
       "      <th>47</th>\n",
       "      <td>DEL MONDO</td>\n",
       "      <td>Men Leather Sneakers</td>\n",
       "      <td>Rs. 7890</td>\n",
       "    </tr>\n",
       "    <tr>\n",
       "      <th>48</th>\n",
       "      <td>Louis Philippe</td>\n",
       "      <td>Men Textured Leather Loafers</td>\n",
       "      <td>Rs. 9999</td>\n",
       "    </tr>\n",
       "    <tr>\n",
       "      <th>49</th>\n",
       "      <td>ASICS</td>\n",
       "      <td>Men Running Shoes</td>\n",
       "      <td>Rs. 7999</td>\n",
       "    </tr>\n",
       "  </tbody>\n",
       "</table>\n",
       "</div>"
      ],
      "text/plain": [
       "         shoes_Bands                       product_description  \\\n",
       "0           Skechers                Men Max Cushioning Running   \n",
       "1               ALDO                              Men Sneakers   \n",
       "2               Nike            Men React Miler2 Running Shoes   \n",
       "3       UNDER ARMOUR             Men Charged Rouge 3 Run Shoes   \n",
       "4               Nike            Women React MR 3 Running Shoes   \n",
       "5   ADIDAS Originals                  Men Niteball II Sneakers   \n",
       "6               ALDO                 Men Woven Design Sneakers   \n",
       "7               ALDO                 Men Leather Driving Shoes   \n",
       "8               Nike                Men AIR MAX EXCEE Sneakers   \n",
       "9           Skechers            Men MAX CUSHIONING ELITE-LUCID   \n",
       "10              Puma             Electrify Nitro Running Shoes   \n",
       "11          DAVINCHI       Men Textured Formal Leather Loafers   \n",
       "12   PUMA Motorsport                   Unisex Ferrari IONSpeed   \n",
       "13              ALDO                       Men Leather Loafers   \n",
       "14      UNDER ARMOUR               Project Rock Training shoes   \n",
       "15          Skechers               Men Sky Vault Walking Shoes   \n",
       "16  ADIDAS Originals                Men Solid Ozweego Sneakers   \n",
       "17              Puma              Mirage Sport Hacked Sneakers   \n",
       "18              Nike                 Men Air Max Dawn Sneakers   \n",
       "19      UNDER ARMOUR              Men UA Charged Vantage 2 Run   \n",
       "20              Puma             Men Jamming 2.0 Running Shoes   \n",
       "21      UNDER ARMOUR                Men Charged Breeze Running   \n",
       "22      UNDER ARMOUR                Women Breeze Running Shoes   \n",
       "23              Puma            Men Voyage Nitro Running Shoes   \n",
       "24              Nike              Men AIR MAX PRE-DAY Sneakers   \n",
       "25              Puma              Eternity Nitro Running Shoes   \n",
       "26              Puma                   Unisex Leather Trainers   \n",
       "27              Puma             Men D Nitro WTR Running Shoes   \n",
       "28    Tommy Hilfiger                      Men Leather Sneakers   \n",
       "29              Puma                Men M Nitro Running Shoess   \n",
       "30            Reebok              Men Zig Dynamica 2.0 Running   \n",
       "31      UNDER ARMOUR               Women Charged Vantage 2 Run   \n",
       "32      UNDER ARMOUR            Men UA TriBase Reign4 Training   \n",
       "33   PUMA Motorsport                   Men ZenonSpeed Sneakers   \n",
       "34            Reebok              Men Zig Dynamica 3.0 Running   \n",
       "35              Puma                Men Velocity Nitro Running   \n",
       "36    Tommy Hilfiger                      Men Textured Loafers   \n",
       "37              Puma                            Men Golf Shoes   \n",
       "38              Puma            Men Voyage Nitro Running Shoes   \n",
       "39            ADIDAS                Men Dropset Training Shoes   \n",
       "40    Louis Philippe          Men Solid Leather Formal Loafers   \n",
       "41           Bugatti                   Men Black Walking Shoes   \n",
       "42      Hush Puppies         Men Solid Leather Formal Slip-Ons   \n",
       "43      Hush Puppies           Men Solid Leather Formal Derbys   \n",
       "44          DAVINCHI          Men Solid Leather Formal Loafers   \n",
       "45              Puma               Men KING Top Football Shoes   \n",
       "46           Bugatti  Men Textured Leather High-Top Flat Boots   \n",
       "47         DEL MONDO                      Men Leather Sneakers   \n",
       "48    Louis Philippe              Men Textured Leather Loafers   \n",
       "49             ASICS                         Men Running Shoes   \n",
       "\n",
       "                          price  \n",
       "0     Rs. 7199Rs. 8999(20% OFF)  \n",
       "1                      Rs. 9999  \n",
       "2                     Rs. 11495  \n",
       "3                      Rs. 7999  \n",
       "4    Rs. 8920Rs. 10495(15% OFF)  \n",
       "5    Rs. 9349Rs. 10999(15% OFF)  \n",
       "6                     Rs. 13999  \n",
       "7                     Rs. 12999  \n",
       "8                      Rs. 7995  \n",
       "9     Rs. 7599Rs. 9499(20% OFF)  \n",
       "10    Rs. 8499Rs. 9999(15% OFF)  \n",
       "11                     Rs. 8990  \n",
       "12    Rs. 7199Rs. 8999(20% OFF)  \n",
       "13                    Rs. 12999  \n",
       "14                     Rs. 9999  \n",
       "15    Rs. 7199Rs. 8999(20% OFF)  \n",
       "16   Rs. 9349Rs. 10999(15% OFF)  \n",
       "17    Rs. 7199Rs. 8999(20% OFF)  \n",
       "18                     Rs. 9295  \n",
       "19                     Rs. 7999  \n",
       "20   Rs. 9749Rs. 12999(25% OFF)  \n",
       "21                     Rs. 8999  \n",
       "22                     Rs. 8999  \n",
       "23   Rs. 8799Rs. 10999(20% OFF)  \n",
       "24                    Rs. 13995  \n",
       "25  Rs. 10399Rs. 12999(20% OFF)  \n",
       "26    Rs. 7999Rs. 9999(20% OFF)  \n",
       "27  Rs. 12799Rs. 15999(20% OFF)  \n",
       "28    Rs. 7309Rs. 8599(15% OFF)  \n",
       "29  Rs. 10399Rs. 12999(20% OFF)  \n",
       "30                     Rs. 7999  \n",
       "31                     Rs. 7999  \n",
       "32                    Rs. 11999  \n",
       "33    Rs. 7649Rs. 8999(15% OFF)  \n",
       "34                     Rs. 7999  \n",
       "35   Rs. 9599Rs. 11999(20% OFF)  \n",
       "36                     Rs. 8999  \n",
       "37    Rs. 7649Rs. 8999(15% OFF)  \n",
       "38   Rs. 8799Rs. 10999(20% OFF)  \n",
       "39                    Rs. 12999  \n",
       "40                     Rs. 9999  \n",
       "41                     Rs. 8999  \n",
       "42    Rs. 7649Rs. 8999(15% OFF)  \n",
       "43                     Rs. 9999  \n",
       "44                     Rs. 8490  \n",
       "45   Rs. 9599Rs. 11999(20% OFF)  \n",
       "46   Rs. 8399Rs. 11999(30% OFF)  \n",
       "47                     Rs. 7890  \n",
       "48                     Rs. 9999  \n",
       "49                     Rs. 7999  "
      ]
     },
     "execution_count": 317,
     "metadata": {},
     "output_type": "execute_result"
    }
   ],
   "source": [
    "import pandas as pd\n",
    "jobs=pd.DataFrame({})\n",
    "jobs['shoes_Bands']=shoes_Bands\n",
    "jobs['product_description']=product_description\n",
    "jobs['price']=price\n",
    "jobs"
   ]
  },
  {
   "cell_type": "code",
   "execution_count": 318,
   "id": "593eb153",
   "metadata": {},
   "outputs": [],
   "source": [
    "next_button=driver.find_element_by_xpath(\"/html/body/div[2]/div/div[1]/main/div[3]/div[2]/div/div[2]/section/div[2]/ul/li[12]/a\")\n",
    "next_button.click()"
   ]
  },
  {
   "cell_type": "code",
   "execution_count": 319,
   "id": "c33f50ae",
   "metadata": {},
   "outputs": [],
   "source": [
    "shoes_Bands =[]\n",
    "product_description=[]\n",
    "\n",
    "price=[]"
   ]
  },
  {
   "cell_type": "code",
   "execution_count": 320,
   "id": "14c73edd",
   "metadata": {},
   "outputs": [
    {
     "data": {
      "text/plain": [
       "[<selenium.webdriver.remote.webelement.WebElement (session=\"deccf6b4044ace42b5d79a0352bfcee2\", element=\"26d9f6f3-256b-400f-8d1b-31c82e3e1c93\")>,\n",
       " <selenium.webdriver.remote.webelement.WebElement (session=\"deccf6b4044ace42b5d79a0352bfcee2\", element=\"edecfb36-6b5c-4749-92d6-97dd60f4d332\")>,\n",
       " <selenium.webdriver.remote.webelement.WebElement (session=\"deccf6b4044ace42b5d79a0352bfcee2\", element=\"0a0c38c4-83b4-4e45-b050-2749470e2f06\")>,\n",
       " <selenium.webdriver.remote.webelement.WebElement (session=\"deccf6b4044ace42b5d79a0352bfcee2\", element=\"d4d48808-8399-4e0e-ba93-598b0e96f3be\")>]"
      ]
     },
     "execution_count": 320,
     "metadata": {},
     "output_type": "execute_result"
    }
   ],
   "source": [
    "price_tags=driver.find_elements_by_xpath(\"(//div[@class='product-price'])\")\n",
    "price_tags[0:4]"
   ]
  },
  {
   "cell_type": "code",
   "execution_count": 321,
   "id": "a2123a6e",
   "metadata": {},
   "outputs": [
    {
     "data": {
      "text/plain": [
       "['Rs. 7999', 'Rs. 7999Rs. 9999(20% OFF)', 'Rs. 8499', 'Rs. 11999']"
      ]
     },
     "execution_count": 321,
     "metadata": {},
     "output_type": "execute_result"
    }
   ],
   "source": [
    "for i in price_tags:\n",
    "    \n",
    "    price.append(i.text)\n",
    "price[0:4]"
   ]
  },
  {
   "cell_type": "code",
   "execution_count": 322,
   "id": "52e287e3",
   "metadata": {},
   "outputs": [
    {
     "data": {
      "text/plain": [
       "[<selenium.webdriver.remote.webelement.WebElement (session=\"deccf6b4044ace42b5d79a0352bfcee2\", element=\"243ab04e-47f7-441a-b5e2-03af57ea27b6\")>,\n",
       " <selenium.webdriver.remote.webelement.WebElement (session=\"deccf6b4044ace42b5d79a0352bfcee2\", element=\"bdacba9a-a573-47c7-b106-1ae5bab75778\")>,\n",
       " <selenium.webdriver.remote.webelement.WebElement (session=\"deccf6b4044ace42b5d79a0352bfcee2\", element=\"36140ab6-a010-4e62-96a2-a3e6e6d2d903\")>,\n",
       " <selenium.webdriver.remote.webelement.WebElement (session=\"deccf6b4044ace42b5d79a0352bfcee2\", element=\"f035b803-4143-47a9-b710-289981362294\")>]"
      ]
     },
     "execution_count": 322,
     "metadata": {},
     "output_type": "execute_result"
    }
   ],
   "source": [
    "shoes_tags=driver.find_elements_by_xpath(\"//h3[@class='product-brand']\")\n",
    "shoes_tags[0:4]"
   ]
  },
  {
   "cell_type": "code",
   "execution_count": 323,
   "id": "11f0d5d3",
   "metadata": {},
   "outputs": [
    {
     "data": {
      "text/plain": [
       "['ASICS', 'Puma', 'Bugatti', 'UNDER ARMOUR']"
      ]
     },
     "execution_count": 323,
     "metadata": {},
     "output_type": "execute_result"
    }
   ],
   "source": [
    "for i in shoes_tags:\n",
    "    shoes=i.text\n",
    "    shoes_Bands.append(shoes)\n",
    "shoes_Bands[0:4]"
   ]
  },
  {
   "cell_type": "code",
   "execution_count": 326,
   "id": "54dd5abe",
   "metadata": {},
   "outputs": [
    {
     "data": {
      "text/plain": [
       "[<selenium.webdriver.remote.webelement.WebElement (session=\"deccf6b4044ace42b5d79a0352bfcee2\", element=\"378ff419-0725-4958-a0df-68a769eb49ac\")>,\n",
       " <selenium.webdriver.remote.webelement.WebElement (session=\"deccf6b4044ace42b5d79a0352bfcee2\", element=\"d17db2d9-d49b-4487-bafd-c4884d50e264\")>,\n",
       " <selenium.webdriver.remote.webelement.WebElement (session=\"deccf6b4044ace42b5d79a0352bfcee2\", element=\"c585fcc9-5ef8-4063-a4a6-44f4858e4bb3\")>,\n",
       " <selenium.webdriver.remote.webelement.WebElement (session=\"deccf6b4044ace42b5d79a0352bfcee2\", element=\"3dbd93ff-4e52-45c9-9853-374eb278c9a0\")>]"
      ]
     },
     "execution_count": 326,
     "metadata": {},
     "output_type": "execute_result"
    }
   ],
   "source": [
    "product_tags=driver.find_elements_by_xpath(\"//h4[@class='product-product']\")\n",
    "product_tags[0:4]"
   ]
  },
  {
   "cell_type": "code",
   "execution_count": 327,
   "id": "ad1acb71",
   "metadata": {},
   "outputs": [
    {
     "data": {
      "text/plain": [
       "['Men Running Shoes',\n",
       " '',\n",
       " 'Men Leather Driving Shoes',\n",
       " 'W omen TriBase Reign 4 Running']"
      ]
     },
     "execution_count": 327,
     "metadata": {},
     "output_type": "execute_result"
    }
   ],
   "source": [
    "for i in product_tags:\n",
    "    description=i.text\n",
    "    product_description.append(description)\n",
    "product_description[0:4]"
   ]
  },
  {
   "cell_type": "code",
   "execution_count": 328,
   "id": "d6ef4047",
   "metadata": {},
   "outputs": [
    {
     "name": "stdout",
     "output_type": "stream",
     "text": [
      "50 50 50\n"
     ]
    }
   ],
   "source": [
    "print(len(shoes_Bands),len(product_description),len(price))"
   ]
  },
  {
   "cell_type": "code",
   "execution_count": 329,
   "id": "87c92086",
   "metadata": {},
   "outputs": [
    {
     "data": {
      "text/html": [
       "<div>\n",
       "<style scoped>\n",
       "    .dataframe tbody tr th:only-of-type {\n",
       "        vertical-align: middle;\n",
       "    }\n",
       "\n",
       "    .dataframe tbody tr th {\n",
       "        vertical-align: top;\n",
       "    }\n",
       "\n",
       "    .dataframe thead th {\n",
       "        text-align: right;\n",
       "    }\n",
       "</style>\n",
       "<table border=\"1\" class=\"dataframe\">\n",
       "  <thead>\n",
       "    <tr style=\"text-align: right;\">\n",
       "      <th></th>\n",
       "      <th>shoes_Bands</th>\n",
       "      <th>product_description</th>\n",
       "      <th>price</th>\n",
       "    </tr>\n",
       "  </thead>\n",
       "  <tbody>\n",
       "    <tr>\n",
       "      <th>0</th>\n",
       "      <td>ASICS</td>\n",
       "      <td>Men Running Shoes</td>\n",
       "      <td>Rs. 7999</td>\n",
       "    </tr>\n",
       "    <tr>\n",
       "      <th>1</th>\n",
       "      <td>Puma</td>\n",
       "      <td></td>\n",
       "      <td>Rs. 7999Rs. 9999(20% OFF)</td>\n",
       "    </tr>\n",
       "    <tr>\n",
       "      <th>2</th>\n",
       "      <td>Bugatti</td>\n",
       "      <td>Men Leather Driving Shoes</td>\n",
       "      <td>Rs. 8499</td>\n",
       "    </tr>\n",
       "    <tr>\n",
       "      <th>3</th>\n",
       "      <td>UNDER ARMOUR</td>\n",
       "      <td>W omen TriBase Reign 4 Running</td>\n",
       "      <td>Rs. 11999</td>\n",
       "    </tr>\n",
       "    <tr>\n",
       "      <th>4</th>\n",
       "      <td>PUMA Hoops</td>\n",
       "      <td>Unisex Fusion Nitro Basketball</td>\n",
       "      <td>Rs. 7699Rs. 10999(30% OFF)</td>\n",
       "    </tr>\n",
       "    <tr>\n",
       "      <th>5</th>\n",
       "      <td>Hush Puppies</td>\n",
       "      <td>Men Solid Formal Slip-Ons</td>\n",
       "      <td>Rs. 9999</td>\n",
       "    </tr>\n",
       "    <tr>\n",
       "      <th>6</th>\n",
       "      <td>Bugatti</td>\n",
       "      <td>Men Walking Shoes</td>\n",
       "      <td>Rs. 9999</td>\n",
       "    </tr>\n",
       "    <tr>\n",
       "      <th>7</th>\n",
       "      <td>Bugatti</td>\n",
       "      <td>Men Leather Monks</td>\n",
       "      <td>Rs. 8999</td>\n",
       "    </tr>\n",
       "    <tr>\n",
       "      <th>8</th>\n",
       "      <td>Puma</td>\n",
       "      <td>Women Running Sports Shoes</td>\n",
       "      <td>Rs. 8249Rs. 14999(45% OFF)</td>\n",
       "    </tr>\n",
       "    <tr>\n",
       "      <th>9</th>\n",
       "      <td>Bugatti</td>\n",
       "      <td>Men Solid Sneakers</td>\n",
       "      <td>Rs. 10499</td>\n",
       "    </tr>\n",
       "    <tr>\n",
       "      <th>10</th>\n",
       "      <td>Geox</td>\n",
       "      <td>Men Textured Leather Driving Shoes</td>\n",
       "      <td>Rs. 9441Rs. 10490(10% OFF)</td>\n",
       "    </tr>\n",
       "    <tr>\n",
       "      <th>11</th>\n",
       "      <td>Geox</td>\n",
       "      <td>Men Textured Leather Sneakers</td>\n",
       "      <td>Rs. 8991Rs. 9990(10% OFF)</td>\n",
       "    </tr>\n",
       "    <tr>\n",
       "      <th>12</th>\n",
       "      <td>Geox</td>\n",
       "      <td>Men Textured Leather Driving Shoes</td>\n",
       "      <td>Rs. 9891Rs. 10990(10% OFF)</td>\n",
       "    </tr>\n",
       "    <tr>\n",
       "      <th>13</th>\n",
       "      <td>Geox</td>\n",
       "      <td>Men Textured Leather Driving Shoes</td>\n",
       "      <td>Rs. 8991Rs. 9990(10% OFF)</td>\n",
       "    </tr>\n",
       "    <tr>\n",
       "      <th>14</th>\n",
       "      <td>Puma</td>\n",
       "      <td>Women Eternity NITRO Shoes</td>\n",
       "      <td>Rs. 10399Rs. 12999(20% OFF)</td>\n",
       "    </tr>\n",
       "    <tr>\n",
       "      <th>15</th>\n",
       "      <td>Saint G</td>\n",
       "      <td>Women Leather Block Heels</td>\n",
       "      <td>Rs. 8550Rs. 9500(10% OFF)</td>\n",
       "    </tr>\n",
       "    <tr>\n",
       "      <th>16</th>\n",
       "      <td>Geox</td>\n",
       "      <td>Men Textured Leather Slip-On Sneakers</td>\n",
       "      <td>Rs. 8991Rs. 9990(10% OFF)</td>\n",
       "    </tr>\n",
       "    <tr>\n",
       "      <th>17</th>\n",
       "      <td>Geox</td>\n",
       "      <td>Men Textured Leather Driving Shoes</td>\n",
       "      <td>Rs. 9891Rs. 10990(10% OFF)</td>\n",
       "    </tr>\n",
       "    <tr>\n",
       "      <th>18</th>\n",
       "      <td>EVADICT By Decathlon</td>\n",
       "      <td>Men Running Shoes</td>\n",
       "      <td>Rs. 9764Rs. 10499(7% OFF)</td>\n",
       "    </tr>\n",
       "    <tr>\n",
       "      <th>19</th>\n",
       "      <td>MANGO MAN</td>\n",
       "      <td>Men Solid Sneakers</td>\n",
       "      <td>Rs. 7990</td>\n",
       "    </tr>\n",
       "    <tr>\n",
       "      <th>20</th>\n",
       "      <td>Puma</td>\n",
       "      <td>Women Magnify Nitro Running</td>\n",
       "      <td>Rs. 10399Rs. 12999(20% OFF)</td>\n",
       "    </tr>\n",
       "    <tr>\n",
       "      <th>21</th>\n",
       "      <td>Geox</td>\n",
       "      <td>Women Textured Leather Loafers</td>\n",
       "      <td>Rs. 8991Rs. 9990(10% OFF)</td>\n",
       "    </tr>\n",
       "    <tr>\n",
       "      <th>22</th>\n",
       "      <td>Bugatti</td>\n",
       "      <td>Men Black Formal Derby Shoes</td>\n",
       "      <td>Rs. 11999</td>\n",
       "    </tr>\n",
       "    <tr>\n",
       "      <th>23</th>\n",
       "      <td>Birkenstock</td>\n",
       "      <td>Unisex Boston Super Grip Clogs</td>\n",
       "      <td>Rs. 9290</td>\n",
       "    </tr>\n",
       "    <tr>\n",
       "      <th>24</th>\n",
       "      <td>KIPRUN By Decathlon</td>\n",
       "      <td>Men Running Shoes</td>\n",
       "      <td>Rs. 7877Rs. 10099(22% OFF)</td>\n",
       "    </tr>\n",
       "    <tr>\n",
       "      <th>25</th>\n",
       "      <td>J.FONTINI</td>\n",
       "      <td>Men Textured Leather Loafers</td>\n",
       "      <td>Rs. 8490</td>\n",
       "    </tr>\n",
       "    <tr>\n",
       "      <th>26</th>\n",
       "      <td>ASICS</td>\n",
       "      <td>Men Colourblocked PU Sneakers</td>\n",
       "      <td>Rs. 8499Rs. 9999(15% OFF)</td>\n",
       "    </tr>\n",
       "    <tr>\n",
       "      <th>27</th>\n",
       "      <td>Columbia</td>\n",
       "      <td>Women Trekking Shoes</td>\n",
       "      <td>Rs. 8999</td>\n",
       "    </tr>\n",
       "    <tr>\n",
       "      <th>28</th>\n",
       "      <td>Bugatti</td>\n",
       "      <td>Men Walking Shoes</td>\n",
       "      <td>Rs. 8999</td>\n",
       "    </tr>\n",
       "    <tr>\n",
       "      <th>29</th>\n",
       "      <td>UNDER ARMOUR</td>\n",
       "      <td>Women Charged Breeze Running</td>\n",
       "      <td>Rs. 8999</td>\n",
       "    </tr>\n",
       "    <tr>\n",
       "      <th>30</th>\n",
       "      <td>Hush Puppies</td>\n",
       "      <td>Men Solid Leather Formal Slip-Ons</td>\n",
       "      <td>Rs. 8499Rs. 9999(15% OFF)</td>\n",
       "    </tr>\n",
       "    <tr>\n",
       "      <th>31</th>\n",
       "      <td>Reebok</td>\n",
       "      <td>Men Floatride Energy 4.0 Run</td>\n",
       "      <td>Rs. 9999</td>\n",
       "    </tr>\n",
       "    <tr>\n",
       "      <th>32</th>\n",
       "      <td>ASICS</td>\n",
       "      <td>Women Running Shoes</td>\n",
       "      <td>Rs. 7999</td>\n",
       "    </tr>\n",
       "    <tr>\n",
       "      <th>33</th>\n",
       "      <td>Puma</td>\n",
       "      <td>Men Deviate Nitro Shoes</td>\n",
       "      <td>Rs. 11999Rs. 14999(20% OFF)</td>\n",
       "    </tr>\n",
       "    <tr>\n",
       "      <th>34</th>\n",
       "      <td>ADIDAS</td>\n",
       "      <td>Men Solar Glide 5 Running Shoe</td>\n",
       "      <td>Rs. 13999</td>\n",
       "    </tr>\n",
       "    <tr>\n",
       "      <th>35</th>\n",
       "      <td>Clarks</td>\n",
       "      <td>Men Leather Derbys</td>\n",
       "      <td>Rs. 9999</td>\n",
       "    </tr>\n",
       "    <tr>\n",
       "      <th>36</th>\n",
       "      <td>Clarks</td>\n",
       "      <td>Men Woven Design Suede Flat Boots</td>\n",
       "      <td>Rs. 9999</td>\n",
       "    </tr>\n",
       "    <tr>\n",
       "      <th>37</th>\n",
       "      <td>J.FONTINI</td>\n",
       "      <td>Men Solid Loafers</td>\n",
       "      <td>Rs. 8990</td>\n",
       "    </tr>\n",
       "    <tr>\n",
       "      <th>38</th>\n",
       "      <td>J.FONTINI</td>\n",
       "      <td>Men Black Leather Loafers</td>\n",
       "      <td>Rs. 8490</td>\n",
       "    </tr>\n",
       "    <tr>\n",
       "      <th>39</th>\n",
       "      <td>Bugatti</td>\n",
       "      <td>Printed Comfort Sandals</td>\n",
       "      <td>Rs. 7499</td>\n",
       "    </tr>\n",
       "    <tr>\n",
       "      <th>40</th>\n",
       "      <td>Bugatti</td>\n",
       "      <td>Men Solid Leather Formal Derbys</td>\n",
       "      <td>Rs. 9499</td>\n",
       "    </tr>\n",
       "    <tr>\n",
       "      <th>41</th>\n",
       "      <td>Clarks</td>\n",
       "      <td>Women Leather Flatforms</td>\n",
       "      <td>Rs. 7999</td>\n",
       "    </tr>\n",
       "    <tr>\n",
       "      <th>42</th>\n",
       "      <td>ALDO</td>\n",
       "      <td>Leather Platform Mules</td>\n",
       "      <td>Rs. 9999</td>\n",
       "    </tr>\n",
       "    <tr>\n",
       "      <th>43</th>\n",
       "      <td>DAVINCHI</td>\n",
       "      <td>Men Textured Formal Leather Loafers</td>\n",
       "      <td>Rs. 8990</td>\n",
       "    </tr>\n",
       "    <tr>\n",
       "      <th>44</th>\n",
       "      <td>Heel &amp; Buckle London</td>\n",
       "      <td>Men Formal Leather Derby</td>\n",
       "      <td>Rs. 7990</td>\n",
       "    </tr>\n",
       "    <tr>\n",
       "      <th>45</th>\n",
       "      <td>Bugatti</td>\n",
       "      <td>Women Textured Mules</td>\n",
       "      <td>Rs. 7999</td>\n",
       "    </tr>\n",
       "    <tr>\n",
       "      <th>46</th>\n",
       "      <td>J.FONTINI</td>\n",
       "      <td>Men Leather Formal Loafers</td>\n",
       "      <td>Rs. 7490</td>\n",
       "    </tr>\n",
       "    <tr>\n",
       "      <th>47</th>\n",
       "      <td>ALDO</td>\n",
       "      <td>Block Pumps with Bows</td>\n",
       "      <td>Rs. 8999</td>\n",
       "    </tr>\n",
       "    <tr>\n",
       "      <th>48</th>\n",
       "      <td>Cole Haan</td>\n",
       "      <td>Women Leather Loafers</td>\n",
       "      <td>Rs. 11899Rs. 16999(30% OFF)</td>\n",
       "    </tr>\n",
       "    <tr>\n",
       "      <th>49</th>\n",
       "      <td>ALDO</td>\n",
       "      <td>Wedge Sandals</td>\n",
       "      <td>Rs. 7999</td>\n",
       "    </tr>\n",
       "  </tbody>\n",
       "</table>\n",
       "</div>"
      ],
      "text/plain": [
       "             shoes_Bands                    product_description  \\\n",
       "0                  ASICS                      Men Running Shoes   \n",
       "1                   Puma                                          \n",
       "2                Bugatti              Men Leather Driving Shoes   \n",
       "3           UNDER ARMOUR         W omen TriBase Reign 4 Running   \n",
       "4             PUMA Hoops         Unisex Fusion Nitro Basketball   \n",
       "5           Hush Puppies              Men Solid Formal Slip-Ons   \n",
       "6                Bugatti                      Men Walking Shoes   \n",
       "7                Bugatti                      Men Leather Monks   \n",
       "8                   Puma             Women Running Sports Shoes   \n",
       "9                Bugatti                     Men Solid Sneakers   \n",
       "10                  Geox     Men Textured Leather Driving Shoes   \n",
       "11                  Geox          Men Textured Leather Sneakers   \n",
       "12                  Geox     Men Textured Leather Driving Shoes   \n",
       "13                  Geox     Men Textured Leather Driving Shoes   \n",
       "14                  Puma             Women Eternity NITRO Shoes   \n",
       "15               Saint G              Women Leather Block Heels   \n",
       "16                  Geox  Men Textured Leather Slip-On Sneakers   \n",
       "17                  Geox     Men Textured Leather Driving Shoes   \n",
       "18  EVADICT By Decathlon                      Men Running Shoes   \n",
       "19             MANGO MAN                     Men Solid Sneakers   \n",
       "20                  Puma            Women Magnify Nitro Running   \n",
       "21                  Geox         Women Textured Leather Loafers   \n",
       "22               Bugatti           Men Black Formal Derby Shoes   \n",
       "23           Birkenstock         Unisex Boston Super Grip Clogs   \n",
       "24   KIPRUN By Decathlon                      Men Running Shoes   \n",
       "25             J.FONTINI           Men Textured Leather Loafers   \n",
       "26                 ASICS          Men Colourblocked PU Sneakers   \n",
       "27              Columbia                   Women Trekking Shoes   \n",
       "28               Bugatti                      Men Walking Shoes   \n",
       "29          UNDER ARMOUR           Women Charged Breeze Running   \n",
       "30          Hush Puppies      Men Solid Leather Formal Slip-Ons   \n",
       "31                Reebok           Men Floatride Energy 4.0 Run   \n",
       "32                 ASICS                    Women Running Shoes   \n",
       "33                  Puma                Men Deviate Nitro Shoes   \n",
       "34                ADIDAS         Men Solar Glide 5 Running Shoe   \n",
       "35                Clarks                     Men Leather Derbys   \n",
       "36                Clarks      Men Woven Design Suede Flat Boots   \n",
       "37             J.FONTINI                      Men Solid Loafers   \n",
       "38             J.FONTINI              Men Black Leather Loafers   \n",
       "39               Bugatti                Printed Comfort Sandals   \n",
       "40               Bugatti        Men Solid Leather Formal Derbys   \n",
       "41                Clarks                Women Leather Flatforms   \n",
       "42                  ALDO                 Leather Platform Mules   \n",
       "43              DAVINCHI    Men Textured Formal Leather Loafers   \n",
       "44  Heel & Buckle London               Men Formal Leather Derby   \n",
       "45               Bugatti                   Women Textured Mules   \n",
       "46             J.FONTINI             Men Leather Formal Loafers   \n",
       "47                  ALDO                  Block Pumps with Bows   \n",
       "48             Cole Haan                  Women Leather Loafers   \n",
       "49                  ALDO                          Wedge Sandals   \n",
       "\n",
       "                          price  \n",
       "0                      Rs. 7999  \n",
       "1     Rs. 7999Rs. 9999(20% OFF)  \n",
       "2                      Rs. 8499  \n",
       "3                     Rs. 11999  \n",
       "4    Rs. 7699Rs. 10999(30% OFF)  \n",
       "5                      Rs. 9999  \n",
       "6                      Rs. 9999  \n",
       "7                      Rs. 8999  \n",
       "8    Rs. 8249Rs. 14999(45% OFF)  \n",
       "9                     Rs. 10499  \n",
       "10   Rs. 9441Rs. 10490(10% OFF)  \n",
       "11    Rs. 8991Rs. 9990(10% OFF)  \n",
       "12   Rs. 9891Rs. 10990(10% OFF)  \n",
       "13    Rs. 8991Rs. 9990(10% OFF)  \n",
       "14  Rs. 10399Rs. 12999(20% OFF)  \n",
       "15    Rs. 8550Rs. 9500(10% OFF)  \n",
       "16    Rs. 8991Rs. 9990(10% OFF)  \n",
       "17   Rs. 9891Rs. 10990(10% OFF)  \n",
       "18    Rs. 9764Rs. 10499(7% OFF)  \n",
       "19                     Rs. 7990  \n",
       "20  Rs. 10399Rs. 12999(20% OFF)  \n",
       "21    Rs. 8991Rs. 9990(10% OFF)  \n",
       "22                    Rs. 11999  \n",
       "23                     Rs. 9290  \n",
       "24   Rs. 7877Rs. 10099(22% OFF)  \n",
       "25                     Rs. 8490  \n",
       "26    Rs. 8499Rs. 9999(15% OFF)  \n",
       "27                     Rs. 8999  \n",
       "28                     Rs. 8999  \n",
       "29                     Rs. 8999  \n",
       "30    Rs. 8499Rs. 9999(15% OFF)  \n",
       "31                     Rs. 9999  \n",
       "32                     Rs. 7999  \n",
       "33  Rs. 11999Rs. 14999(20% OFF)  \n",
       "34                    Rs. 13999  \n",
       "35                     Rs. 9999  \n",
       "36                     Rs. 9999  \n",
       "37                     Rs. 8990  \n",
       "38                     Rs. 8490  \n",
       "39                     Rs. 7499  \n",
       "40                     Rs. 9499  \n",
       "41                     Rs. 7999  \n",
       "42                     Rs. 9999  \n",
       "43                     Rs. 8990  \n",
       "44                     Rs. 7990  \n",
       "45                     Rs. 7999  \n",
       "46                     Rs. 7490  \n",
       "47                     Rs. 8999  \n",
       "48  Rs. 11899Rs. 16999(30% OFF)  \n",
       "49                     Rs. 7999  "
      ]
     },
     "execution_count": 329,
     "metadata": {},
     "output_type": "execute_result"
    }
   ],
   "source": [
    "import pandas as pd\n",
    "jobs=pd.DataFrame({})\n",
    "jobs['shoes_Bands']=shoes_Bands\n",
    "jobs['product_description']=product_description\n",
    "jobs['price']=price\n",
    "jobs"
   ]
  },
  {
   "cell_type": "code",
   "execution_count": 352,
   "id": "5afefd04",
   "metadata": {},
   "outputs": [],
   "source": [
    "#QUE.8\n",
    "driver.get('https://www.amazon.in/')"
   ]
  },
  {
   "cell_type": "code",
   "execution_count": 353,
   "id": "56eb2c1d",
   "metadata": {},
   "outputs": [],
   "source": [
    "search_field_designation=driver.find_element_by_xpath(\"/html/body/div[1]/header/div/div[1]/div[2]/div/form/div[2]/div[1]/input\")\n",
    "search_field_designation.send_keys(\"Laptop\")"
   ]
  },
  {
   "cell_type": "code",
   "execution_count": 354,
   "id": "df5f990a",
   "metadata": {},
   "outputs": [],
   "source": [
    "search_button=driver.find_element_by_xpath(\"/html/body/div[1]/header/div/div[1]/div[2]/div/form/div[3]/div/span/input\")\n",
    "search_button.click()"
   ]
  },
  {
   "cell_type": "code",
   "execution_count": 357,
   "id": "568c5451",
   "metadata": {},
   "outputs": [],
   "source": [
    "i7search_button=driver.find_element_by_xpath(\"/html/body/div[1]/div[2]/div[1]/div[2]/div/div[3]/span/div[1]/div/div/div[6]/ul[4]/li[12]/span/a/span\")\n",
    "i7search_button.click()"
   ]
  },
  {
   "cell_type": "code",
   "execution_count": 358,
   "id": "7e0b1ccd",
   "metadata": {},
   "outputs": [],
   "source": [
    "titles=[]\n",
    "Price_list=[]"
   ]
  },
  {
   "cell_type": "code",
   "execution_count": 359,
   "id": "e68365c2",
   "metadata": {},
   "outputs": [
    {
     "data": {
      "text/plain": [
       "[<selenium.webdriver.remote.webelement.WebElement (session=\"deccf6b4044ace42b5d79a0352bfcee2\", element=\"3a2f381a-2ac6-4898-960e-65b486fd0afc\")>,\n",
       " <selenium.webdriver.remote.webelement.WebElement (session=\"deccf6b4044ace42b5d79a0352bfcee2\", element=\"5467ca02-8e77-42a2-822e-5b480f8abe2f\")>,\n",
       " <selenium.webdriver.remote.webelement.WebElement (session=\"deccf6b4044ace42b5d79a0352bfcee2\", element=\"7e9be1a7-66d5-4bbf-84ea-1c7427e75111\")>,\n",
       " <selenium.webdriver.remote.webelement.WebElement (session=\"deccf6b4044ace42b5d79a0352bfcee2\", element=\"fd519344-8e6b-4369-8048-6f51afd1dbba\")>]"
      ]
     },
     "execution_count": 359,
     "metadata": {},
     "output_type": "execute_result"
    }
   ],
   "source": [
    "titles_tags=driver.find_elements_by_xpath(\"//span[@class='a-size-medium a-color-base a-text-normal']\")\n",
    "titles_tags[0:4]"
   ]
  },
  {
   "cell_type": "code",
   "execution_count": 360,
   "id": "4f3f3bcc",
   "metadata": {},
   "outputs": [
    {
     "data": {
      "text/plain": [
       "['Samsung Galaxy Book2 Pro 360 Intel 12th Gen i7 EvoTM 15.6 inch Touchscreen 2-in-1 AMOLED Thin & Light Laptop (16 GB/512 GB SSD/Windows 11/MS Office/with S Pen/Graphite/1.41Kg), NP950QED-KA1IN',\n",
       " 'MSI Katana GF66 Gaming, Intel i7-11800H, 15.6\" FHD IPS-Level 144Hz Panel Laptop (16GB/512GB NVMe SSD/Windows 10 Home/Nvidia RTX3050Ti 4GB GDDR6/Black/2.25Kg), 11UD-476IN',\n",
       " 'Mi Notebook Ultra 3.2K Resolution Display Intel Core i7-11370H 11th Gen 15.6-inch(39.62 cm) Thin and Light Laptop (16GB/512GB SSD/Iris Xe Graphic/Win 10/MS Office 21/Backlit KB/FP Sensor/1.7Kg)',\n",
       " 'ASUS VivoBook 14 (2021), 14-inch (35.56 cms) FHD, Intel Core i7-1065G7 10th Gen, Thin and Light Laptop (16GB/512GB SSD/Integrated Graphics/Office 2021/Windows 11/Silver/1.6 Kg), X415JA-EK701WS']"
      ]
     },
     "execution_count": 360,
     "metadata": {},
     "output_type": "execute_result"
    }
   ],
   "source": [
    "for i in titles_tags:\n",
    "    title=i.text\n",
    "    titles.append(title)\n",
    "titles[0:4]"
   ]
  },
  {
   "cell_type": "code",
   "execution_count": 361,
   "id": "8f5681a6",
   "metadata": {},
   "outputs": [
    {
     "data": {
      "text/plain": [
       "[<selenium.webdriver.remote.webelement.WebElement (session=\"deccf6b4044ace42b5d79a0352bfcee2\", element=\"6ef46611-918c-4b3d-acf1-c649b86ba97d\")>,\n",
       " <selenium.webdriver.remote.webelement.WebElement (session=\"deccf6b4044ace42b5d79a0352bfcee2\", element=\"4b0937bb-2a3f-496a-a090-1c1a62a36f31\")>,\n",
       " <selenium.webdriver.remote.webelement.WebElement (session=\"deccf6b4044ace42b5d79a0352bfcee2\", element=\"4a72a120-c476-456c-ab8d-9eebb3f392fc\")>,\n",
       " <selenium.webdriver.remote.webelement.WebElement (session=\"deccf6b4044ace42b5d79a0352bfcee2\", element=\"f4b88265-11ab-4def-a967-e51d91551aea\")>]"
      ]
     },
     "execution_count": 361,
     "metadata": {},
     "output_type": "execute_result"
    }
   ],
   "source": [
    "price_tags=driver.find_elements_by_xpath(\"//span[@class='a-price-whole']\")\n",
    "price_tags[0:4]"
   ]
  },
  {
   "cell_type": "code",
   "execution_count": 362,
   "id": "6bb5e55a",
   "metadata": {},
   "outputs": [
    {
     "data": {
      "text/plain": [
       "['1,29,990', '98,999', '77,999', '57,490']"
      ]
     },
     "execution_count": 362,
     "metadata": {},
     "output_type": "execute_result"
    }
   ],
   "source": [
    "for i in price_tags:\n",
    "    Price=i.text\n",
    "    Price_list.append(Price)\n",
    "Price_list[0:4]"
   ]
  },
  {
   "cell_type": "code",
   "execution_count": null,
   "id": "1bf73a55",
   "metadata": {},
   "outputs": [],
   "source": [
    "print(len(titles),len(Price_list))"
   ]
  },
  {
   "cell_type": "code",
   "execution_count": null,
   "id": "582a45ef",
   "metadata": {},
   "outputs": [],
   "source": [
    "import pandas as pd\n",
    "jobs=pd.DataFrame({})\n",
    "jobs['title']=titles\n",
    "jobs['Price_list']=Price_list\n",
    "jobs[0:10]#print i make this QUE.8 AMAZON.COM.A___2  i upload in gihub...right now it make len error#otherwise code was fine\n",
    " # will run"
   ]
  },
  {
   "cell_type": "code",
   "execution_count": 365,
   "id": "a8a7ae12",
   "metadata": {},
   "outputs": [],
   "source": [
    "#que9\n",
    "driver.get('https://www.ambitionbox.com/') "
   ]
  },
  {
   "cell_type": "code",
   "execution_count": 366,
   "id": "5d47163f",
   "metadata": {},
   "outputs": [],
   "source": [
    "jobs_button=driver.find_element_by_xpath(\"/html/body/div[1]/nav/nav/a[6]\")\n",
    "jobs_button.click()"
   ]
  },
  {
   "cell_type": "code",
   "execution_count": 367,
   "id": "d4e4b7c5",
   "metadata": {},
   "outputs": [],
   "source": [
    "search_field_designation=driver.find_element_by_xpath(\"/html/body/div/div/div/div[2]/div[1]/div[1]/div/div/div/div/span/input\" )\n",
    "search_field_designation.send_keys(\"Data Scientist”\")"
   ]
  },
  {
   "cell_type": "code",
   "execution_count": 368,
   "id": "a1f6e798",
   "metadata": {},
   "outputs": [],
   "source": [
    "search_button=driver.find_element_by_xpath(\"/html/body/div/div/div/div[2]/div[1]/div[1]/div/div/div/button\")\n",
    "search_button.click()"
   ]
  },
  {
   "cell_type": "code",
   "execution_count": 369,
   "id": "6a7a2631",
   "metadata": {},
   "outputs": [],
   "source": [
    "location_button=driver.find_element_by_xpath(\"/html/body/div/div/div/div[2]/div[1]/div[2]/div[1]/div/div/div/div[2]/div[1]/p\")\n",
    "location_button.click()"
   ]
  },
  {
   "cell_type": "code",
   "execution_count": 370,
   "id": "47aa319f",
   "metadata": {},
   "outputs": [],
   "source": [
    "search_field_designation=driver.find_element_by_xpath(\"/html/body/div/div/div/div[2]/div[1]/div[2]/div[1]/div/div/div/div[2]/div[2]/div/div[2]/input\" )\n",
    "search_field_designation.send_keys(\"Noida\")"
   ]
  },
  {
   "cell_type": "code",
   "execution_count": 371,
   "id": "fc4c48fe",
   "metadata": {},
   "outputs": [],
   "source": [
    "Noida_button=driver.find_element_by_xpath(\"/html/body/div/div/div/div[2]/div[1]/div[2]/div[1]/div/div/div/div[2]/div[2]/div/div[3]/div[1]/div[1]/div/label\")\n",
    "Noida_button.click()"
   ]
  },
  {
   "cell_type": "code",
   "execution_count": 372,
   "id": "69cb7be4",
   "metadata": {},
   "outputs": [],
   "source": [
    "Rating_of_the_company=[]\n",
    "company_names=[]\n",
    "job_was_posted=[]"
   ]
  },
  {
   "cell_type": "code",
   "execution_count": 373,
   "id": "5a282d8f",
   "metadata": {},
   "outputs": [
    {
     "data": {
      "text/plain": [
       "[<selenium.webdriver.remote.webelement.WebElement (session=\"deccf6b4044ace42b5d79a0352bfcee2\", element=\"6cc6744d-c338-4f8d-8108-c9aa32e19311\")>,\n",
       " <selenium.webdriver.remote.webelement.WebElement (session=\"deccf6b4044ace42b5d79a0352bfcee2\", element=\"a42f7d1e-fb2d-487a-8798-584361a607ae\")>,\n",
       " <selenium.webdriver.remote.webelement.WebElement (session=\"deccf6b4044ace42b5d79a0352bfcee2\", element=\"9c84074a-ae7f-47fb-9b15-af99ffe8252e\")>,\n",
       " <selenium.webdriver.remote.webelement.WebElement (session=\"deccf6b4044ace42b5d79a0352bfcee2\", element=\"94a38a5b-d6a4-45d8-84eb-0142a5d4bd6d\")>]"
      ]
     },
     "execution_count": 373,
     "metadata": {},
     "output_type": "execute_result"
    }
   ],
   "source": [
    "company_tags=driver.find_elements_by_xpath(\"//p[@class='company body-medium']\")\n",
    "company_tags[0:4]"
   ]
  },
  {
   "cell_type": "code",
   "execution_count": 374,
   "id": "ab8d6e29",
   "metadata": {},
   "outputs": [
    {
     "data": {
      "text/plain": [
       "['Ericsson India Global Services Pvt. Ltd.',\n",
       " 'EXL Services.com ( I ) Pvt. Ltd.',\n",
       " 'GENPACT India Private Limited',\n",
       " 'TECHNIP GLOBAL BUSINESS SERVICES PRIVATE LIMITED']"
      ]
     },
     "execution_count": 374,
     "metadata": {},
     "output_type": "execute_result"
    }
   ],
   "source": [
    "for i in company_tags:\n",
    "    company=i.text\n",
    "    company_names.append(company)\n",
    "company_names[0:4]"
   ]
  },
  {
   "cell_type": "code",
   "execution_count": 375,
   "id": "9491ccae",
   "metadata": {},
   "outputs": [
    {
     "data": {
      "text/plain": [
       "[<selenium.webdriver.remote.webelement.WebElement (session=\"deccf6b4044ace42b5d79a0352bfcee2\", element=\"7d654289-1e75-44fb-abe8-3d864774af97\")>,\n",
       " <selenium.webdriver.remote.webelement.WebElement (session=\"deccf6b4044ace42b5d79a0352bfcee2\", element=\"e731cdb4-68be-465f-914b-c50157c3a060\")>,\n",
       " <selenium.webdriver.remote.webelement.WebElement (session=\"deccf6b4044ace42b5d79a0352bfcee2\", element=\"150251c8-7fdb-4582-b69a-736ef2fafb74\")>,\n",
       " <selenium.webdriver.remote.webelement.WebElement (session=\"deccf6b4044ace42b5d79a0352bfcee2\", element=\"0e5e778c-0232-4331-8382-d2eeba306450\")>]"
      ]
     },
     "execution_count": 375,
     "metadata": {},
     "output_type": "execute_result"
    }
   ],
   "source": [
    "Rating_tags=driver.find_elements_by_xpath(\"//span[@class='body-small']\")\n",
    "Rating_tags[0:4]"
   ]
  },
  {
   "cell_type": "code",
   "execution_count": 376,
   "id": "5883603f",
   "metadata": {},
   "outputs": [
    {
     "data": {
      "text/plain": [
       "['4.3', '3.9', '4.0', '3.9']"
      ]
     },
     "execution_count": 376,
     "metadata": {},
     "output_type": "execute_result"
    }
   ],
   "source": [
    "for i in Rating_tags:\n",
    "    Rating=i.text\n",
    "    Rating_of_the_company.append(Rating)\n",
    "Rating_of_the_company[0:4]"
   ]
  },
  {
   "cell_type": "code",
   "execution_count": 377,
   "id": "538b6ead",
   "metadata": {},
   "outputs": [
    {
     "data": {
      "text/plain": [
       "[<selenium.webdriver.remote.webelement.WebElement (session=\"deccf6b4044ace42b5d79a0352bfcee2\", element=\"89d0f013-6db5-4ba3-a336-01489157b0bd\")>,\n",
       " <selenium.webdriver.remote.webelement.WebElement (session=\"deccf6b4044ace42b5d79a0352bfcee2\", element=\"dc97f0f4-f90d-4716-8c7f-651f23200525\")>,\n",
       " <selenium.webdriver.remote.webelement.WebElement (session=\"deccf6b4044ace42b5d79a0352bfcee2\", element=\"abfc589b-66ed-4bf4-b133-588fa36cdab3\")>,\n",
       " <selenium.webdriver.remote.webelement.WebElement (session=\"deccf6b4044ace42b5d79a0352bfcee2\", element=\"597f0c5d-b110-4a89-b287-1157704bf023\")>]"
      ]
     },
     "execution_count": 377,
     "metadata": {},
     "output_type": "execute_result"
    }
   ],
   "source": [
    "posted_tags=driver.find_elements_by_xpath(\"//span[1][@class='body-small-l']\")\n",
    "posted_tags[0:4]"
   ]
  },
  {
   "cell_type": "code",
   "execution_count": 378,
   "id": "0737bce3",
   "metadata": {},
   "outputs": [
    {
     "data": {
      "text/plain": [
       "['2d ago', '12d ago', '24d ago', '10d ago']"
      ]
     },
     "execution_count": 378,
     "metadata": {},
     "output_type": "execute_result"
    }
   ],
   "source": [
    "for i in posted_tags:\n",
    "    posted=i.text\n",
    "    job_was_posted.append(posted)\n",
    "job_was_posted[0:4]"
   ]
  },
  {
   "cell_type": "code",
   "execution_count": 379,
   "id": "2251d003",
   "metadata": {},
   "outputs": [
    {
     "name": "stdout",
     "output_type": "stream",
     "text": [
      "10 10 10\n"
     ]
    }
   ],
   "source": [
    "print(len(company_names),len(Rating_of_the_company),len(job_was_posted))"
   ]
  },
  {
   "cell_type": "code",
   "execution_count": 380,
   "id": "30cbe82e",
   "metadata": {},
   "outputs": [
    {
     "data": {
      "text/html": [
       "<div>\n",
       "<style scoped>\n",
       "    .dataframe tbody tr th:only-of-type {\n",
       "        vertical-align: middle;\n",
       "    }\n",
       "\n",
       "    .dataframe tbody tr th {\n",
       "        vertical-align: top;\n",
       "    }\n",
       "\n",
       "    .dataframe thead th {\n",
       "        text-align: right;\n",
       "    }\n",
       "</style>\n",
       "<table border=\"1\" class=\"dataframe\">\n",
       "  <thead>\n",
       "    <tr style=\"text-align: right;\">\n",
       "      <th></th>\n",
       "      <th>company_names</th>\n",
       "      <th>Rating_of_the_company</th>\n",
       "      <th>job_was_posted</th>\n",
       "    </tr>\n",
       "  </thead>\n",
       "  <tbody>\n",
       "    <tr>\n",
       "      <th>0</th>\n",
       "      <td>Ericsson India Global Services Pvt. Ltd.</td>\n",
       "      <td>4.3</td>\n",
       "      <td>2d ago</td>\n",
       "    </tr>\n",
       "    <tr>\n",
       "      <th>1</th>\n",
       "      <td>EXL Services.com ( I ) Pvt. Ltd.</td>\n",
       "      <td>3.9</td>\n",
       "      <td>12d ago</td>\n",
       "    </tr>\n",
       "    <tr>\n",
       "      <th>2</th>\n",
       "      <td>GENPACT India Private Limited</td>\n",
       "      <td>4.0</td>\n",
       "      <td>24d ago</td>\n",
       "    </tr>\n",
       "    <tr>\n",
       "      <th>3</th>\n",
       "      <td>TECHNIP GLOBAL BUSINESS SERVICES PRIVATE LIMITED</td>\n",
       "      <td>3.9</td>\n",
       "      <td>10d ago</td>\n",
       "    </tr>\n",
       "    <tr>\n",
       "      <th>4</th>\n",
       "      <td>GENPACT India Private Limited</td>\n",
       "      <td>4.0</td>\n",
       "      <td>1mon ago</td>\n",
       "    </tr>\n",
       "    <tr>\n",
       "      <th>5</th>\n",
       "      <td>Bristlecone India Limited</td>\n",
       "      <td>3.8</td>\n",
       "      <td>19d ago</td>\n",
       "    </tr>\n",
       "    <tr>\n",
       "      <th>6</th>\n",
       "      <td>Zyoin</td>\n",
       "      <td>4.1</td>\n",
       "      <td>23d ago</td>\n",
       "    </tr>\n",
       "    <tr>\n",
       "      <th>7</th>\n",
       "      <td>Newgen Software Technologies Ltd.</td>\n",
       "      <td>3.6</td>\n",
       "      <td>25d ago</td>\n",
       "    </tr>\n",
       "    <tr>\n",
       "      <th>8</th>\n",
       "      <td>Ashkom Media India Private Limited</td>\n",
       "      <td>3.7</td>\n",
       "      <td>10d ago</td>\n",
       "    </tr>\n",
       "    <tr>\n",
       "      <th>9</th>\n",
       "      <td>Pitney Bowes India Pvt Ltd</td>\n",
       "      <td>4.2</td>\n",
       "      <td>1mon ago</td>\n",
       "    </tr>\n",
       "  </tbody>\n",
       "</table>\n",
       "</div>"
      ],
      "text/plain": [
       "                                      company_names Rating_of_the_company  \\\n",
       "0          Ericsson India Global Services Pvt. Ltd.                   4.3   \n",
       "1                  EXL Services.com ( I ) Pvt. Ltd.                   3.9   \n",
       "2                     GENPACT India Private Limited                   4.0   \n",
       "3  TECHNIP GLOBAL BUSINESS SERVICES PRIVATE LIMITED                   3.9   \n",
       "4                     GENPACT India Private Limited                   4.0   \n",
       "5                         Bristlecone India Limited                   3.8   \n",
       "6                                             Zyoin                   4.1   \n",
       "7                 Newgen Software Technologies Ltd.                   3.6   \n",
       "8                Ashkom Media India Private Limited                   3.7   \n",
       "9                        Pitney Bowes India Pvt Ltd                   4.2   \n",
       "\n",
       "  job_was_posted  \n",
       "0         2d ago  \n",
       "1        12d ago  \n",
       "2        24d ago  \n",
       "3        10d ago  \n",
       "4       1mon ago  \n",
       "5        19d ago  \n",
       "6        23d ago  \n",
       "7        25d ago  \n",
       "8        10d ago  \n",
       "9       1mon ago  "
      ]
     },
     "execution_count": 380,
     "metadata": {},
     "output_type": "execute_result"
    }
   ],
   "source": [
    "import pandas as pd\n",
    "jobs=pd.DataFrame({})\n",
    "jobs['company_names']=company_names\n",
    "jobs['Rating_of_the_company']=Rating_of_the_company\n",
    "jobs['job_was_posted']=job_was_posted\n",
    "jobs#top 10 value"
   ]
  },
  {
   "cell_type": "code",
   "execution_count": 382,
   "id": "dc6c57bb",
   "metadata": {},
   "outputs": [],
   "source": [
    "#Que.10\n",
    "driver.get('https://www.ambitionbox.com/') "
   ]
  },
  {
   "cell_type": "code",
   "execution_count": 383,
   "id": "412d038d",
   "metadata": {},
   "outputs": [],
   "source": [
    "salary_option = driver.find_element_by_xpath(\"//a[@class='link salaries']\")\n",
    "\n",
    "salary_option.click()\n",
    "\n",
    "job_profile = driver.find_element_by_xpath('/html/body/div/div/div/main/section[1]/div[2]/div[1]/span/input')\n",
    "\n",
    "job_profile.send_keys('Data Scientist')"
   ]
  },
  {
   "cell_type": "code",
   "execution_count": 384,
   "id": "4cd801e2",
   "metadata": {},
   "outputs": [],
   "source": [
    "total_salary_record=[]\n",
    "company_names=[]\n",
    "average_salary=[]\n",
    "minimum_salary=[]\n",
    "maximum_salary=[]\n",
    "experience_required=[]"
   ]
  },
  {
   "cell_type": "code",
   "execution_count": 385,
   "id": "ddc0f6ff",
   "metadata": {},
   "outputs": [
    {
     "data": {
      "text/plain": [
       "[<selenium.webdriver.remote.webelement.WebElement (session=\"deccf6b4044ace42b5d79a0352bfcee2\", element=\"0d207a27-d212-415b-922d-c1308af21402\")>,\n",
       " <selenium.webdriver.remote.webelement.WebElement (session=\"deccf6b4044ace42b5d79a0352bfcee2\", element=\"896babbf-3831-41e6-abe3-deefbe06c81b\")>,\n",
       " <selenium.webdriver.remote.webelement.WebElement (session=\"deccf6b4044ace42b5d79a0352bfcee2\", element=\"2e1b5daf-42b4-47a9-9da1-45d8f87834e0\")>,\n",
       " <selenium.webdriver.remote.webelement.WebElement (session=\"deccf6b4044ace42b5d79a0352bfcee2\", element=\"543b667a-d81b-4e89-9d22-3c48703daac3\")>]"
      ]
     },
     "execution_count": 385,
     "metadata": {},
     "output_type": "execute_result"
    }
   ],
   "source": [
    "company_tags=driver.find_elements_by_xpath(\"//div[@class='name']/a\")\n",
    "company_tags[0:4]"
   ]
  },
  {
   "cell_type": "code",
   "execution_count": 386,
   "id": "ea23a5c9",
   "metadata": {},
   "outputs": [
    {
     "data": {
      "text/plain": [
       "['Walmart', 'Ab Inbev', 'Reliance Jio', 'ZS']"
      ]
     },
     "execution_count": 386,
     "metadata": {},
     "output_type": "execute_result"
    }
   ],
   "source": [
    "for i in company_tags:\n",
    "    company=i.text\n",
    "    company_names.append(company)\n",
    "company_names[0:4]"
   ]
  },
  {
   "cell_type": "code",
   "execution_count": 387,
   "id": "2d69457d",
   "metadata": {},
   "outputs": [
    {
     "data": {
      "text/plain": [
       "[<selenium.webdriver.remote.webelement.WebElement (session=\"deccf6b4044ace42b5d79a0352bfcee2\", element=\"e72be095-619c-416a-b321-43831493a847\")>,\n",
       " <selenium.webdriver.remote.webelement.WebElement (session=\"deccf6b4044ace42b5d79a0352bfcee2\", element=\"15199c32-fee3-44e6-a5aa-d948428adc9d\")>,\n",
       " <selenium.webdriver.remote.webelement.WebElement (session=\"deccf6b4044ace42b5d79a0352bfcee2\", element=\"e800d4d0-e2c5-448f-b414-65b0607973db\")>,\n",
       " <selenium.webdriver.remote.webelement.WebElement (session=\"deccf6b4044ace42b5d79a0352bfcee2\", element=\"e4c2e6df-7b24-44db-9faa-007e5b254f05\")>]"
      ]
     },
     "execution_count": 387,
     "metadata": {},
     "output_type": "execute_result"
    }
   ],
   "source": [
    "total_salary_tags=driver.find_elements_by_xpath(\"//div[@class='name']/span\")\n",
    "total_salary_tags[0:4]"
   ]
  },
  {
   "cell_type": "code",
   "execution_count": 388,
   "id": "8b68e824",
   "metadata": {},
   "outputs": [
    {
     "data": {
      "text/plain": [
       "['based on 11 salaries',\n",
       " 'based on 32 salaries',\n",
       " 'based on 10 salaries',\n",
       " 'based on 15 salaries']"
      ]
     },
     "execution_count": 388,
     "metadata": {},
     "output_type": "execute_result"
    }
   ],
   "source": [
    "for i in total_salary_tags:\n",
    "    total_salary=i.text\n",
    "    total_salary_record.append(total_salary)\n",
    "total_salary_record[0:4]"
   ]
  },
  {
   "cell_type": "code",
   "execution_count": 389,
   "id": "ceabbae5",
   "metadata": {},
   "outputs": [
    {
     "data": {
      "text/plain": [
       "[<selenium.webdriver.remote.webelement.WebElement (session=\"deccf6b4044ace42b5d79a0352bfcee2\", element=\"18322937-fa7b-4817-b28e-4362cdf2756f\")>,\n",
       " <selenium.webdriver.remote.webelement.WebElement (session=\"deccf6b4044ace42b5d79a0352bfcee2\", element=\"42a46ea9-5d48-4b3a-89b4-e532b8996ec9\")>,\n",
       " <selenium.webdriver.remote.webelement.WebElement (session=\"deccf6b4044ace42b5d79a0352bfcee2\", element=\"19abecce-9925-44b1-b62f-7bc32b1a2970\")>,\n",
       " <selenium.webdriver.remote.webelement.WebElement (session=\"deccf6b4044ace42b5d79a0352bfcee2\", element=\"c69161d7-24cd-4965-a55f-78b1b20563f9\")>]"
      ]
     },
     "execution_count": 389,
     "metadata": {},
     "output_type": "execute_result"
    }
   ],
   "source": [
    "avrege_salary_tags=driver.find_elements_by_xpath(\"//p[@class='averageCtc']\")\n",
    "avrege_salary_tags[0:4]"
   ]
  },
  {
   "cell_type": "code",
   "execution_count": 390,
   "id": "26292a8d",
   "metadata": {},
   "outputs": [
    {
     "data": {
      "text/plain": [
       "['₹ 29.7L', '₹ 20.5L', '₹ 18.9L', '₹ 16.7L']"
      ]
     },
     "execution_count": 390,
     "metadata": {},
     "output_type": "execute_result"
    }
   ],
   "source": [
    "for i in avrege_salary_tags:\n",
    "    avrege_salarys=i.text\n",
    "    average_salary.append(avrege_salarys)\n",
    "average_salary[0:4]"
   ]
  },
  {
   "cell_type": "code",
   "execution_count": 391,
   "id": "cbda52bc",
   "metadata": {},
   "outputs": [
    {
     "data": {
      "text/plain": [
       "[<selenium.webdriver.remote.webelement.WebElement (session=\"deccf6b4044ace42b5d79a0352bfcee2\", element=\"d87570de-f35e-4888-9469-3715b2b93370\")>,\n",
       " <selenium.webdriver.remote.webelement.WebElement (session=\"deccf6b4044ace42b5d79a0352bfcee2\", element=\"1eadd930-c84f-4559-95cc-467aa9a38877\")>,\n",
       " <selenium.webdriver.remote.webelement.WebElement (session=\"deccf6b4044ace42b5d79a0352bfcee2\", element=\"a5d50e1c-e6bb-4efb-a4f5-be293d78f30a\")>,\n",
       " <selenium.webdriver.remote.webelement.WebElement (session=\"deccf6b4044ace42b5d79a0352bfcee2\", element=\"2d7ae933-c367-4f70-87d7-54948cde02de\")>]"
      ]
     },
     "execution_count": 391,
     "metadata": {},
     "output_type": "execute_result"
    }
   ],
   "source": [
    "minimum_salary_tags=driver.find_elements_by_xpath(\"//div[@class='salary-values']/div[1]\")\n",
    "minimum_salary_tags[0:4]"
   ]
  },
  {
   "cell_type": "code",
   "execution_count": 393,
   "id": "a10ee468",
   "metadata": {},
   "outputs": [
    {
     "data": {
      "text/plain": [
       "['₹ 25.0L', '₹ 15.0L', '₹ 5.6L', '₹ 11.0L']"
      ]
     },
     "execution_count": 393,
     "metadata": {},
     "output_type": "execute_result"
    }
   ],
   "source": [
    "for i in minimum_salary_tags:\n",
    "    mini_salary=i.text\n",
    "    minimum_salary.append(mini_salary)\n",
    "minimum_salary[0:4]"
   ]
  },
  {
   "cell_type": "code",
   "execution_count": 394,
   "id": "6872b0c5",
   "metadata": {},
   "outputs": [
    {
     "data": {
      "text/plain": [
       "[<selenium.webdriver.remote.webelement.WebElement (session=\"deccf6b4044ace42b5d79a0352bfcee2\", element=\"d6b2689a-f887-4f18-b8e4-d7e906b79bd5\")>,\n",
       " <selenium.webdriver.remote.webelement.WebElement (session=\"deccf6b4044ace42b5d79a0352bfcee2\", element=\"57a3ac68-c888-4837-a9c9-8c254fe7736c\")>,\n",
       " <selenium.webdriver.remote.webelement.WebElement (session=\"deccf6b4044ace42b5d79a0352bfcee2\", element=\"9a64117e-4be2-4e4d-b1d3-80ae2eeea903\")>,\n",
       " <selenium.webdriver.remote.webelement.WebElement (session=\"deccf6b4044ace42b5d79a0352bfcee2\", element=\"e2c5aa82-cf07-4530-accf-57d9735c1cbe\")>]"
      ]
     },
     "execution_count": 394,
     "metadata": {},
     "output_type": "execute_result"
    }
   ],
   "source": [
    "maximum_salary_tags=driver.find_elements_by_xpath(\"//div[@class='salary-values']/div[2]\")\n",
    "maximum_salary_tags[0:4]"
   ]
  },
  {
   "cell_type": "code",
   "execution_count": 395,
   "id": "b46e91b2",
   "metadata": {},
   "outputs": [
    {
     "data": {
      "text/plain": [
       "['₹ 35.0L', '₹ 25.5L', '₹ 26.2L', '₹ 22.0L']"
      ]
     },
     "execution_count": 395,
     "metadata": {},
     "output_type": "execute_result"
    }
   ],
   "source": [
    "for i in maximum_salary_tags:\n",
    "    max_salary=i.text\n",
    "    maximum_salary.append(max_salary)\n",
    "maximum_salary[0:4]"
   ]
  },
  {
   "cell_type": "code",
   "execution_count": 396,
   "id": "71d00b05",
   "metadata": {},
   "outputs": [
    {
     "data": {
      "text/plain": [
       "[<selenium.webdriver.remote.webelement.WebElement (session=\"deccf6b4044ace42b5d79a0352bfcee2\", element=\"47697a46-4b5c-49ee-a33d-d4db7db846ab\")>,\n",
       " <selenium.webdriver.remote.webelement.WebElement (session=\"deccf6b4044ace42b5d79a0352bfcee2\", element=\"a6fd074b-d273-4505-a4d4-ffc4d04e3245\")>,\n",
       " <selenium.webdriver.remote.webelement.WebElement (session=\"deccf6b4044ace42b5d79a0352bfcee2\", element=\"e64d0486-0c62-430c-9798-c72fba18bac0\")>,\n",
       " <selenium.webdriver.remote.webelement.WebElement (session=\"deccf6b4044ace42b5d79a0352bfcee2\", element=\"508acc22-78b4-4ab9-88ff-5dc9f2374059\")>]"
      ]
     },
     "execution_count": 396,
     "metadata": {},
     "output_type": "execute_result"
    }
   ],
   "source": [
    "experience_required_tags=driver.find_elements_by_xpath(\"//div[@class='salaries sbold-list-header']\")\n",
    "experience_required_tags[0:4]"
   ]
  },
  {
   "cell_type": "code",
   "execution_count": 397,
   "id": "11a70984",
   "metadata": {},
   "outputs": [
    {
     "data": {
      "text/plain": [
       "['3 yrs exp', '3-4 yrs exp', '4 yrs exp', '2 yrs exp']"
      ]
     },
     "execution_count": 397,
     "metadata": {},
     "output_type": "execute_result"
    }
   ],
   "source": [
    "for i in experience_required_tags:\n",
    "    experience_req=i.text.split('\\n')[2]\n",
    "    experience_required.append(experience_req)\n",
    "experience_required[0:4]"
   ]
  },
  {
   "cell_type": "code",
   "execution_count": 398,
   "id": "a3e144cb",
   "metadata": {},
   "outputs": [
    {
     "name": "stdout",
     "output_type": "stream",
     "text": [
      "10 10 10 10 10 10\n"
     ]
    }
   ],
   "source": [
    "print(len(company_names),len(minimum_salary),len(maximum_salary),len(average_salary),len(total_salary_record),len(experience_required))"
   ]
  },
  {
   "cell_type": "code",
   "execution_count": 399,
   "id": "138681f2",
   "metadata": {},
   "outputs": [
    {
     "data": {
      "text/html": [
       "<div>\n",
       "<style scoped>\n",
       "    .dataframe tbody tr th:only-of-type {\n",
       "        vertical-align: middle;\n",
       "    }\n",
       "\n",
       "    .dataframe tbody tr th {\n",
       "        vertical-align: top;\n",
       "    }\n",
       "\n",
       "    .dataframe thead th {\n",
       "        text-align: right;\n",
       "    }\n",
       "</style>\n",
       "<table border=\"1\" class=\"dataframe\">\n",
       "  <thead>\n",
       "    <tr style=\"text-align: right;\">\n",
       "      <th></th>\n",
       "      <th>company_names</th>\n",
       "      <th>minimum_salary</th>\n",
       "      <th>maximum_salary</th>\n",
       "      <th>average_salary</th>\n",
       "      <th>total_salary_record</th>\n",
       "      <th>experience_required</th>\n",
       "    </tr>\n",
       "  </thead>\n",
       "  <tbody>\n",
       "    <tr>\n",
       "      <th>0</th>\n",
       "      <td>Walmart</td>\n",
       "      <td>₹ 25.0L</td>\n",
       "      <td>₹ 35.0L</td>\n",
       "      <td>₹ 29.7L</td>\n",
       "      <td>based on 11 salaries</td>\n",
       "      <td>3 yrs exp</td>\n",
       "    </tr>\n",
       "    <tr>\n",
       "      <th>1</th>\n",
       "      <td>Ab Inbev</td>\n",
       "      <td>₹ 15.0L</td>\n",
       "      <td>₹ 25.5L</td>\n",
       "      <td>₹ 20.5L</td>\n",
       "      <td>based on 32 salaries</td>\n",
       "      <td>3-4 yrs exp</td>\n",
       "    </tr>\n",
       "    <tr>\n",
       "      <th>2</th>\n",
       "      <td>Reliance Jio</td>\n",
       "      <td>₹ 5.6L</td>\n",
       "      <td>₹ 26.2L</td>\n",
       "      <td>₹ 18.9L</td>\n",
       "      <td>based on 10 salaries</td>\n",
       "      <td>4 yrs exp</td>\n",
       "    </tr>\n",
       "    <tr>\n",
       "      <th>3</th>\n",
       "      <td>ZS</td>\n",
       "      <td>₹ 11.0L</td>\n",
       "      <td>₹ 22.0L</td>\n",
       "      <td>₹ 16.7L</td>\n",
       "      <td>based on 15 salaries</td>\n",
       "      <td>2 yrs exp</td>\n",
       "    </tr>\n",
       "    <tr>\n",
       "      <th>4</th>\n",
       "      <td>Optum</td>\n",
       "      <td>₹ 11.0L</td>\n",
       "      <td>₹ 22.6L</td>\n",
       "      <td>₹ 15.9L</td>\n",
       "      <td>based on 30 salaries</td>\n",
       "      <td>3-4 yrs exp</td>\n",
       "    </tr>\n",
       "    <tr>\n",
       "      <th>5</th>\n",
       "      <td>Fractal Analytics</td>\n",
       "      <td>₹ 9.7L</td>\n",
       "      <td>₹ 23.0L</td>\n",
       "      <td>₹ 15.4L</td>\n",
       "      <td>based on 82 salaries</td>\n",
       "      <td>2-4 yrs exp</td>\n",
       "    </tr>\n",
       "    <tr>\n",
       "      <th>6</th>\n",
       "      <td>Tiger Analytics</td>\n",
       "      <td>₹ 9.0L</td>\n",
       "      <td>₹ 20.0L</td>\n",
       "      <td>₹ 14.8L</td>\n",
       "      <td>based on 47 salaries</td>\n",
       "      <td>2-4 yrs exp</td>\n",
       "    </tr>\n",
       "    <tr>\n",
       "      <th>7</th>\n",
       "      <td>UnitedHealth</td>\n",
       "      <td>₹ 8.3L</td>\n",
       "      <td>₹ 20.5L</td>\n",
       "      <td>₹ 13.9L</td>\n",
       "      <td>based on 55 salaries</td>\n",
       "      <td>2-4 yrs exp</td>\n",
       "    </tr>\n",
       "    <tr>\n",
       "      <th>8</th>\n",
       "      <td>Verizon</td>\n",
       "      <td>₹ 10.0L</td>\n",
       "      <td>₹ 21.0L</td>\n",
       "      <td>₹ 12.7L</td>\n",
       "      <td>based on 14 salaries</td>\n",
       "      <td>4 yrs exp</td>\n",
       "    </tr>\n",
       "    <tr>\n",
       "      <th>9</th>\n",
       "      <td>Ganit Business Solutions</td>\n",
       "      <td>₹ 8.5L</td>\n",
       "      <td>₹ 15.0L</td>\n",
       "      <td>₹ 12.4L</td>\n",
       "      <td>based on 13 salaries</td>\n",
       "      <td>4 yrs exp</td>\n",
       "    </tr>\n",
       "  </tbody>\n",
       "</table>\n",
       "</div>"
      ],
      "text/plain": [
       "              company_names minimum_salary maximum_salary average_salary  \\\n",
       "0                   Walmart        ₹ 25.0L        ₹ 35.0L        ₹ 29.7L   \n",
       "1                  Ab Inbev        ₹ 15.0L        ₹ 25.5L        ₹ 20.5L   \n",
       "2              Reliance Jio         ₹ 5.6L        ₹ 26.2L        ₹ 18.9L   \n",
       "3                        ZS        ₹ 11.0L        ₹ 22.0L        ₹ 16.7L   \n",
       "4                     Optum        ₹ 11.0L        ₹ 22.6L        ₹ 15.9L   \n",
       "5         Fractal Analytics         ₹ 9.7L        ₹ 23.0L        ₹ 15.4L   \n",
       "6           Tiger Analytics         ₹ 9.0L        ₹ 20.0L        ₹ 14.8L   \n",
       "7              UnitedHealth         ₹ 8.3L        ₹ 20.5L        ₹ 13.9L   \n",
       "8                   Verizon        ₹ 10.0L        ₹ 21.0L        ₹ 12.7L   \n",
       "9  Ganit Business Solutions         ₹ 8.5L        ₹ 15.0L        ₹ 12.4L   \n",
       "\n",
       "    total_salary_record experience_required  \n",
       "0  based on 11 salaries           3 yrs exp  \n",
       "1  based on 32 salaries         3-4 yrs exp  \n",
       "2  based on 10 salaries           4 yrs exp  \n",
       "3  based on 15 salaries           2 yrs exp  \n",
       "4  based on 30 salaries         3-4 yrs exp  \n",
       "5  based on 82 salaries         2-4 yrs exp  \n",
       "6  based on 47 salaries         2-4 yrs exp  \n",
       "7  based on 55 salaries         2-4 yrs exp  \n",
       "8  based on 14 salaries           4 yrs exp  \n",
       "9  based on 13 salaries           4 yrs exp  "
      ]
     },
     "execution_count": 399,
     "metadata": {},
     "output_type": "execute_result"
    }
   ],
   "source": [
    "import pandas as pd\n",
    "jobs=pd.DataFrame({})\n",
    "jobs['company_names']=company_names\n",
    "jobs['minimum_salary']=minimum_salary\n",
    "jobs['maximum_salary']=maximum_salary\n",
    "jobs['average_salary']=average_salary\n",
    "jobs['total_salary_record']=total_salary_record\n",
    "jobs['experience_required']=experience_required\n",
    "\n",
    "jobs#top tan company data print"
   ]
  },
  {
   "cell_type": "code",
   "execution_count": null,
   "id": "8cd57249",
   "metadata": {},
   "outputs": [],
   "source": []
  }
 ],
 "metadata": {
  "kernelspec": {
   "display_name": "Python 3 (ipykernel)",
   "language": "python",
   "name": "python3"
  },
  "language_info": {
   "codemirror_mode": {
    "name": "ipython",
    "version": 3
   },
   "file_extension": ".py",
   "mimetype": "text/x-python",
   "name": "python",
   "nbconvert_exporter": "python",
   "pygments_lexer": "ipython3",
   "version": "3.9.7"
  }
 },
 "nbformat": 4,
 "nbformat_minor": 5
}
