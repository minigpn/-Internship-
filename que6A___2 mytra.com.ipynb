{
 "cells": [
  {
   "cell_type": "code",
   "execution_count": 27,
   "id": "545b9662",
   "metadata": {},
   "outputs": [
    {
     "name": "stdout",
     "output_type": "stream",
     "text": [
      "Requirement already satisfied: selenium in c:\\imdisk\\datatraned\\lib\\site-packages (4.1.3)\n",
      "Requirement already satisfied: trio~=0.17 in c:\\imdisk\\datatraned\\lib\\site-packages (from selenium) (0.20.0)\n",
      "Requirement already satisfied: trio-websocket~=0.9 in c:\\imdisk\\datatraned\\lib\\site-packages (from selenium) (0.9.2)\n",
      "Requirement already satisfied: urllib3[secure,socks]~=1.26 in c:\\imdisk\\datatraned\\lib\\site-packages (from selenium) (1.26.7)\n",
      "Requirement already satisfied: cffi>=1.14 in c:\\imdisk\\datatraned\\lib\\site-packages (from trio~=0.17->selenium) (1.14.6)\n",
      "Requirement already satisfied: sortedcontainers in c:\\imdisk\\datatraned\\lib\\site-packages (from trio~=0.17->selenium) (2.4.0)\n",
      "Requirement already satisfied: async-generator>=1.9 in c:\\imdisk\\datatraned\\lib\\site-packages (from trio~=0.17->selenium) (1.10)\n",
      "Requirement already satisfied: attrs>=19.2.0 in c:\\imdisk\\datatraned\\lib\\site-packages (from trio~=0.17->selenium) (21.2.0)\n",
      "Requirement already satisfied: idna in c:\\imdisk\\datatraned\\lib\\site-packages (from trio~=0.17->selenium) (3.2)\n",
      "Requirement already satisfied: sniffio in c:\\imdisk\\datatraned\\lib\\site-packages (from trio~=0.17->selenium) (1.2.0)\n",
      "Requirement already satisfied: outcome in c:\\imdisk\\datatraned\\lib\\site-packages (from trio~=0.17->selenium) (1.1.0)\n",
      "Requirement already satisfied: pycparser in c:\\imdisk\\datatraned\\lib\\site-packages (from cffi>=1.14->trio~=0.17->selenium) (2.20)\n",
      "Requirement already satisfied: wsproto>=0.14 in c:\\imdisk\\datatraned\\lib\\site-packages (from trio-websocket~=0.9->selenium) (1.1.0)\n",
      "Requirement already satisfied: PySocks!=1.5.7,<2.0,>=1.5.6 in c:\\imdisk\\datatraned\\lib\\site-packages (from urllib3[secure,socks]~=1.26->selenium) (1.7.1)\n",
      "Requirement already satisfied: pyOpenSSL>=0.14 in c:\\imdisk\\datatraned\\lib\\site-packages (from urllib3[secure,socks]~=1.26->selenium) (21.0.0)\n",
      "Requirement already satisfied: cryptography>=1.3.4 in c:\\imdisk\\datatraned\\lib\\site-packages (from urllib3[secure,socks]~=1.26->selenium) (3.4.8)\n",
      "Requirement already satisfied: certifi in c:\\imdisk\\datatraned\\lib\\site-packages (from urllib3[secure,socks]~=1.26->selenium) (2021.10.8)\n",
      "Requirement already satisfied: six>=1.5.2 in c:\\imdisk\\datatraned\\lib\\site-packages (from pyOpenSSL>=0.14->urllib3[secure,socks]~=1.26->selenium) (1.16.0)\n",
      "Requirement already satisfied: h11<1,>=0.9.0 in c:\\imdisk\\datatraned\\lib\\site-packages (from wsproto>=0.14->trio-websocket~=0.9->selenium) (0.13.0)\n"
     ]
    }
   ],
   "source": [
    "!pip install selenium"
   ]
  },
  {
   "cell_type": "code",
   "execution_count": 28,
   "id": "580c1a07",
   "metadata": {},
   "outputs": [],
   "source": [
    "import selenium\n",
    "import pandas as pd\n",
    "from selenium import webdriver\n",
    "import warnings\n",
    "warnings.filterwarnings(\"ignore\")\n",
    "import time"
   ]
  },
  {
   "cell_type": "code",
   "execution_count": 29,
   "id": "5b90e358",
   "metadata": {},
   "outputs": [],
   "source": [
    "driver=webdriver.Chrome(r\"C:\\web driver\\chromedriver.exe\")"
   ]
  },
  {
   "cell_type": "code",
   "execution_count": 30,
   "id": "70c1eded",
   "metadata": {},
   "outputs": [],
   "source": [
    "driver.get('https://www.flipkart.com/')"
   ]
  },
  {
   "cell_type": "code",
   "execution_count": 41,
   "id": "b242e4fe",
   "metadata": {},
   "outputs": [],
   "source": [
    "search_field_designation=driver.find_element_by_class_name(\"_3704LK\" )\n",
    "search_field_designation.send_keys(\"sneakers\")\n"
   ]
  },
  {
   "cell_type": "code",
   "execution_count": 42,
   "id": "42be0a60",
   "metadata": {},
   "outputs": [],
   "source": [
    "search_button=driver.find_element_by_xpath(\"/html/body/div/div/div[1]/div[1]/div[2]/div[2]/form/div/button\")\n",
    "search_button.click()\n"
   ]
  },
  {
   "cell_type": "code",
   "execution_count": 43,
   "id": "9741fb39",
   "metadata": {},
   "outputs": [],
   "source": [
    "shoes_Bands =[]\n",
    "product_description=[]\n",
    "price=[]"
   ]
  },
  {
   "cell_type": "code",
   "execution_count": 44,
   "id": "0bbb0797",
   "metadata": {},
   "outputs": [
    {
     "data": {
      "text/plain": [
       "[<selenium.webdriver.remote.webelement.WebElement (session=\"acd9c0a7ae4fd8b3c5d449e0d663ea27\", element=\"1ac0bd74-788a-4cd9-bc7f-93bc2aec33da\")>,\n",
       " <selenium.webdriver.remote.webelement.WebElement (session=\"acd9c0a7ae4fd8b3c5d449e0d663ea27\", element=\"080d3bb8-5365-49a9-99c5-45bc8504603d\")>,\n",
       " <selenium.webdriver.remote.webelement.WebElement (session=\"acd9c0a7ae4fd8b3c5d449e0d663ea27\", element=\"c60eaa37-0f6e-4c96-89ca-3a35039a2a15\")>,\n",
       " <selenium.webdriver.remote.webelement.WebElement (session=\"acd9c0a7ae4fd8b3c5d449e0d663ea27\", element=\"593667d1-ba83-473d-a536-5275e29527d1\")>]"
      ]
     },
     "execution_count": 44,
     "metadata": {},
     "output_type": "execute_result"
    }
   ],
   "source": [
    "shoes_tags=driver.find_elements_by_xpath(\"//div[@class='_2WkVRV']\")\n",
    "shoes_tags[0:4]"
   ]
  },
  {
   "cell_type": "code",
   "execution_count": 45,
   "id": "a47c6ce6",
   "metadata": {},
   "outputs": [
    {
     "data": {
      "text/plain": [
       "['URBANBOX', 'BRUTON', 'Labbin', 'corsac']"
      ]
     },
     "execution_count": 45,
     "metadata": {},
     "output_type": "execute_result"
    }
   ],
   "source": [
    "for i in shoes_tags:\n",
    "    shoes=i.text\n",
    "    shoes_Bands.append(shoes)\n",
    "shoes_Bands[0:4]\n"
   ]
  },
  {
   "cell_type": "code",
   "execution_count": 46,
   "id": "83975c1f",
   "metadata": {},
   "outputs": [
    {
     "data": {
      "text/plain": [
       "[<selenium.webdriver.remote.webelement.WebElement (session=\"acd9c0a7ae4fd8b3c5d449e0d663ea27\", element=\"af1ea5d9-bfc9-4d46-ae0a-a003b1afc778\")>,\n",
       " <selenium.webdriver.remote.webelement.WebElement (session=\"acd9c0a7ae4fd8b3c5d449e0d663ea27\", element=\"74d86220-2712-4344-a727-f14e4fd7e642\")>,\n",
       " <selenium.webdriver.remote.webelement.WebElement (session=\"acd9c0a7ae4fd8b3c5d449e0d663ea27\", element=\"39847a50-cad9-4585-b127-61a9b8e35f5e\")>,\n",
       " <selenium.webdriver.remote.webelement.WebElement (session=\"acd9c0a7ae4fd8b3c5d449e0d663ea27\", element=\"9c8b5518-62b3-4b43-b944-ee3b9b7f1fa8\")>]"
      ]
     },
     "execution_count": 46,
     "metadata": {},
     "output_type": "execute_result"
    }
   ],
   "source": [
    "product_tags=driver.find_elements_by_xpath(\"//a[@class='IRpwTa']\")\n",
    "product_tags[0:4]"
   ]
  },
  {
   "cell_type": "code",
   "execution_count": 47,
   "id": "bcc6a1c3",
   "metadata": {},
   "outputs": [
    {
     "data": {
      "text/plain": [
       "['Canvas shoes for Men Sneakers For Men',\n",
       " 'Sneakers For Men',\n",
       " 'STYLISH MENS BLACK AND WHITE SNEAKER Sneakers For Men',\n",
       " 'Sneakers For Men']"
      ]
     },
     "execution_count": 47,
     "metadata": {},
     "output_type": "execute_result"
    }
   ],
   "source": [
    "for i in product_tags:\n",
    "    description=i.text\n",
    "    product_description.append(description)\n",
    "product_description[0:4]"
   ]
  },
  {
   "cell_type": "code",
   "execution_count": 51,
   "id": "b383d630",
   "metadata": {},
   "outputs": [
    {
     "data": {
      "text/plain": [
       "[<selenium.webdriver.remote.webelement.WebElement (session=\"acd9c0a7ae4fd8b3c5d449e0d663ea27\", element=\"07677dfe-c8a8-4b7c-8d8e-bfe04c2b7c58\")>,\n",
       " <selenium.webdriver.remote.webelement.WebElement (session=\"acd9c0a7ae4fd8b3c5d449e0d663ea27\", element=\"bfb26eb0-bb0f-47fb-8197-84d5714e49ae\")>,\n",
       " <selenium.webdriver.remote.webelement.WebElement (session=\"acd9c0a7ae4fd8b3c5d449e0d663ea27\", element=\"be154f65-23ff-47ae-8348-8f701e434eb4\")>,\n",
       " <selenium.webdriver.remote.webelement.WebElement (session=\"acd9c0a7ae4fd8b3c5d449e0d663ea27\", element=\"c7dfe13a-884f-4363-af5f-52f484a04b47\")>]"
      ]
     },
     "execution_count": 51,
     "metadata": {},
     "output_type": "execute_result"
    }
   ],
   "source": [
    "price_tags=driver.find_elements_by_xpath(\"//div[@class='_30jeq3']\")\n",
    "price_tags[0:4]"
   ]
  },
  {
   "cell_type": "code",
   "execution_count": 52,
   "id": "195568c3",
   "metadata": {},
   "outputs": [
    {
     "data": {
      "text/plain": [
       "['₹647', '₹647']"
      ]
     },
     "execution_count": 52,
     "metadata": {},
     "output_type": "execute_result"
    }
   ],
   "source": [
    "for i in price_tags:\n",
    "     prices=i.text\n",
    "price.append( prices)\n",
    "price[0:4]"
   ]
  },
  {
   "cell_type": "code",
   "execution_count": 53,
   "id": "d39ef235",
   "metadata": {},
   "outputs": [
    {
     "name": "stdout",
     "output_type": "stream",
     "text": [
      "40 36 2\n"
     ]
    }
   ],
   "source": [
    "print(len(shoes_Bands),len(product_description),len(price))"
   ]
  },
  {
   "cell_type": "code",
   "execution_count": null,
   "id": "a158cdd7",
   "metadata": {},
   "outputs": [],
   "source": []
  }
 ],
 "metadata": {
  "kernelspec": {
   "display_name": "Python 3 (ipykernel)",
   "language": "python",
   "name": "python3"
  },
  "language_info": {
   "codemirror_mode": {
    "name": "ipython",
    "version": 3
   },
   "file_extension": ".py",
   "mimetype": "text/x-python",
   "name": "python",
   "nbconvert_exporter": "python",
   "pygments_lexer": "ipython3",
   "version": "3.9.7"
  }
 },
 "nbformat": 4,
 "nbformat_minor": 5
}
