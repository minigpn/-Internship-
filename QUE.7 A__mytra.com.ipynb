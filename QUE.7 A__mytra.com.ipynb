{
 "cells": [
  {
   "cell_type": "code",
   "execution_count": 71,
   "id": "1532a3e4",
   "metadata": {},
   "outputs": [
    {
     "name": "stdout",
     "output_type": "stream",
     "text": [
      "Requirement already satisfied: selenium in c:\\imdisk\\datatraned\\lib\\site-packages (4.1.3)\n",
      "Requirement already satisfied: trio-websocket~=0.9 in c:\\imdisk\\datatraned\\lib\\site-packages (from selenium) (0.9.2)\n",
      "Requirement already satisfied: trio~=0.17 in c:\\imdisk\\datatraned\\lib\\site-packages (from selenium) (0.20.0)\n",
      "Requirement already satisfied: urllib3[secure,socks]~=1.26 in c:\\imdisk\\datatraned\\lib\\site-packages (from selenium) (1.26.7)\n",
      "Requirement already satisfied: idna in c:\\imdisk\\datatraned\\lib\\site-packages (from trio~=0.17->selenium) (3.2)\n",
      "Requirement already satisfied: sortedcontainers in c:\\imdisk\\datatraned\\lib\\site-packages (from trio~=0.17->selenium) (2.4.0)\n",
      "Requirement already satisfied: sniffio in c:\\imdisk\\datatraned\\lib\\site-packages (from trio~=0.17->selenium) (1.2.0)\n",
      "Requirement already satisfied: async-generator>=1.9 in c:\\imdisk\\datatraned\\lib\\site-packages (from trio~=0.17->selenium) (1.10)\n",
      "Requirement already satisfied: attrs>=19.2.0 in c:\\imdisk\\datatraned\\lib\\site-packages (from trio~=0.17->selenium) (21.2.0)\n",
      "Requirement already satisfied: outcome in c:\\imdisk\\datatraned\\lib\\site-packages (from trio~=0.17->selenium) (1.1.0)\n",
      "Requirement already satisfied: cffi>=1.14 in c:\\imdisk\\datatraned\\lib\\site-packages (from trio~=0.17->selenium) (1.14.6)\n",
      "Requirement already satisfied: pycparser in c:\\imdisk\\datatraned\\lib\\site-packages (from cffi>=1.14->trio~=0.17->selenium) (2.20)\n",
      "Requirement already satisfied: wsproto>=0.14 in c:\\imdisk\\datatraned\\lib\\site-packages (from trio-websocket~=0.9->selenium) (1.1.0)\n",
      "Requirement already satisfied: pyOpenSSL>=0.14 in c:\\imdisk\\datatraned\\lib\\site-packages (from urllib3[secure,socks]~=1.26->selenium) (21.0.0)\n",
      "Requirement already satisfied: cryptography>=1.3.4 in c:\\imdisk\\datatraned\\lib\\site-packages (from urllib3[secure,socks]~=1.26->selenium) (3.4.8)\n",
      "Requirement already satisfied: certifi in c:\\imdisk\\datatraned\\lib\\site-packages (from urllib3[secure,socks]~=1.26->selenium) (2021.10.8)\n",
      "Requirement already satisfied: PySocks!=1.5.7,<2.0,>=1.5.6 in c:\\imdisk\\datatraned\\lib\\site-packages (from urllib3[secure,socks]~=1.26->selenium) (1.7.1)\n",
      "Requirement already satisfied: six>=1.5.2 in c:\\imdisk\\datatraned\\lib\\site-packages (from pyOpenSSL>=0.14->urllib3[secure,socks]~=1.26->selenium) (1.16.0)\n",
      "Requirement already satisfied: h11<1,>=0.9.0 in c:\\imdisk\\datatraned\\lib\\site-packages (from wsproto>=0.14->trio-websocket~=0.9->selenium) (0.13.0)\n"
     ]
    }
   ],
   "source": [
    "!pip install selenium"
   ]
  },
  {
   "cell_type": "code",
   "execution_count": 72,
   "id": "c64fe6cb",
   "metadata": {},
   "outputs": [],
   "source": [
    "import selenium\n",
    "import pandas as pd\n",
    "from selenium import webdriver\n",
    "import warnings\n",
    "warnings.filterwarnings(\"ignore\")\n",
    "import time"
   ]
  },
  {
   "cell_type": "code",
   "execution_count": 73,
   "id": "98723242",
   "metadata": {},
   "outputs": [],
   "source": [
    "driver=webdriver.Chrome(r\"C:\\web driver\\chromedriver.exe\")"
   ]
  },
  {
   "cell_type": "code",
   "execution_count": 74,
   "id": "e4c0f50c",
   "metadata": {},
   "outputs": [],
   "source": [
    "driver.get('https://www.myntra.com/shoes')"
   ]
  },
  {
   "cell_type": "code",
   "execution_count": 76,
   "id": "54d2b03f",
   "metadata": {},
   "outputs": [],
   "source": [
    "search_button=driver.find_element_by_xpath(\"/html/body/div[2]/div/div/main/div[3]/div[1]/section/div/div[5]/ul/li[2]/label\")\n",
    "search_button.click()"
   ]
  },
  {
   "cell_type": "code",
   "execution_count": 77,
   "id": "bbfdb72b",
   "metadata": {},
   "outputs": [],
   "source": [
    "search_button=driver.find_element_by_xpath(\"/html/body/div[2]/div/div/main/div[3]/div[1]/section/div/div[6]/ul/li[1]/label\")\n",
    "search_button.click()"
   ]
  },
  {
   "cell_type": "code",
   "execution_count": 78,
   "id": "83ceddb0",
   "metadata": {},
   "outputs": [],
   "source": [
    "shoes_Bands =[]\n",
    "product_description=[]\n",
    "price=[]"
   ]
  },
  {
   "cell_type": "code",
   "execution_count": 79,
   "id": "2e2fc11a",
   "metadata": {},
   "outputs": [
    {
     "data": {
      "text/plain": [
       "[<selenium.webdriver.remote.webelement.WebElement (session=\"8b643ede1ab2e65230fb57da8a2d850d\", element=\"867a4551-dc24-43a7-8749-53c8332bddd8\")>,\n",
       " <selenium.webdriver.remote.webelement.WebElement (session=\"8b643ede1ab2e65230fb57da8a2d850d\", element=\"0adfea68-1ebb-440c-a802-dccad14199ee\")>,\n",
       " <selenium.webdriver.remote.webelement.WebElement (session=\"8b643ede1ab2e65230fb57da8a2d850d\", element=\"057f0bd7-aa7b-4a75-a97e-1712a209d787\")>,\n",
       " <selenium.webdriver.remote.webelement.WebElement (session=\"8b643ede1ab2e65230fb57da8a2d850d\", element=\"92e59599-8d33-4a24-9ac2-f87b1e074376\")>]"
      ]
     },
     "execution_count": 79,
     "metadata": {},
     "output_type": "execute_result"
    }
   ],
   "source": [
    "shoes_tags=driver.find_elements_by_xpath(\"//h3[@class='product-brand']\")\n",
    "shoes_tags[0:4]"
   ]
  },
  {
   "cell_type": "code",
   "execution_count": 80,
   "id": "b60426d9",
   "metadata": {},
   "outputs": [
    {
     "data": {
      "text/plain": [
       "['Skechers', 'UNDER ARMOUR', 'ALDO', 'ALDO']"
      ]
     },
     "execution_count": 80,
     "metadata": {},
     "output_type": "execute_result"
    }
   ],
   "source": [
    "for i in shoes_tags:\n",
    "    shoes=i.text\n",
    "    shoes_Bands.append(shoes)\n",
    "shoes_Bands[0:4]\n"
   ]
  },
  {
   "cell_type": "code",
   "execution_count": 81,
   "id": "aa6195f7",
   "metadata": {},
   "outputs": [
    {
     "data": {
      "text/plain": [
       "[<selenium.webdriver.remote.webelement.WebElement (session=\"8b643ede1ab2e65230fb57da8a2d850d\", element=\"16570b75-eb2e-4bf3-a9e8-8cc911c904ff\")>,\n",
       " <selenium.webdriver.remote.webelement.WebElement (session=\"8b643ede1ab2e65230fb57da8a2d850d\", element=\"f9bb1b73-d4b7-41a2-ac97-1f9fee459f56\")>,\n",
       " <selenium.webdriver.remote.webelement.WebElement (session=\"8b643ede1ab2e65230fb57da8a2d850d\", element=\"64fac607-382d-49c6-a965-fbbb4adfa619\")>,\n",
       " <selenium.webdriver.remote.webelement.WebElement (session=\"8b643ede1ab2e65230fb57da8a2d850d\", element=\"edb1c7e7-f6b9-48c2-ba04-5dbcc3757fc6\")>]"
      ]
     },
     "execution_count": 81,
     "metadata": {},
     "output_type": "execute_result"
    }
   ],
   "source": [
    "product_tags=driver.find_elements_by_xpath(\"//h4[@class='product-product']\")\n",
    "product_tags[0:4]"
   ]
  },
  {
   "cell_type": "code",
   "execution_count": 82,
   "id": "84733174",
   "metadata": {},
   "outputs": [
    {
     "data": {
      "text/plain": [
       "['Men Max Cushioning Running',\n",
       " 'Men Vantage 2 Running Shoes',\n",
       " 'Men Textured Slip-On Sneakers',\n",
       " 'Men Sneakers']"
      ]
     },
     "execution_count": 82,
     "metadata": {},
     "output_type": "execute_result"
    }
   ],
   "source": [
    "for i in product_tags:\n",
    "    description=i.text\n",
    "    product_description.append(description)\n",
    "product_description[0:4]"
   ]
  },
  {
   "cell_type": "code",
   "execution_count": 85,
   "id": "97247706",
   "metadata": {},
   "outputs": [
    {
     "data": {
      "text/plain": [
       "[<selenium.webdriver.remote.webelement.WebElement (session=\"8b643ede1ab2e65230fb57da8a2d850d\", element=\"aef55759-41b9-44c6-8ac6-1d84ce08fce6\")>]"
      ]
     },
     "execution_count": 85,
     "metadata": {},
     "output_type": "execute_result"
    }
   ],
   "source": [
    "product_tags=driver.find_elements_by_xpath(\"//h4[@class='product-product']\")\n",
    "product_tags[0:4]"
   ]
  },
  {
   "cell_type": "code",
   "execution_count": 86,
   "id": "c70e27ec",
   "metadata": {},
   "outputs": [
    {
     "data": {
      "text/plain": [
       "['Rs. 8999', 'Rs. 8499']"
      ]
     },
     "execution_count": 86,
     "metadata": {},
     "output_type": "execute_result"
    }
   ],
   "source": [
    "for i in price_tags:\n",
    "     prices=i.text\n",
    "price.append( prices)\n",
    "price[0:6]"
   ]
  },
  {
   "cell_type": "code",
   "execution_count": 66,
   "id": "ffaac7c4",
   "metadata": {},
   "outputs": [
    {
     "name": "stdout",
     "output_type": "stream",
     "text": [
      "50 50 2\n"
     ]
    }
   ],
   "source": [
    "print(len(shoes_Bands),len(product_description),len(price))"
   ]
  },
  {
   "cell_type": "code",
   "execution_count": null,
   "id": "cf642e38",
   "metadata": {},
   "outputs": [],
   "source": []
  },
  {
   "cell_type": "code",
   "execution_count": null,
   "id": "93af8a3f",
   "metadata": {},
   "outputs": [],
   "source": []
  }
 ],
 "metadata": {
  "kernelspec": {
   "display_name": "Python 3 (ipykernel)",
   "language": "python",
   "name": "python3"
  },
  "language_info": {
   "codemirror_mode": {
    "name": "ipython",
    "version": 3
   },
   "file_extension": ".py",
   "mimetype": "text/x-python",
   "name": "python",
   "nbconvert_exporter": "python",
   "pygments_lexer": "ipython3",
   "version": "3.9.7"
  }
 },
 "nbformat": 4,
 "nbformat_minor": 5
}
