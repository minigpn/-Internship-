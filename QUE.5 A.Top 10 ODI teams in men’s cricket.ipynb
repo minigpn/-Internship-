{
 "cells": [
  {
   "cell_type": "code",
   "execution_count": null,
   "id": "d67ba5d1",
   "metadata": {},
   "outputs": [],
   "source": [
    "!pip install bs4\n",
    "!pip install requests\n",
    "!pip install html5lib"
   ]
  },
  {
   "cell_type": "raw",
   "id": "01b427c6",
   "metadata": {},
   "source": [
    "    "
   ]
  },
  {
   "cell_type": "code",
   "execution_count": 2,
   "id": "5f2d52f3",
   "metadata": {},
   "outputs": [],
   "source": [
    "from bs4 import BeautifulSoup\n",
    "import requests"
   ]
  },
  {
   "cell_type": "code",
   "execution_count": 3,
   "id": "6f96811d",
   "metadata": {},
   "outputs": [
    {
     "data": {
      "text/plain": [
       "<Response [200]>"
      ]
     },
     "execution_count": 3,
     "metadata": {},
     "output_type": "execute_result"
    }
   ],
   "source": [
    "page=requests.get(\"https://www.icc-cricket.com/rankings/mens/team-rankings/odi\")\n",
    "page"
   ]
  },
  {
   "cell_type": "code",
   "execution_count": null,
   "id": "e761bd69",
   "metadata": {},
   "outputs": [],
   "source": [
    "soup= BeautifulSoup(page.content)\n",
    "soup"
   ]
  },
  {
   "cell_type": "code",
   "execution_count": 5,
   "id": "22919470",
   "metadata": {},
   "outputs": [],
   "source": [
    "soup_data = soup(requests,'html.parser')"
   ]
  },
  {
   "cell_type": "code",
   "execution_count": 6,
   "id": "439fc84a",
   "metadata": {},
   "outputs": [
    {
     "data": {
      "text/plain": [
       "\"ICC Men's ODI Team Rankings | ICC\""
      ]
     },
     "execution_count": 6,
     "metadata": {},
     "output_type": "execute_result"
    }
   ],
   "source": [
    "soup.title.text"
   ]
  },
  {
   "cell_type": "code",
   "execution_count": null,
   "id": "dee99aa4",
   "metadata": {},
   "outputs": [],
   "source": [
    "add_info =[]\n",
    "aditional_info = soup.find_all('td', class_='table-body__cell u-center-text')\n",
    "for i in aditional_info:\n",
    "    add_info.append(i.get_text().replace(\"\\n\",\"\"))\n",
    "add_info"
   ]
  },
  {
   "cell_type": "code",
   "execution_count": 65,
   "id": "74b75eda",
   "metadata": {},
   "outputs": [
    {
     "data": {
      "text/plain": [
       "['32', '31', '38', '31', '30', '36', '35', '36', '23', '28']"
      ]
     },
     "execution_count": 65,
     "metadata": {},
     "output_type": "execute_result"
    }
   ],
   "source": [
    "ODI_match = []\n",
    "for i in range(0,20,2):\n",
    "    ODI_match.append(aditional_info[i].get_text().replace(\"\\n\",\"\"))\n",
    "ODI_match"
   ]
  },
  {
   "cell_type": "code",
   "execution_count": 66,
   "id": "c2d36225",
   "metadata": {},
   "outputs": [
    {
     "data": {
      "text/plain": [
       "['3,793',\n",
       " '3,475',\n",
       " '4,162',\n",
       " '3,167',\n",
       " '2,921',\n",
       " '3,350',\n",
       " '2,835',\n",
       " '2,788',\n",
       " '1,562',\n",
       " '1,445']"
      ]
     },
     "execution_count": 66,
     "metadata": {},
     "output_type": "execute_result"
    }
   ],
   "source": [
    "ODI_Points = []\n",
    "for i in range(1,20,2):\n",
    "    ODI_Points.append(aditional_info[i].get_text().replace(\"\\n\",\"\"))\n",
    "ODI_Points"
   ]
  },
  {
   "cell_type": "code",
   "execution_count": 58,
   "id": "8f51c96e",
   "metadata": {},
   "outputs": [],
   "source": [
    "rating = soup.find_all('td', class_='table-body__cell u-text-right rating')"
   ]
  },
  {
   "cell_type": "code",
   "execution_count": 67,
   "id": "fcdd1c73",
   "metadata": {},
   "outputs": [
    {
     "data": {
      "text/plain": [
       "['119', '112', '110', '102', '97', '93', '81', '77', '68', '52']"
      ]
     },
     "execution_count": 67,
     "metadata": {},
     "output_type": "execute_result"
    }
   ],
   "source": [
    "ODI_Rating = []\n",
    "for i in range(0,10):\n",
    "    ODI_Rating.append(team[i].get_text().replace(\"\\n\",\"\"))\n",
    "ODI_Rating"
   ]
  },
  {
   "cell_type": "code",
   "execution_count": null,
   "id": "5360b47b",
   "metadata": {},
   "outputs": [],
   "source": []
  },
  {
   "cell_type": "code",
   "execution_count": 69,
   "id": "fc3e61b1",
   "metadata": {},
   "outputs": [
    {
     "name": "stdout",
     "output_type": "stream",
     "text": [
      "10 10 10\n"
     ]
    }
   ],
   "source": [
    "print(len(ODI_match),len(ODI_Points),len(ODI_Rating))"
   ]
  },
  {
   "cell_type": "code",
   "execution_count": 70,
   "id": "61930f69",
   "metadata": {},
   "outputs": [
    {
     "data": {
      "text/html": [
       "<div>\n",
       "<style scoped>\n",
       "    .dataframe tbody tr th:only-of-type {\n",
       "        vertical-align: middle;\n",
       "    }\n",
       "\n",
       "    .dataframe tbody tr th {\n",
       "        vertical-align: top;\n",
       "    }\n",
       "\n",
       "    .dataframe thead th {\n",
       "        text-align: right;\n",
       "    }\n",
       "</style>\n",
       "<table border=\"1\" class=\"dataframe\">\n",
       "  <thead>\n",
       "    <tr style=\"text-align: right;\">\n",
       "      <th></th>\n",
       "      <th>ODI_match</th>\n",
       "      <th>ODI_Points</th>\n",
       "      <th>ODI_Rating</th>\n",
       "    </tr>\n",
       "  </thead>\n",
       "  <tbody>\n",
       "    <tr>\n",
       "      <th>0</th>\n",
       "      <td>32</td>\n",
       "      <td>3,793</td>\n",
       "      <td>119</td>\n",
       "    </tr>\n",
       "    <tr>\n",
       "      <th>1</th>\n",
       "      <td>31</td>\n",
       "      <td>3,475</td>\n",
       "      <td>112</td>\n",
       "    </tr>\n",
       "    <tr>\n",
       "      <th>2</th>\n",
       "      <td>38</td>\n",
       "      <td>4,162</td>\n",
       "      <td>110</td>\n",
       "    </tr>\n",
       "    <tr>\n",
       "      <th>3</th>\n",
       "      <td>31</td>\n",
       "      <td>3,167</td>\n",
       "      <td>102</td>\n",
       "    </tr>\n",
       "    <tr>\n",
       "      <th>4</th>\n",
       "      <td>30</td>\n",
       "      <td>2,921</td>\n",
       "      <td>97</td>\n",
       "    </tr>\n",
       "    <tr>\n",
       "      <th>5</th>\n",
       "      <td>36</td>\n",
       "      <td>3,350</td>\n",
       "      <td>93</td>\n",
       "    </tr>\n",
       "    <tr>\n",
       "      <th>6</th>\n",
       "      <td>35</td>\n",
       "      <td>2,835</td>\n",
       "      <td>81</td>\n",
       "    </tr>\n",
       "    <tr>\n",
       "      <th>7</th>\n",
       "      <td>36</td>\n",
       "      <td>2,788</td>\n",
       "      <td>77</td>\n",
       "    </tr>\n",
       "    <tr>\n",
       "      <th>8</th>\n",
       "      <td>23</td>\n",
       "      <td>1,562</td>\n",
       "      <td>68</td>\n",
       "    </tr>\n",
       "    <tr>\n",
       "      <th>9</th>\n",
       "      <td>28</td>\n",
       "      <td>1,445</td>\n",
       "      <td>52</td>\n",
       "    </tr>\n",
       "  </tbody>\n",
       "</table>\n",
       "</div>"
      ],
      "text/plain": [
       "  ODI_match ODI_Points ODI_Rating\n",
       "0        32      3,793        119\n",
       "1        31      3,475        112\n",
       "2        38      4,162        110\n",
       "3        31      3,167        102\n",
       "4        30      2,921         97\n",
       "5        36      3,350         93\n",
       "6        35      2,835         81\n",
       "7        36      2,788         77\n",
       "8        23      1,562         68\n",
       "9        28      1,445         52"
      ]
     },
     "execution_count": 70,
     "metadata": {},
     "output_type": "execute_result"
    }
   ],
   "source": [
    "import pandas as pd\n",
    "df=pd.DataFrame({'ODI_match':ODI_match,'ODI_Points':ODI_Points,'ODI_Rating':ODI_Rating })\n",
    "df"
   ]
  },
  {
   "cell_type": "code",
   "execution_count": null,
   "id": "08361e80",
   "metadata": {},
   "outputs": [],
   "source": []
  },
  {
   "cell_type": "code",
   "execution_count": null,
   "id": "4b72c386",
   "metadata": {},
   "outputs": [],
   "source": [
    "\n"
   ]
  },
  {
   "cell_type": "code",
   "execution_count": null,
   "id": "82fb05c6",
   "metadata": {},
   "outputs": [],
   "source": []
  },
  {
   "cell_type": "code",
   "execution_count": null,
   "id": "c0c2821f",
   "metadata": {},
   "outputs": [],
   "source": []
  },
  {
   "cell_type": "code",
   "execution_count": null,
   "id": "210f4892",
   "metadata": {},
   "outputs": [],
   "source": []
  },
  {
   "cell_type": "code",
   "execution_count": null,
   "id": "8039735a",
   "metadata": {},
   "outputs": [],
   "source": []
  },
  {
   "cell_type": "code",
   "execution_count": null,
   "id": "526be9d6",
   "metadata": {},
   "outputs": [],
   "source": []
  },
  {
   "cell_type": "code",
   "execution_count": null,
   "id": "d88f6bfd",
   "metadata": {},
   "outputs": [],
   "source": []
  },
  {
   "cell_type": "code",
   "execution_count": null,
   "id": "27a0f919",
   "metadata": {},
   "outputs": [],
   "source": []
  },
  {
   "cell_type": "code",
   "execution_count": null,
   "id": "aabcd486",
   "metadata": {},
   "outputs": [],
   "source": []
  },
  {
   "cell_type": "code",
   "execution_count": null,
   "id": "24bfa38d",
   "metadata": {},
   "outputs": [],
   "source": []
  },
  {
   "cell_type": "code",
   "execution_count": null,
   "id": "d063c427",
   "metadata": {},
   "outputs": [],
   "source": []
  },
  {
   "cell_type": "code",
   "execution_count": null,
   "id": "b6c83cc6",
   "metadata": {},
   "outputs": [],
   "source": []
  }
 ],
 "metadata": {
  "kernelspec": {
   "display_name": "Python 3 (ipykernel)",
   "language": "python",
   "name": "python3"
  },
  "language_info": {
   "codemirror_mode": {
    "name": "ipython",
    "version": 3
   },
   "file_extension": ".py",
   "mimetype": "text/x-python",
   "name": "python",
   "nbconvert_exporter": "python",
   "pygments_lexer": "ipython3",
   "version": "3.9.7"
  }
 },
 "nbformat": 4,
 "nbformat_minor": 5
}
