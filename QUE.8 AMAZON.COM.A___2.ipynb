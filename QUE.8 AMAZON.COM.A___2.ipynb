{
 "cells": [
  {
   "cell_type": "code",
   "execution_count": 44,
   "id": "3941fcdd",
   "metadata": {},
   "outputs": [
    {
     "name": "stdout",
     "output_type": "stream",
     "text": [
      "Requirement already satisfied: selenium in c:\\imdisk\\datatraned\\lib\\site-packages (4.1.3)\n",
      "Requirement already satisfied: trio~=0.17 in c:\\imdisk\\datatraned\\lib\\site-packages (from selenium) (0.20.0)\n",
      "Requirement already satisfied: urllib3[secure,socks]~=1.26 in c:\\imdisk\\datatraned\\lib\\site-packages (from selenium) (1.26.7)\n",
      "Requirement already satisfied: trio-websocket~=0.9 in c:\\imdisk\\datatraned\\lib\\site-packages (from selenium) (0.9.2)\n",
      "Requirement already satisfied: cffi>=1.14 in c:\\imdisk\\datatraned\\lib\\site-packages (from trio~=0.17->selenium) (1.14.6)\n",
      "Requirement already satisfied: sniffio in c:\\imdisk\\datatraned\\lib\\site-packages (from trio~=0.17->selenium) (1.2.0)\n",
      "Requirement already satisfied: outcome in c:\\imdisk\\datatraned\\lib\\site-packages (from trio~=0.17->selenium) (1.1.0)\n",
      "Requirement already satisfied: idna in c:\\imdisk\\datatraned\\lib\\site-packages (from trio~=0.17->selenium) (3.2)\n",
      "Requirement already satisfied: attrs>=19.2.0 in c:\\imdisk\\datatraned\\lib\\site-packages (from trio~=0.17->selenium) (21.2.0)\n",
      "Requirement already satisfied: async-generator>=1.9 in c:\\imdisk\\datatraned\\lib\\site-packages (from trio~=0.17->selenium) (1.10)\n",
      "Requirement already satisfied: sortedcontainers in c:\\imdisk\\datatraned\\lib\\site-packages (from trio~=0.17->selenium) (2.4.0)\n",
      "Requirement already satisfied: pycparser in c:\\imdisk\\datatraned\\lib\\site-packages (from cffi>=1.14->trio~=0.17->selenium) (2.20)\n",
      "Requirement already satisfied: wsproto>=0.14 in c:\\imdisk\\datatraned\\lib\\site-packages (from trio-websocket~=0.9->selenium) (1.1.0)\n",
      "Requirement already satisfied: PySocks!=1.5.7,<2.0,>=1.5.6 in c:\\imdisk\\datatraned\\lib\\site-packages (from urllib3[secure,socks]~=1.26->selenium) (1.7.1)\n",
      "Requirement already satisfied: pyOpenSSL>=0.14 in c:\\imdisk\\datatraned\\lib\\site-packages (from urllib3[secure,socks]~=1.26->selenium) (21.0.0)\n",
      "Requirement already satisfied: cryptography>=1.3.4 in c:\\imdisk\\datatraned\\lib\\site-packages (from urllib3[secure,socks]~=1.26->selenium) (3.4.8)\n",
      "Requirement already satisfied: certifi in c:\\imdisk\\datatraned\\lib\\site-packages (from urllib3[secure,socks]~=1.26->selenium) (2021.10.8)\n",
      "Requirement already satisfied: six>=1.5.2 in c:\\imdisk\\datatraned\\lib\\site-packages (from pyOpenSSL>=0.14->urllib3[secure,socks]~=1.26->selenium) (1.16.0)\n",
      "Requirement already satisfied: h11<1,>=0.9.0 in c:\\imdisk\\datatraned\\lib\\site-packages (from wsproto>=0.14->trio-websocket~=0.9->selenium) (0.13.0)\n"
     ]
    }
   ],
   "source": [
    "!pip install selenium"
   ]
  },
  {
   "cell_type": "code",
   "execution_count": 45,
   "id": "3aa343bf",
   "metadata": {},
   "outputs": [],
   "source": [
    "import selenium\n",
    "import pandas as pd\n",
    "from selenium import webdriver\n",
    "import warnings\n",
    "warnings.filterwarnings(\"ignore\")\n",
    "import time"
   ]
  },
  {
   "cell_type": "code",
   "execution_count": 46,
   "id": "2548bb87",
   "metadata": {},
   "outputs": [],
   "source": [
    "driver=webdriver.Chrome(r\"C:\\web driver\\chromedriver.exe\")"
   ]
  },
  {
   "cell_type": "code",
   "execution_count": 47,
   "id": "1924381a",
   "metadata": {},
   "outputs": [],
   "source": [
    "driver.get('https://www.amazon.in/')"
   ]
  },
  {
   "cell_type": "code",
   "execution_count": 48,
   "id": "16e8443b",
   "metadata": {},
   "outputs": [],
   "source": [
    "search_field_designation=driver.find_element_by_xpath(\"/html/body/div[1]/header/div/div[1]/div[2]/div/form/div[2]/div[1]/input\")\n",
    "search_field_designation.send_keys(\"Laptop\")"
   ]
  },
  {
   "cell_type": "code",
   "execution_count": 49,
   "id": "19749783",
   "metadata": {},
   "outputs": [],
   "source": [
    "search_button=driver.find_element_by_xpath(\"/html/body/div[1]/header/div/div[1]/div[2]/div/form/div[3]/div\")\n",
    "search_button.click()"
   ]
  },
  {
   "cell_type": "code",
   "execution_count": 50,
   "id": "5427068e",
   "metadata": {},
   "outputs": [],
   "source": [
    "search_button=driver.find_element_by_xpath(\"/html/body/div[2]/div[2]/div[1]/div[2]/div/div[3]/span/div[1]/div/div/div[5]/ul[4]/li[14]/span/a/span\")\n",
    "search_button.click()"
   ]
  },
  {
   "cell_type": "code",
   "execution_count": 51,
   "id": "81ef4251",
   "metadata": {},
   "outputs": [],
   "source": [
    "titles=[]\n",
    "Price_list=[]"
   ]
  },
  {
   "cell_type": "code",
   "execution_count": 52,
   "id": "88b8842f",
   "metadata": {},
   "outputs": [
    {
     "data": {
      "text/plain": [
       "[<selenium.webdriver.remote.webelement.WebElement (session=\"e6318400008305e6f0ad9f9a93132e15\", element=\"d4bf9cea-aa1b-480f-ab90-f0b051be0ccf\")>,\n",
       " <selenium.webdriver.remote.webelement.WebElement (session=\"e6318400008305e6f0ad9f9a93132e15\", element=\"0f5cbe57-9b27-4666-b1f5-2b4c54c48c8c\")>,\n",
       " <selenium.webdriver.remote.webelement.WebElement (session=\"e6318400008305e6f0ad9f9a93132e15\", element=\"c60f7b0a-e8fc-416b-b2c4-28eeb49a0344\")>,\n",
       " <selenium.webdriver.remote.webelement.WebElement (session=\"e6318400008305e6f0ad9f9a93132e15\", element=\"bdb94c5f-6c99-4ee2-9aaa-d05c2bab43fb\")>]"
      ]
     },
     "execution_count": 52,
     "metadata": {},
     "output_type": "execute_result"
    }
   ],
   "source": [
    "titles_tags=driver.find_elements_by_xpath(\"//span[@class='a-size-medium a-color-base a-text-normal']\")\n",
    "titles_tags[0:4]"
   ]
  },
  {
   "cell_type": "code",
   "execution_count": 53,
   "id": "85c52ce1",
   "metadata": {},
   "outputs": [
    {
     "data": {
      "text/plain": [
       "['Acer Predator Helios 300 11th Gen Intel Core i9-11900H 15.6 inches FHD IPS Gaming Laptop (32GB/1TB SSD/Windows 11 Home/8GB Graphics/NVIDIA GeForce RTX 3070/300 Hz, Black, 2.3Kg) PH315-54',\n",
       " 'MSI Katana GF66 Gaming, Intel i7-11800H, 15.6\" FHD IPS-Level 144Hz Panel Laptop (16GB/512GB NVMe SSD/Windows 10 Home/Nvidia RTX3050Ti 4GB GDDR6/Black/2.25Kg), 11UD-476IN',\n",
       " 'ASUS VivoBook 14 (2021), 14-inch (35.56 cms) FHD, Intel Core i7-1065G7 10th Gen, Thin and Light Laptop (16GB/512GB SSD/Integrated Graphics/Office 2021/Windows 11/Silver/1.6 Kg), X415JA-EK701WS',\n",
       " 'Samsung Galaxy Book2 Intel 12th Gen core i7 EvoTM  39.6cm (15.6\") FHD LED Thin & Light Laptop (16 GB/512 GB SSD/Windows 11/MS Office Home & Student 2021/Graphite/1.55Kg), NP750XED-KC2IN']"
      ]
     },
     "execution_count": 53,
     "metadata": {},
     "output_type": "execute_result"
    }
   ],
   "source": [
    "for i in titles_tags:\n",
    "    title=i.text\n",
    "    titles.append(title)\n",
    "titles[0:4]"
   ]
  },
  {
   "cell_type": "code",
   "execution_count": 54,
   "id": "547717b2",
   "metadata": {},
   "outputs": [
    {
     "data": {
      "text/plain": [
       "[<selenium.webdriver.remote.webelement.WebElement (session=\"e6318400008305e6f0ad9f9a93132e15\", element=\"9bc56938-df42-4b85-9ded-f48e91e7f646\")>,\n",
       " <selenium.webdriver.remote.webelement.WebElement (session=\"e6318400008305e6f0ad9f9a93132e15\", element=\"bb80c6bc-aab0-483f-b5a5-3d532857119c\")>,\n",
       " <selenium.webdriver.remote.webelement.WebElement (session=\"e6318400008305e6f0ad9f9a93132e15\", element=\"7d2dc670-db4b-47ab-8ce8-33365498c52d\")>,\n",
       " <selenium.webdriver.remote.webelement.WebElement (session=\"e6318400008305e6f0ad9f9a93132e15\", element=\"b5f1a5d7-d001-4a3a-8439-f90139cf7731\")>]"
      ]
     },
     "execution_count": 54,
     "metadata": {},
     "output_type": "execute_result"
    }
   ],
   "source": [
    "price_tags=driver.find_elements_by_xpath(\"//span[@class='a-price-whole']\")\n",
    "price_tags[0:4]"
   ]
  },
  {
   "cell_type": "code",
   "execution_count": 55,
   "id": "5da6c255",
   "metadata": {},
   "outputs": [
    {
     "data": {
      "text/plain": [
       "['1,69,990', '91,499', '57,490', '79,990']"
      ]
     },
     "execution_count": 55,
     "metadata": {},
     "output_type": "execute_result"
    }
   ],
   "source": [
    "for i in price_tags:\n",
    "    Price=i.text\n",
    "    Price_list.append(Price)\n",
    "Price_list[0:4]"
   ]
  },
  {
   "cell_type": "code",
   "execution_count": 56,
   "id": "f252c149",
   "metadata": {},
   "outputs": [
    {
     "name": "stdout",
     "output_type": "stream",
     "text": [
      "30 30\n"
     ]
    }
   ],
   "source": [
    "print(len(titles),len(Price_list))"
   ]
  },
  {
   "cell_type": "code",
   "execution_count": 57,
   "id": "2916fe50",
   "metadata": {},
   "outputs": [
    {
     "data": {
      "text/html": [
       "<div>\n",
       "<style scoped>\n",
       "    .dataframe tbody tr th:only-of-type {\n",
       "        vertical-align: middle;\n",
       "    }\n",
       "\n",
       "    .dataframe tbody tr th {\n",
       "        vertical-align: top;\n",
       "    }\n",
       "\n",
       "    .dataframe thead th {\n",
       "        text-align: right;\n",
       "    }\n",
       "</style>\n",
       "<table border=\"1\" class=\"dataframe\">\n",
       "  <thead>\n",
       "    <tr style=\"text-align: right;\">\n",
       "      <th></th>\n",
       "      <th>title</th>\n",
       "      <th>Price_list</th>\n",
       "    </tr>\n",
       "  </thead>\n",
       "  <tbody>\n",
       "    <tr>\n",
       "      <th>0</th>\n",
       "      <td>Acer Predator Helios 300 11th Gen Intel Core i...</td>\n",
       "      <td>1,69,990</td>\n",
       "    </tr>\n",
       "    <tr>\n",
       "      <th>1</th>\n",
       "      <td>MSI Katana GF66 Gaming, Intel i7-11800H, 15.6\"...</td>\n",
       "      <td>91,499</td>\n",
       "    </tr>\n",
       "    <tr>\n",
       "      <th>2</th>\n",
       "      <td>ASUS VivoBook 14 (2021), 14-inch (35.56 cms) F...</td>\n",
       "      <td>57,490</td>\n",
       "    </tr>\n",
       "    <tr>\n",
       "      <th>3</th>\n",
       "      <td>Samsung Galaxy Book2 Intel 12th Gen core i7 Ev...</td>\n",
       "      <td>79,990</td>\n",
       "    </tr>\n",
       "    <tr>\n",
       "      <th>4</th>\n",
       "      <td>HP Pavilion 14, 11th Gen Intel Core i7-16GB RA...</td>\n",
       "      <td>86,990</td>\n",
       "    </tr>\n",
       "    <tr>\n",
       "      <th>5</th>\n",
       "      <td>Lenovo ThinkBook 15 Intel 11th Gen Core i7 15....</td>\n",
       "      <td>86,990</td>\n",
       "    </tr>\n",
       "    <tr>\n",
       "      <th>6</th>\n",
       "      <td>ASUS TUF Gaming F15 (2021), 15.6\" (39.62 cms) ...</td>\n",
       "      <td>89,990</td>\n",
       "    </tr>\n",
       "    <tr>\n",
       "      <th>7</th>\n",
       "      <td>HP Pavilion 11th Gen Intel Core i7 Processor 1...</td>\n",
       "      <td>89,990</td>\n",
       "    </tr>\n",
       "    <tr>\n",
       "      <th>8</th>\n",
       "      <td>HP Pavilion x360 11th Gen Intel Core i7 14 inc...</td>\n",
       "      <td>85,890</td>\n",
       "    </tr>\n",
       "    <tr>\n",
       "      <th>9</th>\n",
       "      <td>(Renewed) Dell Latitude Laptop E7480 Intel Cor...</td>\n",
       "      <td>47,034</td>\n",
       "    </tr>\n",
       "  </tbody>\n",
       "</table>\n",
       "</div>"
      ],
      "text/plain": [
       "                                               title Price_list\n",
       "0  Acer Predator Helios 300 11th Gen Intel Core i...   1,69,990\n",
       "1  MSI Katana GF66 Gaming, Intel i7-11800H, 15.6\"...     91,499\n",
       "2  ASUS VivoBook 14 (2021), 14-inch (35.56 cms) F...     57,490\n",
       "3  Samsung Galaxy Book2 Intel 12th Gen core i7 Ev...     79,990\n",
       "4  HP Pavilion 14, 11th Gen Intel Core i7-16GB RA...     86,990\n",
       "5  Lenovo ThinkBook 15 Intel 11th Gen Core i7 15....     86,990\n",
       "6  ASUS TUF Gaming F15 (2021), 15.6\" (39.62 cms) ...     89,990\n",
       "7  HP Pavilion 11th Gen Intel Core i7 Processor 1...     89,990\n",
       "8  HP Pavilion x360 11th Gen Intel Core i7 14 inc...     85,890\n",
       "9  (Renewed) Dell Latitude Laptop E7480 Intel Cor...     47,034"
      ]
     },
     "execution_count": 57,
     "metadata": {},
     "output_type": "execute_result"
    }
   ],
   "source": [
    "import pandas as pd\n",
    "jobs=pd.DataFrame({})\n",
    "jobs['title']=titles\n",
    "jobs['Price_list']=Price_list\n",
    "jobs[0:10]\n"
   ]
  },
  {
   "cell_type": "code",
   "execution_count": 58,
   "id": "6db8e62a",
   "metadata": {},
   "outputs": [],
   "source": [
    "search_button=driver.find_element_by_xpath(\"/html/body/div[2]/div[2]/div[1]/div[2]/div/div[3]/span/div[1]/div/div/div[5]/ul[4]/li[12]/span/a/span\")\n",
    "search_button.click()"
   ]
  },
  {
   "cell_type": "code",
   "execution_count": 59,
   "id": "b5442766",
   "metadata": {},
   "outputs": [],
   "source": [
    "titles=[]\n",
    "Price_list=[]"
   ]
  },
  {
   "cell_type": "code",
   "execution_count": 60,
   "id": "7e654abc",
   "metadata": {},
   "outputs": [
    {
     "data": {
      "text/plain": [
       "[<selenium.webdriver.remote.webelement.WebElement (session=\"e6318400008305e6f0ad9f9a93132e15\", element=\"a70a902a-0b40-4393-8fb8-685e5d369ef9\")>,\n",
       " <selenium.webdriver.remote.webelement.WebElement (session=\"e6318400008305e6f0ad9f9a93132e15\", element=\"525c1eff-ff47-43a6-8d31-af3720ece91a\")>,\n",
       " <selenium.webdriver.remote.webelement.WebElement (session=\"e6318400008305e6f0ad9f9a93132e15\", element=\"a595fe51-0887-43b8-96af-77a2b314f077\")>,\n",
       " <selenium.webdriver.remote.webelement.WebElement (session=\"e6318400008305e6f0ad9f9a93132e15\", element=\"76e1e119-aad0-4d17-8d9f-fa3ab648fe87\")>]"
      ]
     },
     "execution_count": 60,
     "metadata": {},
     "output_type": "execute_result"
    }
   ],
   "source": [
    "titles_tags=driver.find_elements_by_xpath(\"//span[@class='a-size-medium a-color-base a-text-normal']\")\n",
    "titles_tags[0:4]"
   ]
  },
  {
   "cell_type": "code",
   "execution_count": 61,
   "id": "893888df",
   "metadata": {},
   "outputs": [
    {
     "data": {
      "text/plain": [
       "['Acer Predator Helios 300 11th Gen Intel Core i9-11900H 15.6\" (39.62cms) FHD IPS Gaming Laptop (16 GB/1TB SSD/Win 11 Home/6 GB Graphics/NVIDIA GeForce RTX 3060/360 Hz, Black, 2.3 kg) PH315-54',\n",
       " 'Acer Predator Helios 300 11th Gen Intel Core i9-11900H 15.6\" (39.62cms) FHD IPS Gaming Laptop (16 GB/1TB SSD/Win 11 Home/6 GB Graphics/NVIDIA GeForce RTX 3060/360 Hz, Black, 2.3 kg) PH315-54',\n",
       " 'ASUS ROG Zephyrus M16 (2022), 16-inch (40.64 cms) 2K QHD 165Hz/3ms, Core i9-12900H 12th Gen, RTX 3080 Ti 16GB Graphics, Gaming Laptop (32GB/2TB SSD/Win 11/Office 2021/Black/2 Kg), GU603ZX-K8024WS',\n",
       " 'ASUS ROG Strix Scar 15 (2022), 15.6-inch (39.62 cms) 2K WQHD 240Hz/3ms, Core i9-12900H 12th Gen, RTX 3070 Ti 8GB Graphics, Gaming Laptop (32GB/2TB SSD/Win 11/Office 2021/Black/2.3 Kg), G533ZW-LN106WS']"
      ]
     },
     "execution_count": 61,
     "metadata": {},
     "output_type": "execute_result"
    }
   ],
   "source": [
    "for i in titles_tags:\n",
    "    title=i.text\n",
    "    titles.append(title)\n",
    "titles[0:4]"
   ]
  },
  {
   "cell_type": "code",
   "execution_count": 62,
   "id": "3c39cbe2",
   "metadata": {},
   "outputs": [
    {
     "data": {
      "text/plain": [
       "[<selenium.webdriver.remote.webelement.WebElement (session=\"e6318400008305e6f0ad9f9a93132e15\", element=\"844d71cb-86f2-4e31-866e-5f3c7c90eb77\")>,\n",
       " <selenium.webdriver.remote.webelement.WebElement (session=\"e6318400008305e6f0ad9f9a93132e15\", element=\"2b8324af-e401-4ea3-a983-24237884d83e\")>,\n",
       " <selenium.webdriver.remote.webelement.WebElement (session=\"e6318400008305e6f0ad9f9a93132e15\", element=\"6ebae774-b0d3-4746-8938-46190be693a1\")>,\n",
       " <selenium.webdriver.remote.webelement.WebElement (session=\"e6318400008305e6f0ad9f9a93132e15\", element=\"d42af4bd-c0d3-4200-80b6-d89dd75fc6a3\")>]"
      ]
     },
     "execution_count": 62,
     "metadata": {},
     "output_type": "execute_result"
    }
   ],
   "source": [
    "price_tags=driver.find_elements_by_xpath(\"//span[@class='a-price-whole']\")\n",
    "price_tags[0:4]"
   ]
  },
  {
   "cell_type": "code",
   "execution_count": 63,
   "id": "40f4787b",
   "metadata": {},
   "outputs": [
    {
     "data": {
      "text/plain": [
       "['1,44,990', '1,44,990', '3,31,990', '2,85,390']"
      ]
     },
     "execution_count": 63,
     "metadata": {},
     "output_type": "execute_result"
    }
   ],
   "source": [
    "for i in price_tags:\n",
    "    Price=i.text\n",
    "    Price_list.append(Price)\n",
    "Price_list[0:4]"
   ]
  },
  {
   "cell_type": "code",
   "execution_count": 64,
   "id": "e55c399e",
   "metadata": {},
   "outputs": [
    {
     "name": "stdout",
     "output_type": "stream",
     "text": [
      "12 12\n"
     ]
    }
   ],
   "source": [
    "print(len(titles),len(Price_list))"
   ]
  },
  {
   "cell_type": "code",
   "execution_count": 65,
   "id": "6e130523",
   "metadata": {},
   "outputs": [
    {
     "data": {
      "text/html": [
       "<div>\n",
       "<style scoped>\n",
       "    .dataframe tbody tr th:only-of-type {\n",
       "        vertical-align: middle;\n",
       "    }\n",
       "\n",
       "    .dataframe tbody tr th {\n",
       "        vertical-align: top;\n",
       "    }\n",
       "\n",
       "    .dataframe thead th {\n",
       "        text-align: right;\n",
       "    }\n",
       "</style>\n",
       "<table border=\"1\" class=\"dataframe\">\n",
       "  <thead>\n",
       "    <tr style=\"text-align: right;\">\n",
       "      <th></th>\n",
       "      <th>title</th>\n",
       "      <th>Price_list</th>\n",
       "    </tr>\n",
       "  </thead>\n",
       "  <tbody>\n",
       "    <tr>\n",
       "      <th>0</th>\n",
       "      <td>Acer Predator Helios 300 11th Gen Intel Core i...</td>\n",
       "      <td>1,44,990</td>\n",
       "    </tr>\n",
       "    <tr>\n",
       "      <th>1</th>\n",
       "      <td>Acer Predator Helios 300 11th Gen Intel Core i...</td>\n",
       "      <td>1,44,990</td>\n",
       "    </tr>\n",
       "    <tr>\n",
       "      <th>2</th>\n",
       "      <td>ASUS ROG Zephyrus M16 (2022), 16-inch (40.64 c...</td>\n",
       "      <td>3,31,990</td>\n",
       "    </tr>\n",
       "    <tr>\n",
       "      <th>3</th>\n",
       "      <td>ASUS ROG Strix Scar 15 (2022), 15.6-inch (39.6...</td>\n",
       "      <td>2,85,390</td>\n",
       "    </tr>\n",
       "    <tr>\n",
       "      <th>4</th>\n",
       "      <td>Predator Helios 500 Gaming Laptop (11th Gen In...</td>\n",
       "      <td>3,79,990</td>\n",
       "    </tr>\n",
       "    <tr>\n",
       "      <th>5</th>\n",
       "      <td>HP Envy 15- 11th Gen Intel Core i9/32GB/1TB SS...</td>\n",
       "      <td>2,02,990</td>\n",
       "    </tr>\n",
       "    <tr>\n",
       "      <th>6</th>\n",
       "      <td>ASUS ROG Strix Scar 15 (2022), 15.6\" (39.62 cm...</td>\n",
       "      <td>2,32,379</td>\n",
       "    </tr>\n",
       "    <tr>\n",
       "      <th>7</th>\n",
       "      <td>Dell G7 7500 15.6inch FHD 300 Hz Display Gamin...</td>\n",
       "      <td>2,05,990</td>\n",
       "    </tr>\n",
       "    <tr>\n",
       "      <th>8</th>\n",
       "      <td>(Renewed) HP Omen 15-dh0139TX Gaming Laptop (9...</td>\n",
       "      <td>1,38,000</td>\n",
       "    </tr>\n",
       "    <tr>\n",
       "      <th>9</th>\n",
       "      <td>MSI Gaming Stealth GS66, Intel 12th Gen. i9-12...</td>\n",
       "      <td>3,29,990</td>\n",
       "    </tr>\n",
       "  </tbody>\n",
       "</table>\n",
       "</div>"
      ],
      "text/plain": [
       "                                               title Price_list\n",
       "0  Acer Predator Helios 300 11th Gen Intel Core i...   1,44,990\n",
       "1  Acer Predator Helios 300 11th Gen Intel Core i...   1,44,990\n",
       "2  ASUS ROG Zephyrus M16 (2022), 16-inch (40.64 c...   3,31,990\n",
       "3  ASUS ROG Strix Scar 15 (2022), 15.6-inch (39.6...   2,85,390\n",
       "4  Predator Helios 500 Gaming Laptop (11th Gen In...   3,79,990\n",
       "5  HP Envy 15- 11th Gen Intel Core i9/32GB/1TB SS...   2,02,990\n",
       "6  ASUS ROG Strix Scar 15 (2022), 15.6\" (39.62 cm...   2,32,379\n",
       "7  Dell G7 7500 15.6inch FHD 300 Hz Display Gamin...   2,05,990\n",
       "8  (Renewed) HP Omen 15-dh0139TX Gaming Laptop (9...   1,38,000\n",
       "9  MSI Gaming Stealth GS66, Intel 12th Gen. i9-12...   3,29,990"
      ]
     },
     "execution_count": 65,
     "metadata": {},
     "output_type": "execute_result"
    }
   ],
   "source": [
    "import pandas as pd\n",
    "jobs=pd.DataFrame({})\n",
    "jobs['title']=titles\n",
    "jobs['Price_list']=Price_list\n",
    "jobs[0:10]\n"
   ]
  },
  {
   "cell_type": "code",
   "execution_count": null,
   "id": "1a31b9eb",
   "metadata": {},
   "outputs": [],
   "source": []
  }
 ],
 "metadata": {
  "kernelspec": {
   "display_name": "Python 3 (ipykernel)",
   "language": "python",
   "name": "python3"
  },
  "language_info": {
   "codemirror_mode": {
    "name": "ipython",
    "version": 3
   },
   "file_extension": ".py",
   "mimetype": "text/x-python",
   "name": "python",
   "nbconvert_exporter": "python",
   "pygments_lexer": "ipython3",
   "version": "3.9.7"
  }
 },
 "nbformat": 4,
 "nbformat_minor": 5
}
