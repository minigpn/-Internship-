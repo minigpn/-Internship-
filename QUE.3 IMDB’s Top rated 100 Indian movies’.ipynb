{
 "cells": [
  {
   "cell_type": "code",
   "execution_count": 52,
   "id": "6125e897",
   "metadata": {},
   "outputs": [
    {
     "name": "stdout",
     "output_type": "stream",
     "text": [
      "Requirement already satisfied: bs4 in c:\\imdisk\\datatraned\\lib\\site-packages (0.0.1)\n",
      "Requirement already satisfied: beautifulsoup4 in c:\\imdisk\\datatraned\\lib\\site-packages (from bs4) (4.10.0)\n",
      "Requirement already satisfied: soupsieve>1.2 in c:\\imdisk\\datatraned\\lib\\site-packages (from beautifulsoup4->bs4) (2.2.1)\n",
      "Requirement already satisfied: requests in c:\\imdisk\\datatraned\\lib\\site-packages (2.26.0)\n",
      "Requirement already satisfied: charset-normalizer~=2.0.0 in c:\\imdisk\\datatraned\\lib\\site-packages (from requests) (2.0.4)\n",
      "Requirement already satisfied: idna<4,>=2.5 in c:\\imdisk\\datatraned\\lib\\site-packages (from requests) (3.2)\n",
      "Requirement already satisfied: urllib3<1.27,>=1.21.1 in c:\\imdisk\\datatraned\\lib\\site-packages (from requests) (1.26.7)\n",
      "Requirement already satisfied: certifi>=2017.4.17 in c:\\imdisk\\datatraned\\lib\\site-packages (from requests) (2021.10.8)\n"
     ]
    }
   ],
   "source": [
    "!pip install bs4\n",
    "!pip install requests"
   ]
  },
  {
   "cell_type": "code",
   "execution_count": 53,
   "id": "b9e4713f",
   "metadata": {},
   "outputs": [],
   "source": [
    "#import the required libraries\n",
    "from bs4 import BeautifulSoup\n",
    "import requests\n"
   ]
  },
  {
   "cell_type": "code",
   "execution_count": 68,
   "id": "c289193f",
   "metadata": {},
   "outputs": [
    {
     "data": {
      "text/plain": [
       "<Response [200]>"
      ]
     },
     "execution_count": 68,
     "metadata": {},
     "output_type": "execute_result"
    }
   ],
   "source": [
    "page=requests.get(\"https://www.imdb.com/india/top-rated-indian-movies/\")\n",
    "page"
   ]
  },
  {
   "cell_type": "code",
   "execution_count": null,
   "id": "451334ad",
   "metadata": {},
   "outputs": [],
   "source": []
  },
  {
   "cell_type": "code",
   "execution_count": null,
   "id": "ed22ca3e",
   "metadata": {},
   "outputs": [],
   "source": [
    "soup=BeautifulSoup(page.content)\n",
    "soup"
   ]
  },
  {
   "cell_type": "code",
   "execution_count": 86,
   "id": "7d289475",
   "metadata": {},
   "outputs": [],
   "source": [
    "MovieName = soup.find_all('td', class_='titleColumn')\n",
    "\n"
   ]
  },
  {
   "cell_type": "code",
   "execution_count": null,
   "id": "b1610f1b",
   "metadata": {},
   "outputs": [],
   "source": [
    "IndianMovies = []\n",
    "for i in range(0,100): #using range function to extract only top 100 data\n",
    "    IndianMovies.append(MovieName[i].get_text().replace(\"\\n\",\"\"))\n",
    "IndianMovies"
   ]
  },
  {
   "cell_type": "code",
   "execution_count": 90,
   "id": "6a4821dc",
   "metadata": {},
   "outputs": [],
   "source": [
    "Rating = soup.find_all('td', class_='ratingColumn imdbRating')"
   ]
  },
  {
   "cell_type": "code",
   "execution_count": null,
   "id": "d5f6cd5d",
   "metadata": {},
   "outputs": [],
   "source": [
    "IndianMovies_Rating = []\n",
    "for i in range(0,100): #using range function to extract only top 100 data\n",
    "    IndianMovies_Rating.append(Rating[i].get_text().replace(\"\\n\",\"\"))\n",
    "IndianMovies_Rating"
   ]
  },
  {
   "cell_type": "code",
   "execution_count": 88,
   "id": "a0dca7a5",
   "metadata": {},
   "outputs": [],
   "source": [
    "ReleaseYear = soup.find_all('span', class_='secondaryInfo')"
   ]
  },
  {
   "cell_type": "code",
   "execution_count": null,
   "id": "7e38ed88",
   "metadata": {},
   "outputs": [],
   "source": [
    "Year_Of_Release = []\n",
    "for i in range(0,100): #using range function to extract only top 100 data\n",
    "    Year_Of_Release.append(ReleaseYear[i].get_text().replace(\"\\n\",\"\"))\n",
    "Year_Of_Release"
   ]
  },
  {
   "cell_type": "code",
   "execution_count": 92,
   "id": "6f0b088e",
   "metadata": {},
   "outputs": [
    {
     "name": "stdout",
     "output_type": "stream",
     "text": [
      "100 100 100\n"
     ]
    }
   ],
   "source": [
    "print(len(IndianMovies),len(IndianMovies_Rating),len(Year_Of_Release))"
   ]
  },
  {
   "cell_type": "code",
   "execution_count": 93,
   "id": "e81495c6",
   "metadata": {},
   "outputs": [
    {
     "data": {
      "text/html": [
       "<div>\n",
       "<style scoped>\n",
       "    .dataframe tbody tr th:only-of-type {\n",
       "        vertical-align: middle;\n",
       "    }\n",
       "\n",
       "    .dataframe tbody tr th {\n",
       "        vertical-align: top;\n",
       "    }\n",
       "\n",
       "    .dataframe thead th {\n",
       "        text-align: right;\n",
       "    }\n",
       "</style>\n",
       "<table border=\"1\" class=\"dataframe\">\n",
       "  <thead>\n",
       "    <tr style=\"text-align: right;\">\n",
       "      <th></th>\n",
       "      <th>IndianMovies</th>\n",
       "      <th>IndianMovies_Rating</th>\n",
       "      <th>Year_Of_Release</th>\n",
       "    </tr>\n",
       "  </thead>\n",
       "  <tbody>\n",
       "    <tr>\n",
       "      <th>0</th>\n",
       "      <td>1.      Jai Bhim(2021)</td>\n",
       "      <td>8.4</td>\n",
       "      <td>(2021)</td>\n",
       "    </tr>\n",
       "    <tr>\n",
       "      <th>1</th>\n",
       "      <td>2.      Anbe Sivam(2003)</td>\n",
       "      <td>8.4</td>\n",
       "      <td>(2003)</td>\n",
       "    </tr>\n",
       "    <tr>\n",
       "      <th>2</th>\n",
       "      <td>3.      Golmaal(1979)</td>\n",
       "      <td>8.4</td>\n",
       "      <td>(1979)</td>\n",
       "    </tr>\n",
       "    <tr>\n",
       "      <th>3</th>\n",
       "      <td>4.      Nayakan(1987)</td>\n",
       "      <td>8.4</td>\n",
       "      <td>(1987)</td>\n",
       "    </tr>\n",
       "    <tr>\n",
       "      <th>4</th>\n",
       "      <td>5.      Pariyerum Perumal(2018)</td>\n",
       "      <td>8.4</td>\n",
       "      <td>(2018)</td>\n",
       "    </tr>\n",
       "    <tr>\n",
       "      <th>...</th>\n",
       "      <td>...</td>\n",
       "      <td>...</td>\n",
       "      <td>...</td>\n",
       "    </tr>\n",
       "    <tr>\n",
       "      <th>95</th>\n",
       "      <td>96.      Masaan(2015)</td>\n",
       "      <td>8.0</td>\n",
       "      <td>(2015)</td>\n",
       "    </tr>\n",
       "    <tr>\n",
       "      <th>96</th>\n",
       "      <td>97.      Dil Chahta Hai(2001)</td>\n",
       "      <td>8.0</td>\n",
       "      <td>(2001)</td>\n",
       "    </tr>\n",
       "    <tr>\n",
       "      <th>97</th>\n",
       "      <td>98.      Kahaani(2012)</td>\n",
       "      <td>8.0</td>\n",
       "      <td>(2012)</td>\n",
       "    </tr>\n",
       "    <tr>\n",
       "      <th>98</th>\n",
       "      <td>99.      RRR (Rise Roar Revolt)(2022)</td>\n",
       "      <td>8.0</td>\n",
       "      <td>(2022)</td>\n",
       "    </tr>\n",
       "    <tr>\n",
       "      <th>99</th>\n",
       "      <td>100.      Maheshinte Prathikaaram(2016)</td>\n",
       "      <td>8.0</td>\n",
       "      <td>(2016)</td>\n",
       "    </tr>\n",
       "  </tbody>\n",
       "</table>\n",
       "<p>100 rows × 3 columns</p>\n",
       "</div>"
      ],
      "text/plain": [
       "                                     IndianMovies IndianMovies_Rating  \\\n",
       "0                          1.      Jai Bhim(2021)                 8.4   \n",
       "1                        2.      Anbe Sivam(2003)                 8.4   \n",
       "2                           3.      Golmaal(1979)                 8.4   \n",
       "3                           4.      Nayakan(1987)                 8.4   \n",
       "4                 5.      Pariyerum Perumal(2018)                 8.4   \n",
       "..                                            ...                 ...   \n",
       "95                          96.      Masaan(2015)                 8.0   \n",
       "96                  97.      Dil Chahta Hai(2001)                 8.0   \n",
       "97                         98.      Kahaani(2012)                 8.0   \n",
       "98          99.      RRR (Rise Roar Revolt)(2022)                 8.0   \n",
       "99        100.      Maheshinte Prathikaaram(2016)                 8.0   \n",
       "\n",
       "   Year_Of_Release  \n",
       "0           (2021)  \n",
       "1           (2003)  \n",
       "2           (1979)  \n",
       "3           (1987)  \n",
       "4           (2018)  \n",
       "..             ...  \n",
       "95          (2015)  \n",
       "96          (2001)  \n",
       "97          (2012)  \n",
       "98          (2022)  \n",
       "99          (2016)  \n",
       "\n",
       "[100 rows x 3 columns]"
      ]
     },
     "execution_count": 93,
     "metadata": {},
     "output_type": "execute_result"
    }
   ],
   "source": [
    "import pandas as pd\n",
    "df =pd.DataFrame({'IndianMovies':IndianMovies,'IndianMovies_Rating':IndianMovies_Rating,'Year_Of_Release':Year_Of_Release})\n",
    "df"
   ]
  },
  {
   "cell_type": "code",
   "execution_count": null,
   "id": "f1100e04",
   "metadata": {},
   "outputs": [],
   "source": []
  },
  {
   "cell_type": "code",
   "execution_count": null,
   "id": "5c2e5b6f",
   "metadata": {},
   "outputs": [],
   "source": []
  },
  {
   "cell_type": "code",
   "execution_count": null,
   "id": "2e8e92af",
   "metadata": {},
   "outputs": [],
   "source": []
  },
  {
   "cell_type": "code",
   "execution_count": null,
   "id": "2d9e9981",
   "metadata": {},
   "outputs": [],
   "source": []
  },
  {
   "cell_type": "code",
   "execution_count": null,
   "id": "4fd8d08c",
   "metadata": {},
   "outputs": [],
   "source": []
  },
  {
   "cell_type": "code",
   "execution_count": null,
   "id": "1db40b8c",
   "metadata": {},
   "outputs": [],
   "source": [
    " "
   ]
  },
  {
   "cell_type": "code",
   "execution_count": null,
   "id": "1d4fdf65",
   "metadata": {},
   "outputs": [],
   "source": []
  },
  {
   "cell_type": "code",
   "execution_count": null,
   "id": "a1a422aa",
   "metadata": {},
   "outputs": [],
   "source": []
  },
  {
   "cell_type": "code",
   "execution_count": null,
   "id": "1a6c0ba5",
   "metadata": {},
   "outputs": [],
   "source": []
  },
  {
   "cell_type": "code",
   "execution_count": null,
   "id": "e75c3760",
   "metadata": {},
   "outputs": [],
   "source": []
  },
  {
   "cell_type": "code",
   "execution_count": null,
   "id": "6aa78dba",
   "metadata": {},
   "outputs": [],
   "source": []
  },
  {
   "cell_type": "code",
   "execution_count": null,
   "id": "b715a3ae",
   "metadata": {},
   "outputs": [],
   "source": []
  },
  {
   "cell_type": "code",
   "execution_count": null,
   "id": "e753b2b6",
   "metadata": {},
   "outputs": [],
   "source": []
  },
  {
   "cell_type": "code",
   "execution_count": null,
   "id": "84d1a093",
   "metadata": {},
   "outputs": [],
   "source": []
  }
 ],
 "metadata": {
  "kernelspec": {
   "display_name": "Python 3 (ipykernel)",
   "language": "python",
   "name": "python3"
  },
  "language_info": {
   "codemirror_mode": {
    "name": "ipython",
    "version": 3
   },
   "file_extension": ".py",
   "mimetype": "text/x-python",
   "name": "python",
   "nbconvert_exporter": "python",
   "pygments_lexer": "ipython3",
   "version": "3.9.7"
  }
 },
 "nbformat": 4,
 "nbformat_minor": 5
}
