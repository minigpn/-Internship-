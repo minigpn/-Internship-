{
 "cells": [
  {
   "cell_type": "code",
   "execution_count": null,
   "id": "d68292b5",
   "metadata": {},
   "outputs": [],
   "source": [
    "!pip install bs4\n",
    "!pip install requests"
   ]
  },
  {
   "cell_type": "code",
   "execution_count": null,
   "id": "a0d1dd2d",
   "metadata": {},
   "outputs": [],
   "source": [
    "from bs4 import BeautifulSoup\n",
    "import requests"
   ]
  },
  {
   "cell_type": "code",
   "execution_count": null,
   "id": "cc596b71",
   "metadata": {},
   "outputs": [],
   "source": [
    "page =requests.get(\"https://www.bewakoof.com/women-plain-t-shirts\")\n",
    "page"
   ]
  },
  {
   "cell_type": "code",
   "execution_count": null,
   "id": "8b264530",
   "metadata": {},
   "outputs": [],
   "source": [
    "soup=BeautifulSoup(page.content)\n",
    "soup\n"
   ]
  },
  {
   "cell_type": "code",
   "execution_count": null,
   "id": "c8389a22",
   "metadata": {},
   "outputs": [],
   "source": [
    "productname = []\n",
    "\n",
    "for i in range(10):\n",
    "\n",
    "    productname.append(content[i].find_all(\"h3\")[0].text)\n",
    "        \n",
    "productname\n"
   ]
  },
  {
   "cell_type": "code",
   "execution_count": 38,
   "id": "533cdcf7",
   "metadata": {},
   "outputs": [
    {
     "name": "stdout",
     "output_type": "stream",
     "text": [
      "479 499 499 499 499 499 499 562 562 562\n"
     ]
    }
   ],
   "source": [
    "price = []\n",
    "\n",
    "for i in range(10):\n",
    "\n",
    "    price.append(int(content[i].find_all(\"span\",class_=\"discountedPriceText\")[0].text.split()[-1])) \n",
    "        \n",
    "price\n",
    "print(*price, end='\\n')\n"
   ]
  },
  {
   "cell_type": "code",
   "execution_count": null,
   "id": "c8802ef0",
   "metadata": {},
   "outputs": [],
   "source": [
    "imgURL = []\n",
    "\n",
    "for i in range(10):\n",
    "\n",
    "    imgURL.append(content[i].find_all(\"img\")[0].get(\"src\")) \n",
    "        \n",
    "imgURL"
   ]
  },
  {
   "cell_type": "code",
   "execution_count": 39,
   "id": "def3912a",
   "metadata": {},
   "outputs": [
    {
     "name": "stdout",
     "output_type": "stream",
     "text": [
      "10 10 10\n"
     ]
    }
   ],
   "source": [
    "print(len(productname),len(price),len(imgURL))"
   ]
  },
  {
   "cell_type": "code",
   "execution_count": 40,
   "id": "c5b16990",
   "metadata": {},
   "outputs": [
    {
     "data": {
      "text/html": [
       "<div>\n",
       "<style scoped>\n",
       "    .dataframe tbody tr th:only-of-type {\n",
       "        vertical-align: middle;\n",
       "    }\n",
       "\n",
       "    .dataframe tbody tr th {\n",
       "        vertical-align: top;\n",
       "    }\n",
       "\n",
       "    .dataframe thead th {\n",
       "        text-align: right;\n",
       "    }\n",
       "</style>\n",
       "<table border=\"1\" class=\"dataframe\">\n",
       "  <thead>\n",
       "    <tr style=\"text-align: right;\">\n",
       "      <th></th>\n",
       "      <th>productname</th>\n",
       "      <th>priceprice</th>\n",
       "      <th>imgURL</th>\n",
       "    </tr>\n",
       "  </thead>\n",
       "  <tbody>\n",
       "    <tr>\n",
       "      <th>0</th>\n",
       "      <td>Women's Mustard Boxy Oversized Fit T Shirt</td>\n",
       "      <td>479</td>\n",
       "      <td>https://images.bewakoof.com/t320/dillinger-wom...</td>\n",
       "    </tr>\n",
       "    <tr>\n",
       "      <th>1</th>\n",
       "      <td>Women's Grey Melange Oversized Fit T Shirt</td>\n",
       "      <td>499</td>\n",
       "      <td>https://images.bewakoof.com/t320/dillinger-wom...</td>\n",
       "    </tr>\n",
       "    <tr>\n",
       "      <th>2</th>\n",
       "      <td>Women's Purple Oversized Fit T Shirt</td>\n",
       "      <td>499</td>\n",
       "      <td>https://images.bewakoof.com/t320/dillinger-wom...</td>\n",
       "    </tr>\n",
       "    <tr>\n",
       "      <th>3</th>\n",
       "      <td>Women's Pink Oversized Fit T Shirt</td>\n",
       "      <td>499</td>\n",
       "      <td>https://images.bewakoof.com/t320/dillinger-wom...</td>\n",
       "    </tr>\n",
       "    <tr>\n",
       "      <th>4</th>\n",
       "      <td>Women's Yellow Oversized Fit T Shirt</td>\n",
       "      <td>499</td>\n",
       "      <td>https://images.bewakoof.com/t320/dillinger-wom...</td>\n",
       "    </tr>\n",
       "    <tr>\n",
       "      <th>5</th>\n",
       "      <td>Women's Blue Oversized Fit T Shirt</td>\n",
       "      <td>499</td>\n",
       "      <td>https://images.bewakoof.com/t320/dillinger-wom...</td>\n",
       "    </tr>\n",
       "    <tr>\n",
       "      <th>6</th>\n",
       "      <td>Women's Red Oversized Fit T Shirt</td>\n",
       "      <td>499</td>\n",
       "      <td>https://images.bewakoof.com/t320/dillinger-wom...</td>\n",
       "    </tr>\n",
       "    <tr>\n",
       "      <th>7</th>\n",
       "      <td>Women's Yellow Solid Oversized T-shirt</td>\n",
       "      <td>562</td>\n",
       "      <td>https://images.bewakoof.com/t320/women-s-yello...</td>\n",
       "    </tr>\n",
       "    <tr>\n",
       "      <th>8</th>\n",
       "      <td>Women's Pink Solid Oversized T-shirt</td>\n",
       "      <td>562</td>\n",
       "      <td>https://images.bewakoof.com/t320/women-s-pink-...</td>\n",
       "    </tr>\n",
       "    <tr>\n",
       "      <th>9</th>\n",
       "      <td>Women's Green Solid Oversized T-shirt</td>\n",
       "      <td>562</td>\n",
       "      <td>https://images.bewakoof.com/t320/women-s-green...</td>\n",
       "    </tr>\n",
       "  </tbody>\n",
       "</table>\n",
       "</div>"
      ],
      "text/plain": [
       "                                  productname  priceprice  \\\n",
       "0  Women's Mustard Boxy Oversized Fit T Shirt         479   \n",
       "1  Women's Grey Melange Oversized Fit T Shirt         499   \n",
       "2        Women's Purple Oversized Fit T Shirt         499   \n",
       "3          Women's Pink Oversized Fit T Shirt         499   \n",
       "4        Women's Yellow Oversized Fit T Shirt         499   \n",
       "5          Women's Blue Oversized Fit T Shirt         499   \n",
       "6           Women's Red Oversized Fit T Shirt         499   \n",
       "7      Women's Yellow Solid Oversized T-shirt         562   \n",
       "8        Women's Pink Solid Oversized T-shirt         562   \n",
       "9       Women's Green Solid Oversized T-shirt         562   \n",
       "\n",
       "                                              imgURL  \n",
       "0  https://images.bewakoof.com/t320/dillinger-wom...  \n",
       "1  https://images.bewakoof.com/t320/dillinger-wom...  \n",
       "2  https://images.bewakoof.com/t320/dillinger-wom...  \n",
       "3  https://images.bewakoof.com/t320/dillinger-wom...  \n",
       "4  https://images.bewakoof.com/t320/dillinger-wom...  \n",
       "5  https://images.bewakoof.com/t320/dillinger-wom...  \n",
       "6  https://images.bewakoof.com/t320/dillinger-wom...  \n",
       "7  https://images.bewakoof.com/t320/women-s-yello...  \n",
       "8  https://images.bewakoof.com/t320/women-s-pink-...  \n",
       "9  https://images.bewakoof.com/t320/women-s-green...  "
      ]
     },
     "execution_count": 40,
     "metadata": {},
     "output_type": "execute_result"
    }
   ],
   "source": [
    "import pandas as pd\n",
    "df=pd.DataFrame({'productname':productname,'priceprice':price,'imgURL':imgURL })\n",
    "df"
   ]
  },
  {
   "cell_type": "code",
   "execution_count": null,
   "id": "8f050d9a",
   "metadata": {},
   "outputs": [],
   "source": []
  },
  {
   "cell_type": "code",
   "execution_count": null,
   "id": "b21c0e1a",
   "metadata": {},
   "outputs": [],
   "source": []
  }
 ],
 "metadata": {
  "kernelspec": {
   "display_name": "Python 3 (ipykernel)",
   "language": "python",
   "name": "python3"
  },
  "language_info": {
   "codemirror_mode": {
    "name": "ipython",
    "version": 3
   },
   "file_extension": ".py",
   "mimetype": "text/x-python",
   "name": "python",
   "nbconvert_exporter": "python",
   "pygments_lexer": "ipython3",
   "version": "3.9.7"
  }
 },
 "nbformat": 4,
 "nbformat_minor": 5
}
